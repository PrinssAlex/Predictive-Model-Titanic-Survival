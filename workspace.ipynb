{
 "cells": [
  {
   "cell_type": "markdown",
   "id": "7fcf37c1",
   "metadata": {},
   "source": [
    "# Titanic - Machine Learning from Disaster"
   ]
  }
 ],
 "metadata": {
  "language_info": {
   "name": "python"
  }
 },
 "nbformat": 4,
 "nbformat_minor": 5
}
