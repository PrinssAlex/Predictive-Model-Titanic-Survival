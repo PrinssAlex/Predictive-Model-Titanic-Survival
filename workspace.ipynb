{
 "cells": [
  {
   "cell_type": "markdown",
   "id": "7fcf37c1",
   "metadata": {},
   "source": [
    "# Titanic - Machine Learning from Disaster"
   ]
  },
  {
   "cell_type": "markdown",
   "id": "6b86fe7d",
   "metadata": {},
   "source": [
    "## Overview\n",
    "\n",
    "The sinking of the Titanic is one of the most infamous shipwrecks in history.\n",
    "\n",
    "On April 15, 1912, during her maiden voyage, the widely considered “unsinkable” RMS Titanic sank after colliding with an iceberg. Unfortunately, there weren’t enough lifeboats for everyone onboard, resulting in the death of 1502 out of 2224 passengers and crew.\n",
    "\n",
    "While there was some element of luck involved in surviving, it seems some groups of people were more likely to survive than others.\n",
    "\n",
    "In this challenge, the goal is to build a predictive model that answers the question: “what sorts of people were more likely to survive?” using passenger data (ie name, age, gender, socio-economic class, etc).\n",
    "\n",
    "### Problem Definition\n",
    "\n",
    "> what sorts of people were more likely to survive?\n",
    "\n",
    "### Data\n",
    "\n",
    "The data has been split into two groups:\n",
    "\n",
    "- training set (train.csv)\n",
    "- test set (test.csv)\n",
    "\n",
    "The training set was used to build the machine learning models. For the training set, it provides the outcome (also known as the “ground truth”) for each passenger. The model was based on “features” like passengers’ gender and class. \n",
    "\n",
    "The test set was used to see how well the model performed on unseen data. For each passenger in the test set, the model was trained to predict whether or not they survived the sinking of the Titanic.\n",
    "\n",
    "Also includes is the gender_submission.csv, a set of predictions that assume all and only female passengers survive, as an example of what the submission file should look like.\n",
    "\n",
    "For more details, checkout the [data dictionary](https://www.kaggle.com/competitions/titanic/data)\n",
    "\n",
    "### Evaluation\n",
    "\n",
    "> The score is the percentage of passengers the model correctly predicted. This is known as accuracy."
   ]
  },
  {
   "cell_type": "markdown",
   "id": "a6a5ac92",
   "metadata": {},
   "source": [
    "### Features\n",
    "#### Data Analysis EDA"
   ]
  },
  {
   "cell_type": "code",
   "execution_count": 45,
   "id": "c96c5484",
   "metadata": {},
   "outputs": [],
   "source": [
    "# import libraries\n",
    "import numpy as np\n",
    "import matplotlib.pyplot as plt \n",
    "import pandas as pd \n",
    "from sklearn.metrics import accuracy_score \n",
    "from sklearn.ensemble import RandomForestClassifier \n",
    "from sklearn.model_selection import train_test_split \n",
    "from sklearn.preprocessing import OneHotEncoder\n",
    "import optuna as opt\n",
    "import xgboost as xgb\n",
    "import catboost as cat\n",
    "%matplotlib inline"
   ]
  },
  {
   "cell_type": "code",
   "execution_count": 46,
   "id": "6012417e",
   "metadata": {},
   "outputs": [
    {
     "data": {
      "text/html": [
       "<div>\n",
       "<style scoped>\n",
       "    .dataframe tbody tr th:only-of-type {\n",
       "        vertical-align: middle;\n",
       "    }\n",
       "\n",
       "    .dataframe tbody tr th {\n",
       "        vertical-align: top;\n",
       "    }\n",
       "\n",
       "    .dataframe thead th {\n",
       "        text-align: right;\n",
       "    }\n",
       "</style>\n",
       "<table border=\"1\" class=\"dataframe\">\n",
       "  <thead>\n",
       "    <tr style=\"text-align: right;\">\n",
       "      <th></th>\n",
       "      <th>PassengerId</th>\n",
       "      <th>Survived</th>\n",
       "      <th>Pclass</th>\n",
       "      <th>Name</th>\n",
       "      <th>Sex</th>\n",
       "      <th>Age</th>\n",
       "      <th>SibSp</th>\n",
       "      <th>Parch</th>\n",
       "      <th>Ticket</th>\n",
       "      <th>Fare</th>\n",
       "      <th>Cabin</th>\n",
       "      <th>Embarked</th>\n",
       "    </tr>\n",
       "  </thead>\n",
       "  <tbody>\n",
       "    <tr>\n",
       "      <th>357</th>\n",
       "      <td>358</td>\n",
       "      <td>0</td>\n",
       "      <td>2</td>\n",
       "      <td>Funk, Miss. Annie Clemmer</td>\n",
       "      <td>female</td>\n",
       "      <td>38.0</td>\n",
       "      <td>0</td>\n",
       "      <td>0</td>\n",
       "      <td>237671</td>\n",
       "      <td>13.0000</td>\n",
       "      <td>NaN</td>\n",
       "      <td>S</td>\n",
       "    </tr>\n",
       "    <tr>\n",
       "      <th>731</th>\n",
       "      <td>732</td>\n",
       "      <td>0</td>\n",
       "      <td>3</td>\n",
       "      <td>Hassan, Mr. Houssein G N</td>\n",
       "      <td>male</td>\n",
       "      <td>11.0</td>\n",
       "      <td>0</td>\n",
       "      <td>0</td>\n",
       "      <td>2699</td>\n",
       "      <td>18.7875</td>\n",
       "      <td>NaN</td>\n",
       "      <td>C</td>\n",
       "    </tr>\n",
       "    <tr>\n",
       "      <th>368</th>\n",
       "      <td>369</td>\n",
       "      <td>1</td>\n",
       "      <td>3</td>\n",
       "      <td>Jermyn, Miss. Annie</td>\n",
       "      <td>female</td>\n",
       "      <td>NaN</td>\n",
       "      <td>0</td>\n",
       "      <td>0</td>\n",
       "      <td>14313</td>\n",
       "      <td>7.7500</td>\n",
       "      <td>NaN</td>\n",
       "      <td>Q</td>\n",
       "    </tr>\n",
       "    <tr>\n",
       "      <th>480</th>\n",
       "      <td>481</td>\n",
       "      <td>0</td>\n",
       "      <td>3</td>\n",
       "      <td>Goodwin, Master. Harold Victor</td>\n",
       "      <td>male</td>\n",
       "      <td>9.0</td>\n",
       "      <td>5</td>\n",
       "      <td>2</td>\n",
       "      <td>CA 2144</td>\n",
       "      <td>46.9000</td>\n",
       "      <td>NaN</td>\n",
       "      <td>S</td>\n",
       "    </tr>\n",
       "    <tr>\n",
       "      <th>575</th>\n",
       "      <td>576</td>\n",
       "      <td>0</td>\n",
       "      <td>3</td>\n",
       "      <td>Patchett, Mr. George</td>\n",
       "      <td>male</td>\n",
       "      <td>19.0</td>\n",
       "      <td>0</td>\n",
       "      <td>0</td>\n",
       "      <td>358585</td>\n",
       "      <td>14.5000</td>\n",
       "      <td>NaN</td>\n",
       "      <td>S</td>\n",
       "    </tr>\n",
       "    <tr>\n",
       "      <th>...</th>\n",
       "      <td>...</td>\n",
       "      <td>...</td>\n",
       "      <td>...</td>\n",
       "      <td>...</td>\n",
       "      <td>...</td>\n",
       "      <td>...</td>\n",
       "      <td>...</td>\n",
       "      <td>...</td>\n",
       "      <td>...</td>\n",
       "      <td>...</td>\n",
       "      <td>...</td>\n",
       "      <td>...</td>\n",
       "    </tr>\n",
       "    <tr>\n",
       "      <th>364</th>\n",
       "      <td>365</td>\n",
       "      <td>0</td>\n",
       "      <td>3</td>\n",
       "      <td>O'Brien, Mr. Thomas</td>\n",
       "      <td>male</td>\n",
       "      <td>NaN</td>\n",
       "      <td>1</td>\n",
       "      <td>0</td>\n",
       "      <td>370365</td>\n",
       "      <td>15.5000</td>\n",
       "      <td>NaN</td>\n",
       "      <td>Q</td>\n",
       "    </tr>\n",
       "    <tr>\n",
       "      <th>856</th>\n",
       "      <td>857</td>\n",
       "      <td>1</td>\n",
       "      <td>1</td>\n",
       "      <td>Wick, Mrs. George Dennick (Mary Hitchcock)</td>\n",
       "      <td>female</td>\n",
       "      <td>45.0</td>\n",
       "      <td>1</td>\n",
       "      <td>1</td>\n",
       "      <td>36928</td>\n",
       "      <td>164.8667</td>\n",
       "      <td>NaN</td>\n",
       "      <td>S</td>\n",
       "    </tr>\n",
       "    <tr>\n",
       "      <th>167</th>\n",
       "      <td>168</td>\n",
       "      <td>0</td>\n",
       "      <td>3</td>\n",
       "      <td>Skoog, Mrs. William (Anna Bernhardina Karlsson)</td>\n",
       "      <td>female</td>\n",
       "      <td>45.0</td>\n",
       "      <td>1</td>\n",
       "      <td>4</td>\n",
       "      <td>347088</td>\n",
       "      <td>27.9000</td>\n",
       "      <td>NaN</td>\n",
       "      <td>S</td>\n",
       "    </tr>\n",
       "    <tr>\n",
       "      <th>461</th>\n",
       "      <td>462</td>\n",
       "      <td>0</td>\n",
       "      <td>3</td>\n",
       "      <td>Morley, Mr. William</td>\n",
       "      <td>male</td>\n",
       "      <td>34.0</td>\n",
       "      <td>0</td>\n",
       "      <td>0</td>\n",
       "      <td>364506</td>\n",
       "      <td>8.0500</td>\n",
       "      <td>NaN</td>\n",
       "      <td>S</td>\n",
       "    </tr>\n",
       "    <tr>\n",
       "      <th>199</th>\n",
       "      <td>200</td>\n",
       "      <td>0</td>\n",
       "      <td>2</td>\n",
       "      <td>Yrois, Miss. Henriette (\"Mrs Harbeck\")</td>\n",
       "      <td>female</td>\n",
       "      <td>24.0</td>\n",
       "      <td>0</td>\n",
       "      <td>0</td>\n",
       "      <td>248747</td>\n",
       "      <td>13.0000</td>\n",
       "      <td>NaN</td>\n",
       "      <td>S</td>\n",
       "    </tr>\n",
       "  </tbody>\n",
       "</table>\n",
       "<p>178 rows × 12 columns</p>\n",
       "</div>"
      ],
      "text/plain": [
       "     PassengerId  Survived  Pclass  \\\n",
       "357          358         0       2   \n",
       "731          732         0       3   \n",
       "368          369         1       3   \n",
       "480          481         0       3   \n",
       "575          576         0       3   \n",
       "..           ...       ...     ...   \n",
       "364          365         0       3   \n",
       "856          857         1       1   \n",
       "167          168         0       3   \n",
       "461          462         0       3   \n",
       "199          200         0       2   \n",
       "\n",
       "                                                Name     Sex   Age  SibSp  \\\n",
       "357                        Funk, Miss. Annie Clemmer  female  38.0      0   \n",
       "731                         Hassan, Mr. Houssein G N    male  11.0      0   \n",
       "368                              Jermyn, Miss. Annie  female   NaN      0   \n",
       "480                   Goodwin, Master. Harold Victor    male   9.0      5   \n",
       "575                             Patchett, Mr. George    male  19.0      0   \n",
       "..                                               ...     ...   ...    ...   \n",
       "364                              O'Brien, Mr. Thomas    male   NaN      1   \n",
       "856       Wick, Mrs. George Dennick (Mary Hitchcock)  female  45.0      1   \n",
       "167  Skoog, Mrs. William (Anna Bernhardina Karlsson)  female  45.0      1   \n",
       "461                              Morley, Mr. William    male  34.0      0   \n",
       "199           Yrois, Miss. Henriette (\"Mrs Harbeck\")  female  24.0      0   \n",
       "\n",
       "     Parch   Ticket      Fare Cabin Embarked  \n",
       "357      0   237671   13.0000   NaN        S  \n",
       "731      0     2699   18.7875   NaN        C  \n",
       "368      0    14313    7.7500   NaN        Q  \n",
       "480      2  CA 2144   46.9000   NaN        S  \n",
       "575      0   358585   14.5000   NaN        S  \n",
       "..     ...      ...       ...   ...      ...  \n",
       "364      0   370365   15.5000   NaN        Q  \n",
       "856      1    36928  164.8667   NaN        S  \n",
       "167      4   347088   27.9000   NaN        S  \n",
       "461      0   364506    8.0500   NaN        S  \n",
       "199      0   248747   13.0000   NaN        S  \n",
       "\n",
       "[178 rows x 12 columns]"
      ]
     },
     "execution_count": 46,
     "metadata": {},
     "output_type": "execute_result"
    }
   ],
   "source": [
    "# load data \n",
    "df = pd.read_csv('data/train.csv')\n",
    "df.sample(frac=.2)"
   ]
  },
  {
   "cell_type": "code",
   "execution_count": 47,
   "id": "d20bc6a4",
   "metadata": {},
   "outputs": [
    {
     "data": {
      "text/plain": [
       "(np.int64(891), 891)"
      ]
     },
     "execution_count": 47,
     "metadata": {},
     "output_type": "execute_result"
    }
   ],
   "source": [
    "# check that the `Passengerid` feature is unique for all samples\n",
    "df['PassengerId'].value_counts().sum() , df.shape[0]"
   ]
  },
  {
   "cell_type": "code",
   "execution_count": 48,
   "id": "4ab63a56",
   "metadata": {},
   "outputs": [
    {
     "name": "stdout",
     "output_type": "stream",
     "text": [
      "<class 'pandas.core.frame.DataFrame'>\n",
      "RangeIndex: 891 entries, 0 to 890\n",
      "Data columns (total 12 columns):\n",
      " #   Column       Non-Null Count  Dtype  \n",
      "---  ------       --------------  -----  \n",
      " 0   PassengerId  891 non-null    int64  \n",
      " 1   Survived     891 non-null    int64  \n",
      " 2   Pclass       891 non-null    int64  \n",
      " 3   Name         891 non-null    object \n",
      " 4   Sex          891 non-null    object \n",
      " 5   Age          714 non-null    float64\n",
      " 6   SibSp        891 non-null    int64  \n",
      " 7   Parch        891 non-null    int64  \n",
      " 8   Ticket       891 non-null    object \n",
      " 9   Fare         891 non-null    float64\n",
      " 10  Cabin        204 non-null    object \n",
      " 11  Embarked     889 non-null    object \n",
      "dtypes: float64(2), int64(5), object(5)\n",
      "memory usage: 83.7+ KB\n"
     ]
    }
   ],
   "source": [
    "# quick overview of the dataset\n",
    "df.info()"
   ]
  },
  {
   "cell_type": "markdown",
   "id": "a90d2534",
   "metadata": {},
   "source": [
    "Note: \n",
    "- There are 891 samples/rows and 12 columns/varibles (11 features, 1 label).\n",
    "- There are some non-numeric features.\n",
    "- Based on the total number of rows there are some missing values in some features like `Age`, `Cabin`..."
   ]
  },
  {
   "cell_type": "code",
   "execution_count": 49,
   "id": "72c0bb3e",
   "metadata": {},
   "outputs": [
    {
     "data": {
      "text/plain": [
       "(891, 12)"
      ]
     },
     "execution_count": 49,
     "metadata": {},
     "output_type": "execute_result"
    }
   ],
   "source": [
    "# check dimension of data\n",
    "df.shape "
   ]
  },
  {
   "cell_type": "code",
   "execution_count": 50,
   "id": "74a745c0",
   "metadata": {},
   "outputs": [
    {
     "data": {
      "text/plain": [
       "Survived\n",
       "0    549\n",
       "1    342\n",
       "Name: count, dtype: int64"
      ]
     },
     "execution_count": 50,
     "metadata": {},
     "output_type": "execute_result"
    }
   ],
   "source": [
    "# check that labels have only 2 unique values\n",
    "df.Survived.value_counts() "
   ]
  },
  {
   "cell_type": "code",
   "execution_count": 51,
   "id": "e39e56a7",
   "metadata": {},
   "outputs": [
    {
     "data": {
      "text/html": [
       "<div>\n",
       "<style scoped>\n",
       "    .dataframe tbody tr th:only-of-type {\n",
       "        vertical-align: middle;\n",
       "    }\n",
       "\n",
       "    .dataframe tbody tr th {\n",
       "        vertical-align: top;\n",
       "    }\n",
       "\n",
       "    .dataframe thead th {\n",
       "        text-align: right;\n",
       "    }\n",
       "</style>\n",
       "<table border=\"1\" class=\"dataframe\">\n",
       "  <thead>\n",
       "    <tr style=\"text-align: right;\">\n",
       "      <th></th>\n",
       "      <th>PassengerId</th>\n",
       "      <th>Survived</th>\n",
       "      <th>Pclass</th>\n",
       "      <th>Age</th>\n",
       "      <th>SibSp</th>\n",
       "      <th>Parch</th>\n",
       "      <th>Fare</th>\n",
       "    </tr>\n",
       "  </thead>\n",
       "  <tbody>\n",
       "    <tr>\n",
       "      <th>count</th>\n",
       "      <td>891.000000</td>\n",
       "      <td>891.000000</td>\n",
       "      <td>891.000000</td>\n",
       "      <td>714.000000</td>\n",
       "      <td>891.000000</td>\n",
       "      <td>891.000000</td>\n",
       "      <td>891.000000</td>\n",
       "    </tr>\n",
       "    <tr>\n",
       "      <th>mean</th>\n",
       "      <td>446.000000</td>\n",
       "      <td>0.383838</td>\n",
       "      <td>2.308642</td>\n",
       "      <td>29.699118</td>\n",
       "      <td>0.523008</td>\n",
       "      <td>0.381594</td>\n",
       "      <td>32.204208</td>\n",
       "    </tr>\n",
       "    <tr>\n",
       "      <th>std</th>\n",
       "      <td>257.353842</td>\n",
       "      <td>0.486592</td>\n",
       "      <td>0.836071</td>\n",
       "      <td>14.526497</td>\n",
       "      <td>1.102743</td>\n",
       "      <td>0.806057</td>\n",
       "      <td>49.693429</td>\n",
       "    </tr>\n",
       "    <tr>\n",
       "      <th>min</th>\n",
       "      <td>1.000000</td>\n",
       "      <td>0.000000</td>\n",
       "      <td>1.000000</td>\n",
       "      <td>0.420000</td>\n",
       "      <td>0.000000</td>\n",
       "      <td>0.000000</td>\n",
       "      <td>0.000000</td>\n",
       "    </tr>\n",
       "    <tr>\n",
       "      <th>25%</th>\n",
       "      <td>223.500000</td>\n",
       "      <td>0.000000</td>\n",
       "      <td>2.000000</td>\n",
       "      <td>20.125000</td>\n",
       "      <td>0.000000</td>\n",
       "      <td>0.000000</td>\n",
       "      <td>7.910400</td>\n",
       "    </tr>\n",
       "    <tr>\n",
       "      <th>50%</th>\n",
       "      <td>446.000000</td>\n",
       "      <td>0.000000</td>\n",
       "      <td>3.000000</td>\n",
       "      <td>28.000000</td>\n",
       "      <td>0.000000</td>\n",
       "      <td>0.000000</td>\n",
       "      <td>14.454200</td>\n",
       "    </tr>\n",
       "    <tr>\n",
       "      <th>75%</th>\n",
       "      <td>668.500000</td>\n",
       "      <td>1.000000</td>\n",
       "      <td>3.000000</td>\n",
       "      <td>38.000000</td>\n",
       "      <td>1.000000</td>\n",
       "      <td>0.000000</td>\n",
       "      <td>31.000000</td>\n",
       "    </tr>\n",
       "    <tr>\n",
       "      <th>max</th>\n",
       "      <td>891.000000</td>\n",
       "      <td>1.000000</td>\n",
       "      <td>3.000000</td>\n",
       "      <td>80.000000</td>\n",
       "      <td>8.000000</td>\n",
       "      <td>6.000000</td>\n",
       "      <td>512.329200</td>\n",
       "    </tr>\n",
       "  </tbody>\n",
       "</table>\n",
       "</div>"
      ],
      "text/plain": [
       "       PassengerId    Survived      Pclass         Age       SibSp  \\\n",
       "count   891.000000  891.000000  891.000000  714.000000  891.000000   \n",
       "mean    446.000000    0.383838    2.308642   29.699118    0.523008   \n",
       "std     257.353842    0.486592    0.836071   14.526497    1.102743   \n",
       "min       1.000000    0.000000    1.000000    0.420000    0.000000   \n",
       "25%     223.500000    0.000000    2.000000   20.125000    0.000000   \n",
       "50%     446.000000    0.000000    3.000000   28.000000    0.000000   \n",
       "75%     668.500000    1.000000    3.000000   38.000000    1.000000   \n",
       "max     891.000000    1.000000    3.000000   80.000000    8.000000   \n",
       "\n",
       "            Parch        Fare  \n",
       "count  891.000000  891.000000  \n",
       "mean     0.381594   32.204208  \n",
       "std      0.806057   49.693429  \n",
       "min      0.000000    0.000000  \n",
       "25%      0.000000    7.910400  \n",
       "50%      0.000000   14.454200  \n",
       "75%      0.000000   31.000000  \n",
       "max      6.000000  512.329200  "
      ]
     },
     "execution_count": 51,
     "metadata": {},
     "output_type": "execute_result"
    }
   ],
   "source": [
    "# quick descriptive statistics\n",
    "df.describe() "
   ]
  },
  {
   "cell_type": "markdown",
   "id": "4c857961",
   "metadata": {},
   "source": [
    "Note:\n",
    "- The majority of passengers came with at least one person (sibling, spouse, parent, or child)\n",
    "- There seem to be an outlier in the `Age` column - `0.42  `, need to visualize to comfirm. Might be an outlier, or a toddler i.e 42% of 12 (couple of months old).\n",
    "- Seems some person's did not pay for the fare, min value is `0` might be crew members, need to visualize.\n",
    "- Less passengers survived.\n",
    "- The majority of passengers bought 3rd class tickets. \n",
    "- The majority of passegers were young adults less than 40 years of age."
   ]
  },
  {
   "cell_type": "markdown",
   "id": "95c56973",
   "metadata": {},
   "source": [
    "### Data Visualization"
   ]
  },
  {
   "cell_type": "code",
   "execution_count": 52,
   "id": "1714260b",
   "metadata": {},
   "outputs": [
    {
     "data": {
      "text/html": [
       "<div>\n",
       "<style scoped>\n",
       "    .dataframe tbody tr th:only-of-type {\n",
       "        vertical-align: middle;\n",
       "    }\n",
       "\n",
       "    .dataframe tbody tr th {\n",
       "        vertical-align: top;\n",
       "    }\n",
       "\n",
       "    .dataframe thead th {\n",
       "        text-align: right;\n",
       "    }\n",
       "</style>\n",
       "<table border=\"1\" class=\"dataframe\">\n",
       "  <thead>\n",
       "    <tr style=\"text-align: right;\">\n",
       "      <th></th>\n",
       "      <th>PassengerId</th>\n",
       "      <th>Survived</th>\n",
       "      <th>Pclass</th>\n",
       "      <th>Name</th>\n",
       "      <th>Sex</th>\n",
       "      <th>Age</th>\n",
       "      <th>SibSp</th>\n",
       "      <th>Parch</th>\n",
       "      <th>Ticket</th>\n",
       "      <th>Fare</th>\n",
       "      <th>Cabin</th>\n",
       "      <th>Embarked</th>\n",
       "    </tr>\n",
       "  </thead>\n",
       "  <tbody>\n",
       "    <tr>\n",
       "      <th>0</th>\n",
       "      <td>1</td>\n",
       "      <td>0</td>\n",
       "      <td>3</td>\n",
       "      <td>Braund, Mr. Owen Harris</td>\n",
       "      <td>male</td>\n",
       "      <td>22.0</td>\n",
       "      <td>1</td>\n",
       "      <td>0</td>\n",
       "      <td>A/5 21171</td>\n",
       "      <td>7.2500</td>\n",
       "      <td>NaN</td>\n",
       "      <td>S</td>\n",
       "    </tr>\n",
       "    <tr>\n",
       "      <th>1</th>\n",
       "      <td>2</td>\n",
       "      <td>1</td>\n",
       "      <td>1</td>\n",
       "      <td>Cumings, Mrs. John Bradley (Florence Briggs Th...</td>\n",
       "      <td>female</td>\n",
       "      <td>38.0</td>\n",
       "      <td>1</td>\n",
       "      <td>0</td>\n",
       "      <td>PC 17599</td>\n",
       "      <td>71.2833</td>\n",
       "      <td>C85</td>\n",
       "      <td>C</td>\n",
       "    </tr>\n",
       "  </tbody>\n",
       "</table>\n",
       "</div>"
      ],
      "text/plain": [
       "   PassengerId  Survived  Pclass  \\\n",
       "0            1         0       3   \n",
       "1            2         1       1   \n",
       "\n",
       "                                                Name     Sex   Age  SibSp  \\\n",
       "0                            Braund, Mr. Owen Harris    male  22.0      1   \n",
       "1  Cumings, Mrs. John Bradley (Florence Briggs Th...  female  38.0      1   \n",
       "\n",
       "   Parch     Ticket     Fare Cabin Embarked  \n",
       "0      0  A/5 21171   7.2500   NaN        S  \n",
       "1      0   PC 17599  71.2833   C85        C  "
      ]
     },
     "execution_count": 52,
     "metadata": {},
     "output_type": "execute_result"
    }
   ],
   "source": [
    "df.head(2)"
   ]
  },
  {
   "cell_type": "code",
   "execution_count": 53,
   "id": "ab75028c",
   "metadata": {},
   "outputs": [
    {
     "data": {
      "text/plain": [
       "Index(['PassengerId', 'Survived', 'Pclass', 'Name', 'Sex', 'Age', 'SibSp',\n",
       "       'Parch', 'Ticket', 'Fare', 'Cabin', 'Embarked'],\n",
       "      dtype='object')"
      ]
     },
     "execution_count": 53,
     "metadata": {},
     "output_type": "execute_result"
    }
   ],
   "source": [
    "df.columns"
   ]
  },
  {
   "cell_type": "code",
   "execution_count": 54,
   "id": "795c8068",
   "metadata": {},
   "outputs": [
    {
     "data": {
      "image/png": "[encoded data removed]",
      "text/plain": [
       "<Figure size 640x480 with 1 Axes>"
      ]
     },
     "metadata": {},
     "output_type": "display_data"
    }
   ],
   "source": [
    "# check the number of survivors with respect to gender \n",
    "fig, ax = plt.subplots()\n",
    "ax.bar(df.Sex.unique(), df.Survived.value_counts(), label='Survived');\n",
    "ax.set(xlabel='Gender',\n",
    "       ylabel='Number of Survivors',\n",
    "       title=\"Male vs Female survivors\")\n",
    "ax.legend();\n"
   ]
  },
  {
   "cell_type": "code",
   "execution_count": 55,
   "id": "f7bd2bc3",
   "metadata": {},
   "outputs": [
    {
     "data": {
      "text/html": [
       "<div>\n",
       "<style scoped>\n",
       "    .dataframe tbody tr th:only-of-type {\n",
       "        vertical-align: middle;\n",
       "    }\n",
       "\n",
       "    .dataframe tbody tr th {\n",
       "        vertical-align: top;\n",
       "    }\n",
       "\n",
       "    .dataframe thead th {\n",
       "        text-align: right;\n",
       "    }\n",
       "</style>\n",
       "<table border=\"1\" class=\"dataframe\">\n",
       "  <thead>\n",
       "    <tr style=\"text-align: right;\">\n",
       "      <th></th>\n",
       "      <th>PassengerId</th>\n",
       "      <th>Survived</th>\n",
       "      <th>Pclass</th>\n",
       "      <th>Name</th>\n",
       "      <th>Sex</th>\n",
       "      <th>Age</th>\n",
       "      <th>SibSp</th>\n",
       "      <th>Parch</th>\n",
       "      <th>Ticket</th>\n",
       "      <th>Fare</th>\n",
       "      <th>Cabin</th>\n",
       "      <th>Embarked</th>\n",
       "    </tr>\n",
       "  </thead>\n",
       "  <tbody>\n",
       "    <tr>\n",
       "      <th>0</th>\n",
       "      <td>1</td>\n",
       "      <td>0</td>\n",
       "      <td>3</td>\n",
       "      <td>Braund, Mr. Owen Harris</td>\n",
       "      <td>male</td>\n",
       "      <td>22.0</td>\n",
       "      <td>1</td>\n",
       "      <td>0</td>\n",
       "      <td>A/5 21171</td>\n",
       "      <td>7.2500</td>\n",
       "      <td>NaN</td>\n",
       "      <td>S</td>\n",
       "    </tr>\n",
       "    <tr>\n",
       "      <th>1</th>\n",
       "      <td>2</td>\n",
       "      <td>1</td>\n",
       "      <td>1</td>\n",
       "      <td>Cumings, Mrs. John Bradley (Florence Briggs Th...</td>\n",
       "      <td>female</td>\n",
       "      <td>38.0</td>\n",
       "      <td>1</td>\n",
       "      <td>0</td>\n",
       "      <td>PC 17599</td>\n",
       "      <td>71.2833</td>\n",
       "      <td>C85</td>\n",
       "      <td>C</td>\n",
       "    </tr>\n",
       "  </tbody>\n",
       "</table>\n",
       "</div>"
      ],
      "text/plain": [
       "   PassengerId  Survived  Pclass  \\\n",
       "0            1         0       3   \n",
       "1            2         1       1   \n",
       "\n",
       "                                                Name     Sex   Age  SibSp  \\\n",
       "0                            Braund, Mr. Owen Harris    male  22.0      1   \n",
       "1  Cumings, Mrs. John Bradley (Florence Briggs Th...  female  38.0      1   \n",
       "\n",
       "   Parch     Ticket     Fare Cabin Embarked  \n",
       "0      0  A/5 21171   7.2500   NaN        S  \n",
       "1      0   PC 17599  71.2833   C85        C  "
      ]
     },
     "execution_count": 55,
     "metadata": {},
     "output_type": "execute_result"
    }
   ],
   "source": [
    "df.head(2)"
   ]
  },
  {
   "cell_type": "code",
   "execution_count": 56,
   "id": "3f030dd9",
   "metadata": {},
   "outputs": [
    {
     "data": {
      "image/png": "[encoded data removed]",
      "text/plain": [
       "<Figure size 2000x1500 with 4 Axes>"
      ]
     },
     "metadata": {},
     "output_type": "display_data"
    }
   ],
   "source": [
    "# age distribution, fare distribution, scatter plot between age and survival, gender and survival\n",
    "fig, ((ax1, ax2), (ax3, ax4)) = plt.subplots(nrows=2, ncols=2, figsize=(20,15))\n",
    "ax1.hist(df.Age, bins=50)\n",
    "ax2.hist(df.Fare, bins=20)\n",
    "ax3.scatter(df.Age, df.Survived)\n",
    "ax4.scatter(df.Sex, df.Survived)\n",
    "\n",
    "ax1.set(title='Age distribution',\n",
    "        xlabel='Age',\n",
    "        ylabel='Frequency')\n",
    "\n",
    "ax2.set(title='Fare distribution',\n",
    "        xlabel='Fare',\n",
    "        ylabel='Frequency')\n",
    "\n",
    "ax3.set(title='Age v. Survived',\n",
    "        xlabel='Age',\n",
    "        ylabel='Survived')\n",
    "\n",
    "ax4.set(title='Gender v. Survived',\n",
    "        xlabel='Gender',\n",
    "        ylabel='Survived');\n"
   ]
  },
  {
   "cell_type": "code",
   "execution_count": 57,
   "id": "d41e33c4",
   "metadata": {},
   "outputs": [
    {
     "data": {
      "text/html": [
       "<div>\n",
       "<style scoped>\n",
       "    .dataframe tbody tr th:only-of-type {\n",
       "        vertical-align: middle;\n",
       "    }\n",
       "\n",
       "    .dataframe tbody tr th {\n",
       "        vertical-align: top;\n",
       "    }\n",
       "\n",
       "    .dataframe thead th {\n",
       "        text-align: right;\n",
       "    }\n",
       "</style>\n",
       "<table border=\"1\" class=\"dataframe\">\n",
       "  <thead>\n",
       "    <tr style=\"text-align: right;\">\n",
       "      <th>count</th>\n",
       "      <th>342</th>\n",
       "      <th>549</th>\n",
       "    </tr>\n",
       "    <tr>\n",
       "      <th>Sex</th>\n",
       "      <th></th>\n",
       "      <th></th>\n",
       "    </tr>\n",
       "  </thead>\n",
       "  <tbody>\n",
       "    <tr>\n",
       "      <th>female</th>\n",
       "      <td>1</td>\n",
       "      <td>0</td>\n",
       "    </tr>\n",
       "    <tr>\n",
       "      <th>male</th>\n",
       "      <td>0</td>\n",
       "      <td>1</td>\n",
       "    </tr>\n",
       "  </tbody>\n",
       "</table>\n",
       "</div>"
      ],
      "text/plain": [
       "count   342  549\n",
       "Sex             \n",
       "female    1    0\n",
       "male      0    1"
      ]
     },
     "execution_count": 57,
     "metadata": {},
     "output_type": "execute_result"
    }
   ],
   "source": [
    "pd.crosstab(df.Sex, df.Survived.value_counts())"
   ]
  },
  {
   "cell_type": "markdown",
   "id": "056f31e2",
   "metadata": {},
   "source": [
    "## Modelling"
   ]
  },
  {
   "cell_type": "code",
   "execution_count": 58,
   "id": "048fa721",
   "metadata": {},
   "outputs": [
    {
     "data": {
      "text/html": [
       "<div>\n",
       "<style scoped>\n",
       "    .dataframe tbody tr th:only-of-type {\n",
       "        vertical-align: middle;\n",
       "    }\n",
       "\n",
       "    .dataframe tbody tr th {\n",
       "        vertical-align: top;\n",
       "    }\n",
       "\n",
       "    .dataframe thead th {\n",
       "        text-align: right;\n",
       "    }\n",
       "</style>\n",
       "<table border=\"1\" class=\"dataframe\">\n",
       "  <thead>\n",
       "    <tr style=\"text-align: right;\">\n",
       "      <th></th>\n",
       "      <th>PassengerId</th>\n",
       "      <th>Survived</th>\n",
       "      <th>Pclass</th>\n",
       "      <th>Name</th>\n",
       "      <th>Sex</th>\n",
       "      <th>Age</th>\n",
       "      <th>SibSp</th>\n",
       "      <th>Parch</th>\n",
       "      <th>Ticket</th>\n",
       "      <th>Fare</th>\n",
       "      <th>Cabin</th>\n",
       "      <th>Embarked</th>\n",
       "    </tr>\n",
       "  </thead>\n",
       "  <tbody>\n",
       "    <tr>\n",
       "      <th>0</th>\n",
       "      <td>1</td>\n",
       "      <td>0</td>\n",
       "      <td>3</td>\n",
       "      <td>Braund, Mr. Owen Harris</td>\n",
       "      <td>male</td>\n",
       "      <td>22.0</td>\n",
       "      <td>1</td>\n",
       "      <td>0</td>\n",
       "      <td>A/5 21171</td>\n",
       "      <td>7.2500</td>\n",
       "      <td>NaN</td>\n",
       "      <td>S</td>\n",
       "    </tr>\n",
       "    <tr>\n",
       "      <th>1</th>\n",
       "      <td>2</td>\n",
       "      <td>1</td>\n",
       "      <td>1</td>\n",
       "      <td>Cumings, Mrs. John Bradley (Florence Briggs Th...</td>\n",
       "      <td>female</td>\n",
       "      <td>38.0</td>\n",
       "      <td>1</td>\n",
       "      <td>0</td>\n",
       "      <td>PC 17599</td>\n",
       "      <td>71.2833</td>\n",
       "      <td>C85</td>\n",
       "      <td>C</td>\n",
       "    </tr>\n",
       "    <tr>\n",
       "      <th>2</th>\n",
       "      <td>3</td>\n",
       "      <td>1</td>\n",
       "      <td>3</td>\n",
       "      <td>Heikkinen, Miss. Laina</td>\n",
       "      <td>female</td>\n",
       "      <td>26.0</td>\n",
       "      <td>0</td>\n",
       "      <td>0</td>\n",
       "      <td>STON/O2. 3101282</td>\n",
       "      <td>7.9250</td>\n",
       "      <td>NaN</td>\n",
       "      <td>S</td>\n",
       "    </tr>\n",
       "    <tr>\n",
       "      <th>3</th>\n",
       "      <td>4</td>\n",
       "      <td>1</td>\n",
       "      <td>1</td>\n",
       "      <td>Futrelle, Mrs. Jacques Heath (Lily May Peel)</td>\n",
       "      <td>female</td>\n",
       "      <td>35.0</td>\n",
       "      <td>1</td>\n",
       "      <td>0</td>\n",
       "      <td>113803</td>\n",
       "      <td>53.1000</td>\n",
       "      <td>C123</td>\n",
       "      <td>S</td>\n",
       "    </tr>\n",
       "    <tr>\n",
       "      <th>4</th>\n",
       "      <td>5</td>\n",
       "      <td>0</td>\n",
       "      <td>3</td>\n",
       "      <td>Allen, Mr. William Henry</td>\n",
       "      <td>male</td>\n",
       "      <td>35.0</td>\n",
       "      <td>0</td>\n",
       "      <td>0</td>\n",
       "      <td>373450</td>\n",
       "      <td>8.0500</td>\n",
       "      <td>NaN</td>\n",
       "      <td>S</td>\n",
       "    </tr>\n",
       "  </tbody>\n",
       "</table>\n",
       "</div>"
      ],
      "text/plain": [
       "   PassengerId  Survived  Pclass  \\\n",
       "0            1         0       3   \n",
       "1            2         1       1   \n",
       "2            3         1       3   \n",
       "3            4         1       1   \n",
       "4            5         0       3   \n",
       "\n",
       "                                                Name     Sex   Age  SibSp  \\\n",
       "0                            Braund, Mr. Owen Harris    male  22.0      1   \n",
       "1  Cumings, Mrs. John Bradley (Florence Briggs Th...  female  38.0      1   \n",
       "2                             Heikkinen, Miss. Laina  female  26.0      0   \n",
       "3       Futrelle, Mrs. Jacques Heath (Lily May Peel)  female  35.0      1   \n",
       "4                           Allen, Mr. William Henry    male  35.0      0   \n",
       "\n",
       "   Parch            Ticket     Fare Cabin Embarked  \n",
       "0      0         A/5 21171   7.2500   NaN        S  \n",
       "1      0          PC 17599  71.2833   C85        C  \n",
       "2      0  STON/O2. 3101282   7.9250   NaN        S  \n",
       "3      0            113803  53.1000  C123        S  \n",
       "4      0            373450   8.0500   NaN        S  "
      ]
     },
     "execution_count": 58,
     "metadata": {},
     "output_type": "execute_result"
    }
   ],
   "source": [
    "# duplicate df\n",
    "df_mod = df.copy() \n",
    "df_mod.head()"
   ]
  },
  {
   "cell_type": "markdown",
   "id": "448efead",
   "metadata": {},
   "source": [
    "### Data Modelling EDA:  Preprocessing"
   ]
  },
  {
   "cell_type": "code",
   "execution_count": 59,
   "id": "f7ee1d6b",
   "metadata": {},
   "outputs": [
    {
     "data": {
      "text/plain": [
       "PassengerId      0\n",
       "Survived         0\n",
       "Pclass           0\n",
       "Name             0\n",
       "Sex              0\n",
       "Age            177\n",
       "SibSp            0\n",
       "Parch            0\n",
       "Ticket           0\n",
       "Fare             0\n",
       "Cabin          687\n",
       "Embarked         2\n",
       "dtype: int64"
      ]
     },
     "execution_count": 59,
     "metadata": {},
     "output_type": "execute_result"
    }
   ],
   "source": [
    "# re-confirm if there are missing values in the dataset\n",
    "df_mod.isna().sum() "
   ]
  },
  {
   "cell_type": "code",
   "execution_count": 60,
   "id": "dc34ded8",
   "metadata": {},
   "outputs": [
    {
     "name": "stdout",
     "output_type": "stream",
     "text": [
      "Age\n",
      "Cabin\n",
      "Embarked\n"
     ]
    }
   ],
   "source": [
    "for label,content in df_mod.items():\n",
    "    if content.isna().sum():\n",
    "        print(label)"
   ]
  },
  {
   "cell_type": "markdown",
   "id": "1d0818c7",
   "metadata": {},
   "source": [
    "There are missing values in 3 features"
   ]
  },
  {
   "cell_type": "markdown",
   "id": "7b96fdff",
   "metadata": {},
   "source": [
    "#### Address missing values"
   ]
  },
  {
   "cell_type": "code",
   "execution_count": 61,
   "id": "9a32c6fc",
   "metadata": {},
   "outputs": [
    {
     "data": {
      "text/html": [
       "<div>\n",
       "<style scoped>\n",
       "    .dataframe tbody tr th:only-of-type {\n",
       "        vertical-align: middle;\n",
       "    }\n",
       "\n",
       "    .dataframe tbody tr th {\n",
       "        vertical-align: top;\n",
       "    }\n",
       "\n",
       "    .dataframe thead th {\n",
       "        text-align: right;\n",
       "    }\n",
       "</style>\n",
       "<table border=\"1\" class=\"dataframe\">\n",
       "  <thead>\n",
       "    <tr style=\"text-align: right;\">\n",
       "      <th></th>\n",
       "      <th>PassengerId</th>\n",
       "      <th>Survived</th>\n",
       "      <th>Pclass</th>\n",
       "      <th>Name</th>\n",
       "      <th>Sex</th>\n",
       "      <th>Age</th>\n",
       "      <th>SibSp</th>\n",
       "      <th>Parch</th>\n",
       "      <th>Ticket</th>\n",
       "      <th>Fare</th>\n",
       "      <th>Cabin</th>\n",
       "      <th>Embarked</th>\n",
       "    </tr>\n",
       "  </thead>\n",
       "  <tbody>\n",
       "    <tr>\n",
       "      <th>0</th>\n",
       "      <td>1</td>\n",
       "      <td>0</td>\n",
       "      <td>3</td>\n",
       "      <td>Braund, Mr. Owen Harris</td>\n",
       "      <td>male</td>\n",
       "      <td>22.0</td>\n",
       "      <td>1</td>\n",
       "      <td>0</td>\n",
       "      <td>A/5 21171</td>\n",
       "      <td>7.2500</td>\n",
       "      <td>NaN</td>\n",
       "      <td>S</td>\n",
       "    </tr>\n",
       "    <tr>\n",
       "      <th>1</th>\n",
       "      <td>2</td>\n",
       "      <td>1</td>\n",
       "      <td>1</td>\n",
       "      <td>Cumings, Mrs. John Bradley (Florence Briggs Th...</td>\n",
       "      <td>female</td>\n",
       "      <td>38.0</td>\n",
       "      <td>1</td>\n",
       "      <td>0</td>\n",
       "      <td>PC 17599</td>\n",
       "      <td>71.2833</td>\n",
       "      <td>C85</td>\n",
       "      <td>C</td>\n",
       "    </tr>\n",
       "  </tbody>\n",
       "</table>\n",
       "</div>"
      ],
      "text/plain": [
       "   PassengerId  Survived  Pclass  \\\n",
       "0            1         0       3   \n",
       "1            2         1       1   \n",
       "\n",
       "                                                Name     Sex   Age  SibSp  \\\n",
       "0                            Braund, Mr. Owen Harris    male  22.0      1   \n",
       "1  Cumings, Mrs. John Bradley (Florence Briggs Th...  female  38.0      1   \n",
       "\n",
       "   Parch     Ticket     Fare Cabin Embarked  \n",
       "0      0  A/5 21171   7.2500   NaN        S  \n",
       "1      0   PC 17599  71.2833   C85        C  "
      ]
     },
     "execution_count": 61,
     "metadata": {},
     "output_type": "execute_result"
    }
   ],
   "source": [
    "df_mod.head(2)"
   ]
  },
  {
   "cell_type": "code",
   "execution_count": 62,
   "id": "3d6f8bad",
   "metadata": {},
   "outputs": [
    {
     "data": {
      "text/plain": [
       "np.float64(10056.312600000001)"
      ]
     },
     "execution_count": 62,
     "metadata": {},
     "output_type": "execute_result"
    }
   ],
   "source": [
    "df_mod.Fare.unique().sum()"
   ]
  },
  {
   "cell_type": "code",
   "execution_count": 63,
   "id": "19eae01e",
   "metadata": {},
   "outputs": [
    {
     "data": {
      "text/plain": [
       "(np.int64(177), 891)"
      ]
     },
     "execution_count": 63,
     "metadata": {},
     "output_type": "execute_result"
    }
   ],
   "source": [
    "df_mod.Age.isna().sum(), len(df_mod)"
   ]
  },
  {
   "cell_type": "markdown",
   "id": "65e6f491",
   "metadata": {},
   "source": [
    "Missing values will be filled accordingly:\n",
    "- Age: Median and indicator column \n",
    "- Cabin: 'Missing' and indicator column\n",
    "- Embarked: 'M' and indicator column "
   ]
  },
  {
   "cell_type": "code",
   "execution_count": 64,
   "id": "a914c7d9",
   "metadata": {},
   "outputs": [],
   "source": [
    "# fix all missing values\n",
    "for label,content in df_mod.items():\n",
    "    if (label=='Age'):\n",
    "         if pd.isna(content).sum():\n",
    "                df_mod[label + '_is_missing'] = pd.isna(content)\n",
    "                df_mod[label] = content.fillna(content.median())\n",
    "    elif (label=='Cabin'):\n",
    "         if pd.isna(content).sum():\n",
    "              df_mod[label + '_is_missing'] = pd.isna(content)\n",
    "              df_mod[label] = content.fillna('Missing')\n",
    "    elif (label=='Embarked'):\n",
    "         if pd.isna(content).sum():\n",
    "              df_mod[label + '_is_missing'] = pd.isna(content)\n",
    "              df_mod[label] = content.fillna('M') "
   ]
  },
  {
   "cell_type": "code",
   "execution_count": 65,
   "id": "e7484029",
   "metadata": {},
   "outputs": [
    {
     "data": {
      "text/plain": [
       "PassengerId            0\n",
       "Survived               0\n",
       "Pclass                 0\n",
       "Name                   0\n",
       "Sex                    0\n",
       "Age                    0\n",
       "SibSp                  0\n",
       "Parch                  0\n",
       "Ticket                 0\n",
       "Fare                   0\n",
       "Cabin                  0\n",
       "Embarked               0\n",
       "Age_is_missing         0\n",
       "Cabin_is_missing       0\n",
       "Embarked_is_missing    0\n",
       "dtype: int64"
      ]
     },
     "execution_count": 65,
     "metadata": {},
     "output_type": "execute_result"
    }
   ],
   "source": [
    "df_mod.isna().sum()"
   ]
  },
  {
   "cell_type": "code",
   "execution_count": 66,
   "id": "117fe4d8",
   "metadata": {},
   "outputs": [
    {
     "data": {
      "text/plain": [
       "(Age_is_missing\n",
       " False    714\n",
       " True     177\n",
       " Name: count, dtype: int64,\n",
       " Cabin_is_missing\n",
       " True     687\n",
       " False    204\n",
       " Name: count, dtype: int64,\n",
       " Embarked_is_missing\n",
       " False    889\n",
       " True       2\n",
       " Name: count, dtype: int64)"
      ]
     },
     "execution_count": 66,
     "metadata": {},
     "output_type": "execute_result"
    }
   ],
   "source": [
    "df_mod.Age_is_missing.value_counts(), df_mod.Cabin_is_missing.value_counts(), df_mod.Embarked_is_missing.value_counts()"
   ]
  },
  {
   "cell_type": "markdown",
   "id": "52caeae5",
   "metadata": {},
   "source": [
    "Missing values fixed"
   ]
  },
  {
   "cell_type": "markdown",
   "id": "f9a2ba27",
   "metadata": {},
   "source": [
    "#### Address Non-numerical data/values"
   ]
  },
  {
   "cell_type": "code",
   "execution_count": 67,
   "id": "86a582cb",
   "metadata": {},
   "outputs": [
    {
     "name": "stdout",
     "output_type": "stream",
     "text": [
      "Name\n",
      "Sex\n",
      "Ticket\n",
      "Cabin\n",
      "Embarked\n"
     ]
    }
   ],
   "source": [
    "# re-confirm if there are non-numerical data in the dataset \n",
    "for label,content in df_mod.items():\n",
    "    if not pd.api.types.is_numeric_dtype(content):\n",
    "        print(label)"
   ]
  },
  {
   "cell_type": "code",
   "execution_count": 68,
   "id": "145d3f1d",
   "metadata": {},
   "outputs": [
    {
     "data": {
      "text/plain": [
       "891"
      ]
     },
     "execution_count": 68,
     "metadata": {},
     "output_type": "execute_result"
    }
   ],
   "source": [
    "len(df_mod.Name.unique())"
   ]
  },
  {
   "cell_type": "code",
   "execution_count": 69,
   "id": "377bf95e",
   "metadata": {},
   "outputs": [
    {
     "data": {
      "text/plain": [
       "PassengerId              int64\n",
       "Survived                 int64\n",
       "Pclass                   int64\n",
       "Name                    object\n",
       "Sex                     object\n",
       "Age                    float64\n",
       "SibSp                    int64\n",
       "Parch                    int64\n",
       "Ticket                  object\n",
       "Fare                   float64\n",
       "Cabin                   object\n",
       "Embarked                object\n",
       "Age_is_missing            bool\n",
       "Cabin_is_missing          bool\n",
       "Embarked_is_missing       bool\n",
       "dtype: object"
      ]
     },
     "execution_count": 69,
     "metadata": {},
     "output_type": "execute_result"
    }
   ],
   "source": [
    "df_mod.dtypes "
   ]
  },
  {
   "cell_type": "markdown",
   "id": "90ef56cd",
   "metadata": {},
   "source": [
    "There are 5 features [Name, Sex, Ticket, Cabin, Embarked] that are non-numeric"
   ]
  },
  {
   "cell_type": "code",
   "execution_count": 70,
   "id": "88696703",
   "metadata": {},
   "outputs": [
    {
     "data": {
      "text/html": [
       "<div>\n",
       "<style scoped>\n",
       "    .dataframe tbody tr th:only-of-type {\n",
       "        vertical-align: middle;\n",
       "    }\n",
       "\n",
       "    .dataframe tbody tr th {\n",
       "        vertical-align: top;\n",
       "    }\n",
       "\n",
       "    .dataframe thead th {\n",
       "        text-align: right;\n",
       "    }\n",
       "</style>\n",
       "<table border=\"1\" class=\"dataframe\">\n",
       "  <thead>\n",
       "    <tr style=\"text-align: right;\">\n",
       "      <th></th>\n",
       "      <th>PassengerId</th>\n",
       "      <th>Survived</th>\n",
       "      <th>Pclass</th>\n",
       "      <th>Name</th>\n",
       "      <th>Sex</th>\n",
       "      <th>Age</th>\n",
       "      <th>SibSp</th>\n",
       "      <th>Parch</th>\n",
       "      <th>Ticket</th>\n",
       "      <th>Fare</th>\n",
       "      <th>Cabin</th>\n",
       "      <th>Embarked</th>\n",
       "      <th>Age_is_missing</th>\n",
       "      <th>Cabin_is_missing</th>\n",
       "      <th>Embarked_is_missing</th>\n",
       "    </tr>\n",
       "  </thead>\n",
       "  <tbody>\n",
       "    <tr>\n",
       "      <th>0</th>\n",
       "      <td>1</td>\n",
       "      <td>0</td>\n",
       "      <td>3</td>\n",
       "      <td>Braund, Mr. Owen Harris</td>\n",
       "      <td>male</td>\n",
       "      <td>22.0</td>\n",
       "      <td>1</td>\n",
       "      <td>0</td>\n",
       "      <td>A/5 21171</td>\n",
       "      <td>7.2500</td>\n",
       "      <td>Missing</td>\n",
       "      <td>S</td>\n",
       "      <td>False</td>\n",
       "      <td>True</td>\n",
       "      <td>False</td>\n",
       "    </tr>\n",
       "    <tr>\n",
       "      <th>1</th>\n",
       "      <td>2</td>\n",
       "      <td>1</td>\n",
       "      <td>1</td>\n",
       "      <td>Cumings, Mrs. John Bradley (Florence Briggs Th...</td>\n",
       "      <td>female</td>\n",
       "      <td>38.0</td>\n",
       "      <td>1</td>\n",
       "      <td>0</td>\n",
       "      <td>PC 17599</td>\n",
       "      <td>71.2833</td>\n",
       "      <td>C85</td>\n",
       "      <td>C</td>\n",
       "      <td>False</td>\n",
       "      <td>False</td>\n",
       "      <td>False</td>\n",
       "    </tr>\n",
       "  </tbody>\n",
       "</table>\n",
       "</div>"
      ],
      "text/plain": [
       "   PassengerId  Survived  Pclass  \\\n",
       "0            1         0       3   \n",
       "1            2         1       1   \n",
       "\n",
       "                                                Name     Sex   Age  SibSp  \\\n",
       "0                            Braund, Mr. Owen Harris    male  22.0      1   \n",
       "1  Cumings, Mrs. John Bradley (Florence Briggs Th...  female  38.0      1   \n",
       "\n",
       "   Parch     Ticket     Fare    Cabin Embarked  Age_is_missing  \\\n",
       "0      0  A/5 21171   7.2500  Missing        S           False   \n",
       "1      0   PC 17599  71.2833      C85        C           False   \n",
       "\n",
       "   Cabin_is_missing  Embarked_is_missing  \n",
       "0              True                False  \n",
       "1             False                False  "
      ]
     },
     "execution_count": 70,
     "metadata": {},
     "output_type": "execute_result"
    }
   ],
   "source": [
    "df_mod.head(2)"
   ]
  },
  {
   "cell_type": "code",
   "execution_count": 71,
   "id": "7d3c0990",
   "metadata": {},
   "outputs": [
    {
     "name": "stdout",
     "output_type": "stream",
     "text": [
      "Name\n",
      "Sex\n",
      "Ticket\n",
      "Cabin\n",
      "Embarked\n"
     ]
    }
   ],
   "source": [
    "# re-confirm if there are non-numerical data in the dataset \n",
    "for label,content in df_mod.items():\n",
    "    if not pd.api.types.is_numeric_dtype(content):\n",
    "        print(label)"
   ]
  },
  {
   "cell_type": "markdown",
   "id": "4219088d",
   "metadata": {},
   "source": [
    "Steps to converting non-numerical values to numerical\n",
    "- `Name`: Extract regular titles, store irregular titles as `other` and put under a column called 'Titles`, then drop the `Name` column - Feature Engineering.\n",
    "- `Sex`and `Embarked`: convert using pd.get_dummies\n",
    "- `Cabin`: Create `Deck` feature for decks to avoid high-cardinality, then drop column - Feature Engineering.\n",
    "- `Ticket`: Convert using Categorical method"
   ]
  },
  {
   "cell_type": "markdown",
   "id": "15a4cabb",
   "metadata": {},
   "source": [
    "#### `Name` (Feature engineering)"
   ]
  },
  {
   "cell_type": "code",
   "execution_count": 72,
   "id": "491dfa97",
   "metadata": {},
   "outputs": [
    {
     "data": {
      "text/plain": [
       "array(['Waelens, Mr. Achille', 'Crease, Mr. Ernest James',\n",
       "       'Davies, Mr. Charles Henry', 'Porter, Mr. Walter Chamberlain',\n",
       "       'Thayer, Mrs. John Borland (Marian Longstreth Morris)',\n",
       "       'Pettersson, Miss. Ellen Natalia', 'Moor, Mrs. (Beila)',\n",
       "       'Caldwell, Master. Alden Gates', 'Fortune, Mr. Mark',\n",
       "       'Hoyt, Mr. Frederick Maxfield', 'Christy, Miss. Julie Rachel',\n",
       "       'Mullens, Miss. Katherine \"Katie\"', 'Goodwin, Miss. Lillian Amy',\n",
       "       'Stankovic, Mr. Ivan', 'Holverson, Mr. Alexander Oskar',\n",
       "       'Asplund, Master. Clarence Gustaf Hugo', 'Moor, Master. Meier',\n",
       "       'Long, Mr. Milton Clyde', 'Asplund, Master. Edvin Rojj Felix',\n",
       "       'Jensen, Mr. Svend Lauritz', 'Cairns, Mr. Alexander',\n",
       "       'Klasen, Mr. Klas Albin',\n",
       "       'Goldsmith, Master. Frank John William \"Frankie\"',\n",
       "       'Osen, Mr. Olaf Elon',\n",
       "       'Graham, Mrs. William Thompson (Edith Junkins)',\n",
       "       'Skoog, Master. Harald', 'Chronopoulos, Mr. Apostolos',\n",
       "       'Moss, Mr. Albert Johan', 'Thayer, Mr. John Borland Jr',\n",
       "       'Fischer, Mr. Eberhard Thelander', 'Sinkkonen, Miss. Anna',\n",
       "       'Saad, Mr. Amin', 'Persson, Mr. Ernst Ulrik', 'Sdycoff, Mr. Todor',\n",
       "       'Butt, Major. Archibald Willingham', 'Mannion, Miss. Margareth',\n",
       "       'Icard, Miss. Amelie', 'Collyer, Mr. Harvey',\n",
       "       'Moran, Mr. Daniel J', 'Scanlan, Mr. James',\n",
       "       'Ahlin, Mrs. Johan (Johanna Persdotter Larsson)',\n",
       "       'Fahlstrom, Mr. Arne Jonas', 'Flynn, Mr. John',\n",
       "       'Baclini, Miss. Marie Catherine', 'Duane, Mr. Frank',\n",
       "       'Burns, Miss. Elizabeth Margaret',\n",
       "       'Brown, Mrs. Thomas William Solomon (Elizabeth Catherine Ford)',\n",
       "       'O\\'Leary, Miss. Hanora \"Norah\"', 'Fortune, Miss. Alice Elizabeth',\n",
       "       'Gale, Mr. Shadrach', 'Nakid, Mr. Sahid', 'Hart, Mr. Benjamin',\n",
       "       'Davies, Mr. Alfred J', 'Simmons, Mr. John',\n",
       "       'Faunthorpe, Mrs. Lizzie (Elizabeth Anne Wilkinson)',\n",
       "       'Skoog, Mrs. William (Anna Bernhardina Karlsson)',\n",
       "       'Jensen, Mr. Niels Peder', 'Kirkland, Rev. Charles Leonard',\n",
       "       'Mamee, Mr. Hanna', 'Beavan, Mr. William Thomas',\n",
       "       'Penasco y Castellana, Mr. Victor de Satode',\n",
       "       'Perkin, Mr. John Henry', 'Doling, Miss. Elsie',\n",
       "       'Mack, Mrs. (Mary)', 'Flynn, Mr. John Irwin (\"Irving\")',\n",
       "       'Coutts, Master. William Loch \"William\"',\n",
       "       'Silven, Miss. Lyyli Karoliina',\n",
       "       'Roebling, Mr. Washington Augustus II', 'Harris, Mr. Walter',\n",
       "       'Dahlberg, Miss. Gerda Ulrika', 'Bidois, Miss. Rosalie',\n",
       "       'Mellinger, Miss. Madeleine Violet', 'Olsen, Mr. Henry Margido',\n",
       "       'Marvin, Mr. Daniel Warner',\n",
       "       'Humblen, Mr. Adolf Mathias Nicolai Olsen', 'Lewy, Mr. Ervin G',\n",
       "       'Zimmerman, Mr. Leo', 'Harper, Mr. Henry Sleeper',\n",
       "       'Smith, Mr. Thomas', 'Baclini, Mrs. Solomon (Latifa Qurban)',\n",
       "       'Skoog, Master. Karl Thorsten', 'Ball, Mrs. (Ada E Hall)',\n",
       "       'Rice, Mrs. William (Margaret Norton)',\n",
       "       'Carlsson, Mr. August Sigfrid', 'Thayer, Mr. John Borland',\n",
       "       'Skoog, Mr. Wilhelm', 'Osman, Mrs. Mara',\n",
       "       'Coutts, Master. Eden Leslie \"Neville\"',\n",
       "       'Yrois, Miss. Henriette (\"Mrs Harbeck\")',\n",
       "       'Banfield, Mr. Frederick James', 'Calic, Mr. Petar',\n",
       "       'Paulner, Mr. Uscher', 'Ford, Mr. William Neal',\n",
       "       'Cleaver, Miss. Alice', 'Molson, Mr. Harry Markland',\n",
       "       'Leonard, Mr. Lionel',\n",
       "       'Andersson, Mrs. Anders Johan (Alfrida Konstantia Brogren)',\n",
       "       'Newell, Miss. Marjorie', 'Hickman, Mr. Leonard Mark',\n",
       "       'Andersson, Miss. Ellis Anna Maria', 'Andersson, Mr. Anders Johan',\n",
       "       'Appleton, Mrs. Edward Dale (Charlotte Lamson)',\n",
       "       'Funk, Miss. Annie Clemmer', 'Palsson, Miss. Torborg Danira',\n",
       "       'Cardeza, Mr. Thomas Drake Martinez', 'Young, Miss. Marie Grice',\n",
       "       'Ponesell, Mr. Martin', 'Barkworth, Mr. Algernon Henry Wilson',\n",
       "       'Reynaldo, Ms. Encarnacion', 'Patchett, Mr. George',\n",
       "       'Albimona, Mr. Nassef Cassem',\n",
       "       'Jerwan, Mrs. Amin S (Marie Marthe Thuillard)',\n",
       "       'Sjostedt, Mr. Ernst Adolf', 'Rintamaki, Mr. Matti',\n",
       "       'Ilmakangas, Miss. Pieta Sofia', 'LeRoy, Miss. Bertha',\n",
       "       'Laleff, Mr. Kristo', 'Burke, Mr. Jeremiah', 'Ilett, Miss. Bertha',\n",
       "       'Foreman, Mr. Benjamin Laventall', 'Andrew, Mr. Edgardo Samuel',\n",
       "       'Robert, Mrs. Edward Scott (Elisabeth Walton McMillan)',\n",
       "       'Otter, Mr. Richard', 'Keane, Miss. Nora A',\n",
       "       'McGovern, Miss. Mary', 'Ekstrom, Mr. Johan',\n",
       "       'Dorking, Mr. Edward Arthur', 'Moutal, Mr. Rahamin Haim',\n",
       "       'Jansson, Mr. Carl Olof', 'Brown, Mr. Thomas William Solomon',\n",
       "       'Baxter, Mrs. James (Helene DeLaudeniere Chaput)',\n",
       "       'Rogers, Mr. William John', 'Radeff, Mr. Alexander',\n",
       "       'Laroche, Mrs. Joseph (Juliette Marie Louise Lafargue)',\n",
       "       'Hagland, Mr. Konrad Mathias Reiersen', 'Dowdell, Miss. Elizabeth',\n",
       "       'McKane, Mr. Peter David', 'Kantor, Mrs. Sinai (Miriam Sternin)',\n",
       "       'Smiljanic, Mr. Mile', 'Duran y More, Miss. Asuncion',\n",
       "       'Bjornstrom-Steffansson, Mr. Mauritz Hakan',\n",
       "       'Jarvis, Mr. John Denzil',\n",
       "       'Hays, Mrs. Charles Melville (Clara Jennings Gregg)',\n",
       "       'Dantcheff, Mr. Ristiu', 'McGowan, Miss. Anna \"Annie\"',\n",
       "       'Alhomaki, Mr. Ilmari Rudolf', 'Kiernan, Mr. Philip',\n",
       "       'Canavan, Miss. Mary', 'Eklund, Mr. Hans Linus',\n",
       "       'Doling, Mrs. John T (Ada Julia Bone)', 'Woolner, Mr. Hugh',\n",
       "       'Charters, Mr. David', 'Morley, Mr. William',\n",
       "       'Davies, Master. John Morgan Jr', 'Oreskovic, Mr. Luka',\n",
       "       'Romaine, Mr. Charles Hallace (\"Mr C Rolmane\")',\n",
       "       'Pears, Mr. Thomas Clinton', 'Gustafsson, Mr. Alfred Ossian',\n",
       "       'Harper, Miss. Annie Jessie \"Nina\"',\n",
       "       'Brown, Miss. Amelia \"Mildred\"', 'Van Impe, Miss. Catharina',\n",
       "       'Milling, Mr. Jacob Christian', 'Newsom, Miss. Helen Monypeny',\n",
       "       'Laitinen, Miss. Kristina Sofia', 'Sirota, Mr. Maurice',\n",
       "       'Futrelle, Mrs. Jacques Heath (Lily May Peel)',\n",
       "       'Jensen, Mr. Hans Peder', 'Parkes, Mr. Francis \"Frank\"',\n",
       "       'Nysten, Miss. Anna Sofia', 'Marechal, Mr. Pierre',\n",
       "       'Pernot, Mr. Rene', 'Andrews, Miss. Kornelia Theodosia',\n",
       "       'Cacic, Mr. Luka', 'Salkjelsvik, Miss. Anna Kristine',\n",
       "       \"O'Connor, Mr. Maurice\",\n",
       "       'Taylor, Mrs. Elmer Zebley (Juliet Cummins Wright)',\n",
       "       'Hippach, Miss. Jean Gertrude', 'Goodwin, Master. Harold Victor'],\n",
       "      dtype=object)"
      ]
     },
     "execution_count": 72,
     "metadata": {},
     "output_type": "execute_result"
    }
   ],
   "source": [
    "df_mod.Name.sample(frac=.2).unique()"
   ]
  },
  {
   "cell_type": "code",
   "execution_count": 73,
   "id": "de1c9d70",
   "metadata": {},
   "outputs": [],
   "source": [
    "# Extract regular titles form Name feature\n",
    "titles = ['Mr', 'Mrs', 'Master', 'Miss', 'Dr', 'Rev']\n",
    "\n",
    "df_mod['Titles'] = df_mod.Name.str.extract(rf'({\"|\".join(titles)})', expand=False).fillna('Other')"
   ]
  },
  {
   "cell_type": "code",
   "execution_count": 74,
   "id": "0525e7c8",
   "metadata": {},
   "outputs": [],
   "source": [
    "# drop Name column \n",
    "df_mod = df_mod.drop('Name', axis=1)"
   ]
  },
  {
   "cell_type": "code",
   "execution_count": 75,
   "id": "05ce3691",
   "metadata": {},
   "outputs": [
    {
     "data": {
      "text/html": [
       "<div>\n",
       "<style scoped>\n",
       "    .dataframe tbody tr th:only-of-type {\n",
       "        vertical-align: middle;\n",
       "    }\n",
       "\n",
       "    .dataframe tbody tr th {\n",
       "        vertical-align: top;\n",
       "    }\n",
       "\n",
       "    .dataframe thead th {\n",
       "        text-align: right;\n",
       "    }\n",
       "</style>\n",
       "<table border=\"1\" class=\"dataframe\">\n",
       "  <thead>\n",
       "    <tr style=\"text-align: right;\">\n",
       "      <th></th>\n",
       "      <th>PassengerId</th>\n",
       "      <th>Survived</th>\n",
       "      <th>Pclass</th>\n",
       "      <th>Sex</th>\n",
       "      <th>Age</th>\n",
       "      <th>SibSp</th>\n",
       "      <th>Parch</th>\n",
       "      <th>Ticket</th>\n",
       "      <th>Fare</th>\n",
       "      <th>Cabin</th>\n",
       "      <th>Embarked</th>\n",
       "      <th>Age_is_missing</th>\n",
       "      <th>Cabin_is_missing</th>\n",
       "      <th>Embarked_is_missing</th>\n",
       "      <th>Titles</th>\n",
       "    </tr>\n",
       "  </thead>\n",
       "  <tbody>\n",
       "    <tr>\n",
       "      <th>729</th>\n",
       "      <td>730</td>\n",
       "      <td>0</td>\n",
       "      <td>3</td>\n",
       "      <td>female</td>\n",
       "      <td>25.0</td>\n",
       "      <td>1</td>\n",
       "      <td>0</td>\n",
       "      <td>STON/O2. 3101271</td>\n",
       "      <td>7.9250</td>\n",
       "      <td>Missing</td>\n",
       "      <td>S</td>\n",
       "      <td>False</td>\n",
       "      <td>True</td>\n",
       "      <td>False</td>\n",
       "      <td>Miss</td>\n",
       "    </tr>\n",
       "    <tr>\n",
       "      <th>294</th>\n",
       "      <td>295</td>\n",
       "      <td>0</td>\n",
       "      <td>3</td>\n",
       "      <td>male</td>\n",
       "      <td>24.0</td>\n",
       "      <td>0</td>\n",
       "      <td>0</td>\n",
       "      <td>349233</td>\n",
       "      <td>7.8958</td>\n",
       "      <td>Missing</td>\n",
       "      <td>S</td>\n",
       "      <td>False</td>\n",
       "      <td>True</td>\n",
       "      <td>False</td>\n",
       "      <td>Mr</td>\n",
       "    </tr>\n",
       "  </tbody>\n",
       "</table>\n",
       "</div>"
      ],
      "text/plain": [
       "     PassengerId  Survived  Pclass     Sex   Age  SibSp  Parch  \\\n",
       "729          730         0       3  female  25.0      1      0   \n",
       "294          295         0       3    male  24.0      0      0   \n",
       "\n",
       "               Ticket    Fare    Cabin Embarked  Age_is_missing  \\\n",
       "729  STON/O2. 3101271  7.9250  Missing        S           False   \n",
       "294            349233  7.8958  Missing        S           False   \n",
       "\n",
       "     Cabin_is_missing  Embarked_is_missing Titles  \n",
       "729              True                False   Miss  \n",
       "294              True                False     Mr  "
      ]
     },
     "execution_count": 75,
     "metadata": {},
     "output_type": "execute_result"
    }
   ],
   "source": [
    "# confirm results\n",
    "df_mod.sample(frac=.002)"
   ]
  },
  {
   "cell_type": "code",
   "execution_count": 76,
   "id": "adb211de",
   "metadata": {},
   "outputs": [
    {
     "data": {
      "text/plain": [
       "6"
      ]
     },
     "execution_count": 76,
     "metadata": {},
     "output_type": "execute_result"
    }
   ],
   "source": [
    "len(df_mod.Titles.unique())"
   ]
  },
  {
   "cell_type": "code",
   "execution_count": 77,
   "id": "c00f1b2e",
   "metadata": {},
   "outputs": [],
   "source": [
    "# convert Titles feature to numerical \n",
    "df_mod = pd.concat([df_mod, pd.get_dummies(df_mod.Titles, prefix='_Titles')], axis=1)"
   ]
  },
  {
   "cell_type": "code",
   "execution_count": 78,
   "id": "84850258",
   "metadata": {},
   "outputs": [],
   "source": [
    "df_mod = df_mod.drop('Titles', axis=1)"
   ]
  },
  {
   "cell_type": "code",
   "execution_count": 79,
   "id": "a6e3f92d",
   "metadata": {},
   "outputs": [
    {
     "data": {
      "text/html": [
       "<div>\n",
       "<style scoped>\n",
       "    .dataframe tbody tr th:only-of-type {\n",
       "        vertical-align: middle;\n",
       "    }\n",
       "\n",
       "    .dataframe tbody tr th {\n",
       "        vertical-align: top;\n",
       "    }\n",
       "\n",
       "    .dataframe thead th {\n",
       "        text-align: right;\n",
       "    }\n",
       "</style>\n",
       "<table border=\"1\" class=\"dataframe\">\n",
       "  <thead>\n",
       "    <tr style=\"text-align: right;\">\n",
       "      <th></th>\n",
       "      <th>PassengerId</th>\n",
       "      <th>Survived</th>\n",
       "      <th>Pclass</th>\n",
       "      <th>Sex</th>\n",
       "      <th>Age</th>\n",
       "      <th>SibSp</th>\n",
       "      <th>Parch</th>\n",
       "      <th>Ticket</th>\n",
       "      <th>Fare</th>\n",
       "      <th>Cabin</th>\n",
       "      <th>Embarked</th>\n",
       "      <th>Age_is_missing</th>\n",
       "      <th>Cabin_is_missing</th>\n",
       "      <th>Embarked_is_missing</th>\n",
       "      <th>_Titles_Dr</th>\n",
       "      <th>_Titles_Master</th>\n",
       "      <th>_Titles_Miss</th>\n",
       "      <th>_Titles_Mr</th>\n",
       "      <th>_Titles_Other</th>\n",
       "      <th>_Titles_Rev</th>\n",
       "    </tr>\n",
       "  </thead>\n",
       "  <tbody>\n",
       "    <tr>\n",
       "      <th>0</th>\n",
       "      <td>1</td>\n",
       "      <td>0</td>\n",
       "      <td>3</td>\n",
       "      <td>male</td>\n",
       "      <td>22.0</td>\n",
       "      <td>1</td>\n",
       "      <td>0</td>\n",
       "      <td>A/5 21171</td>\n",
       "      <td>7.25</td>\n",
       "      <td>Missing</td>\n",
       "      <td>S</td>\n",
       "      <td>False</td>\n",
       "      <td>True</td>\n",
       "      <td>False</td>\n",
       "      <td>False</td>\n",
       "      <td>False</td>\n",
       "      <td>False</td>\n",
       "      <td>True</td>\n",
       "      <td>False</td>\n",
       "      <td>False</td>\n",
       "    </tr>\n",
       "  </tbody>\n",
       "</table>\n",
       "</div>"
      ],
      "text/plain": [
       "   PassengerId  Survived  Pclass   Sex   Age  SibSp  Parch     Ticket  Fare  \\\n",
       "0            1         0       3  male  22.0      1      0  A/5 21171  7.25   \n",
       "\n",
       "     Cabin Embarked  Age_is_missing  Cabin_is_missing  Embarked_is_missing  \\\n",
       "0  Missing        S           False              True                False   \n",
       "\n",
       "   _Titles_Dr  _Titles_Master  _Titles_Miss  _Titles_Mr  _Titles_Other  \\\n",
       "0       False           False         False        True          False   \n",
       "\n",
       "   _Titles_Rev  \n",
       "0        False  "
      ]
     },
     "execution_count": 79,
     "metadata": {},
     "output_type": "execute_result"
    }
   ],
   "source": [
    "df_mod.head(1)"
   ]
  },
  {
   "cell_type": "code",
   "execution_count": 80,
   "id": "be7588a9",
   "metadata": {},
   "outputs": [
    {
     "name": "stdout",
     "output_type": "stream",
     "text": [
      "Sex\n",
      "Ticket\n",
      "Cabin\n",
      "Embarked\n"
     ]
    }
   ],
   "source": [
    "# re-confirm if there are non-numerical data in the dataset \n",
    "for label,content in df_mod.items():\n",
    "    if not pd.api.types.is_numeric_dtype(content):\n",
    "        print(label)"
   ]
  },
  {
   "cell_type": "markdown",
   "id": "20f94a59",
   "metadata": {},
   "source": [
    "#### `Sex` and `Embarked` - pd.get_dummies() "
   ]
  },
  {
   "cell_type": "code",
   "execution_count": 81,
   "id": "24804d1a",
   "metadata": {},
   "outputs": [],
   "source": [
    "df_mod = pd.concat([df_mod, pd.get_dummies(df_mod[['Sex', 'Embarked']], prefix=['Sex_', 'Embarked_'])], axis=1)"
   ]
  },
  {
   "cell_type": "code",
   "execution_count": null,
   "id": "79467cbd",
   "metadata": {},
   "outputs": [],
   "source": [
    "# drop `Sex` and `Embarked` columns\n",
    "df_mod = df_mod.drop(columns=['Sex', 'Embarked'], axis=1)"
   ]
  },
  {
   "cell_type": "code",
   "execution_count": null,
   "id": "9d3c7e46",
   "metadata": {},
   "outputs": [
    {
     "data": {
      "text/html": [
       "<div>\n",
       "<style scoped>\n",
       "    .dataframe tbody tr th:only-of-type {\n",
       "        vertical-align: middle;\n",
       "    }\n",
       "\n",
       "    .dataframe tbody tr th {\n",
       "        vertical-align: top;\n",
       "    }\n",
       "\n",
       "    .dataframe thead th {\n",
       "        text-align: right;\n",
       "    }\n",
       "</style>\n",
       "<table border=\"1\" class=\"dataframe\">\n",
       "  <thead>\n",
       "    <tr style=\"text-align: right;\">\n",
       "      <th></th>\n",
       "      <th>0</th>\n",
       "      <th>1</th>\n",
       "      <th>2</th>\n",
       "      <th>3</th>\n",
       "      <th>4</th>\n",
       "    </tr>\n",
       "  </thead>\n",
       "  <tbody>\n",
       "    <tr>\n",
       "      <th>PassengerId</th>\n",
       "      <td>1</td>\n",
       "      <td>2</td>\n",
       "      <td>3</td>\n",
       "      <td>4</td>\n",
       "      <td>5</td>\n",
       "    </tr>\n",
       "    <tr>\n",
       "      <th>Survived</th>\n",
       "      <td>0</td>\n",
       "      <td>1</td>\n",
       "      <td>1</td>\n",
       "      <td>1</td>\n",
       "      <td>0</td>\n",
       "    </tr>\n",
       "    <tr>\n",
       "      <th>Pclass</th>\n",
       "      <td>3</td>\n",
       "      <td>1</td>\n",
       "      <td>3</td>\n",
       "      <td>1</td>\n",
       "      <td>3</td>\n",
       "    </tr>\n",
       "    <tr>\n",
       "      <th>Sex</th>\n",
       "      <td>male</td>\n",
       "      <td>female</td>\n",
       "      <td>female</td>\n",
       "      <td>female</td>\n",
       "      <td>male</td>\n",
       "    </tr>\n",
       "    <tr>\n",
       "      <th>Age</th>\n",
       "      <td>22.0</td>\n",
       "      <td>38.0</td>\n",
       "      <td>26.0</td>\n",
       "      <td>35.0</td>\n",
       "      <td>35.0</td>\n",
       "    </tr>\n",
       "    <tr>\n",
       "      <th>SibSp</th>\n",
       "      <td>1</td>\n",
       "      <td>1</td>\n",
       "      <td>0</td>\n",
       "      <td>1</td>\n",
       "      <td>0</td>\n",
       "    </tr>\n",
       "    <tr>\n",
       "      <th>Parch</th>\n",
       "      <td>0</td>\n",
       "      <td>0</td>\n",
       "      <td>0</td>\n",
       "      <td>0</td>\n",
       "      <td>0</td>\n",
       "    </tr>\n",
       "    <tr>\n",
       "      <th>Ticket</th>\n",
       "      <td>A/5 21171</td>\n",
       "      <td>PC 17599</td>\n",
       "      <td>STON/O2. 3101282</td>\n",
       "      <td>113803</td>\n",
       "      <td>373450</td>\n",
       "    </tr>\n",
       "    <tr>\n",
       "      <th>Fare</th>\n",
       "      <td>7.25</td>\n",
       "      <td>71.2833</td>\n",
       "      <td>7.925</td>\n",
       "      <td>53.1</td>\n",
       "      <td>8.05</td>\n",
       "    </tr>\n",
       "    <tr>\n",
       "      <th>Cabin</th>\n",
       "      <td>Missing</td>\n",
       "      <td>C85</td>\n",
       "      <td>Missing</td>\n",
       "      <td>C123</td>\n",
       "      <td>Missing</td>\n",
       "    </tr>\n",
       "    <tr>\n",
       "      <th>Embarked</th>\n",
       "      <td>S</td>\n",
       "      <td>C</td>\n",
       "      <td>S</td>\n",
       "      <td>S</td>\n",
       "      <td>S</td>\n",
       "    </tr>\n",
       "    <tr>\n",
       "      <th>Age_is_missing</th>\n",
       "      <td>False</td>\n",
       "      <td>False</td>\n",
       "      <td>False</td>\n",
       "      <td>False</td>\n",
       "      <td>False</td>\n",
       "    </tr>\n",
       "    <tr>\n",
       "      <th>Cabin_is_missing</th>\n",
       "      <td>True</td>\n",
       "      <td>False</td>\n",
       "      <td>True</td>\n",
       "      <td>False</td>\n",
       "      <td>True</td>\n",
       "    </tr>\n",
       "    <tr>\n",
       "      <th>Embarked_is_missing</th>\n",
       "      <td>False</td>\n",
       "      <td>False</td>\n",
       "      <td>False</td>\n",
       "      <td>False</td>\n",
       "      <td>False</td>\n",
       "    </tr>\n",
       "    <tr>\n",
       "      <th>_Titles_Dr</th>\n",
       "      <td>False</td>\n",
       "      <td>False</td>\n",
       "      <td>False</td>\n",
       "      <td>False</td>\n",
       "      <td>False</td>\n",
       "    </tr>\n",
       "    <tr>\n",
       "      <th>_Titles_Master</th>\n",
       "      <td>False</td>\n",
       "      <td>False</td>\n",
       "      <td>False</td>\n",
       "      <td>False</td>\n",
       "      <td>False</td>\n",
       "    </tr>\n",
       "    <tr>\n",
       "      <th>_Titles_Miss</th>\n",
       "      <td>False</td>\n",
       "      <td>False</td>\n",
       "      <td>True</td>\n",
       "      <td>False</td>\n",
       "      <td>False</td>\n",
       "    </tr>\n",
       "    <tr>\n",
       "      <th>_Titles_Mr</th>\n",
       "      <td>True</td>\n",
       "      <td>True</td>\n",
       "      <td>False</td>\n",
       "      <td>True</td>\n",
       "      <td>True</td>\n",
       "    </tr>\n",
       "    <tr>\n",
       "      <th>_Titles_Other</th>\n",
       "      <td>False</td>\n",
       "      <td>False</td>\n",
       "      <td>False</td>\n",
       "      <td>False</td>\n",
       "      <td>False</td>\n",
       "    </tr>\n",
       "    <tr>\n",
       "      <th>_Titles_Rev</th>\n",
       "      <td>False</td>\n",
       "      <td>False</td>\n",
       "      <td>False</td>\n",
       "      <td>False</td>\n",
       "      <td>False</td>\n",
       "    </tr>\n",
       "    <tr>\n",
       "      <th>Sex__female</th>\n",
       "      <td>False</td>\n",
       "      <td>True</td>\n",
       "      <td>True</td>\n",
       "      <td>True</td>\n",
       "      <td>False</td>\n",
       "    </tr>\n",
       "    <tr>\n",
       "      <th>Sex__male</th>\n",
       "      <td>True</td>\n",
       "      <td>False</td>\n",
       "      <td>False</td>\n",
       "      <td>False</td>\n",
       "      <td>True</td>\n",
       "    </tr>\n",
       "    <tr>\n",
       "      <th>Embarked__C</th>\n",
       "      <td>False</td>\n",
       "      <td>True</td>\n",
       "      <td>False</td>\n",
       "      <td>False</td>\n",
       "      <td>False</td>\n",
       "    </tr>\n",
       "    <tr>\n",
       "      <th>Embarked__M</th>\n",
       "      <td>False</td>\n",
       "      <td>False</td>\n",
       "      <td>False</td>\n",
       "      <td>False</td>\n",
       "      <td>False</td>\n",
       "    </tr>\n",
       "    <tr>\n",
       "      <th>Embarked__Q</th>\n",
       "      <td>False</td>\n",
       "      <td>False</td>\n",
       "      <td>False</td>\n",
       "      <td>False</td>\n",
       "      <td>False</td>\n",
       "    </tr>\n",
       "    <tr>\n",
       "      <th>Embarked__S</th>\n",
       "      <td>True</td>\n",
       "      <td>False</td>\n",
       "      <td>True</td>\n",
       "      <td>True</td>\n",
       "      <td>True</td>\n",
       "    </tr>\n",
       "  </tbody>\n",
       "</table>\n",
       "</div>"
      ],
      "text/plain": [
       "                             0         1                 2       3        4\n",
       "PassengerId                  1         2                 3       4        5\n",
       "Survived                     0         1                 1       1        0\n",
       "Pclass                       3         1                 3       1        3\n",
       "Sex                       male    female            female  female     male\n",
       "Age                       22.0      38.0              26.0    35.0     35.0\n",
       "SibSp                        1         1                 0       1        0\n",
       "Parch                        0         0                 0       0        0\n",
       "Ticket               A/5 21171  PC 17599  STON/O2. 3101282  113803   373450\n",
       "Fare                      7.25   71.2833             7.925    53.1     8.05\n",
       "Cabin                  Missing       C85           Missing    C123  Missing\n",
       "Embarked                     S         C                 S       S        S\n",
       "Age_is_missing           False     False             False   False    False\n",
       "Cabin_is_missing          True     False              True   False     True\n",
       "Embarked_is_missing      False     False             False   False    False\n",
       "_Titles_Dr               False     False             False   False    False\n",
       "_Titles_Master           False     False             False   False    False\n",
       "_Titles_Miss             False     False              True   False    False\n",
       "_Titles_Mr                True      True             False    True     True\n",
       "_Titles_Other            False     False             False   False    False\n",
       "_Titles_Rev              False     False             False   False    False\n",
       "Sex__female              False      True              True    True    False\n",
       "Sex__male                 True     False             False   False     True\n",
       "Embarked__C              False      True             False   False    False\n",
       "Embarked__M              False     False             False   False    False\n",
       "Embarked__Q              False     False             False   False    False\n",
       "Embarked__S               True     False              True    True     True"
      ]
     },
     "execution_count": 82,
     "metadata": {},
     "output_type": "execute_result"
    }
   ],
   "source": [
    "# confirm result\n",
    "df_mod.head().T"
   ]
  },
  {
   "cell_type": "code",
   "execution_count": 89,
   "id": "fdc7862c",
   "metadata": {},
   "outputs": [
    {
     "name": "stdout",
     "output_type": "stream",
     "text": [
      "Ticket\n",
      "Cabin\n"
     ]
    }
   ],
   "source": [
    "# re-confirm if there are non-numerical data in the dataset \n",
    "for label,content in df_mod.items():\n",
    "    if not pd.api.types.is_numeric_dtype(content):\n",
    "        print(label)"
   ]
  },
  {
   "cell_type": "markdown",
   "id": "2d1e3e23",
   "metadata": {},
   "source": [
    "- `Cabin`: Create `Deck` feature for decks to avoid high-cardinality, then drop column - Feature Engineering.\n",
    "- `Ticket`: Convert using Categorical method"
   ]
  },
  {
   "cell_type": "markdown",
   "id": "424af6eb",
   "metadata": {},
   "source": [
    "#### `Cabin` (Feature Engineering)"
   ]
  },
  {
   "cell_type": "code",
   "execution_count": null,
   "id": "2b0f4262",
   "metadata": {},
   "outputs": [],
   "source": [
    "# check proportion of missing data in the Cabin column\n",
    "len(df_mod[df_mod.Cabin == 'Missing'])/len(df_mod)*100"
   ]
  },
  {
   "cell_type": "markdown",
   "id": "c37f2ca7",
   "metadata": {},
   "source": [
    "There are about 80% of missing data/samples in the `Cabin` feature. Normally, I should drop this feature as this is quite much, but for the sake of practise, I will feature engineer this."
   ]
  },
  {
   "cell_type": "code",
   "execution_count": 90,
   "id": "2feebe12",
   "metadata": {},
   "outputs": [],
   "source": [
    "# Extract first letter from column values\n",
    "df_mod['Deck'] = df_mod.Cabin.str.extract(r'([A-Za-z])', expand=False)"
   ]
  },
  {
   "cell_type": "code",
   "execution_count": null,
   "id": "de84ba2b",
   "metadata": {},
   "outputs": [],
   "source": [
    "# drop Cabin column\n",
    "df_mod = df_mod.drop('Cabin', axis=1)"
   ]
  },
  {
   "cell_type": "code",
   "execution_count": 95,
   "id": "f1676bd2",
   "metadata": {},
   "outputs": [
    {
     "data": {
      "text/plain": [
       "Deck\n",
       "M    687\n",
       "C     59\n",
       "B     47\n",
       "D     33\n",
       "E     32\n",
       "A     15\n",
       "F     13\n",
       "G      4\n",
       "T      1\n",
       "Name: count, dtype: int64"
      ]
     },
     "execution_count": 95,
     "metadata": {},
     "output_type": "execute_result"
    }
   ],
   "source": [
    "# Convert to numerical \n",
    "df_mod.Deck.value_counts() "
   ]
  },
  {
   "cell_type": "code",
   "execution_count": null,
   "id": "6eca1aaa",
   "metadata": {},
   "outputs": [],
   "source": [
    "# replace M with -1\n",
    "df_mod['Deck'] = df_mod['Deck'].replace('M', -1)\n",
    "\n",
    "# convert to numerical without ordering\n",
    "df_mod.Deck = df_mod.Deck.astype('category').cat.codes"
   ]
  },
  {
   "cell_type": "code",
   "execution_count": null,
   "id": "076a1575",
   "metadata": {},
   "outputs": [
    {
     "data": {
      "text/html": [
       "<div>\n",
       "<style scoped>\n",
       "    .dataframe tbody tr th:only-of-type {\n",
       "        vertical-align: middle;\n",
       "    }\n",
       "\n",
       "    .dataframe tbody tr th {\n",
       "        vertical-align: top;\n",
       "    }\n",
       "\n",
       "    .dataframe thead th {\n",
       "        text-align: right;\n",
       "    }\n",
       "</style>\n",
       "<table border=\"1\" class=\"dataframe\">\n",
       "  <thead>\n",
       "    <tr style=\"text-align: right;\">\n",
       "      <th></th>\n",
       "      <th>0</th>\n",
       "      <th>1</th>\n",
       "    </tr>\n",
       "  </thead>\n",
       "  <tbody>\n",
       "    <tr>\n",
       "      <th>PassengerId</th>\n",
       "      <td>1</td>\n",
       "      <td>2</td>\n",
       "    </tr>\n",
       "    <tr>\n",
       "      <th>Survived</th>\n",
       "      <td>0</td>\n",
       "      <td>1</td>\n",
       "    </tr>\n",
       "    <tr>\n",
       "      <th>Pclass</th>\n",
       "      <td>3</td>\n",
       "      <td>1</td>\n",
       "    </tr>\n",
       "    <tr>\n",
       "      <th>Age</th>\n",
       "      <td>22</td>\n",
       "      <td>38</td>\n",
       "    </tr>\n",
       "    <tr>\n",
       "      <th>SibSp</th>\n",
       "      <td>1</td>\n",
       "      <td>1</td>\n",
       "    </tr>\n",
       "    <tr>\n",
       "      <th>Parch</th>\n",
       "      <td>0</td>\n",
       "      <td>0</td>\n",
       "    </tr>\n",
       "    <tr>\n",
       "      <th>Ticket</th>\n",
       "      <td>A/5 21171</td>\n",
       "      <td>PC 17599</td>\n",
       "    </tr>\n",
       "    <tr>\n",
       "      <th>Fare</th>\n",
       "      <td>7.25</td>\n",
       "      <td>71.2833</td>\n",
       "    </tr>\n",
       "    <tr>\n",
       "      <th>Age_is_missing</th>\n",
       "      <td>False</td>\n",
       "      <td>False</td>\n",
       "    </tr>\n",
       "    <tr>\n",
       "      <th>Cabin_is_missing</th>\n",
       "      <td>True</td>\n",
       "      <td>False</td>\n",
       "    </tr>\n",
       "    <tr>\n",
       "      <th>Embarked_is_missing</th>\n",
       "      <td>False</td>\n",
       "      <td>False</td>\n",
       "    </tr>\n",
       "    <tr>\n",
       "      <th>_Titles_Dr</th>\n",
       "      <td>False</td>\n",
       "      <td>False</td>\n",
       "    </tr>\n",
       "    <tr>\n",
       "      <th>_Titles_Master</th>\n",
       "      <td>False</td>\n",
       "      <td>False</td>\n",
       "    </tr>\n",
       "    <tr>\n",
       "      <th>_Titles_Miss</th>\n",
       "      <td>False</td>\n",
       "      <td>False</td>\n",
       "    </tr>\n",
       "    <tr>\n",
       "      <th>_Titles_Mr</th>\n",
       "      <td>True</td>\n",
       "      <td>True</td>\n",
       "    </tr>\n",
       "    <tr>\n",
       "      <th>_Titles_Other</th>\n",
       "      <td>False</td>\n",
       "      <td>False</td>\n",
       "    </tr>\n",
       "    <tr>\n",
       "      <th>_Titles_Rev</th>\n",
       "      <td>False</td>\n",
       "      <td>False</td>\n",
       "    </tr>\n",
       "    <tr>\n",
       "      <th>Sex__female</th>\n",
       "      <td>False</td>\n",
       "      <td>True</td>\n",
       "    </tr>\n",
       "    <tr>\n",
       "      <th>Sex__male</th>\n",
       "      <td>True</td>\n",
       "      <td>False</td>\n",
       "    </tr>\n",
       "    <tr>\n",
       "      <th>Embarked__C</th>\n",
       "      <td>False</td>\n",
       "      <td>True</td>\n",
       "    </tr>\n",
       "    <tr>\n",
       "      <th>Embarked__M</th>\n",
       "      <td>False</td>\n",
       "      <td>False</td>\n",
       "    </tr>\n",
       "    <tr>\n",
       "      <th>Embarked__Q</th>\n",
       "      <td>False</td>\n",
       "      <td>False</td>\n",
       "    </tr>\n",
       "    <tr>\n",
       "      <th>Embarked__S</th>\n",
       "      <td>True</td>\n",
       "      <td>False</td>\n",
       "    </tr>\n",
       "    <tr>\n",
       "      <th>Deck</th>\n",
       "      <td>0</td>\n",
       "      <td>3</td>\n",
       "    </tr>\n",
       "  </tbody>\n",
       "</table>\n",
       "</div>"
      ],
      "text/plain": [
       "                             0         1\n",
       "PassengerId                  1         2\n",
       "Survived                     0         1\n",
       "Pclass                       3         1\n",
       "Age                         22        38\n",
       "SibSp                        1         1\n",
       "Parch                        0         0\n",
       "Ticket               A/5 21171  PC 17599\n",
       "Fare                      7.25   71.2833\n",
       "Age_is_missing           False     False\n",
       "Cabin_is_missing          True     False\n",
       "Embarked_is_missing      False     False\n",
       "_Titles_Dr               False     False\n",
       "_Titles_Master           False     False\n",
       "_Titles_Miss             False     False\n",
       "_Titles_Mr                True      True\n",
       "_Titles_Other            False     False\n",
       "_Titles_Rev              False     False\n",
       "Sex__female              False      True\n",
       "Sex__male                 True     False\n",
       "Embarked__C              False      True\n",
       "Embarked__M              False     False\n",
       "Embarked__Q              False     False\n",
       "Embarked__S               True     False\n",
       "Deck                         0         3"
      ]
     },
     "execution_count": 102,
     "metadata": {},
     "output_type": "execute_result"
    }
   ],
   "source": [
    "# confirm result\n",
    "df_mod.Age = df_mod.Age.astype('int64')\n",
    "df_mod.head(2).T "
   ]
  },
  {
   "cell_type": "code",
   "execution_count": 103,
   "id": "edba91c8",
   "metadata": {},
   "outputs": [
    {
     "name": "stdout",
     "output_type": "stream",
     "text": [
      "Ticket\n"
     ]
    }
   ],
   "source": [
    "# re-confirm if there are non-numerical data in the dataset \n",
    "for label,content in df_mod.items():\n",
    "    if not pd.api.types.is_numeric_dtype(content):\n",
    "        print(label)"
   ]
  },
  {
   "cell_type": "markdown",
   "id": "c9fd240a",
   "metadata": {},
   "source": [
    "- `Ticket`: Convert using Categorical method"
   ]
  },
  {
   "cell_type": "markdown",
   "id": "6ec499fc",
   "metadata": {},
   "source": [
    "#### `Ticket` - Categorical \n"
   ]
  },
  {
   "cell_type": "code",
   "execution_count": 106,
   "id": "c6e2c47e",
   "metadata": {},
   "outputs": [],
   "source": [
    "# convert to categorical data and order\n",
    "df_mod.Ticket = df_mod['Ticket'].astype('category').cat.as_ordered()\n",
    "\n",
    "# convert to numerical\n",
    "df_mod.Ticket = df_mod['Ticket'].cat.codes"
   ]
  },
  {
   "cell_type": "code",
   "execution_count": 107,
   "id": "b5054d02",
   "metadata": {},
   "outputs": [
    {
     "data": {
      "text/html": [
       "<div>\n",
       "<style scoped>\n",
       "    .dataframe tbody tr th:only-of-type {\n",
       "        vertical-align: middle;\n",
       "    }\n",
       "\n",
       "    .dataframe tbody tr th {\n",
       "        vertical-align: top;\n",
       "    }\n",
       "\n",
       "    .dataframe thead th {\n",
       "        text-align: right;\n",
       "    }\n",
       "</style>\n",
       "<table border=\"1\" class=\"dataframe\">\n",
       "  <thead>\n",
       "    <tr style=\"text-align: right;\">\n",
       "      <th></th>\n",
       "      <th>0</th>\n",
       "    </tr>\n",
       "  </thead>\n",
       "  <tbody>\n",
       "    <tr>\n",
       "      <th>PassengerId</th>\n",
       "      <td>1</td>\n",
       "    </tr>\n",
       "    <tr>\n",
       "      <th>Survived</th>\n",
       "      <td>0</td>\n",
       "    </tr>\n",
       "    <tr>\n",
       "      <th>Pclass</th>\n",
       "      <td>3</td>\n",
       "    </tr>\n",
       "    <tr>\n",
       "      <th>Age</th>\n",
       "      <td>22</td>\n",
       "    </tr>\n",
       "    <tr>\n",
       "      <th>SibSp</th>\n",
       "      <td>1</td>\n",
       "    </tr>\n",
       "    <tr>\n",
       "      <th>Parch</th>\n",
       "      <td>0</td>\n",
       "    </tr>\n",
       "    <tr>\n",
       "      <th>Ticket</th>\n",
       "      <td>523</td>\n",
       "    </tr>\n",
       "    <tr>\n",
       "      <th>Fare</th>\n",
       "      <td>7.25</td>\n",
       "    </tr>\n",
       "    <tr>\n",
       "      <th>Age_is_missing</th>\n",
       "      <td>False</td>\n",
       "    </tr>\n",
       "    <tr>\n",
       "      <th>Cabin_is_missing</th>\n",
       "      <td>True</td>\n",
       "    </tr>\n",
       "    <tr>\n",
       "      <th>Embarked_is_missing</th>\n",
       "      <td>False</td>\n",
       "    </tr>\n",
       "    <tr>\n",
       "      <th>_Titles_Dr</th>\n",
       "      <td>False</td>\n",
       "    </tr>\n",
       "    <tr>\n",
       "      <th>_Titles_Master</th>\n",
       "      <td>False</td>\n",
       "    </tr>\n",
       "    <tr>\n",
       "      <th>_Titles_Miss</th>\n",
       "      <td>False</td>\n",
       "    </tr>\n",
       "    <tr>\n",
       "      <th>_Titles_Mr</th>\n",
       "      <td>True</td>\n",
       "    </tr>\n",
       "    <tr>\n",
       "      <th>_Titles_Other</th>\n",
       "      <td>False</td>\n",
       "    </tr>\n",
       "    <tr>\n",
       "      <th>_Titles_Rev</th>\n",
       "      <td>False</td>\n",
       "    </tr>\n",
       "    <tr>\n",
       "      <th>Sex__female</th>\n",
       "      <td>False</td>\n",
       "    </tr>\n",
       "    <tr>\n",
       "      <th>Sex__male</th>\n",
       "      <td>True</td>\n",
       "    </tr>\n",
       "    <tr>\n",
       "      <th>Embarked__C</th>\n",
       "      <td>False</td>\n",
       "    </tr>\n",
       "    <tr>\n",
       "      <th>Embarked__M</th>\n",
       "      <td>False</td>\n",
       "    </tr>\n",
       "    <tr>\n",
       "      <th>Embarked__Q</th>\n",
       "      <td>False</td>\n",
       "    </tr>\n",
       "    <tr>\n",
       "      <th>Embarked__S</th>\n",
       "      <td>True</td>\n",
       "    </tr>\n",
       "    <tr>\n",
       "      <th>Deck</th>\n",
       "      <td>0</td>\n",
       "    </tr>\n",
       "  </tbody>\n",
       "</table>\n",
       "</div>"
      ],
      "text/plain": [
       "                         0\n",
       "PassengerId              1\n",
       "Survived                 0\n",
       "Pclass                   3\n",
       "Age                     22\n",
       "SibSp                    1\n",
       "Parch                    0\n",
       "Ticket                 523\n",
       "Fare                  7.25\n",
       "Age_is_missing       False\n",
       "Cabin_is_missing      True\n",
       "Embarked_is_missing  False\n",
       "_Titles_Dr           False\n",
       "_Titles_Master       False\n",
       "_Titles_Miss         False\n",
       "_Titles_Mr            True\n",
       "_Titles_Other        False\n",
       "_Titles_Rev          False\n",
       "Sex__female          False\n",
       "Sex__male             True\n",
       "Embarked__C          False\n",
       "Embarked__M          False\n",
       "Embarked__Q          False\n",
       "Embarked__S           True\n",
       "Deck                     0"
      ]
     },
     "execution_count": 107,
     "metadata": {},
     "output_type": "execute_result"
    }
   ],
   "source": [
    "# confirm result\n",
    "df_mod.head(1).T"
   ]
  },
  {
   "cell_type": "code",
   "execution_count": 108,
   "id": "41a21961",
   "metadata": {},
   "outputs": [
    {
     "name": "stdout",
     "output_type": "stream",
     "text": [
      "<class 'pandas.core.frame.DataFrame'>\n",
      "RangeIndex: 891 entries, 0 to 890\n",
      "Data columns (total 24 columns):\n",
      " #   Column               Non-Null Count  Dtype  \n",
      "---  ------               --------------  -----  \n",
      " 0   PassengerId          891 non-null    int64  \n",
      " 1   Survived             891 non-null    int64  \n",
      " 2   Pclass               891 non-null    int64  \n",
      " 3   Age                  891 non-null    int64  \n",
      " 4   SibSp                891 non-null    int64  \n",
      " 5   Parch                891 non-null    int64  \n",
      " 6   Ticket               891 non-null    int16  \n",
      " 7   Fare                 891 non-null    float64\n",
      " 8   Age_is_missing       891 non-null    bool   \n",
      " 9   Cabin_is_missing     891 non-null    bool   \n",
      " 10  Embarked_is_missing  891 non-null    bool   \n",
      " 11  _Titles_Dr           891 non-null    bool   \n",
      " 12  _Titles_Master       891 non-null    bool   \n",
      " 13  _Titles_Miss         891 non-null    bool   \n",
      " 14  _Titles_Mr           891 non-null    bool   \n",
      " 15  _Titles_Other        891 non-null    bool   \n",
      " 16  _Titles_Rev          891 non-null    bool   \n",
      " 17  Sex__female          891 non-null    bool   \n",
      " 18  Sex__male            891 non-null    bool   \n",
      " 19  Embarked__C          891 non-null    bool   \n",
      " 20  Embarked__M          891 non-null    bool   \n",
      " 21  Embarked__Q          891 non-null    bool   \n",
      " 22  Embarked__S          891 non-null    bool   \n",
      " 23  Deck                 891 non-null    int8   \n",
      "dtypes: bool(15), float64(1), int16(1), int64(6), int8(1)\n",
      "memory usage: 64.5 KB\n"
     ]
    }
   ],
   "source": [
    "df_mod.info()"
   ]
  },
  {
   "cell_type": "code",
   "execution_count": 115,
   "id": "616f1e7b",
   "metadata": {},
   "outputs": [
    {
     "data": {
      "text/plain": [
       "(False, False)"
      ]
     },
     "execution_count": 115,
     "metadata": {},
     "output_type": "execute_result"
    }
   ],
   "source": [
    "pd.api.types.is_object_dtype(df_mod), pd.api.types.is_string_dtype(df_mod)"
   ]
  },
  {
   "cell_type": "markdown",
   "id": "24b07e33",
   "metadata": {},
   "source": [
    "### Modelling"
   ]
  },
  {
   "cell_type": "code",
   "execution_count": 116,
   "id": "7f042626",
   "metadata": {},
   "outputs": [
    {
     "data": {
      "text/plain": [
       "Index(['PassengerId', 'Survived', 'Pclass', 'Age', 'SibSp', 'Parch', 'Ticket',\n",
       "       'Fare', 'Age_is_missing', 'Cabin_is_missing', 'Embarked_is_missing',\n",
       "       '_Titles_Dr', '_Titles_Master', '_Titles_Miss', '_Titles_Mr',\n",
       "       '_Titles_Other', '_Titles_Rev', 'Sex__female', 'Sex__male',\n",
       "       'Embarked__C', 'Embarked__M', 'Embarked__Q', 'Embarked__S', 'Deck'],\n",
       "      dtype='object')"
      ]
     },
     "execution_count": 116,
     "metadata": {},
     "output_type": "execute_result"
    }
   ],
   "source": [
    "df_mod.columns"
   ]
  },
  {
   "cell_type": "code",
   "execution_count": 118,
   "id": "1efa2271",
   "metadata": {},
   "outputs": [],
   "source": [
    "# split data into train and validation sets\n",
    "\n",
    "X = df_mod.drop('Survived', axis=1) # training set\n",
    "y = df_mod['Survived'] # validation set\n",
    "\n",
    "X_train,X_valid, y_train, y_valid = train_test_split(X, y, test_size=.2, random_state=12)"
   ]
  },
  {
   "cell_type": "code",
   "execution_count": 123,
   "id": "94dfbfc5",
   "metadata": {},
   "outputs": [
    {
     "data": {
      "text/plain": [
       "((712, 23), (179, 23), (712,), (179,))"
      ]
     },
     "execution_count": 123,
     "metadata": {},
     "output_type": "execute_result"
    }
   ],
   "source": [
    "X_train.shape, X_valid.shape, y_train.shape, y_valid.shape "
   ]
  },
  {
   "cell_type": "code",
   "execution_count": 124,
   "id": "aa952507",
   "metadata": {},
   "outputs": [
    {
     "data": {
      "text/plain": [
       "(891, 24)"
      ]
     },
     "execution_count": 124,
     "metadata": {},
     "output_type": "execute_result"
    }
   ],
   "source": [
    "df_mod.shape "
   ]
  },
  {
   "cell_type": "markdown",
   "id": "4e5c750b",
   "metadata": {},
   "source": [
    "### Data Modelling EDA"
   ]
  },
  {
   "cell_type": "markdown",
   "id": "015b0db3",
   "metadata": {},
   "source": []
  },
  {
   "cell_type": "code",
   "execution_count": null,
   "id": "c97f8877",
   "metadata": {},
   "outputs": [],
   "source": []
  }
 ],
 "metadata": {
  "kernelspec": {
   "display_name": "ML",
   "language": "python",
   "name": "python3"
  },
  "language_info": {
   "codemirror_mode": {
    "name": "ipython",
    "version": 3
   },
   "file_extension": ".py",
   "mimetype": "text/x-python",
   "name": "python",
   "nbconvert_exporter": "python",
   "pygments_lexer": "ipython3",
   "version": "3.12.8"
  }
 },
 "nbformat": 4,
 "nbformat_minor": 5
}
