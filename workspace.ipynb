{
 "cells": [
  {
   "cell_type": "markdown",
   "id": "7fcf37c1",
   "metadata": {},
   "source": [
    "# Titanic - Machine Learning from Disaster"
   ]
  },
  {
   "cell_type": "markdown",
   "id": "6b86fe7d",
   "metadata": {},
   "source": [
    "## Overview\n",
    "\n",
    "The sinking of the Titanic is one of the most infamous shipwrecks in history.\n",
    "\n",
    "On April 15, 1912, during her maiden voyage, the widely considered “unsinkable” RMS Titanic sank after colliding with an iceberg. Unfortunately, there weren’t enough lifeboats for everyone onboard, resulting in the death of 1502 out of 2224 passengers and crew.\n",
    "\n",
    "While there was some element of luck involved in surviving, it seems some groups of people were more likely to survive than others.\n",
    "\n",
    "In this challenge, the goal is to build a predictive model that answers the question: “what sorts of people were more likely to survive?” using passenger data (ie name, age, gender, socio-economic class, etc).\n",
    "\n",
    "### Problem Definition\n",
    "\n",
    "> what sorts of people were more likely to survive?\n",
    "\n",
    "### Data\n",
    "\n",
    "The data has been split into two groups:\n",
    "\n",
    "- training set (train.csv)\n",
    "- test set (test.csv)\n",
    "\n",
    "The training set was used to build the machine learning models. For the training set, it provides the outcome (also known as the “ground truth”) for each passenger. The model was based on “features” like passengers’ gender and class. \n",
    "\n",
    "The test set was used to see how well the model performed on unseen data. For each passenger in the test set, the model was trained to predict whether or not they survived the sinking of the Titanic.\n",
    "\n",
    "Also includes is the gender_submission.csv, a set of predictions that assume all and only female passengers survive, as an example of what the submission file should look like.\n",
    "\n",
    "For more details, checkout the [data dictionary](https://www.kaggle.com/competitions/titanic/data)\n",
    "\n",
    "### Evaluation\n",
    "\n",
    "> The score is the percentage of passengers the model correctly predicted. This is known as accuracy."
   ]
  },
  {
   "cell_type": "markdown",
   "id": "a6a5ac92",
   "metadata": {},
   "source": [
    "### Features\n",
    "#### Data Analysis EDA"
   ]
  },
  {
   "cell_type": "code",
   "execution_count": 83,
   "id": "c96c5484",
   "metadata": {},
   "outputs": [],
   "source": [
    "# import libraries\n",
    "import numpy as np\n",
    "import matplotlib.pyplot as plt \n",
    "import pandas as pd \n",
    "from sklearn.metrics import accuracy_score \n",
    "from sklearn.svm import LinearSVC \n",
    "from sklearn.ensemble import RandomForestClassifier \n",
    "from sklearn.metrics import classification_report\n",
    "from sklearn.model_selection import train_test_split, RandomizedSearchCV, GridSearchCV, cross_val_score, StratifiedKFold \n",
    "from sklearn.preprocessing import OneHotEncoder, StandardScaler \n",
    "import optuna as opt\n",
    "import xgboost as xgb\n",
    "import catboost as cat\n",
    "%matplotlib inline"
   ]
  },
  {
   "cell_type": "code",
   "execution_count": 2,
   "id": "6012417e",
   "metadata": {},
   "outputs": [
    {
     "data": {
      "text/html": [
       "<div>\n",
       "<style scoped>\n",
       "    .dataframe tbody tr th:only-of-type {\n",
       "        vertical-align: middle;\n",
       "    }\n",
       "\n",
       "    .dataframe tbody tr th {\n",
       "        vertical-align: top;\n",
       "    }\n",
       "\n",
       "    .dataframe thead th {\n",
       "        text-align: right;\n",
       "    }\n",
       "</style>\n",
       "<table border=\"1\" class=\"dataframe\">\n",
       "  <thead>\n",
       "    <tr style=\"text-align: right;\">\n",
       "      <th></th>\n",
       "      <th>PassengerId</th>\n",
       "      <th>Survived</th>\n",
       "      <th>Pclass</th>\n",
       "      <th>Name</th>\n",
       "      <th>Sex</th>\n",
       "      <th>Age</th>\n",
       "      <th>SibSp</th>\n",
       "      <th>Parch</th>\n",
       "      <th>Ticket</th>\n",
       "      <th>Fare</th>\n",
       "      <th>Cabin</th>\n",
       "      <th>Embarked</th>\n",
       "    </tr>\n",
       "  </thead>\n",
       "  <tbody>\n",
       "    <tr>\n",
       "      <th>34</th>\n",
       "      <td>35</td>\n",
       "      <td>0</td>\n",
       "      <td>1</td>\n",
       "      <td>Meyer, Mr. Edgar Joseph</td>\n",
       "      <td>male</td>\n",
       "      <td>28.0</td>\n",
       "      <td>1</td>\n",
       "      <td>0</td>\n",
       "      <td>PC 17604</td>\n",
       "      <td>82.1708</td>\n",
       "      <td>NaN</td>\n",
       "      <td>C</td>\n",
       "    </tr>\n",
       "    <tr>\n",
       "      <th>332</th>\n",
       "      <td>333</td>\n",
       "      <td>0</td>\n",
       "      <td>1</td>\n",
       "      <td>Graham, Mr. George Edward</td>\n",
       "      <td>male</td>\n",
       "      <td>38.0</td>\n",
       "      <td>0</td>\n",
       "      <td>1</td>\n",
       "      <td>PC 17582</td>\n",
       "      <td>153.4625</td>\n",
       "      <td>C91</td>\n",
       "      <td>S</td>\n",
       "    </tr>\n",
       "    <tr>\n",
       "      <th>13</th>\n",
       "      <td>14</td>\n",
       "      <td>0</td>\n",
       "      <td>3</td>\n",
       "      <td>Andersson, Mr. Anders Johan</td>\n",
       "      <td>male</td>\n",
       "      <td>39.0</td>\n",
       "      <td>1</td>\n",
       "      <td>5</td>\n",
       "      <td>347082</td>\n",
       "      <td>31.2750</td>\n",
       "      <td>NaN</td>\n",
       "      <td>S</td>\n",
       "    </tr>\n",
       "    <tr>\n",
       "      <th>146</th>\n",
       "      <td>147</td>\n",
       "      <td>1</td>\n",
       "      <td>3</td>\n",
       "      <td>Andersson, Mr. August Edvard (\"Wennerstrom\")</td>\n",
       "      <td>male</td>\n",
       "      <td>27.0</td>\n",
       "      <td>0</td>\n",
       "      <td>0</td>\n",
       "      <td>350043</td>\n",
       "      <td>7.7958</td>\n",
       "      <td>NaN</td>\n",
       "      <td>S</td>\n",
       "    </tr>\n",
       "    <tr>\n",
       "      <th>132</th>\n",
       "      <td>133</td>\n",
       "      <td>0</td>\n",
       "      <td>3</td>\n",
       "      <td>Robins, Mrs. Alexander A (Grace Charity Laury)</td>\n",
       "      <td>female</td>\n",
       "      <td>47.0</td>\n",
       "      <td>1</td>\n",
       "      <td>0</td>\n",
       "      <td>A/5. 3337</td>\n",
       "      <td>14.5000</td>\n",
       "      <td>NaN</td>\n",
       "      <td>S</td>\n",
       "    </tr>\n",
       "    <tr>\n",
       "      <th>...</th>\n",
       "      <td>...</td>\n",
       "      <td>...</td>\n",
       "      <td>...</td>\n",
       "      <td>...</td>\n",
       "      <td>...</td>\n",
       "      <td>...</td>\n",
       "      <td>...</td>\n",
       "      <td>...</td>\n",
       "      <td>...</td>\n",
       "      <td>...</td>\n",
       "      <td>...</td>\n",
       "      <td>...</td>\n",
       "    </tr>\n",
       "    <tr>\n",
       "      <th>620</th>\n",
       "      <td>621</td>\n",
       "      <td>0</td>\n",
       "      <td>3</td>\n",
       "      <td>Yasbeck, Mr. Antoni</td>\n",
       "      <td>male</td>\n",
       "      <td>27.0</td>\n",
       "      <td>1</td>\n",
       "      <td>0</td>\n",
       "      <td>2659</td>\n",
       "      <td>14.4542</td>\n",
       "      <td>NaN</td>\n",
       "      <td>C</td>\n",
       "    </tr>\n",
       "    <tr>\n",
       "      <th>550</th>\n",
       "      <td>551</td>\n",
       "      <td>1</td>\n",
       "      <td>1</td>\n",
       "      <td>Thayer, Mr. John Borland Jr</td>\n",
       "      <td>male</td>\n",
       "      <td>17.0</td>\n",
       "      <td>0</td>\n",
       "      <td>2</td>\n",
       "      <td>17421</td>\n",
       "      <td>110.8833</td>\n",
       "      <td>C70</td>\n",
       "      <td>C</td>\n",
       "    </tr>\n",
       "    <tr>\n",
       "      <th>267</th>\n",
       "      <td>268</td>\n",
       "      <td>1</td>\n",
       "      <td>3</td>\n",
       "      <td>Persson, Mr. Ernst Ulrik</td>\n",
       "      <td>male</td>\n",
       "      <td>25.0</td>\n",
       "      <td>1</td>\n",
       "      <td>0</td>\n",
       "      <td>347083</td>\n",
       "      <td>7.7750</td>\n",
       "      <td>NaN</td>\n",
       "      <td>S</td>\n",
       "    </tr>\n",
       "    <tr>\n",
       "      <th>356</th>\n",
       "      <td>357</td>\n",
       "      <td>1</td>\n",
       "      <td>1</td>\n",
       "      <td>Bowerman, Miss. Elsie Edith</td>\n",
       "      <td>female</td>\n",
       "      <td>22.0</td>\n",
       "      <td>0</td>\n",
       "      <td>1</td>\n",
       "      <td>113505</td>\n",
       "      <td>55.0000</td>\n",
       "      <td>E33</td>\n",
       "      <td>S</td>\n",
       "    </tr>\n",
       "    <tr>\n",
       "      <th>546</th>\n",
       "      <td>547</td>\n",
       "      <td>1</td>\n",
       "      <td>2</td>\n",
       "      <td>Beane, Mrs. Edward (Ethel Clarke)</td>\n",
       "      <td>female</td>\n",
       "      <td>19.0</td>\n",
       "      <td>1</td>\n",
       "      <td>0</td>\n",
       "      <td>2908</td>\n",
       "      <td>26.0000</td>\n",
       "      <td>NaN</td>\n",
       "      <td>S</td>\n",
       "    </tr>\n",
       "  </tbody>\n",
       "</table>\n",
       "<p>178 rows × 12 columns</p>\n",
       "</div>"
      ],
      "text/plain": [
       "     PassengerId  Survived  Pclass  \\\n",
       "34            35         0       1   \n",
       "332          333         0       1   \n",
       "13            14         0       3   \n",
       "146          147         1       3   \n",
       "132          133         0       3   \n",
       "..           ...       ...     ...   \n",
       "620          621         0       3   \n",
       "550          551         1       1   \n",
       "267          268         1       3   \n",
       "356          357         1       1   \n",
       "546          547         1       2   \n",
       "\n",
       "                                               Name     Sex   Age  SibSp  \\\n",
       "34                          Meyer, Mr. Edgar Joseph    male  28.0      1   \n",
       "332                       Graham, Mr. George Edward    male  38.0      0   \n",
       "13                      Andersson, Mr. Anders Johan    male  39.0      1   \n",
       "146    Andersson, Mr. August Edvard (\"Wennerstrom\")    male  27.0      0   \n",
       "132  Robins, Mrs. Alexander A (Grace Charity Laury)  female  47.0      1   \n",
       "..                                              ...     ...   ...    ...   \n",
       "620                             Yasbeck, Mr. Antoni    male  27.0      1   \n",
       "550                     Thayer, Mr. John Borland Jr    male  17.0      0   \n",
       "267                        Persson, Mr. Ernst Ulrik    male  25.0      1   \n",
       "356                     Bowerman, Miss. Elsie Edith  female  22.0      0   \n",
       "546               Beane, Mrs. Edward (Ethel Clarke)  female  19.0      1   \n",
       "\n",
       "     Parch     Ticket      Fare Cabin Embarked  \n",
       "34       0   PC 17604   82.1708   NaN        C  \n",
       "332      1   PC 17582  153.4625   C91        S  \n",
       "13       5     347082   31.2750   NaN        S  \n",
       "146      0     350043    7.7958   NaN        S  \n",
       "132      0  A/5. 3337   14.5000   NaN        S  \n",
       "..     ...        ...       ...   ...      ...  \n",
       "620      0       2659   14.4542   NaN        C  \n",
       "550      2      17421  110.8833   C70        C  \n",
       "267      0     347083    7.7750   NaN        S  \n",
       "356      1     113505   55.0000   E33        S  \n",
       "546      0       2908   26.0000   NaN        S  \n",
       "\n",
       "[178 rows x 12 columns]"
      ]
     },
     "execution_count": 2,
     "metadata": {},
     "output_type": "execute_result"
    }
   ],
   "source": [
    "# load data \n",
    "df = pd.read_csv('data/train.csv')\n",
    "df.sample(frac=.2)"
   ]
  },
  {
   "cell_type": "code",
   "execution_count": 3,
   "id": "d20bc6a4",
   "metadata": {},
   "outputs": [
    {
     "data": {
      "text/plain": [
       "(np.int64(891), 891)"
      ]
     },
     "execution_count": 3,
     "metadata": {},
     "output_type": "execute_result"
    }
   ],
   "source": [
    "# check that the `Passengerid` feature is unique for all samples\n",
    "df['PassengerId'].value_counts().sum() , df.shape[0]"
   ]
  },
  {
   "cell_type": "code",
   "execution_count": 4,
   "id": "4ab63a56",
   "metadata": {},
   "outputs": [
    {
     "name": "stdout",
     "output_type": "stream",
     "text": [
      "<class 'pandas.core.frame.DataFrame'>\n",
      "RangeIndex: 891 entries, 0 to 890\n",
      "Data columns (total 12 columns):\n",
      " #   Column       Non-Null Count  Dtype  \n",
      "---  ------       --------------  -----  \n",
      " 0   PassengerId  891 non-null    int64  \n",
      " 1   Survived     891 non-null    int64  \n",
      " 2   Pclass       891 non-null    int64  \n",
      " 3   Name         891 non-null    object \n",
      " 4   Sex          891 non-null    object \n",
      " 5   Age          714 non-null    float64\n",
      " 6   SibSp        891 non-null    int64  \n",
      " 7   Parch        891 non-null    int64  \n",
      " 8   Ticket       891 non-null    object \n",
      " 9   Fare         891 non-null    float64\n",
      " 10  Cabin        204 non-null    object \n",
      " 11  Embarked     889 non-null    object \n",
      "dtypes: float64(2), int64(5), object(5)\n",
      "memory usage: 83.7+ KB\n"
     ]
    }
   ],
   "source": [
    "# quick overview of the dataset\n",
    "df.info()"
   ]
  },
  {
   "cell_type": "markdown",
   "id": "a90d2534",
   "metadata": {},
   "source": [
    "Note: \n",
    "- There are 891 samples/rows and 12 columns/varibles (11 features, 1 label).\n",
    "- There are some non-numeric features.\n",
    "- Based on the total number of rows there are some missing values in some features like `Age`, `Cabin`..."
   ]
  },
  {
   "cell_type": "code",
   "execution_count": 5,
   "id": "72c0bb3e",
   "metadata": {},
   "outputs": [
    {
     "data": {
      "text/plain": [
       "(891, 12)"
      ]
     },
     "execution_count": 5,
     "metadata": {},
     "output_type": "execute_result"
    }
   ],
   "source": [
    "# check dimension of data\n",
    "df.shape "
   ]
  },
  {
   "cell_type": "code",
   "execution_count": 6,
   "id": "74a745c0",
   "metadata": {},
   "outputs": [
    {
     "data": {
      "text/plain": [
       "Survived\n",
       "0    549\n",
       "1    342\n",
       "Name: count, dtype: int64"
      ]
     },
     "execution_count": 6,
     "metadata": {},
     "output_type": "execute_result"
    }
   ],
   "source": [
    "# check that labels have only 2 unique values\n",
    "df.Survived.value_counts() "
   ]
  },
  {
   "cell_type": "code",
   "execution_count": 7,
   "id": "e39e56a7",
   "metadata": {},
   "outputs": [
    {
     "data": {
      "text/html": [
       "<div>\n",
       "<style scoped>\n",
       "    .dataframe tbody tr th:only-of-type {\n",
       "        vertical-align: middle;\n",
       "    }\n",
       "\n",
       "    .dataframe tbody tr th {\n",
       "        vertical-align: top;\n",
       "    }\n",
       "\n",
       "    .dataframe thead th {\n",
       "        text-align: right;\n",
       "    }\n",
       "</style>\n",
       "<table border=\"1\" class=\"dataframe\">\n",
       "  <thead>\n",
       "    <tr style=\"text-align: right;\">\n",
       "      <th></th>\n",
       "      <th>PassengerId</th>\n",
       "      <th>Survived</th>\n",
       "      <th>Pclass</th>\n",
       "      <th>Age</th>\n",
       "      <th>SibSp</th>\n",
       "      <th>Parch</th>\n",
       "      <th>Fare</th>\n",
       "    </tr>\n",
       "  </thead>\n",
       "  <tbody>\n",
       "    <tr>\n",
       "      <th>count</th>\n",
       "      <td>891.000000</td>\n",
       "      <td>891.000000</td>\n",
       "      <td>891.000000</td>\n",
       "      <td>714.000000</td>\n",
       "      <td>891.000000</td>\n",
       "      <td>891.000000</td>\n",
       "      <td>891.000000</td>\n",
       "    </tr>\n",
       "    <tr>\n",
       "      <th>mean</th>\n",
       "      <td>446.000000</td>\n",
       "      <td>0.383838</td>\n",
       "      <td>2.308642</td>\n",
       "      <td>29.699118</td>\n",
       "      <td>0.523008</td>\n",
       "      <td>0.381594</td>\n",
       "      <td>32.204208</td>\n",
       "    </tr>\n",
       "    <tr>\n",
       "      <th>std</th>\n",
       "      <td>257.353842</td>\n",
       "      <td>0.486592</td>\n",
       "      <td>0.836071</td>\n",
       "      <td>14.526497</td>\n",
       "      <td>1.102743</td>\n",
       "      <td>0.806057</td>\n",
       "      <td>49.693429</td>\n",
       "    </tr>\n",
       "    <tr>\n",
       "      <th>min</th>\n",
       "      <td>1.000000</td>\n",
       "      <td>0.000000</td>\n",
       "      <td>1.000000</td>\n",
       "      <td>0.420000</td>\n",
       "      <td>0.000000</td>\n",
       "      <td>0.000000</td>\n",
       "      <td>0.000000</td>\n",
       "    </tr>\n",
       "    <tr>\n",
       "      <th>25%</th>\n",
       "      <td>223.500000</td>\n",
       "      <td>0.000000</td>\n",
       "      <td>2.000000</td>\n",
       "      <td>20.125000</td>\n",
       "      <td>0.000000</td>\n",
       "      <td>0.000000</td>\n",
       "      <td>7.910400</td>\n",
       "    </tr>\n",
       "    <tr>\n",
       "      <th>50%</th>\n",
       "      <td>446.000000</td>\n",
       "      <td>0.000000</td>\n",
       "      <td>3.000000</td>\n",
       "      <td>28.000000</td>\n",
       "      <td>0.000000</td>\n",
       "      <td>0.000000</td>\n",
       "      <td>14.454200</td>\n",
       "    </tr>\n",
       "    <tr>\n",
       "      <th>75%</th>\n",
       "      <td>668.500000</td>\n",
       "      <td>1.000000</td>\n",
       "      <td>3.000000</td>\n",
       "      <td>38.000000</td>\n",
       "      <td>1.000000</td>\n",
       "      <td>0.000000</td>\n",
       "      <td>31.000000</td>\n",
       "    </tr>\n",
       "    <tr>\n",
       "      <th>max</th>\n",
       "      <td>891.000000</td>\n",
       "      <td>1.000000</td>\n",
       "      <td>3.000000</td>\n",
       "      <td>80.000000</td>\n",
       "      <td>8.000000</td>\n",
       "      <td>6.000000</td>\n",
       "      <td>512.329200</td>\n",
       "    </tr>\n",
       "  </tbody>\n",
       "</table>\n",
       "</div>"
      ],
      "text/plain": [
       "       PassengerId    Survived      Pclass         Age       SibSp  \\\n",
       "count   891.000000  891.000000  891.000000  714.000000  891.000000   \n",
       "mean    446.000000    0.383838    2.308642   29.699118    0.523008   \n",
       "std     257.353842    0.486592    0.836071   14.526497    1.102743   \n",
       "min       1.000000    0.000000    1.000000    0.420000    0.000000   \n",
       "25%     223.500000    0.000000    2.000000   20.125000    0.000000   \n",
       "50%     446.000000    0.000000    3.000000   28.000000    0.000000   \n",
       "75%     668.500000    1.000000    3.000000   38.000000    1.000000   \n",
       "max     891.000000    1.000000    3.000000   80.000000    8.000000   \n",
       "\n",
       "            Parch        Fare  \n",
       "count  891.000000  891.000000  \n",
       "mean     0.381594   32.204208  \n",
       "std      0.806057   49.693429  \n",
       "min      0.000000    0.000000  \n",
       "25%      0.000000    7.910400  \n",
       "50%      0.000000   14.454200  \n",
       "75%      0.000000   31.000000  \n",
       "max      6.000000  512.329200  "
      ]
     },
     "execution_count": 7,
     "metadata": {},
     "output_type": "execute_result"
    }
   ],
   "source": [
    "# quick descriptive statistics\n",
    "df.describe() "
   ]
  },
  {
   "cell_type": "markdown",
   "id": "4c857961",
   "metadata": {},
   "source": [
    "Note:\n",
    "- The majority of passengers came with at least one person (sibling, spouse, parent, or child)\n",
    "- There seem to be an outlier in the `Age` column - `0.42  `, need to visualize to comfirm. Might be an outlier, or a toddler i.e 42% of 12 (couple of months old).\n",
    "- Seems some person's did not pay for the fare, min value is `0` might be crew members, need to visualize.\n",
    "- Less passengers survived.\n",
    "- The majority of passengers bought 3rd class tickets. \n",
    "- The majority of passegers were young adults less than 40 years of age."
   ]
  },
  {
   "cell_type": "markdown",
   "id": "95c56973",
   "metadata": {},
   "source": [
    "### Data Visualization"
   ]
  },
  {
   "cell_type": "code",
   "execution_count": 8,
   "id": "1714260b",
   "metadata": {},
   "outputs": [
    {
     "data": {
      "text/html": [
       "<div>\n",
       "<style scoped>\n",
       "    .dataframe tbody tr th:only-of-type {\n",
       "        vertical-align: middle;\n",
       "    }\n",
       "\n",
       "    .dataframe tbody tr th {\n",
       "        vertical-align: top;\n",
       "    }\n",
       "\n",
       "    .dataframe thead th {\n",
       "        text-align: right;\n",
       "    }\n",
       "</style>\n",
       "<table border=\"1\" class=\"dataframe\">\n",
       "  <thead>\n",
       "    <tr style=\"text-align: right;\">\n",
       "      <th></th>\n",
       "      <th>PassengerId</th>\n",
       "      <th>Survived</th>\n",
       "      <th>Pclass</th>\n",
       "      <th>Name</th>\n",
       "      <th>Sex</th>\n",
       "      <th>Age</th>\n",
       "      <th>SibSp</th>\n",
       "      <th>Parch</th>\n",
       "      <th>Ticket</th>\n",
       "      <th>Fare</th>\n",
       "      <th>Cabin</th>\n",
       "      <th>Embarked</th>\n",
       "    </tr>\n",
       "  </thead>\n",
       "  <tbody>\n",
       "    <tr>\n",
       "      <th>0</th>\n",
       "      <td>1</td>\n",
       "      <td>0</td>\n",
       "      <td>3</td>\n",
       "      <td>Braund, Mr. Owen Harris</td>\n",
       "      <td>male</td>\n",
       "      <td>22.0</td>\n",
       "      <td>1</td>\n",
       "      <td>0</td>\n",
       "      <td>A/5 21171</td>\n",
       "      <td>7.2500</td>\n",
       "      <td>NaN</td>\n",
       "      <td>S</td>\n",
       "    </tr>\n",
       "    <tr>\n",
       "      <th>1</th>\n",
       "      <td>2</td>\n",
       "      <td>1</td>\n",
       "      <td>1</td>\n",
       "      <td>Cumings, Mrs. John Bradley (Florence Briggs Th...</td>\n",
       "      <td>female</td>\n",
       "      <td>38.0</td>\n",
       "      <td>1</td>\n",
       "      <td>0</td>\n",
       "      <td>PC 17599</td>\n",
       "      <td>71.2833</td>\n",
       "      <td>C85</td>\n",
       "      <td>C</td>\n",
       "    </tr>\n",
       "  </tbody>\n",
       "</table>\n",
       "</div>"
      ],
      "text/plain": [
       "   PassengerId  Survived  Pclass  \\\n",
       "0            1         0       3   \n",
       "1            2         1       1   \n",
       "\n",
       "                                                Name     Sex   Age  SibSp  \\\n",
       "0                            Braund, Mr. Owen Harris    male  22.0      1   \n",
       "1  Cumings, Mrs. John Bradley (Florence Briggs Th...  female  38.0      1   \n",
       "\n",
       "   Parch     Ticket     Fare Cabin Embarked  \n",
       "0      0  A/5 21171   7.2500   NaN        S  \n",
       "1      0   PC 17599  71.2833   C85        C  "
      ]
     },
     "execution_count": 8,
     "metadata": {},
     "output_type": "execute_result"
    }
   ],
   "source": [
    "df.head(2)"
   ]
  },
  {
   "cell_type": "code",
   "execution_count": 9,
   "id": "ab75028c",
   "metadata": {},
   "outputs": [
    {
     "data": {
      "text/plain": [
       "Index(['PassengerId', 'Survived', 'Pclass', 'Name', 'Sex', 'Age', 'SibSp',\n",
       "       'Parch', 'Ticket', 'Fare', 'Cabin', 'Embarked'],\n",
       "      dtype='object')"
      ]
     },
     "execution_count": 9,
     "metadata": {},
     "output_type": "execute_result"
    }
   ],
   "source": [
    "df.columns"
   ]
  },
  {
   "cell_type": "code",
   "execution_count": 10,
   "id": "795c8068",
   "metadata": {},
   "outputs": [
    {
     "data": {
      "image/png": "[encoded data removed]",
      "text/plain": [
       "<Figure size 640x480 with 1 Axes>"
      ]
     },
     "metadata": {},
     "output_type": "display_data"
    }
   ],
   "source": [
    "# check the number of survivors with respect to gender \n",
    "fig, ax = plt.subplots()\n",
    "ax.bar(df.Sex.unique(), df.Survived.value_counts(), label='Survived');\n",
    "ax.set(xlabel='Gender',\n",
    "       ylabel='Number of Survivors',\n",
    "       title=\"Male vs Female survivors\")\n",
    "ax.legend();\n"
   ]
  },
  {
   "cell_type": "code",
   "execution_count": 11,
   "id": "f7bd2bc3",
   "metadata": {},
   "outputs": [
    {
     "data": {
      "text/html": [
       "<div>\n",
       "<style scoped>\n",
       "    .dataframe tbody tr th:only-of-type {\n",
       "        vertical-align: middle;\n",
       "    }\n",
       "\n",
       "    .dataframe tbody tr th {\n",
       "        vertical-align: top;\n",
       "    }\n",
       "\n",
       "    .dataframe thead th {\n",
       "        text-align: right;\n",
       "    }\n",
       "</style>\n",
       "<table border=\"1\" class=\"dataframe\">\n",
       "  <thead>\n",
       "    <tr style=\"text-align: right;\">\n",
       "      <th></th>\n",
       "      <th>PassengerId</th>\n",
       "      <th>Survived</th>\n",
       "      <th>Pclass</th>\n",
       "      <th>Name</th>\n",
       "      <th>Sex</th>\n",
       "      <th>Age</th>\n",
       "      <th>SibSp</th>\n",
       "      <th>Parch</th>\n",
       "      <th>Ticket</th>\n",
       "      <th>Fare</th>\n",
       "      <th>Cabin</th>\n",
       "      <th>Embarked</th>\n",
       "    </tr>\n",
       "  </thead>\n",
       "  <tbody>\n",
       "    <tr>\n",
       "      <th>0</th>\n",
       "      <td>1</td>\n",
       "      <td>0</td>\n",
       "      <td>3</td>\n",
       "      <td>Braund, Mr. Owen Harris</td>\n",
       "      <td>male</td>\n",
       "      <td>22.0</td>\n",
       "      <td>1</td>\n",
       "      <td>0</td>\n",
       "      <td>A/5 21171</td>\n",
       "      <td>7.2500</td>\n",
       "      <td>NaN</td>\n",
       "      <td>S</td>\n",
       "    </tr>\n",
       "    <tr>\n",
       "      <th>1</th>\n",
       "      <td>2</td>\n",
       "      <td>1</td>\n",
       "      <td>1</td>\n",
       "      <td>Cumings, Mrs. John Bradley (Florence Briggs Th...</td>\n",
       "      <td>female</td>\n",
       "      <td>38.0</td>\n",
       "      <td>1</td>\n",
       "      <td>0</td>\n",
       "      <td>PC 17599</td>\n",
       "      <td>71.2833</td>\n",
       "      <td>C85</td>\n",
       "      <td>C</td>\n",
       "    </tr>\n",
       "  </tbody>\n",
       "</table>\n",
       "</div>"
      ],
      "text/plain": [
       "   PassengerId  Survived  Pclass  \\\n",
       "0            1         0       3   \n",
       "1            2         1       1   \n",
       "\n",
       "                                                Name     Sex   Age  SibSp  \\\n",
       "0                            Braund, Mr. Owen Harris    male  22.0      1   \n",
       "1  Cumings, Mrs. John Bradley (Florence Briggs Th...  female  38.0      1   \n",
       "\n",
       "   Parch     Ticket     Fare Cabin Embarked  \n",
       "0      0  A/5 21171   7.2500   NaN        S  \n",
       "1      0   PC 17599  71.2833   C85        C  "
      ]
     },
     "execution_count": 11,
     "metadata": {},
     "output_type": "execute_result"
    }
   ],
   "source": [
    "df.head(2)"
   ]
  },
  {
   "cell_type": "code",
   "execution_count": 12,
   "id": "3f030dd9",
   "metadata": {},
   "outputs": [
    {
     "data": {
      "image/png": "[encoded data removed]",
      "text/plain": [
       "<Figure size 2000x1500 with 4 Axes>"
      ]
     },
     "metadata": {},
     "output_type": "display_data"
    }
   ],
   "source": [
    "# age distribution, fare distribution, scatter plot between age and survival, gender and survival\n",
    "fig, ((ax1, ax2), (ax3, ax4)) = plt.subplots(nrows=2, ncols=2, figsize=(20,15))\n",
    "ax1.hist(df.Age, bins=50)\n",
    "ax2.hist(df.Fare, bins=20)\n",
    "ax3.scatter(df.Age, df.Survived)\n",
    "ax4.scatter(df.Sex, df.Survived)\n",
    "\n",
    "ax1.set(title='Age distribution',\n",
    "        xlabel='Age',\n",
    "        ylabel='Frequency')\n",
    "\n",
    "ax2.set(title='Fare distribution',\n",
    "        xlabel='Fare',\n",
    "        ylabel='Frequency')\n",
    "\n",
    "ax3.set(title='Age v. Survived',\n",
    "        xlabel='Age',\n",
    "        ylabel='Survived')\n",
    "\n",
    "ax4.set(title='Gender v. Survived',\n",
    "        xlabel='Gender',\n",
    "        ylabel='Survived');\n"
   ]
  },
  {
   "cell_type": "code",
   "execution_count": 13,
   "id": "d41e33c4",
   "metadata": {},
   "outputs": [
    {
     "data": {
      "text/html": [
       "<div>\n",
       "<style scoped>\n",
       "    .dataframe tbody tr th:only-of-type {\n",
       "        vertical-align: middle;\n",
       "    }\n",
       "\n",
       "    .dataframe tbody tr th {\n",
       "        vertical-align: top;\n",
       "    }\n",
       "\n",
       "    .dataframe thead th {\n",
       "        text-align: right;\n",
       "    }\n",
       "</style>\n",
       "<table border=\"1\" class=\"dataframe\">\n",
       "  <thead>\n",
       "    <tr style=\"text-align: right;\">\n",
       "      <th>count</th>\n",
       "      <th>342</th>\n",
       "      <th>549</th>\n",
       "    </tr>\n",
       "    <tr>\n",
       "      <th>Sex</th>\n",
       "      <th></th>\n",
       "      <th></th>\n",
       "    </tr>\n",
       "  </thead>\n",
       "  <tbody>\n",
       "    <tr>\n",
       "      <th>female</th>\n",
       "      <td>1</td>\n",
       "      <td>0</td>\n",
       "    </tr>\n",
       "    <tr>\n",
       "      <th>male</th>\n",
       "      <td>0</td>\n",
       "      <td>1</td>\n",
       "    </tr>\n",
       "  </tbody>\n",
       "</table>\n",
       "</div>"
      ],
      "text/plain": [
       "count   342  549\n",
       "Sex             \n",
       "female    1    0\n",
       "male      0    1"
      ]
     },
     "execution_count": 13,
     "metadata": {},
     "output_type": "execute_result"
    }
   ],
   "source": [
    "pd.crosstab(df.Sex, df.Survived.value_counts())"
   ]
  },
  {
   "cell_type": "markdown",
   "id": "056f31e2",
   "metadata": {},
   "source": [
    "## Modelling"
   ]
  },
  {
   "cell_type": "code",
   "execution_count": 14,
   "id": "048fa721",
   "metadata": {},
   "outputs": [
    {
     "data": {
      "text/html": [
       "<div>\n",
       "<style scoped>\n",
       "    .dataframe tbody tr th:only-of-type {\n",
       "        vertical-align: middle;\n",
       "    }\n",
       "\n",
       "    .dataframe tbody tr th {\n",
       "        vertical-align: top;\n",
       "    }\n",
       "\n",
       "    .dataframe thead th {\n",
       "        text-align: right;\n",
       "    }\n",
       "</style>\n",
       "<table border=\"1\" class=\"dataframe\">\n",
       "  <thead>\n",
       "    <tr style=\"text-align: right;\">\n",
       "      <th></th>\n",
       "      <th>PassengerId</th>\n",
       "      <th>Survived</th>\n",
       "      <th>Pclass</th>\n",
       "      <th>Name</th>\n",
       "      <th>Sex</th>\n",
       "      <th>Age</th>\n",
       "      <th>SibSp</th>\n",
       "      <th>Parch</th>\n",
       "      <th>Ticket</th>\n",
       "      <th>Fare</th>\n",
       "      <th>Cabin</th>\n",
       "      <th>Embarked</th>\n",
       "    </tr>\n",
       "  </thead>\n",
       "  <tbody>\n",
       "    <tr>\n",
       "      <th>0</th>\n",
       "      <td>1</td>\n",
       "      <td>0</td>\n",
       "      <td>3</td>\n",
       "      <td>Braund, Mr. Owen Harris</td>\n",
       "      <td>male</td>\n",
       "      <td>22.0</td>\n",
       "      <td>1</td>\n",
       "      <td>0</td>\n",
       "      <td>A/5 21171</td>\n",
       "      <td>7.2500</td>\n",
       "      <td>NaN</td>\n",
       "      <td>S</td>\n",
       "    </tr>\n",
       "    <tr>\n",
       "      <th>1</th>\n",
       "      <td>2</td>\n",
       "      <td>1</td>\n",
       "      <td>1</td>\n",
       "      <td>Cumings, Mrs. John Bradley (Florence Briggs Th...</td>\n",
       "      <td>female</td>\n",
       "      <td>38.0</td>\n",
       "      <td>1</td>\n",
       "      <td>0</td>\n",
       "      <td>PC 17599</td>\n",
       "      <td>71.2833</td>\n",
       "      <td>C85</td>\n",
       "      <td>C</td>\n",
       "    </tr>\n",
       "    <tr>\n",
       "      <th>2</th>\n",
       "      <td>3</td>\n",
       "      <td>1</td>\n",
       "      <td>3</td>\n",
       "      <td>Heikkinen, Miss. Laina</td>\n",
       "      <td>female</td>\n",
       "      <td>26.0</td>\n",
       "      <td>0</td>\n",
       "      <td>0</td>\n",
       "      <td>STON/O2. 3101282</td>\n",
       "      <td>7.9250</td>\n",
       "      <td>NaN</td>\n",
       "      <td>S</td>\n",
       "    </tr>\n",
       "    <tr>\n",
       "      <th>3</th>\n",
       "      <td>4</td>\n",
       "      <td>1</td>\n",
       "      <td>1</td>\n",
       "      <td>Futrelle, Mrs. Jacques Heath (Lily May Peel)</td>\n",
       "      <td>female</td>\n",
       "      <td>35.0</td>\n",
       "      <td>1</td>\n",
       "      <td>0</td>\n",
       "      <td>113803</td>\n",
       "      <td>53.1000</td>\n",
       "      <td>C123</td>\n",
       "      <td>S</td>\n",
       "    </tr>\n",
       "    <tr>\n",
       "      <th>4</th>\n",
       "      <td>5</td>\n",
       "      <td>0</td>\n",
       "      <td>3</td>\n",
       "      <td>Allen, Mr. William Henry</td>\n",
       "      <td>male</td>\n",
       "      <td>35.0</td>\n",
       "      <td>0</td>\n",
       "      <td>0</td>\n",
       "      <td>373450</td>\n",
       "      <td>8.0500</td>\n",
       "      <td>NaN</td>\n",
       "      <td>S</td>\n",
       "    </tr>\n",
       "  </tbody>\n",
       "</table>\n",
       "</div>"
      ],
      "text/plain": [
       "   PassengerId  Survived  Pclass  \\\n",
       "0            1         0       3   \n",
       "1            2         1       1   \n",
       "2            3         1       3   \n",
       "3            4         1       1   \n",
       "4            5         0       3   \n",
       "\n",
       "                                                Name     Sex   Age  SibSp  \\\n",
       "0                            Braund, Mr. Owen Harris    male  22.0      1   \n",
       "1  Cumings, Mrs. John Bradley (Florence Briggs Th...  female  38.0      1   \n",
       "2                             Heikkinen, Miss. Laina  female  26.0      0   \n",
       "3       Futrelle, Mrs. Jacques Heath (Lily May Peel)  female  35.0      1   \n",
       "4                           Allen, Mr. William Henry    male  35.0      0   \n",
       "\n",
       "   Parch            Ticket     Fare Cabin Embarked  \n",
       "0      0         A/5 21171   7.2500   NaN        S  \n",
       "1      0          PC 17599  71.2833   C85        C  \n",
       "2      0  STON/O2. 3101282   7.9250   NaN        S  \n",
       "3      0            113803  53.1000  C123        S  \n",
       "4      0            373450   8.0500   NaN        S  "
      ]
     },
     "execution_count": 14,
     "metadata": {},
     "output_type": "execute_result"
    }
   ],
   "source": [
    "# duplicate df\n",
    "df_mod = df.copy() \n",
    "df_mod.head()"
   ]
  },
  {
   "cell_type": "markdown",
   "id": "448efead",
   "metadata": {},
   "source": [
    "### Data Modelling EDA:  Preprocessing"
   ]
  },
  {
   "cell_type": "code",
   "execution_count": 15,
   "id": "f7ee1d6b",
   "metadata": {},
   "outputs": [
    {
     "data": {
      "text/plain": [
       "PassengerId      0\n",
       "Survived         0\n",
       "Pclass           0\n",
       "Name             0\n",
       "Sex              0\n",
       "Age            177\n",
       "SibSp            0\n",
       "Parch            0\n",
       "Ticket           0\n",
       "Fare             0\n",
       "Cabin          687\n",
       "Embarked         2\n",
       "dtype: int64"
      ]
     },
     "execution_count": 15,
     "metadata": {},
     "output_type": "execute_result"
    }
   ],
   "source": [
    "# re-confirm if there are missing values in the dataset\n",
    "df_mod.isna().sum() "
   ]
  },
  {
   "cell_type": "code",
   "execution_count": 16,
   "id": "dc34ded8",
   "metadata": {},
   "outputs": [
    {
     "name": "stdout",
     "output_type": "stream",
     "text": [
      "Age\n",
      "Cabin\n",
      "Embarked\n"
     ]
    }
   ],
   "source": [
    "for label,content in df_mod.items():\n",
    "    if content.isna().sum():\n",
    "        print(label)"
   ]
  },
  {
   "cell_type": "markdown",
   "id": "1d0818c7",
   "metadata": {},
   "source": [
    "There are missing values in 3 features"
   ]
  },
  {
   "cell_type": "markdown",
   "id": "7b96fdff",
   "metadata": {},
   "source": [
    "#### Address missing values"
   ]
  },
  {
   "cell_type": "code",
   "execution_count": 17,
   "id": "9a32c6fc",
   "metadata": {},
   "outputs": [
    {
     "data": {
      "text/html": [
       "<div>\n",
       "<style scoped>\n",
       "    .dataframe tbody tr th:only-of-type {\n",
       "        vertical-align: middle;\n",
       "    }\n",
       "\n",
       "    .dataframe tbody tr th {\n",
       "        vertical-align: top;\n",
       "    }\n",
       "\n",
       "    .dataframe thead th {\n",
       "        text-align: right;\n",
       "    }\n",
       "</style>\n",
       "<table border=\"1\" class=\"dataframe\">\n",
       "  <thead>\n",
       "    <tr style=\"text-align: right;\">\n",
       "      <th></th>\n",
       "      <th>PassengerId</th>\n",
       "      <th>Survived</th>\n",
       "      <th>Pclass</th>\n",
       "      <th>Name</th>\n",
       "      <th>Sex</th>\n",
       "      <th>Age</th>\n",
       "      <th>SibSp</th>\n",
       "      <th>Parch</th>\n",
       "      <th>Ticket</th>\n",
       "      <th>Fare</th>\n",
       "      <th>Cabin</th>\n",
       "      <th>Embarked</th>\n",
       "    </tr>\n",
       "  </thead>\n",
       "  <tbody>\n",
       "    <tr>\n",
       "      <th>0</th>\n",
       "      <td>1</td>\n",
       "      <td>0</td>\n",
       "      <td>3</td>\n",
       "      <td>Braund, Mr. Owen Harris</td>\n",
       "      <td>male</td>\n",
       "      <td>22.0</td>\n",
       "      <td>1</td>\n",
       "      <td>0</td>\n",
       "      <td>A/5 21171</td>\n",
       "      <td>7.2500</td>\n",
       "      <td>NaN</td>\n",
       "      <td>S</td>\n",
       "    </tr>\n",
       "    <tr>\n",
       "      <th>1</th>\n",
       "      <td>2</td>\n",
       "      <td>1</td>\n",
       "      <td>1</td>\n",
       "      <td>Cumings, Mrs. John Bradley (Florence Briggs Th...</td>\n",
       "      <td>female</td>\n",
       "      <td>38.0</td>\n",
       "      <td>1</td>\n",
       "      <td>0</td>\n",
       "      <td>PC 17599</td>\n",
       "      <td>71.2833</td>\n",
       "      <td>C85</td>\n",
       "      <td>C</td>\n",
       "    </tr>\n",
       "  </tbody>\n",
       "</table>\n",
       "</div>"
      ],
      "text/plain": [
       "   PassengerId  Survived  Pclass  \\\n",
       "0            1         0       3   \n",
       "1            2         1       1   \n",
       "\n",
       "                                                Name     Sex   Age  SibSp  \\\n",
       "0                            Braund, Mr. Owen Harris    male  22.0      1   \n",
       "1  Cumings, Mrs. John Bradley (Florence Briggs Th...  female  38.0      1   \n",
       "\n",
       "   Parch     Ticket     Fare Cabin Embarked  \n",
       "0      0  A/5 21171   7.2500   NaN        S  \n",
       "1      0   PC 17599  71.2833   C85        C  "
      ]
     },
     "execution_count": 17,
     "metadata": {},
     "output_type": "execute_result"
    }
   ],
   "source": [
    "df_mod.head(2)"
   ]
  },
  {
   "cell_type": "code",
   "execution_count": 18,
   "id": "3d6f8bad",
   "metadata": {},
   "outputs": [
    {
     "data": {
      "text/plain": [
       "np.float64(10056.312600000001)"
      ]
     },
     "execution_count": 18,
     "metadata": {},
     "output_type": "execute_result"
    }
   ],
   "source": [
    "df_mod.Fare.unique().sum()"
   ]
  },
  {
   "cell_type": "code",
   "execution_count": 19,
   "id": "19eae01e",
   "metadata": {},
   "outputs": [
    {
     "data": {
      "text/plain": [
       "(np.int64(177), 891)"
      ]
     },
     "execution_count": 19,
     "metadata": {},
     "output_type": "execute_result"
    }
   ],
   "source": [
    "df_mod.Age.isna().sum(), len(df_mod)"
   ]
  },
  {
   "cell_type": "markdown",
   "id": "65e6f491",
   "metadata": {},
   "source": [
    "Missing values will be filled accordingly:\n",
    "- Age: Median and indicator column \n",
    "- Cabin: 'Missing' and indicator column\n",
    "- Embarked: 'M' and indicator column "
   ]
  },
  {
   "cell_type": "code",
   "execution_count": 20,
   "id": "a914c7d9",
   "metadata": {},
   "outputs": [],
   "source": [
    "# fix all missing values\n",
    "for label,content in df_mod.items():\n",
    "    if (label=='Age'):\n",
    "         if pd.isna(content).sum():\n",
    "                df_mod[label + '_is_missing'] = pd.isna(content)\n",
    "                df_mod[label] = content.fillna(content.median())\n",
    "    elif (label=='Cabin'):\n",
    "         if pd.isna(content).sum():\n",
    "              df_mod[label + '_is_missing'] = pd.isna(content)\n",
    "              df_mod[label] = content.fillna('Missing')\n",
    "    elif (label=='Embarked'):\n",
    "         if pd.isna(content).sum():\n",
    "              df_mod[label + '_is_missing'] = pd.isna(content)\n",
    "              df_mod[label] = content.fillna('M') "
   ]
  },
  {
   "cell_type": "code",
   "execution_count": 21,
   "id": "e7484029",
   "metadata": {},
   "outputs": [
    {
     "data": {
      "text/plain": [
       "PassengerId            0\n",
       "Survived               0\n",
       "Pclass                 0\n",
       "Name                   0\n",
       "Sex                    0\n",
       "Age                    0\n",
       "SibSp                  0\n",
       "Parch                  0\n",
       "Ticket                 0\n",
       "Fare                   0\n",
       "Cabin                  0\n",
       "Embarked               0\n",
       "Age_is_missing         0\n",
       "Cabin_is_missing       0\n",
       "Embarked_is_missing    0\n",
       "dtype: int64"
      ]
     },
     "execution_count": 21,
     "metadata": {},
     "output_type": "execute_result"
    }
   ],
   "source": [
    "df_mod.isna().sum()"
   ]
  },
  {
   "cell_type": "code",
   "execution_count": 22,
   "id": "117fe4d8",
   "metadata": {},
   "outputs": [
    {
     "data": {
      "text/plain": [
       "(Age_is_missing\n",
       " False    714\n",
       " True     177\n",
       " Name: count, dtype: int64,\n",
       " Cabin_is_missing\n",
       " True     687\n",
       " False    204\n",
       " Name: count, dtype: int64,\n",
       " Embarked_is_missing\n",
       " False    889\n",
       " True       2\n",
       " Name: count, dtype: int64)"
      ]
     },
     "execution_count": 22,
     "metadata": {},
     "output_type": "execute_result"
    }
   ],
   "source": [
    "df_mod.Age_is_missing.value_counts(), df_mod.Cabin_is_missing.value_counts(), df_mod.Embarked_is_missing.value_counts()"
   ]
  },
  {
   "cell_type": "markdown",
   "id": "52caeae5",
   "metadata": {},
   "source": [
    "Missing values fixed"
   ]
  },
  {
   "cell_type": "markdown",
   "id": "f9a2ba27",
   "metadata": {},
   "source": [
    "#### Address Non-numerical data/values"
   ]
  },
  {
   "cell_type": "code",
   "execution_count": 23,
   "id": "86a582cb",
   "metadata": {},
   "outputs": [
    {
     "name": "stdout",
     "output_type": "stream",
     "text": [
      "Name\n",
      "Sex\n",
      "Ticket\n",
      "Cabin\n",
      "Embarked\n"
     ]
    }
   ],
   "source": [
    "# re-confirm if there are non-numerical data in the dataset \n",
    "for label,content in df_mod.items():\n",
    "    if not pd.api.types.is_numeric_dtype(content):\n",
    "        print(label)"
   ]
  },
  {
   "cell_type": "code",
   "execution_count": 24,
   "id": "145d3f1d",
   "metadata": {},
   "outputs": [
    {
     "data": {
      "text/plain": [
       "891"
      ]
     },
     "execution_count": 24,
     "metadata": {},
     "output_type": "execute_result"
    }
   ],
   "source": [
    "len(df_mod.Name.unique())"
   ]
  },
  {
   "cell_type": "code",
   "execution_count": 25,
   "id": "377bf95e",
   "metadata": {},
   "outputs": [
    {
     "data": {
      "text/plain": [
       "PassengerId              int64\n",
       "Survived                 int64\n",
       "Pclass                   int64\n",
       "Name                    object\n",
       "Sex                     object\n",
       "Age                    float64\n",
       "SibSp                    int64\n",
       "Parch                    int64\n",
       "Ticket                  object\n",
       "Fare                   float64\n",
       "Cabin                   object\n",
       "Embarked                object\n",
       "Age_is_missing            bool\n",
       "Cabin_is_missing          bool\n",
       "Embarked_is_missing       bool\n",
       "dtype: object"
      ]
     },
     "execution_count": 25,
     "metadata": {},
     "output_type": "execute_result"
    }
   ],
   "source": [
    "df_mod.dtypes "
   ]
  },
  {
   "cell_type": "markdown",
   "id": "90ef56cd",
   "metadata": {},
   "source": [
    "There are 5 features [Name, Sex, Ticket, Cabin, Embarked] that are non-numeric"
   ]
  },
  {
   "cell_type": "code",
   "execution_count": 26,
   "id": "88696703",
   "metadata": {},
   "outputs": [
    {
     "data": {
      "text/html": [
       "<div>\n",
       "<style scoped>\n",
       "    .dataframe tbody tr th:only-of-type {\n",
       "        vertical-align: middle;\n",
       "    }\n",
       "\n",
       "    .dataframe tbody tr th {\n",
       "        vertical-align: top;\n",
       "    }\n",
       "\n",
       "    .dataframe thead th {\n",
       "        text-align: right;\n",
       "    }\n",
       "</style>\n",
       "<table border=\"1\" class=\"dataframe\">\n",
       "  <thead>\n",
       "    <tr style=\"text-align: right;\">\n",
       "      <th></th>\n",
       "      <th>PassengerId</th>\n",
       "      <th>Survived</th>\n",
       "      <th>Pclass</th>\n",
       "      <th>Name</th>\n",
       "      <th>Sex</th>\n",
       "      <th>Age</th>\n",
       "      <th>SibSp</th>\n",
       "      <th>Parch</th>\n",
       "      <th>Ticket</th>\n",
       "      <th>Fare</th>\n",
       "      <th>Cabin</th>\n",
       "      <th>Embarked</th>\n",
       "      <th>Age_is_missing</th>\n",
       "      <th>Cabin_is_missing</th>\n",
       "      <th>Embarked_is_missing</th>\n",
       "    </tr>\n",
       "  </thead>\n",
       "  <tbody>\n",
       "    <tr>\n",
       "      <th>0</th>\n",
       "      <td>1</td>\n",
       "      <td>0</td>\n",
       "      <td>3</td>\n",
       "      <td>Braund, Mr. Owen Harris</td>\n",
       "      <td>male</td>\n",
       "      <td>22.0</td>\n",
       "      <td>1</td>\n",
       "      <td>0</td>\n",
       "      <td>A/5 21171</td>\n",
       "      <td>7.2500</td>\n",
       "      <td>Missing</td>\n",
       "      <td>S</td>\n",
       "      <td>False</td>\n",
       "      <td>True</td>\n",
       "      <td>False</td>\n",
       "    </tr>\n",
       "    <tr>\n",
       "      <th>1</th>\n",
       "      <td>2</td>\n",
       "      <td>1</td>\n",
       "      <td>1</td>\n",
       "      <td>Cumings, Mrs. John Bradley (Florence Briggs Th...</td>\n",
       "      <td>female</td>\n",
       "      <td>38.0</td>\n",
       "      <td>1</td>\n",
       "      <td>0</td>\n",
       "      <td>PC 17599</td>\n",
       "      <td>71.2833</td>\n",
       "      <td>C85</td>\n",
       "      <td>C</td>\n",
       "      <td>False</td>\n",
       "      <td>False</td>\n",
       "      <td>False</td>\n",
       "    </tr>\n",
       "  </tbody>\n",
       "</table>\n",
       "</div>"
      ],
      "text/plain": [
       "   PassengerId  Survived  Pclass  \\\n",
       "0            1         0       3   \n",
       "1            2         1       1   \n",
       "\n",
       "                                                Name     Sex   Age  SibSp  \\\n",
       "0                            Braund, Mr. Owen Harris    male  22.0      1   \n",
       "1  Cumings, Mrs. John Bradley (Florence Briggs Th...  female  38.0      1   \n",
       "\n",
       "   Parch     Ticket     Fare    Cabin Embarked  Age_is_missing  \\\n",
       "0      0  A/5 21171   7.2500  Missing        S           False   \n",
       "1      0   PC 17599  71.2833      C85        C           False   \n",
       "\n",
       "   Cabin_is_missing  Embarked_is_missing  \n",
       "0              True                False  \n",
       "1             False                False  "
      ]
     },
     "execution_count": 26,
     "metadata": {},
     "output_type": "execute_result"
    }
   ],
   "source": [
    "df_mod.head(2)"
   ]
  },
  {
   "cell_type": "code",
   "execution_count": 27,
   "id": "7d3c0990",
   "metadata": {},
   "outputs": [
    {
     "name": "stdout",
     "output_type": "stream",
     "text": [
      "Name\n",
      "Sex\n",
      "Ticket\n",
      "Cabin\n",
      "Embarked\n"
     ]
    }
   ],
   "source": [
    "# re-confirm if there are non-numerical data in the dataset \n",
    "for label,content in df_mod.items():\n",
    "    if not pd.api.types.is_numeric_dtype(content):\n",
    "        print(label)"
   ]
  },
  {
   "cell_type": "markdown",
   "id": "4219088d",
   "metadata": {},
   "source": [
    "Steps to converting non-numerical values to numerical\n",
    "- `Name`: Extract regular titles, store irregular titles as `other` and put under a column called 'Titles`, then drop the `Name` column - Feature Engineering.\n",
    "- `Sex`and `Embarked`: convert using pd.get_dummies\n",
    "- `Cabin`: Create `Deck` feature for decks to avoid high-cardinality, then drop column - Feature Engineering.\n",
    "- `Ticket`: Convert using Categorical method"
   ]
  },
  {
   "cell_type": "markdown",
   "id": "15a4cabb",
   "metadata": {},
   "source": [
    "#### `Name` (Feature engineering)"
   ]
  },
  {
   "cell_type": "code",
   "execution_count": 28,
   "id": "491dfa97",
   "metadata": {},
   "outputs": [
    {
     "data": {
      "text/plain": [
       "array(['Sage, Miss. Dorothy Edith \"Dolly\"', 'Hodges, Mr. Henry Price',\n",
       "       'Abelson, Mr. Samuel', 'Skoog, Master. Harald',\n",
       "       'Rugg, Miss. Emily', 'Norman, Mr. Robert Douglas',\n",
       "       'Mellinger, Mrs. (Elizabeth Anne Maidment)',\n",
       "       'Elsbury, Mr. William James', 'Panula, Master. Urho Abraham',\n",
       "       'Astor, Mrs. John Jacob (Madeleine Talmadge Force)',\n",
       "       'Cairns, Mr. Alexander', 'Jensen, Mr. Svend Lauritz',\n",
       "       'Doling, Mrs. John T (Ada Julia Bone)', 'Willey, Mr. Edward',\n",
       "       'Petroff, Mr. Nedelio', 'Blank, Mr. Henry', \"O'Brien, Mr. Timothy\",\n",
       "       'Barbara, Miss. Saiide', 'Ball, Mrs. (Ada E Hall)',\n",
       "       'Dooley, Mr. Patrick', 'Andersson, Master. Sigvard Harald Elias',\n",
       "       'Anderson, Mr. Harry', 'Shutes, Miss. Elizabeth W',\n",
       "       'Jensen, Mr. Niels Peder', 'Hoyt, Mr. William Fisher',\n",
       "       'Ali, Mr. William', 'Frost, Mr. Anthony Wood \"Archie\"',\n",
       "       'Sloper, Mr. William Thompson', 'Smiljanic, Mr. Mile',\n",
       "       'Pain, Dr. Alfred',\n",
       "       'O\\'Brien, Mrs. Thomas (Johanna \"Hannah\" Godfrey)',\n",
       "       'Ridsdale, Miss. Lucy', 'Carlsson, Mr. Frans Olof',\n",
       "       'Behr, Mr. Karl Howell', 'Gustafsson, Mr. Karl Gideon',\n",
       "       'Nye, Mrs. (Elizabeth Ramell)', 'Wright, Mr. George',\n",
       "       'Rosblom, Mrs. Viktor (Helena Wilhelmina)', 'Nakid, Mr. Sahid',\n",
       "       'Pears, Mr. Thomas Clinton',\n",
       "       'Jerwan, Mrs. Amin S (Marie Marthe Thuillard)',\n",
       "       'Hold, Mr. Stephen', 'Walker, Mr. William Anderson',\n",
       "       'Richards, Mrs. Sidney (Emily Hocking)',\n",
       "       'Edvardsson, Mr. Gustaf Hjalmar', 'Lam, Mr. Len',\n",
       "       'Nakid, Miss. Maria (\"Mary\")', 'Peter, Miss. Anna',\n",
       "       'Lefebre, Miss. Ida', 'Wick, Mrs. George Dennick (Mary Hitchcock)',\n",
       "       'Ponesell, Mr. Martin', 'Kelly, Miss. Mary',\n",
       "       'Baclini, Miss. Eugenie', 'Dakic, Mr. Branko',\n",
       "       'Futrelle, Mrs. Jacques Heath (Lily May Peel)',\n",
       "       'Lester, Mr. James', \"O'Connell, Mr. Patrick D\",\n",
       "       'Graham, Mr. George Edward', 'Emir, Mr. Farred Chehab',\n",
       "       'Burns, Miss. Elizabeth Margaret', 'Harris, Mr. George',\n",
       "       'Mayne, Mlle. Berthe Antonine (\"Mrs de Villiers\")',\n",
       "       'Goodwin, Master. William Frederick', 'Gavey, Mr. Lawrence',\n",
       "       'Carlsson, Mr. August Sigfrid', 'Skoog, Master. Karl Thorsten',\n",
       "       'Gustafsson, Mr. Alfred Ossian', 'Becker, Miss. Marion Louise',\n",
       "       'Seward, Mr. Frederic Kimber', 'Gronnestad, Mr. Daniel Danielsen',\n",
       "       'Dantcheff, Mr. Ristiu', 'Gilinski, Mr. Eliezer',\n",
       "       'Andersson, Mr. August Edvard (\"Wennerstrom\")', 'Lang, Mr. Fang',\n",
       "       'Meyer, Mrs. Edgar Joseph (Leila Saks)',\n",
       "       'Sheerlinck, Mr. Jan Baptist', 'Asplund, Miss. Lillian Gertrud',\n",
       "       'Icard, Miss. Amelie', 'Alhomaki, Mr. Ilmari Rudolf',\n",
       "       'Coleff, Mr. Satio', 'Laroche, Miss. Simonne Marie Anne Andree',\n",
       "       'Greenfield, Mr. William Bertram', 'Lehmann, Miss. Bertha',\n",
       "       'Louch, Mrs. Charles Alexander (Alice Adelaide Slow)',\n",
       "       'Hassan, Mr. Houssein G N', 'Allen, Miss. Elisabeth Walton',\n",
       "       'Strandberg, Miss. Ida Sofia', 'Sdycoff, Mr. Todor',\n",
       "       'Patchett, Mr. George', 'de Mulder, Mr. Theodore',\n",
       "       'Kelly, Miss. Anna Katherine \"Annie Kate\"',\n",
       "       'Gustafsson, Mr. Johan Birger',\n",
       "       'Andersson, Mrs. Anders Johan (Alfrida Konstantia Brogren)',\n",
       "       'Duff Gordon, Sir. Cosmo Edmund (\"Mr Morgan\")',\n",
       "       'Kent, Mr. Edward Austin', 'Lewy, Mr. Ervin G',\n",
       "       'Newell, Miss. Marjorie', 'McDermott, Miss. Brigdet Delia',\n",
       "       'Plotcharsky, Mr. Vasil',\n",
       "       'Vander Planke, Mrs. Julius (Emelia Maria Vandemoortele)',\n",
       "       'Drew, Mrs. James Vivian (Lulu Thorne Christian)',\n",
       "       'Goodwin, Master. Harold Victor',\n",
       "       'Silvey, Mrs. William Baird (Alice Munger)',\n",
       "       'McGovern, Miss. Mary', 'Taussig, Mrs. Emil (Tillie Mandelbaum)',\n",
       "       'Beane, Mrs. Edward (Ethel Clarke)',\n",
       "       'Nilsson, Miss. Helmina Josefina',\n",
       "       'Asplund, Master. Clarence Gustaf Hugo',\n",
       "       'Bradley, Mr. George (\"George Arthur Brayton\")',\n",
       "       'Wheadon, Mr. Edward H', 'Coleridge, Mr. Reginald Charles',\n",
       "       'Duran y More, Miss. Asuncion', 'Murphy, Miss. Katherine \"Kate\"',\n",
       "       'Peter, Mrs. Catherine (Catherine Rizk)',\n",
       "       'Moutal, Mr. Rahamin Haim', 'Sage, Mr. George John Jr',\n",
       "       'Compton, Miss. Sara Rebecca',\n",
       "       'Stone, Mrs. George Nelson (Martha Evelyn)',\n",
       "       'Mullens, Miss. Katherine \"Katie\"', 'Kassem, Mr. Fared',\n",
       "       'Pinsky, Mrs. (Rosa)', 'White, Mr. Richard Frasar',\n",
       "       'Caldwell, Master. Alden Gates', 'Beane, Mr. Edward',\n",
       "       'Dick, Mrs. Albert Adrian (Vera Gillespie)',\n",
       "       'Harmer, Mr. Abraham (David Lishin)', 'Toufik, Mr. Nakli',\n",
       "       'Goodwin, Miss. Lillian Amy',\n",
       "       'Thayer, Mrs. John Borland (Marian Longstreth Morris)',\n",
       "       'Allum, Mr. Owen George', 'Pettersson, Miss. Ellen Natalia',\n",
       "       'Shorney, Mr. Charles Joseph', 'Minahan, Dr. William Edward',\n",
       "       'Smith, Miss. Marion Elsie', 'Baumann, Mr. John D',\n",
       "       'Sandstrom, Miss. Marguerite Rut', 'Sivic, Mr. Husein',\n",
       "       'Sandstrom, Mrs. Hjalmar (Agnes Charlotta Bengtsson)',\n",
       "       'Harper, Miss. Annie Jessie \"Nina\"', 'Jansson, Mr. Carl Olof',\n",
       "       'Sobey, Mr. Samuel James Hayden',\n",
       "       'Richards, Master. George Sibley',\n",
       "       'Peuchen, Major. Arthur Godfrey', 'Hoyt, Mr. Frederick Maxfield',\n",
       "       'Harder, Mr. George Achilles', 'Taussig, Miss. Ruth',\n",
       "       'Maenpaa, Mr. Matti Alexanteri', 'Milling, Mr. Jacob Christian',\n",
       "       'Graham, Miss. Margaret Edith', 'Collyer, Miss. Marjorie \"Lottie\"',\n",
       "       'Vanden Steen, Mr. Leo Peter', 'Zimmerman, Mr. Leo',\n",
       "       'Niskanen, Mr. Juha', 'Baclini, Mrs. Solomon (Latifa Qurban)',\n",
       "       'Connors, Mr. Patrick', 'Hickman, Mr. Stanley George',\n",
       "       'Johnston, Mr. Andrew G', 'Sivola, Mr. Antti Wilhelm',\n",
       "       'Pavlovic, Mr. Stefo', 'Levy, Mr. Rene Jacques',\n",
       "       'Andersson, Miss. Erna Alexandra',\n",
       "       'Flynn, Mr. John Irwin (\"Irving\")', 'Karun, Miss. Manca',\n",
       "       'Meo, Mr. Alfonzo', 'Simmons, Mr. John',\n",
       "       'Frauenthal, Mrs. Henry William (Clara Heinsheimer)',\n",
       "       'Mitkoff, Mr. Mito', \"O'Sullivan, Miss. Bridget Mary\",\n",
       "       'Perreault, Miss. Anne',\n",
       "       'Brown, Mrs. Thomas William Solomon (Elizabeth Catherine Ford)',\n",
       "       'Hosono, Mr. Masabumi', 'Gilnagh, Miss. Katherine \"Katie\"',\n",
       "       'Carbines, Mr. William', 'Vestrom, Miss. Hulda Amanda Adolfina',\n",
       "       'Doling, Miss. Elsie', 'Lesurer, Mr. Gustave J',\n",
       "       'Bourke, Miss. Mary', 'Yousseff, Mr. Gerious'], dtype=object)"
      ]
     },
     "execution_count": 28,
     "metadata": {},
     "output_type": "execute_result"
    }
   ],
   "source": [
    "df_mod.Name.sample(frac=.2).unique()"
   ]
  },
  {
   "cell_type": "code",
   "execution_count": 29,
   "id": "de1c9d70",
   "metadata": {},
   "outputs": [],
   "source": [
    "# Extract regular titles form Name feature\n",
    "titles = ['Mr', 'Mrs', 'Master', 'Miss', 'Dr', 'Rev']\n",
    "\n",
    "df_mod['Titles'] = df_mod.Name.str.extract(rf'({\"|\".join(titles)})', expand=False).fillna('Other')"
   ]
  },
  {
   "cell_type": "code",
   "execution_count": 30,
   "id": "0525e7c8",
   "metadata": {},
   "outputs": [],
   "source": [
    "# drop Name column \n",
    "df_mod = df_mod.drop('Name', axis=1)"
   ]
  },
  {
   "cell_type": "code",
   "execution_count": 31,
   "id": "05ce3691",
   "metadata": {},
   "outputs": [
    {
     "data": {
      "text/html": [
       "<div>\n",
       "<style scoped>\n",
       "    .dataframe tbody tr th:only-of-type {\n",
       "        vertical-align: middle;\n",
       "    }\n",
       "\n",
       "    .dataframe tbody tr th {\n",
       "        vertical-align: top;\n",
       "    }\n",
       "\n",
       "    .dataframe thead th {\n",
       "        text-align: right;\n",
       "    }\n",
       "</style>\n",
       "<table border=\"1\" class=\"dataframe\">\n",
       "  <thead>\n",
       "    <tr style=\"text-align: right;\">\n",
       "      <th></th>\n",
       "      <th>PassengerId</th>\n",
       "      <th>Survived</th>\n",
       "      <th>Pclass</th>\n",
       "      <th>Sex</th>\n",
       "      <th>Age</th>\n",
       "      <th>SibSp</th>\n",
       "      <th>Parch</th>\n",
       "      <th>Ticket</th>\n",
       "      <th>Fare</th>\n",
       "      <th>Cabin</th>\n",
       "      <th>Embarked</th>\n",
       "      <th>Age_is_missing</th>\n",
       "      <th>Cabin_is_missing</th>\n",
       "      <th>Embarked_is_missing</th>\n",
       "      <th>Titles</th>\n",
       "    </tr>\n",
       "  </thead>\n",
       "  <tbody>\n",
       "    <tr>\n",
       "      <th>116</th>\n",
       "      <td>117</td>\n",
       "      <td>0</td>\n",
       "      <td>3</td>\n",
       "      <td>male</td>\n",
       "      <td>70.5</td>\n",
       "      <td>0</td>\n",
       "      <td>0</td>\n",
       "      <td>370369</td>\n",
       "      <td>7.750</td>\n",
       "      <td>Missing</td>\n",
       "      <td>Q</td>\n",
       "      <td>False</td>\n",
       "      <td>True</td>\n",
       "      <td>False</td>\n",
       "      <td>Mr</td>\n",
       "    </tr>\n",
       "    <tr>\n",
       "      <th>557</th>\n",
       "      <td>558</td>\n",
       "      <td>0</td>\n",
       "      <td>1</td>\n",
       "      <td>male</td>\n",
       "      <td>28.0</td>\n",
       "      <td>0</td>\n",
       "      <td>0</td>\n",
       "      <td>PC 17757</td>\n",
       "      <td>227.525</td>\n",
       "      <td>Missing</td>\n",
       "      <td>C</td>\n",
       "      <td>True</td>\n",
       "      <td>True</td>\n",
       "      <td>False</td>\n",
       "      <td>Mr</td>\n",
       "    </tr>\n",
       "  </tbody>\n",
       "</table>\n",
       "</div>"
      ],
      "text/plain": [
       "     PassengerId  Survived  Pclass   Sex   Age  SibSp  Parch    Ticket  \\\n",
       "116          117         0       3  male  70.5      0      0    370369   \n",
       "557          558         0       1  male  28.0      0      0  PC 17757   \n",
       "\n",
       "        Fare    Cabin Embarked  Age_is_missing  Cabin_is_missing  \\\n",
       "116    7.750  Missing        Q           False              True   \n",
       "557  227.525  Missing        C            True              True   \n",
       "\n",
       "     Embarked_is_missing Titles  \n",
       "116                False     Mr  \n",
       "557                False     Mr  "
      ]
     },
     "execution_count": 31,
     "metadata": {},
     "output_type": "execute_result"
    }
   ],
   "source": [
    "# confirm results\n",
    "df_mod.sample(frac=.002)"
   ]
  },
  {
   "cell_type": "code",
   "execution_count": 32,
   "id": "adb211de",
   "metadata": {},
   "outputs": [
    {
     "data": {
      "text/plain": [
       "6"
      ]
     },
     "execution_count": 32,
     "metadata": {},
     "output_type": "execute_result"
    }
   ],
   "source": [
    "len(df_mod.Titles.unique())"
   ]
  },
  {
   "cell_type": "code",
   "execution_count": 33,
   "id": "c00f1b2e",
   "metadata": {},
   "outputs": [],
   "source": [
    "# convert Titles feature to numerical \n",
    "df_mod = pd.concat([df_mod, pd.get_dummies(df_mod.Titles, prefix='_Titles')], axis=1)"
   ]
  },
  {
   "cell_type": "code",
   "execution_count": 34,
   "id": "84850258",
   "metadata": {},
   "outputs": [],
   "source": [
    "df_mod = df_mod.drop('Titles', axis=1)"
   ]
  },
  {
   "cell_type": "code",
   "execution_count": 35,
   "id": "a6e3f92d",
   "metadata": {},
   "outputs": [
    {
     "data": {
      "text/html": [
       "<div>\n",
       "<style scoped>\n",
       "    .dataframe tbody tr th:only-of-type {\n",
       "        vertical-align: middle;\n",
       "    }\n",
       "\n",
       "    .dataframe tbody tr th {\n",
       "        vertical-align: top;\n",
       "    }\n",
       "\n",
       "    .dataframe thead th {\n",
       "        text-align: right;\n",
       "    }\n",
       "</style>\n",
       "<table border=\"1\" class=\"dataframe\">\n",
       "  <thead>\n",
       "    <tr style=\"text-align: right;\">\n",
       "      <th></th>\n",
       "      <th>PassengerId</th>\n",
       "      <th>Survived</th>\n",
       "      <th>Pclass</th>\n",
       "      <th>Sex</th>\n",
       "      <th>Age</th>\n",
       "      <th>SibSp</th>\n",
       "      <th>Parch</th>\n",
       "      <th>Ticket</th>\n",
       "      <th>Fare</th>\n",
       "      <th>Cabin</th>\n",
       "      <th>Embarked</th>\n",
       "      <th>Age_is_missing</th>\n",
       "      <th>Cabin_is_missing</th>\n",
       "      <th>Embarked_is_missing</th>\n",
       "      <th>_Titles_Dr</th>\n",
       "      <th>_Titles_Master</th>\n",
       "      <th>_Titles_Miss</th>\n",
       "      <th>_Titles_Mr</th>\n",
       "      <th>_Titles_Other</th>\n",
       "      <th>_Titles_Rev</th>\n",
       "    </tr>\n",
       "  </thead>\n",
       "  <tbody>\n",
       "    <tr>\n",
       "      <th>0</th>\n",
       "      <td>1</td>\n",
       "      <td>0</td>\n",
       "      <td>3</td>\n",
       "      <td>male</td>\n",
       "      <td>22.0</td>\n",
       "      <td>1</td>\n",
       "      <td>0</td>\n",
       "      <td>A/5 21171</td>\n",
       "      <td>7.25</td>\n",
       "      <td>Missing</td>\n",
       "      <td>S</td>\n",
       "      <td>False</td>\n",
       "      <td>True</td>\n",
       "      <td>False</td>\n",
       "      <td>False</td>\n",
       "      <td>False</td>\n",
       "      <td>False</td>\n",
       "      <td>True</td>\n",
       "      <td>False</td>\n",
       "      <td>False</td>\n",
       "    </tr>\n",
       "  </tbody>\n",
       "</table>\n",
       "</div>"
      ],
      "text/plain": [
       "   PassengerId  Survived  Pclass   Sex   Age  SibSp  Parch     Ticket  Fare  \\\n",
       "0            1         0       3  male  22.0      1      0  A/5 21171  7.25   \n",
       "\n",
       "     Cabin Embarked  Age_is_missing  Cabin_is_missing  Embarked_is_missing  \\\n",
       "0  Missing        S           False              True                False   \n",
       "\n",
       "   _Titles_Dr  _Titles_Master  _Titles_Miss  _Titles_Mr  _Titles_Other  \\\n",
       "0       False           False         False        True          False   \n",
       "\n",
       "   _Titles_Rev  \n",
       "0        False  "
      ]
     },
     "execution_count": 35,
     "metadata": {},
     "output_type": "execute_result"
    }
   ],
   "source": [
    "df_mod.head(1)"
   ]
  },
  {
   "cell_type": "code",
   "execution_count": 36,
   "id": "be7588a9",
   "metadata": {},
   "outputs": [
    {
     "name": "stdout",
     "output_type": "stream",
     "text": [
      "Sex\n",
      "Ticket\n",
      "Cabin\n",
      "Embarked\n"
     ]
    }
   ],
   "source": [
    "# re-confirm if there are non-numerical data in the dataset \n",
    "for label,content in df_mod.items():\n",
    "    if not pd.api.types.is_numeric_dtype(content):\n",
    "        print(label)"
   ]
  },
  {
   "cell_type": "markdown",
   "id": "20f94a59",
   "metadata": {},
   "source": [
    "#### `Sex` and `Embarked` - pd.get_dummies() "
   ]
  },
  {
   "cell_type": "code",
   "execution_count": 37,
   "id": "24804d1a",
   "metadata": {},
   "outputs": [],
   "source": [
    "df_mod = pd.concat([df_mod, pd.get_dummies(df_mod[['Sex', 'Embarked']], prefix=['Sex_', 'Embarked_'])], axis=1)"
   ]
  },
  {
   "cell_type": "code",
   "execution_count": 38,
   "id": "79467cbd",
   "metadata": {},
   "outputs": [],
   "source": [
    "# drop `Sex` and `Embarked` columns\n",
    "df_mod = df_mod.drop(columns=['Sex', 'Embarked'], axis=1)"
   ]
  },
  {
   "cell_type": "code",
   "execution_count": 39,
   "id": "9d3c7e46",
   "metadata": {},
   "outputs": [
    {
     "data": {
      "text/html": [
       "<div>\n",
       "<style scoped>\n",
       "    .dataframe tbody tr th:only-of-type {\n",
       "        vertical-align: middle;\n",
       "    }\n",
       "\n",
       "    .dataframe tbody tr th {\n",
       "        vertical-align: top;\n",
       "    }\n",
       "\n",
       "    .dataframe thead th {\n",
       "        text-align: right;\n",
       "    }\n",
       "</style>\n",
       "<table border=\"1\" class=\"dataframe\">\n",
       "  <thead>\n",
       "    <tr style=\"text-align: right;\">\n",
       "      <th></th>\n",
       "      <th>0</th>\n",
       "      <th>1</th>\n",
       "      <th>2</th>\n",
       "      <th>3</th>\n",
       "      <th>4</th>\n",
       "    </tr>\n",
       "  </thead>\n",
       "  <tbody>\n",
       "    <tr>\n",
       "      <th>PassengerId</th>\n",
       "      <td>1</td>\n",
       "      <td>2</td>\n",
       "      <td>3</td>\n",
       "      <td>4</td>\n",
       "      <td>5</td>\n",
       "    </tr>\n",
       "    <tr>\n",
       "      <th>Survived</th>\n",
       "      <td>0</td>\n",
       "      <td>1</td>\n",
       "      <td>1</td>\n",
       "      <td>1</td>\n",
       "      <td>0</td>\n",
       "    </tr>\n",
       "    <tr>\n",
       "      <th>Pclass</th>\n",
       "      <td>3</td>\n",
       "      <td>1</td>\n",
       "      <td>3</td>\n",
       "      <td>1</td>\n",
       "      <td>3</td>\n",
       "    </tr>\n",
       "    <tr>\n",
       "      <th>Age</th>\n",
       "      <td>22.0</td>\n",
       "      <td>38.0</td>\n",
       "      <td>26.0</td>\n",
       "      <td>35.0</td>\n",
       "      <td>35.0</td>\n",
       "    </tr>\n",
       "    <tr>\n",
       "      <th>SibSp</th>\n",
       "      <td>1</td>\n",
       "      <td>1</td>\n",
       "      <td>0</td>\n",
       "      <td>1</td>\n",
       "      <td>0</td>\n",
       "    </tr>\n",
       "    <tr>\n",
       "      <th>Parch</th>\n",
       "      <td>0</td>\n",
       "      <td>0</td>\n",
       "      <td>0</td>\n",
       "      <td>0</td>\n",
       "      <td>0</td>\n",
       "    </tr>\n",
       "    <tr>\n",
       "      <th>Ticket</th>\n",
       "      <td>A/5 21171</td>\n",
       "      <td>PC 17599</td>\n",
       "      <td>STON/O2. 3101282</td>\n",
       "      <td>113803</td>\n",
       "      <td>373450</td>\n",
       "    </tr>\n",
       "    <tr>\n",
       "      <th>Fare</th>\n",
       "      <td>7.25</td>\n",
       "      <td>71.2833</td>\n",
       "      <td>7.925</td>\n",
       "      <td>53.1</td>\n",
       "      <td>8.05</td>\n",
       "    </tr>\n",
       "    <tr>\n",
       "      <th>Cabin</th>\n",
       "      <td>Missing</td>\n",
       "      <td>C85</td>\n",
       "      <td>Missing</td>\n",
       "      <td>C123</td>\n",
       "      <td>Missing</td>\n",
       "    </tr>\n",
       "    <tr>\n",
       "      <th>Age_is_missing</th>\n",
       "      <td>False</td>\n",
       "      <td>False</td>\n",
       "      <td>False</td>\n",
       "      <td>False</td>\n",
       "      <td>False</td>\n",
       "    </tr>\n",
       "    <tr>\n",
       "      <th>Cabin_is_missing</th>\n",
       "      <td>True</td>\n",
       "      <td>False</td>\n",
       "      <td>True</td>\n",
       "      <td>False</td>\n",
       "      <td>True</td>\n",
       "    </tr>\n",
       "    <tr>\n",
       "      <th>Embarked_is_missing</th>\n",
       "      <td>False</td>\n",
       "      <td>False</td>\n",
       "      <td>False</td>\n",
       "      <td>False</td>\n",
       "      <td>False</td>\n",
       "    </tr>\n",
       "    <tr>\n",
       "      <th>_Titles_Dr</th>\n",
       "      <td>False</td>\n",
       "      <td>False</td>\n",
       "      <td>False</td>\n",
       "      <td>False</td>\n",
       "      <td>False</td>\n",
       "    </tr>\n",
       "    <tr>\n",
       "      <th>_Titles_Master</th>\n",
       "      <td>False</td>\n",
       "      <td>False</td>\n",
       "      <td>False</td>\n",
       "      <td>False</td>\n",
       "      <td>False</td>\n",
       "    </tr>\n",
       "    <tr>\n",
       "      <th>_Titles_Miss</th>\n",
       "      <td>False</td>\n",
       "      <td>False</td>\n",
       "      <td>True</td>\n",
       "      <td>False</td>\n",
       "      <td>False</td>\n",
       "    </tr>\n",
       "    <tr>\n",
       "      <th>_Titles_Mr</th>\n",
       "      <td>True</td>\n",
       "      <td>True</td>\n",
       "      <td>False</td>\n",
       "      <td>True</td>\n",
       "      <td>True</td>\n",
       "    </tr>\n",
       "    <tr>\n",
       "      <th>_Titles_Other</th>\n",
       "      <td>False</td>\n",
       "      <td>False</td>\n",
       "      <td>False</td>\n",
       "      <td>False</td>\n",
       "      <td>False</td>\n",
       "    </tr>\n",
       "    <tr>\n",
       "      <th>_Titles_Rev</th>\n",
       "      <td>False</td>\n",
       "      <td>False</td>\n",
       "      <td>False</td>\n",
       "      <td>False</td>\n",
       "      <td>False</td>\n",
       "    </tr>\n",
       "    <tr>\n",
       "      <th>Sex__female</th>\n",
       "      <td>False</td>\n",
       "      <td>True</td>\n",
       "      <td>True</td>\n",
       "      <td>True</td>\n",
       "      <td>False</td>\n",
       "    </tr>\n",
       "    <tr>\n",
       "      <th>Sex__male</th>\n",
       "      <td>True</td>\n",
       "      <td>False</td>\n",
       "      <td>False</td>\n",
       "      <td>False</td>\n",
       "      <td>True</td>\n",
       "    </tr>\n",
       "    <tr>\n",
       "      <th>Embarked__C</th>\n",
       "      <td>False</td>\n",
       "      <td>True</td>\n",
       "      <td>False</td>\n",
       "      <td>False</td>\n",
       "      <td>False</td>\n",
       "    </tr>\n",
       "    <tr>\n",
       "      <th>Embarked__M</th>\n",
       "      <td>False</td>\n",
       "      <td>False</td>\n",
       "      <td>False</td>\n",
       "      <td>False</td>\n",
       "      <td>False</td>\n",
       "    </tr>\n",
       "    <tr>\n",
       "      <th>Embarked__Q</th>\n",
       "      <td>False</td>\n",
       "      <td>False</td>\n",
       "      <td>False</td>\n",
       "      <td>False</td>\n",
       "      <td>False</td>\n",
       "    </tr>\n",
       "    <tr>\n",
       "      <th>Embarked__S</th>\n",
       "      <td>True</td>\n",
       "      <td>False</td>\n",
       "      <td>True</td>\n",
       "      <td>True</td>\n",
       "      <td>True</td>\n",
       "    </tr>\n",
       "  </tbody>\n",
       "</table>\n",
       "</div>"
      ],
      "text/plain": [
       "                             0         1                 2       3        4\n",
       "PassengerId                  1         2                 3       4        5\n",
       "Survived                     0         1                 1       1        0\n",
       "Pclass                       3         1                 3       1        3\n",
       "Age                       22.0      38.0              26.0    35.0     35.0\n",
       "SibSp                        1         1                 0       1        0\n",
       "Parch                        0         0                 0       0        0\n",
       "Ticket               A/5 21171  PC 17599  STON/O2. 3101282  113803   373450\n",
       "Fare                      7.25   71.2833             7.925    53.1     8.05\n",
       "Cabin                  Missing       C85           Missing    C123  Missing\n",
       "Age_is_missing           False     False             False   False    False\n",
       "Cabin_is_missing          True     False              True   False     True\n",
       "Embarked_is_missing      False     False             False   False    False\n",
       "_Titles_Dr               False     False             False   False    False\n",
       "_Titles_Master           False     False             False   False    False\n",
       "_Titles_Miss             False     False              True   False    False\n",
       "_Titles_Mr                True      True             False    True     True\n",
       "_Titles_Other            False     False             False   False    False\n",
       "_Titles_Rev              False     False             False   False    False\n",
       "Sex__female              False      True              True    True    False\n",
       "Sex__male                 True     False             False   False     True\n",
       "Embarked__C              False      True             False   False    False\n",
       "Embarked__M              False     False             False   False    False\n",
       "Embarked__Q              False     False             False   False    False\n",
       "Embarked__S               True     False              True    True     True"
      ]
     },
     "execution_count": 39,
     "metadata": {},
     "output_type": "execute_result"
    }
   ],
   "source": [
    "# confirm result\n",
    "df_mod.head().T"
   ]
  },
  {
   "cell_type": "code",
   "execution_count": 40,
   "id": "fdc7862c",
   "metadata": {},
   "outputs": [
    {
     "name": "stdout",
     "output_type": "stream",
     "text": [
      "Ticket\n",
      "Cabin\n"
     ]
    }
   ],
   "source": [
    "# re-confirm if there are non-numerical data in the dataset \n",
    "for label,content in df_mod.items():\n",
    "    if not pd.api.types.is_numeric_dtype(content):\n",
    "        print(label)"
   ]
  },
  {
   "cell_type": "markdown",
   "id": "2d1e3e23",
   "metadata": {},
   "source": [
    "- `Cabin`: Create `Deck` feature for decks to avoid high-cardinality, then drop column - Feature Engineering.\n",
    "- `Ticket`: Convert using Categorical method"
   ]
  },
  {
   "cell_type": "markdown",
   "id": "424af6eb",
   "metadata": {},
   "source": [
    "#### `Cabin` (Feature Engineering)"
   ]
  },
  {
   "cell_type": "code",
   "execution_count": 41,
   "id": "2b0f4262",
   "metadata": {},
   "outputs": [
    {
     "data": {
      "text/plain": [
       "77.10437710437711"
      ]
     },
     "execution_count": 41,
     "metadata": {},
     "output_type": "execute_result"
    }
   ],
   "source": [
    "# check proportion of missing data in the Cabin column\n",
    "len(df_mod[df_mod.Cabin == 'Missing'])/len(df_mod)*100"
   ]
  },
  {
   "cell_type": "markdown",
   "id": "c37f2ca7",
   "metadata": {},
   "source": [
    "There are about 80% of missing data/samples in the `Cabin` feature. Normally, I should drop this feature as this is quite much, but for the sake of practise, I will feature engineer this."
   ]
  },
  {
   "cell_type": "code",
   "execution_count": 42,
   "id": "2feebe12",
   "metadata": {},
   "outputs": [],
   "source": [
    "# Extract first letter from column values\n",
    "df_mod['Deck'] = df_mod.Cabin.str.extract(r'([A-Za-z])', expand=False)"
   ]
  },
  {
   "cell_type": "code",
   "execution_count": 43,
   "id": "de84ba2b",
   "metadata": {},
   "outputs": [],
   "source": [
    "# drop Cabin column\n",
    "df_mod = df_mod.drop('Cabin', axis=1)"
   ]
  },
  {
   "cell_type": "code",
   "execution_count": 44,
   "id": "f1676bd2",
   "metadata": {},
   "outputs": [
    {
     "data": {
      "text/plain": [
       "Deck\n",
       "M    687\n",
       "C     59\n",
       "B     47\n",
       "D     33\n",
       "E     32\n",
       "A     15\n",
       "F     13\n",
       "G      4\n",
       "T      1\n",
       "Name: count, dtype: int64"
      ]
     },
     "execution_count": 44,
     "metadata": {},
     "output_type": "execute_result"
    }
   ],
   "source": [
    "# Convert to numerical \n",
    "df_mod.Deck.value_counts() "
   ]
  },
  {
   "cell_type": "code",
   "execution_count": 45,
   "id": "6eca1aaa",
   "metadata": {},
   "outputs": [],
   "source": [
    "# replace M with -1\n",
    "df_mod['Deck'] = df_mod['Deck'].replace('M', -1)\n",
    "\n",
    "# convert to numerical without ordering\n",
    "df_mod.Deck = df_mod.Deck.astype('category').cat.codes"
   ]
  },
  {
   "cell_type": "code",
   "execution_count": 46,
   "id": "076a1575",
   "metadata": {},
   "outputs": [
    {
     "data": {
      "text/html": [
       "<div>\n",
       "<style scoped>\n",
       "    .dataframe tbody tr th:only-of-type {\n",
       "        vertical-align: middle;\n",
       "    }\n",
       "\n",
       "    .dataframe tbody tr th {\n",
       "        vertical-align: top;\n",
       "    }\n",
       "\n",
       "    .dataframe thead th {\n",
       "        text-align: right;\n",
       "    }\n",
       "</style>\n",
       "<table border=\"1\" class=\"dataframe\">\n",
       "  <thead>\n",
       "    <tr style=\"text-align: right;\">\n",
       "      <th></th>\n",
       "      <th>0</th>\n",
       "      <th>1</th>\n",
       "    </tr>\n",
       "  </thead>\n",
       "  <tbody>\n",
       "    <tr>\n",
       "      <th>PassengerId</th>\n",
       "      <td>1</td>\n",
       "      <td>2</td>\n",
       "    </tr>\n",
       "    <tr>\n",
       "      <th>Survived</th>\n",
       "      <td>0</td>\n",
       "      <td>1</td>\n",
       "    </tr>\n",
       "    <tr>\n",
       "      <th>Pclass</th>\n",
       "      <td>3</td>\n",
       "      <td>1</td>\n",
       "    </tr>\n",
       "    <tr>\n",
       "      <th>Age</th>\n",
       "      <td>22</td>\n",
       "      <td>38</td>\n",
       "    </tr>\n",
       "    <tr>\n",
       "      <th>SibSp</th>\n",
       "      <td>1</td>\n",
       "      <td>1</td>\n",
       "    </tr>\n",
       "    <tr>\n",
       "      <th>Parch</th>\n",
       "      <td>0</td>\n",
       "      <td>0</td>\n",
       "    </tr>\n",
       "    <tr>\n",
       "      <th>Ticket</th>\n",
       "      <td>A/5 21171</td>\n",
       "      <td>PC 17599</td>\n",
       "    </tr>\n",
       "    <tr>\n",
       "      <th>Fare</th>\n",
       "      <td>7.25</td>\n",
       "      <td>71.2833</td>\n",
       "    </tr>\n",
       "    <tr>\n",
       "      <th>Age_is_missing</th>\n",
       "      <td>False</td>\n",
       "      <td>False</td>\n",
       "    </tr>\n",
       "    <tr>\n",
       "      <th>Cabin_is_missing</th>\n",
       "      <td>True</td>\n",
       "      <td>False</td>\n",
       "    </tr>\n",
       "    <tr>\n",
       "      <th>Embarked_is_missing</th>\n",
       "      <td>False</td>\n",
       "      <td>False</td>\n",
       "    </tr>\n",
       "    <tr>\n",
       "      <th>_Titles_Dr</th>\n",
       "      <td>False</td>\n",
       "      <td>False</td>\n",
       "    </tr>\n",
       "    <tr>\n",
       "      <th>_Titles_Master</th>\n",
       "      <td>False</td>\n",
       "      <td>False</td>\n",
       "    </tr>\n",
       "    <tr>\n",
       "      <th>_Titles_Miss</th>\n",
       "      <td>False</td>\n",
       "      <td>False</td>\n",
       "    </tr>\n",
       "    <tr>\n",
       "      <th>_Titles_Mr</th>\n",
       "      <td>True</td>\n",
       "      <td>True</td>\n",
       "    </tr>\n",
       "    <tr>\n",
       "      <th>_Titles_Other</th>\n",
       "      <td>False</td>\n",
       "      <td>False</td>\n",
       "    </tr>\n",
       "    <tr>\n",
       "      <th>_Titles_Rev</th>\n",
       "      <td>False</td>\n",
       "      <td>False</td>\n",
       "    </tr>\n",
       "    <tr>\n",
       "      <th>Sex__female</th>\n",
       "      <td>False</td>\n",
       "      <td>True</td>\n",
       "    </tr>\n",
       "    <tr>\n",
       "      <th>Sex__male</th>\n",
       "      <td>True</td>\n",
       "      <td>False</td>\n",
       "    </tr>\n",
       "    <tr>\n",
       "      <th>Embarked__C</th>\n",
       "      <td>False</td>\n",
       "      <td>True</td>\n",
       "    </tr>\n",
       "    <tr>\n",
       "      <th>Embarked__M</th>\n",
       "      <td>False</td>\n",
       "      <td>False</td>\n",
       "    </tr>\n",
       "    <tr>\n",
       "      <th>Embarked__Q</th>\n",
       "      <td>False</td>\n",
       "      <td>False</td>\n",
       "    </tr>\n",
       "    <tr>\n",
       "      <th>Embarked__S</th>\n",
       "      <td>True</td>\n",
       "      <td>False</td>\n",
       "    </tr>\n",
       "    <tr>\n",
       "      <th>Deck</th>\n",
       "      <td>0</td>\n",
       "      <td>3</td>\n",
       "    </tr>\n",
       "  </tbody>\n",
       "</table>\n",
       "</div>"
      ],
      "text/plain": [
       "                             0         1\n",
       "PassengerId                  1         2\n",
       "Survived                     0         1\n",
       "Pclass                       3         1\n",
       "Age                         22        38\n",
       "SibSp                        1         1\n",
       "Parch                        0         0\n",
       "Ticket               A/5 21171  PC 17599\n",
       "Fare                      7.25   71.2833\n",
       "Age_is_missing           False     False\n",
       "Cabin_is_missing          True     False\n",
       "Embarked_is_missing      False     False\n",
       "_Titles_Dr               False     False\n",
       "_Titles_Master           False     False\n",
       "_Titles_Miss             False     False\n",
       "_Titles_Mr                True      True\n",
       "_Titles_Other            False     False\n",
       "_Titles_Rev              False     False\n",
       "Sex__female              False      True\n",
       "Sex__male                 True     False\n",
       "Embarked__C              False      True\n",
       "Embarked__M              False     False\n",
       "Embarked__Q              False     False\n",
       "Embarked__S               True     False\n",
       "Deck                         0         3"
      ]
     },
     "execution_count": 46,
     "metadata": {},
     "output_type": "execute_result"
    }
   ],
   "source": [
    "# confirm result\n",
    "df_mod.Age = df_mod.Age.astype('int64')\n",
    "df_mod.head(2).T "
   ]
  },
  {
   "cell_type": "code",
   "execution_count": 47,
   "id": "edba91c8",
   "metadata": {},
   "outputs": [
    {
     "name": "stdout",
     "output_type": "stream",
     "text": [
      "Ticket\n"
     ]
    }
   ],
   "source": [
    "# re-confirm if there are non-numerical data in the dataset \n",
    "for label,content in df_mod.items():\n",
    "    if not pd.api.types.is_numeric_dtype(content):\n",
    "        print(label)"
   ]
  },
  {
   "cell_type": "markdown",
   "id": "c9fd240a",
   "metadata": {},
   "source": [
    "- `Ticket`: Convert using Categorical method"
   ]
  },
  {
   "cell_type": "markdown",
   "id": "6ec499fc",
   "metadata": {},
   "source": [
    "#### `Ticket` - Categorical \n"
   ]
  },
  {
   "cell_type": "code",
   "execution_count": 48,
   "id": "c6e2c47e",
   "metadata": {},
   "outputs": [],
   "source": [
    "# convert to categorical data and order\n",
    "df_mod.Ticket = df_mod['Ticket'].astype('category').cat.as_ordered()\n",
    "\n",
    "# convert to numerical\n",
    "df_mod.Ticket = df_mod['Ticket'].cat.codes"
   ]
  },
  {
   "cell_type": "code",
   "execution_count": 49,
   "id": "b5054d02",
   "metadata": {},
   "outputs": [
    {
     "data": {
      "text/html": [
       "<div>\n",
       "<style scoped>\n",
       "    .dataframe tbody tr th:only-of-type {\n",
       "        vertical-align: middle;\n",
       "    }\n",
       "\n",
       "    .dataframe tbody tr th {\n",
       "        vertical-align: top;\n",
       "    }\n",
       "\n",
       "    .dataframe thead th {\n",
       "        text-align: right;\n",
       "    }\n",
       "</style>\n",
       "<table border=\"1\" class=\"dataframe\">\n",
       "  <thead>\n",
       "    <tr style=\"text-align: right;\">\n",
       "      <th></th>\n",
       "      <th>0</th>\n",
       "    </tr>\n",
       "  </thead>\n",
       "  <tbody>\n",
       "    <tr>\n",
       "      <th>PassengerId</th>\n",
       "      <td>1</td>\n",
       "    </tr>\n",
       "    <tr>\n",
       "      <th>Survived</th>\n",
       "      <td>0</td>\n",
       "    </tr>\n",
       "    <tr>\n",
       "      <th>Pclass</th>\n",
       "      <td>3</td>\n",
       "    </tr>\n",
       "    <tr>\n",
       "      <th>Age</th>\n",
       "      <td>22</td>\n",
       "    </tr>\n",
       "    <tr>\n",
       "      <th>SibSp</th>\n",
       "      <td>1</td>\n",
       "    </tr>\n",
       "    <tr>\n",
       "      <th>Parch</th>\n",
       "      <td>0</td>\n",
       "    </tr>\n",
       "    <tr>\n",
       "      <th>Ticket</th>\n",
       "      <td>523</td>\n",
       "    </tr>\n",
       "    <tr>\n",
       "      <th>Fare</th>\n",
       "      <td>7.25</td>\n",
       "    </tr>\n",
       "    <tr>\n",
       "      <th>Age_is_missing</th>\n",
       "      <td>False</td>\n",
       "    </tr>\n",
       "    <tr>\n",
       "      <th>Cabin_is_missing</th>\n",
       "      <td>True</td>\n",
       "    </tr>\n",
       "    <tr>\n",
       "      <th>Embarked_is_missing</th>\n",
       "      <td>False</td>\n",
       "    </tr>\n",
       "    <tr>\n",
       "      <th>_Titles_Dr</th>\n",
       "      <td>False</td>\n",
       "    </tr>\n",
       "    <tr>\n",
       "      <th>_Titles_Master</th>\n",
       "      <td>False</td>\n",
       "    </tr>\n",
       "    <tr>\n",
       "      <th>_Titles_Miss</th>\n",
       "      <td>False</td>\n",
       "    </tr>\n",
       "    <tr>\n",
       "      <th>_Titles_Mr</th>\n",
       "      <td>True</td>\n",
       "    </tr>\n",
       "    <tr>\n",
       "      <th>_Titles_Other</th>\n",
       "      <td>False</td>\n",
       "    </tr>\n",
       "    <tr>\n",
       "      <th>_Titles_Rev</th>\n",
       "      <td>False</td>\n",
       "    </tr>\n",
       "    <tr>\n",
       "      <th>Sex__female</th>\n",
       "      <td>False</td>\n",
       "    </tr>\n",
       "    <tr>\n",
       "      <th>Sex__male</th>\n",
       "      <td>True</td>\n",
       "    </tr>\n",
       "    <tr>\n",
       "      <th>Embarked__C</th>\n",
       "      <td>False</td>\n",
       "    </tr>\n",
       "    <tr>\n",
       "      <th>Embarked__M</th>\n",
       "      <td>False</td>\n",
       "    </tr>\n",
       "    <tr>\n",
       "      <th>Embarked__Q</th>\n",
       "      <td>False</td>\n",
       "    </tr>\n",
       "    <tr>\n",
       "      <th>Embarked__S</th>\n",
       "      <td>True</td>\n",
       "    </tr>\n",
       "    <tr>\n",
       "      <th>Deck</th>\n",
       "      <td>0</td>\n",
       "    </tr>\n",
       "  </tbody>\n",
       "</table>\n",
       "</div>"
      ],
      "text/plain": [
       "                         0\n",
       "PassengerId              1\n",
       "Survived                 0\n",
       "Pclass                   3\n",
       "Age                     22\n",
       "SibSp                    1\n",
       "Parch                    0\n",
       "Ticket                 523\n",
       "Fare                  7.25\n",
       "Age_is_missing       False\n",
       "Cabin_is_missing      True\n",
       "Embarked_is_missing  False\n",
       "_Titles_Dr           False\n",
       "_Titles_Master       False\n",
       "_Titles_Miss         False\n",
       "_Titles_Mr            True\n",
       "_Titles_Other        False\n",
       "_Titles_Rev          False\n",
       "Sex__female          False\n",
       "Sex__male             True\n",
       "Embarked__C          False\n",
       "Embarked__M          False\n",
       "Embarked__Q          False\n",
       "Embarked__S           True\n",
       "Deck                     0"
      ]
     },
     "execution_count": 49,
     "metadata": {},
     "output_type": "execute_result"
    }
   ],
   "source": [
    "# confirm result\n",
    "df_mod.head(1).T"
   ]
  },
  {
   "cell_type": "code",
   "execution_count": 50,
   "id": "41a21961",
   "metadata": {},
   "outputs": [
    {
     "name": "stdout",
     "output_type": "stream",
     "text": [
      "<class 'pandas.core.frame.DataFrame'>\n",
      "RangeIndex: 891 entries, 0 to 890\n",
      "Data columns (total 24 columns):\n",
      " #   Column               Non-Null Count  Dtype  \n",
      "---  ------               --------------  -----  \n",
      " 0   PassengerId          891 non-null    int64  \n",
      " 1   Survived             891 non-null    int64  \n",
      " 2   Pclass               891 non-null    int64  \n",
      " 3   Age                  891 non-null    int64  \n",
      " 4   SibSp                891 non-null    int64  \n",
      " 5   Parch                891 non-null    int64  \n",
      " 6   Ticket               891 non-null    int16  \n",
      " 7   Fare                 891 non-null    float64\n",
      " 8   Age_is_missing       891 non-null    bool   \n",
      " 9   Cabin_is_missing     891 non-null    bool   \n",
      " 10  Embarked_is_missing  891 non-null    bool   \n",
      " 11  _Titles_Dr           891 non-null    bool   \n",
      " 12  _Titles_Master       891 non-null    bool   \n",
      " 13  _Titles_Miss         891 non-null    bool   \n",
      " 14  _Titles_Mr           891 non-null    bool   \n",
      " 15  _Titles_Other        891 non-null    bool   \n",
      " 16  _Titles_Rev          891 non-null    bool   \n",
      " 17  Sex__female          891 non-null    bool   \n",
      " 18  Sex__male            891 non-null    bool   \n",
      " 19  Embarked__C          891 non-null    bool   \n",
      " 20  Embarked__M          891 non-null    bool   \n",
      " 21  Embarked__Q          891 non-null    bool   \n",
      " 22  Embarked__S          891 non-null    bool   \n",
      " 23  Deck                 891 non-null    int8   \n",
      "dtypes: bool(15), float64(1), int16(1), int64(6), int8(1)\n",
      "memory usage: 64.5 KB\n"
     ]
    }
   ],
   "source": [
    "df_mod.info()"
   ]
  },
  {
   "cell_type": "code",
   "execution_count": 51,
   "id": "616f1e7b",
   "metadata": {},
   "outputs": [
    {
     "data": {
      "text/plain": [
       "(False, False)"
      ]
     },
     "execution_count": 51,
     "metadata": {},
     "output_type": "execute_result"
    }
   ],
   "source": [
    "pd.api.types.is_object_dtype(df_mod), pd.api.types.is_string_dtype(df_mod)"
   ]
  },
  {
   "cell_type": "markdown",
   "id": "24b07e33",
   "metadata": {},
   "source": [
    "### Modelling"
   ]
  },
  {
   "cell_type": "code",
   "execution_count": 52,
   "id": "7f042626",
   "metadata": {},
   "outputs": [
    {
     "data": {
      "text/plain": [
       "Index(['PassengerId', 'Survived', 'Pclass', 'Age', 'SibSp', 'Parch', 'Ticket',\n",
       "       'Fare', 'Age_is_missing', 'Cabin_is_missing', 'Embarked_is_missing',\n",
       "       '_Titles_Dr', '_Titles_Master', '_Titles_Miss', '_Titles_Mr',\n",
       "       '_Titles_Other', '_Titles_Rev', 'Sex__female', 'Sex__male',\n",
       "       'Embarked__C', 'Embarked__M', 'Embarked__Q', 'Embarked__S', 'Deck'],\n",
       "      dtype='object')"
      ]
     },
     "execution_count": 52,
     "metadata": {},
     "output_type": "execute_result"
    }
   ],
   "source": [
    "df_mod.columns"
   ]
  },
  {
   "cell_type": "code",
   "execution_count": null,
   "id": "1efa2271",
   "metadata": {},
   "outputs": [],
   "source": [
    "# split data into train and validation sets\n",
    "\n",
    "X = df_mod.drop('Survived', axis=1) # training set\n",
    "y = df_mod['Survived'] # validation set\n",
    "\n",
    "X_train, X_valid, y_train, y_valid = train_test_split(X, y, test_size=.2, random_state=12, stratify=y)"
   ]
  },
  {
   "cell_type": "code",
   "execution_count": 54,
   "id": "94dfbfc5",
   "metadata": {},
   "outputs": [
    {
     "data": {
      "text/plain": [
       "((712, 23), (179, 23), (712,), (179,))"
      ]
     },
     "execution_count": 54,
     "metadata": {},
     "output_type": "execute_result"
    }
   ],
   "source": [
    "X_train.shape, X_valid.shape, y_train.shape, y_valid.shape "
   ]
  },
  {
   "cell_type": "code",
   "execution_count": 55,
   "id": "de04c44d",
   "metadata": {},
   "outputs": [
    {
     "data": {
      "text/html": [
       "<div>\n",
       "<style scoped>\n",
       "    .dataframe tbody tr th:only-of-type {\n",
       "        vertical-align: middle;\n",
       "    }\n",
       "\n",
       "    .dataframe tbody tr th {\n",
       "        vertical-align: top;\n",
       "    }\n",
       "\n",
       "    .dataframe thead th {\n",
       "        text-align: right;\n",
       "    }\n",
       "</style>\n",
       "<table border=\"1\" class=\"dataframe\">\n",
       "  <thead>\n",
       "    <tr style=\"text-align: right;\">\n",
       "      <th></th>\n",
       "      <th>PassengerId</th>\n",
       "      <th>Pclass</th>\n",
       "      <th>Age</th>\n",
       "      <th>SibSp</th>\n",
       "      <th>Parch</th>\n",
       "      <th>Ticket</th>\n",
       "      <th>Fare</th>\n",
       "      <th>Age_is_missing</th>\n",
       "      <th>Cabin_is_missing</th>\n",
       "      <th>Embarked_is_missing</th>\n",
       "      <th>...</th>\n",
       "      <th>_Titles_Mr</th>\n",
       "      <th>_Titles_Other</th>\n",
       "      <th>_Titles_Rev</th>\n",
       "      <th>Sex__female</th>\n",
       "      <th>Sex__male</th>\n",
       "      <th>Embarked__C</th>\n",
       "      <th>Embarked__M</th>\n",
       "      <th>Embarked__Q</th>\n",
       "      <th>Embarked__S</th>\n",
       "      <th>Deck</th>\n",
       "    </tr>\n",
       "  </thead>\n",
       "  <tbody>\n",
       "    <tr>\n",
       "      <th>691</th>\n",
       "      <td>692</td>\n",
       "      <td>3</td>\n",
       "      <td>4</td>\n",
       "      <td>0</td>\n",
       "      <td>1</td>\n",
       "      <td>393</td>\n",
       "      <td>13.4167</td>\n",
       "      <td>False</td>\n",
       "      <td>True</td>\n",
       "      <td>False</td>\n",
       "      <td>...</td>\n",
       "      <td>False</td>\n",
       "      <td>False</td>\n",
       "      <td>False</td>\n",
       "      <td>True</td>\n",
       "      <td>False</td>\n",
       "      <td>True</td>\n",
       "      <td>False</td>\n",
       "      <td>False</td>\n",
       "      <td>False</td>\n",
       "      <td>0</td>\n",
       "    </tr>\n",
       "    <tr>\n",
       "      <th>43</th>\n",
       "      <td>44</td>\n",
       "      <td>2</td>\n",
       "      <td>3</td>\n",
       "      <td>1</td>\n",
       "      <td>2</td>\n",
       "      <td>634</td>\n",
       "      <td>41.5792</td>\n",
       "      <td>False</td>\n",
       "      <td>True</td>\n",
       "      <td>False</td>\n",
       "      <td>...</td>\n",
       "      <td>False</td>\n",
       "      <td>False</td>\n",
       "      <td>False</td>\n",
       "      <td>True</td>\n",
       "      <td>False</td>\n",
       "      <td>True</td>\n",
       "      <td>False</td>\n",
       "      <td>False</td>\n",
       "      <td>False</td>\n",
       "      <td>0</td>\n",
       "    </tr>\n",
       "    <tr>\n",
       "      <th>666</th>\n",
       "      <td>667</td>\n",
       "      <td>2</td>\n",
       "      <td>25</td>\n",
       "      <td>0</td>\n",
       "      <td>0</td>\n",
       "      <td>123</td>\n",
       "      <td>13.0000</td>\n",
       "      <td>False</td>\n",
       "      <td>True</td>\n",
       "      <td>False</td>\n",
       "      <td>...</td>\n",
       "      <td>True</td>\n",
       "      <td>False</td>\n",
       "      <td>False</td>\n",
       "      <td>False</td>\n",
       "      <td>True</td>\n",
       "      <td>False</td>\n",
       "      <td>False</td>\n",
       "      <td>False</td>\n",
       "      <td>True</td>\n",
       "      <td>0</td>\n",
       "    </tr>\n",
       "    <tr>\n",
       "      <th>769</th>\n",
       "      <td>770</td>\n",
       "      <td>3</td>\n",
       "      <td>32</td>\n",
       "      <td>0</td>\n",
       "      <td>0</td>\n",
       "      <td>511</td>\n",
       "      <td>8.3625</td>\n",
       "      <td>False</td>\n",
       "      <td>True</td>\n",
       "      <td>False</td>\n",
       "      <td>...</td>\n",
       "      <td>True</td>\n",
       "      <td>False</td>\n",
       "      <td>False</td>\n",
       "      <td>False</td>\n",
       "      <td>True</td>\n",
       "      <td>False</td>\n",
       "      <td>False</td>\n",
       "      <td>False</td>\n",
       "      <td>True</td>\n",
       "      <td>0</td>\n",
       "    </tr>\n",
       "    <tr>\n",
       "      <th>419</th>\n",
       "      <td>420</td>\n",
       "      <td>3</td>\n",
       "      <td>10</td>\n",
       "      <td>0</td>\n",
       "      <td>2</td>\n",
       "      <td>307</td>\n",
       "      <td>24.1500</td>\n",
       "      <td>False</td>\n",
       "      <td>True</td>\n",
       "      <td>False</td>\n",
       "      <td>...</td>\n",
       "      <td>False</td>\n",
       "      <td>False</td>\n",
       "      <td>False</td>\n",
       "      <td>True</td>\n",
       "      <td>False</td>\n",
       "      <td>False</td>\n",
       "      <td>False</td>\n",
       "      <td>False</td>\n",
       "      <td>True</td>\n",
       "      <td>0</td>\n",
       "    </tr>\n",
       "  </tbody>\n",
       "</table>\n",
       "<p>5 rows × 23 columns</p>\n",
       "</div>"
      ],
      "text/plain": [
       "     PassengerId  Pclass  Age  SibSp  Parch  Ticket     Fare  Age_is_missing  \\\n",
       "691          692       3    4      0      1     393  13.4167           False   \n",
       "43            44       2    3      1      2     634  41.5792           False   \n",
       "666          667       2   25      0      0     123  13.0000           False   \n",
       "769          770       3   32      0      0     511   8.3625           False   \n",
       "419          420       3   10      0      2     307  24.1500           False   \n",
       "\n",
       "     Cabin_is_missing  Embarked_is_missing  ...  _Titles_Mr  _Titles_Other  \\\n",
       "691              True                False  ...       False          False   \n",
       "43               True                False  ...       False          False   \n",
       "666              True                False  ...        True          False   \n",
       "769              True                False  ...        True          False   \n",
       "419              True                False  ...       False          False   \n",
       "\n",
       "     _Titles_Rev  Sex__female  Sex__male  Embarked__C  Embarked__M  \\\n",
       "691        False         True      False         True        False   \n",
       "43         False         True      False         True        False   \n",
       "666        False        False       True        False        False   \n",
       "769        False        False       True        False        False   \n",
       "419        False         True      False        False        False   \n",
       "\n",
       "     Embarked__Q  Embarked__S  Deck  \n",
       "691        False        False     0  \n",
       "43         False        False     0  \n",
       "666        False         True     0  \n",
       "769        False         True     0  \n",
       "419        False         True     0  \n",
       "\n",
       "[5 rows x 23 columns]"
      ]
     },
     "execution_count": 55,
     "metadata": {},
     "output_type": "execute_result"
    }
   ],
   "source": [
    "X_valid.head()"
   ]
  },
  {
   "cell_type": "code",
   "execution_count": 56,
   "id": "aa952507",
   "metadata": {},
   "outputs": [
    {
     "data": {
      "text/plain": [
       "(891, 24)"
      ]
     },
     "execution_count": 56,
     "metadata": {},
     "output_type": "execute_result"
    }
   ],
   "source": [
    "df_mod.shape "
   ]
  },
  {
   "cell_type": "code",
   "execution_count": 57,
   "id": "648f8576",
   "metadata": {},
   "outputs": [
    {
     "data": {
      "text/plain": [
       "Survived\n",
       "0    549\n",
       "1    342\n",
       "Name: count, dtype: int64"
      ]
     },
     "execution_count": 57,
     "metadata": {},
     "output_type": "execute_result"
    }
   ],
   "source": [
    "df_mod.Survived.value_counts()"
   ]
  },
  {
   "cell_type": "code",
   "execution_count": null,
   "id": "c97f8877",
   "metadata": {},
   "outputs": [
    {
     "data": {
      "text/plain": [
       "\"\\nSince it's a classification problem, selected suitable models:\\n- RandomForestClassifier() - baseline\\n- XGBoost() - refine/improve metric score \\n- Catboost()\\n\\nHyper-parameter Tunning\\n- RandomSearchCV - baseline\\n- GridSearchCV - refine tuning\\n- Optuna (try out - optional)\\n\""
      ]
     },
     "execution_count": 58,
     "metadata": {},
     "output_type": "execute_result"
    }
   ],
   "source": [
    "'''\n",
    "Since it's a classification problem, selected suitable models:\n",
    "- RandomForestClassifier()\n",
    "- XGBoost() - refine/improve metric score \n",
    "- Catboost()\n",
    "\n",
    "Hyper-parameter Tunning\n",
    "- RandomSearchCV - baseline\n",
    "- GridSearchCV - refine tuning\n",
    "- Optuna ()\n",
    "''' "
   ]
  },
  {
   "cell_type": "code",
   "execution_count": 102,
   "id": "bc9e2e5d",
   "metadata": {},
   "outputs": [
    {
     "name": "stdout",
     "output_type": "stream",
     "text": [
      "RF: 0.8212\n",
      "XGB: 0.8045\n",
      "CatBoost: 0.8101\n",
      "LinearSVC: 0.8101\n"
     ]
    }
   ],
   "source": [
    "models = {\n",
    "    'RF' : RandomForestClassifier(random_state=12,\n",
    "                                  n_estimators=100,\n",
    "                                  max_depth=10,\n",
    "                                  min_samples_split=5,\n",
    "                                  min_samples_leaf=2,\n",
    "                                  max_features='sqrt',\n",
    "                                  n_jobs=-1),\n",
    "    'XGB' : xgb.XGBClassifier(eval_metric='logloss', \n",
    "                              random_state=12,\n",
    "                              n_estimators=100,\n",
    "                              max_depth=6,\n",
    "                              learning_rate=0.1,\n",
    "                              subsample=0.8,\n",
    "                              colsample_bytree=.8,\n",
    "                              reg_alpha=.1,\n",
    "                              reg_lambda=1),\n",
    "    'CatBoost' : cat.CatBoostClassifier(verbose=0, \n",
    "                                        iterations=200, \n",
    "                                        random_state=12,\n",
    "                                        depth=6,\n",
    "                                        learning_rate=.1,\n",
    "                                        l2_leaf_reg=3.0,\n",
    "                                        random_strength=1.0,\n",
    "                                        thread_count=-1\n",
    "                                        ),\n",
    "    'LinearSVC': LinearSVC(random_state=12,\n",
    "                           C=1,\n",
    "                           penalty='l2',\n",
    "                           loss='squared_hinge',\n",
    "                           max_iter=2000)\n",
    "}\n",
    "\n",
    "results = {}\n",
    "for name, model in models.items():\n",
    "    # preprocess if needed (scale for SVC)\n",
    "    if name in ['LinearSVC']:\n",
    "        scaler = StandardScaler() \n",
    "        X_train_mod = scaler.fit_transform(X_train)\n",
    "        X_valid_mod = scaler.transform(X_valid)\n",
    "    else: \n",
    "        X_train_mod, X_valid_mod = X_train, X_valid \n",
    "    \n",
    "    model.fit(X_train_mod, y_train)\n",
    "    preds = model.predict(X_valid_mod)\n",
    "    results[name] = accuracy_score(y_valid, preds)\n",
    "    print(f'{name}: {results[name]:.4f}')\n"
   ]
  },
  {
   "cell_type": "markdown",
   "id": "d501b71a",
   "metadata": {},
   "source": [
    "From the results above it is clear the the top 2 most promising models are RF and CatBoost, let's however quickly tune LinearSVC to see if it holds any promise before eliminating it."
   ]
  },
  {
   "cell_type": "code",
   "execution_count": 122,
   "id": "bb18e9b0",
   "metadata": {},
   "outputs": [
    {
     "name": "stdout",
     "output_type": "stream",
     "text": [
      "Fitting 5 folds for each of 10 candidates, totalling 50 fits\n"
     ]
    }
   ],
   "source": [
    "SVC_baseline = LinearSVC()\n",
    "\n",
    "param_dist = {'C':np.arange(.1,5),\n",
    "              'penalty':['l1', 'l2'],\n",
    "              'loss':['squared_hinge'],\n",
    "              'dual':[False],\n",
    "              'max_iter':np.arange(100,2000,100)}\n",
    "\n",
    "cv_svc = StratifiedKFold(n_splits=5, shuffle=True, random_state=12)\n",
    "rs_svc = RandomizedSearchCV(SVC_baseline,\n",
    "                            param_distributions=param_dist,\n",
    "                            cv=cv_svc,\n",
    "                            n_iter=10,\n",
    "                            n_jobs=-1,\n",
    "                            scoring='accuracy',\n",
    "                            verbose=True,\n",
    "                            random_state=12)\n",
    "\n",
    "scaler = StandardScaler()\n",
    "X_train_svc = scaler.fit_transform(X_train)\n",
    "X_valid_svc = scaler.transform(X_valid)\n",
    "\n",
    "rs_svc.fit(X_train_svc, y_train)\n",
    "y_preds_svc = rs_svc.predict(X_valid_svc)\n",
    "score_svc = accuracy_score(y_valid, y_preds_svc)\n"
   ]
  },
  {
   "cell_type": "code",
   "execution_count": 123,
   "id": "933e9eb1",
   "metadata": {},
   "outputs": [
    {
     "data": {
      "text/plain": [
       "0.8100558659217877"
      ]
     },
     "execution_count": 123,
     "metadata": {},
     "output_type": "execute_result"
    }
   ],
   "source": [
    "score_svc"
   ]
  },
  {
   "cell_type": "code",
   "execution_count": 124,
   "id": "42f45880",
   "metadata": {},
   "outputs": [
    {
     "data": {
      "text/plain": [
       "{'penalty': 'l2',\n",
       " 'max_iter': np.int64(600),\n",
       " 'loss': 'squared_hinge',\n",
       " 'dual': False,\n",
       " 'C': np.float64(0.1)}"
      ]
     },
     "execution_count": 124,
     "metadata": {},
     "output_type": "execute_result"
    }
   ],
   "source": [
    "rs_svc.best_params_"
   ]
  },
  {
   "cell_type": "markdown",
   "id": "df77cd37",
   "metadata": {},
   "source": [
    "Tune with Optuna"
   ]
  },
  {
   "cell_type": "code",
   "execution_count": 132,
   "id": "b57b9e6f",
   "metadata": {},
   "outputs": [
    {
     "name": "stderr",
     "output_type": "stream",
     "text": [
      "[I 2025-09-25 19:07:23,693] A new study created in memory with name: no-name-29f4db53-efd2-432b-ba37-f0b2106cfb67\n",
      "c:\\ProgramData\\Miniconda3\\envs\\ML\\Lib\\site-packages\\sklearn\\svm\\_base.py:1249: ConvergenceWarning:\n",
      "\n",
      "Liblinear failed to converge, increase the number of iterations.\n",
      "\n",
      "[I 2025-09-25 19:07:24,558] Trial 0 finished with value: 0.824386880724909 and parameters: {'penalty': 'l1', 'max_iter': 5018, 'loss': 'squared_hinge', 'dual': False, 'C': 14.447469942643252}. Best is trial 0 with value: 0.824386880724909.\n",
      "[I 2025-09-25 19:07:24,605] Trial 1 finished with value: 0.824386880724909 and parameters: {'penalty': 'l2', 'max_iter': 934, 'loss': 'squared_hinge', 'dual': False, 'C': 6.737465717694319}. Best is trial 0 with value: 0.824386880724909.\n",
      "[I 2025-09-25 19:07:25,080] Trial 2 finished with value: 0.824386880724909 and parameters: {'penalty': 'l1', 'max_iter': 8418, 'loss': 'squared_hinge', 'dual': False, 'C': 8.369669689940988}. Best is trial 0 with value: 0.824386880724909.\n",
      "[I 2025-09-25 19:07:25,281] Trial 3 finished with value: 0.824386880724909 and parameters: {'penalty': 'l1', 'max_iter': 8151, 'loss': 'squared_hinge', 'dual': False, 'C': 1.4500016371444167}. Best is trial 0 with value: 0.824386880724909.\n",
      "c:\\ProgramData\\Miniconda3\\envs\\ML\\Lib\\site-packages\\sklearn\\svm\\_base.py:1249: ConvergenceWarning:\n",
      "\n",
      "Liblinear failed to converge, increase the number of iterations.\n",
      "\n",
      "c:\\ProgramData\\Miniconda3\\envs\\ML\\Lib\\site-packages\\sklearn\\svm\\_base.py:1249: ConvergenceWarning:\n",
      "\n",
      "Liblinear failed to converge, increase the number of iterations.\n",
      "\n",
      "c:\\ProgramData\\Miniconda3\\envs\\ML\\Lib\\site-packages\\sklearn\\svm\\_base.py:1249: ConvergenceWarning:\n",
      "\n",
      "Liblinear failed to converge, increase the number of iterations.\n",
      "\n",
      "c:\\ProgramData\\Miniconda3\\envs\\ML\\Lib\\site-packages\\sklearn\\svm\\_base.py:1249: ConvergenceWarning:\n",
      "\n",
      "Liblinear failed to converge, increase the number of iterations.\n",
      "\n",
      "c:\\ProgramData\\Miniconda3\\envs\\ML\\Lib\\site-packages\\sklearn\\svm\\_base.py:1249: ConvergenceWarning:\n",
      "\n",
      "Liblinear failed to converge, increase the number of iterations.\n",
      "\n",
      "[I 2025-09-25 19:07:25,447] Trial 4 finished with value: 0.824386880724909 and parameters: {'penalty': 'l1', 'max_iter': 781, 'loss': 'squared_hinge', 'dual': False, 'C': 24.470617390838456}. Best is trial 0 with value: 0.824386880724909.\n",
      "[I 2025-09-25 19:07:25,740] Trial 5 finished with value: 0.824386880724909 and parameters: {'penalty': 'l1', 'max_iter': 5897, 'loss': 'squared_hinge', 'dual': False, 'C': 3.8268133488379195}. Best is trial 0 with value: 0.824386880724909.\n",
      "[I 2025-09-25 19:07:26,415] Trial 6 finished with value: 0.824386880724909 and parameters: {'penalty': 'l1', 'max_iter': 7602, 'loss': 'squared_hinge', 'dual': False, 'C': 12.427209285156474}. Best is trial 0 with value: 0.824386880724909.\n",
      "[I 2025-09-25 19:07:26,460] Trial 7 finished with value: 0.824386880724909 and parameters: {'penalty': 'l2', 'max_iter': 6358, 'loss': 'squared_hinge', 'dual': False, 'C': 27.565716054258274}. Best is trial 0 with value: 0.824386880724909.\n",
      "[I 2025-09-25 19:07:26,500] Trial 8 finished with value: 0.824386880724909 and parameters: {'penalty': 'l2', 'max_iter': 7902, 'loss': 'squared_hinge', 'dual': False, 'C': 26.76064299857067}. Best is trial 0 with value: 0.824386880724909.\n",
      "[I 2025-09-25 19:07:26,540] Trial 9 finished with value: 0.824386880724909 and parameters: {'penalty': 'l2', 'max_iter': 9019, 'loss': 'squared_hinge', 'dual': False, 'C': 24.64957368256948}. Best is trial 0 with value: 0.824386880724909.\n",
      "c:\\ProgramData\\Miniconda3\\envs\\ML\\Lib\\site-packages\\sklearn\\svm\\_base.py:1249: ConvergenceWarning:\n",
      "\n",
      "Liblinear failed to converge, increase the number of iterations.\n",
      "\n",
      "c:\\ProgramData\\Miniconda3\\envs\\ML\\Lib\\site-packages\\sklearn\\svm\\_base.py:1249: ConvergenceWarning:\n",
      "\n",
      "Liblinear failed to converge, increase the number of iterations.\n",
      "\n",
      "c:\\ProgramData\\Miniconda3\\envs\\ML\\Lib\\site-packages\\sklearn\\svm\\_base.py:1249: ConvergenceWarning:\n",
      "\n",
      "Liblinear failed to converge, increase the number of iterations.\n",
      "\n",
      "c:\\ProgramData\\Miniconda3\\envs\\ML\\Lib\\site-packages\\sklearn\\svm\\_base.py:1249: ConvergenceWarning:\n",
      "\n",
      "Liblinear failed to converge, increase the number of iterations.\n",
      "\n",
      "[I 2025-09-25 19:07:27,160] Trial 10 finished with value: 0.824386880724909 and parameters: {'penalty': 'l1', 'max_iter': 3659, 'loss': 'squared_hinge', 'dual': False, 'C': 18.077573585039207}. Best is trial 0 with value: 0.824386880724909.\n",
      "[I 2025-09-25 19:07:27,208] Trial 11 finished with value: 0.824386880724909 and parameters: {'penalty': 'l2', 'max_iter': 2768, 'loss': 'squared_hinge', 'dual': False, 'C': 16.39894205103999}. Best is trial 0 with value: 0.824386880724909.\n",
      "[I 2025-09-25 19:07:27,269] Trial 12 finished with value: 0.824386880724909 and parameters: {'penalty': 'l2', 'max_iter': 421, 'loss': 'squared_hinge', 'dual': False, 'C': 9.373905725126594}. Best is trial 0 with value: 0.824386880724909.\n",
      "[I 2025-09-25 19:07:27,341] Trial 13 finished with value: 0.824386880724909 and parameters: {'penalty': 'l2', 'max_iter': 3351, 'loss': 'squared_hinge', 'dual': False, 'C': 6.405427154164464}. Best is trial 0 with value: 0.824386880724909.\n",
      "c:\\ProgramData\\Miniconda3\\envs\\ML\\Lib\\site-packages\\sklearn\\svm\\_base.py:1249: ConvergenceWarning:\n",
      "\n",
      "Liblinear failed to converge, increase the number of iterations.\n",
      "\n",
      "c:\\ProgramData\\Miniconda3\\envs\\ML\\Lib\\site-packages\\sklearn\\svm\\_base.py:1249: ConvergenceWarning:\n",
      "\n",
      "Liblinear failed to converge, increase the number of iterations.\n",
      "\n",
      "c:\\ProgramData\\Miniconda3\\envs\\ML\\Lib\\site-packages\\sklearn\\svm\\_base.py:1249: ConvergenceWarning:\n",
      "\n",
      "Liblinear failed to converge, increase the number of iterations.\n",
      "\n",
      "c:\\ProgramData\\Miniconda3\\envs\\ML\\Lib\\site-packages\\sklearn\\svm\\_base.py:1249: ConvergenceWarning:\n",
      "\n",
      "Liblinear failed to converge, increase the number of iterations.\n",
      "\n",
      "c:\\ProgramData\\Miniconda3\\envs\\ML\\Lib\\site-packages\\sklearn\\svm\\_base.py:1249: ConvergenceWarning:\n",
      "\n",
      "Liblinear failed to converge, increase the number of iterations.\n",
      "\n",
      "[I 2025-09-25 19:07:27,774] Trial 14 finished with value: 0.824386880724909 and parameters: {'penalty': 'l1', 'max_iter': 2071, 'loss': 'squared_hinge', 'dual': False, 'C': 18.912196888787022}. Best is trial 0 with value: 0.824386880724909.\n",
      "[I 2025-09-25 19:07:27,822] Trial 15 finished with value: 0.824386880724909 and parameters: {'penalty': 'l2', 'max_iter': 4772, 'loss': 'squared_hinge', 'dual': False, 'C': 13.611023412249535}. Best is trial 0 with value: 0.824386880724909.\n",
      "[I 2025-09-25 19:07:27,914] Trial 16 finished with value: 0.824386880724909 and parameters: {'penalty': 'l2', 'max_iter': 1716, 'loss': 'squared_hinge', 'dual': False, 'C': 10.565037581713504}. Best is trial 0 with value: 0.824386880724909.\n",
      "[I 2025-09-25 19:07:28,544] Trial 17 finished with value: 0.824386880724909 and parameters: {'penalty': 'l1', 'max_iter': 4403, 'loss': 'squared_hinge', 'dual': False, 'C': 21.605316783346424}. Best is trial 0 with value: 0.824386880724909.\n",
      "[I 2025-09-25 19:07:28,594] Trial 18 finished with value: 0.8257854821235103 and parameters: {'penalty': 'l2', 'max_iter': 6545, 'loss': 'squared_hinge', 'dual': False, 'C': 0.10511502723145849}. Best is trial 18 with value: 0.8257854821235103.\n",
      "[I 2025-09-25 19:07:28,668] Trial 19 finished with value: 0.8257854821235103 and parameters: {'penalty': 'l1', 'max_iter': 6506, 'loss': 'squared_hinge', 'dual': False, 'C': 0.393533312169712}. Best is trial 18 with value: 0.8257854821235103.\n",
      "[I 2025-09-25 19:07:28,734] Trial 20 finished with value: 0.8271840835221116 and parameters: {'penalty': 'l1', 'max_iter': 9922, 'loss': 'squared_hinge', 'dual': False, 'C': 0.1276698438451754}. Best is trial 20 with value: 0.8271840835221116.\n",
      "[I 2025-09-25 19:07:28,829] Trial 21 finished with value: 0.8257854821235103 and parameters: {'penalty': 'l1', 'max_iter': 9534, 'loss': 'squared_hinge', 'dual': False, 'C': 0.5623243033658412}. Best is trial 20 with value: 0.8271840835221116.\n",
      "[I 2025-09-25 19:07:29,090] Trial 22 finished with value: 0.824386880724909 and parameters: {'penalty': 'l1', 'max_iter': 6769, 'loss': 'squared_hinge', 'dual': False, 'C': 3.5758851918943972}. Best is trial 20 with value: 0.8271840835221116.\n",
      "[I 2025-09-25 19:07:29,325] Trial 23 finished with value: 0.824386880724909 and parameters: {'penalty': 'l1', 'max_iter': 6908, 'loss': 'squared_hinge', 'dual': False, 'C': 3.2490343117670104}. Best is trial 20 with value: 0.8271840835221116.\n",
      "[I 2025-09-25 19:07:29,426] Trial 24 finished with value: 0.824386880724909 and parameters: {'penalty': 'l1', 'max_iter': 9920, 'loss': 'squared_hinge', 'dual': False, 'C': 0.6582686994896536}. Best is trial 20 with value: 0.8271840835221116.\n",
      "[I 2025-09-25 19:07:29,812] Trial 25 finished with value: 0.824386880724909 and parameters: {'penalty': 'l1', 'max_iter': 5765, 'loss': 'squared_hinge', 'dual': False, 'C': 5.605273805501103}. Best is trial 20 with value: 0.8271840835221116.\n",
      "[I 2025-09-25 19:07:29,866] Trial 26 finished with value: 0.8257854821235103 and parameters: {'penalty': 'l2', 'max_iter': 7242, 'loss': 'squared_hinge', 'dual': False, 'C': 0.16903553449839956}. Best is trial 20 with value: 0.8271840835221116.\n",
      "[I 2025-09-25 19:07:30,080] Trial 27 finished with value: 0.824386880724909 and parameters: {'penalty': 'l1', 'max_iter': 8935, 'loss': 'squared_hinge', 'dual': False, 'C': 2.940593074385859}. Best is trial 20 with value: 0.8271840835221116.\n",
      "[I 2025-09-25 19:07:30,141] Trial 28 finished with value: 0.824386880724909 and parameters: {'penalty': 'l2', 'max_iter': 5627, 'loss': 'squared_hinge', 'dual': False, 'C': 5.0513318705962025}. Best is trial 20 with value: 0.8271840835221116.\n",
      "[I 2025-09-25 19:07:30,633] Trial 29 finished with value: 0.824386880724909 and parameters: {'penalty': 'l1', 'max_iter': 5044, 'loss': 'squared_hinge', 'dual': False, 'C': 7.270608091761431}. Best is trial 20 with value: 0.8271840835221116.\n"
     ]
    },
    {
     "name": "stdout",
     "output_type": "stream",
     "text": [
      "Best_score = 0.8271840835221116 \n",
      " Best_params = {'penalty': 'l1', 'max_iter': 9922, 'loss': 'squared_hinge', 'dual': False, 'C': 0.1276698438451754}\n"
     ]
    },
    {
     "data": {
      "application/vnd.plotly.v1+json": {
       "config": {
        "plotlyServerURL": "https://plot.ly"
       },
       "data": [
        {
         "mode": "markers",
         "name": "Objective Value",
         "type": "scatter",
         "x": [
          0,
          1,
          2,
          3,
          4,
          5,
          6,
          7,
          8,
          9,
          10,
          11,
          12,
          13,
          14,
          15,
          16,
          17,
          18,
          19,
          20,
          21,
          22,
          23,
          24,
          25,
          26,
          27,
          28,
          29
         ],
         "y": [
          0.824386880724909,
          0.824386880724909,
          0.824386880724909,
          0.824386880724909,
          0.824386880724909,
          0.824386880724909,
          0.824386880724909,
          0.824386880724909,
          0.824386880724909,
          0.824386880724909,
          0.824386880724909,
          0.824386880724909,
          0.824386880724909,
          0.824386880724909,
          0.824386880724909,
          0.824386880724909,
          0.824386880724909,
          0.824386880724909,
          0.8257854821235103,
          0.8257854821235103,
          0.8271840835221116,
          0.8257854821235103,
          0.824386880724909,
          0.824386880724909,
          0.824386880724909,
          0.824386880724909,
          0.8257854821235103,
          0.824386880724909,
          0.824386880724909,
          0.824386880724909
         ]
        },
        {
         "mode": "lines",
         "name": "Best Value",
         "type": "scatter",
         "x": [
          0,
          1,
          2,
          3,
          4,
          5,
          6,
          7,
          8,
          9,
          10,
          11,
          12,
          13,
          14,
          15,
          16,
          17,
          18,
          19,
          20,
          21,
          22,
          23,
          24,
          25,
          26,
          27,
          28,
          29
         ],
         "y": [
          0.824386880724909,
          0.824386880724909,
          0.824386880724909,
          0.824386880724909,
          0.824386880724909,
          0.824386880724909,
          0.824386880724909,
          0.824386880724909,
          0.824386880724909,
          0.824386880724909,
          0.824386880724909,
          0.824386880724909,
          0.824386880724909,
          0.824386880724909,
          0.824386880724909,
          0.824386880724909,
          0.824386880724909,
          0.824386880724909,
          0.8257854821235103,
          0.8257854821235103,
          0.8271840835221116,
          0.8271840835221116,
          0.8271840835221116,
          0.8271840835221116,
          0.8271840835221116,
          0.8271840835221116,
          0.8271840835221116,
          0.8271840835221116,
          0.8271840835221116,
          0.8271840835221116
         ]
        },
        {
         "marker": {
          "color": "#cccccc"
         },
         "mode": "markers",
         "name": "Infeasible Trial",
         "showlegend": false,
         "type": "scatter",
         "x": [],
         "y": []
        }
       ],
       "layout": {
        "template": {
         "data": {
          "bar": [
           {
            "error_x": {
             "color": "#2a3f5f"
            },
            "error_y": {
             "color": "#2a3f5f"
            },
            "marker": {
             "line": {
              "color": "#E5ECF6",
              "width": 0.5
             },
             "pattern": {
              "fillmode": "overlay",
              "size": 10,
              "solidity": 0.2
             }
            },
            "type": "bar"
           }
          ],
          "barpolar": [
           {
            "marker": {
             "line": {
              "color": "#E5ECF6",
              "width": 0.5
             },
             "pattern": {
              "fillmode": "overlay",
              "size": 10,
              "solidity": 0.2
             }
            },
            "type": "barpolar"
           }
          ],
          "carpet": [
           {
            "aaxis": {
             "endlinecolor": "#2a3f5f",
             "gridcolor": "white",
             "linecolor": "white",
             "minorgridcolor": "white",
             "startlinecolor": "#2a3f5f"
            },
            "baxis": {
             "endlinecolor": "#2a3f5f",
             "gridcolor": "white",
             "linecolor": "white",
             "minorgridcolor": "white",
             "startlinecolor": "#2a3f5f"
            },
            "type": "carpet"
           }
          ],
          "choropleth": [
           {
            "colorbar": {
             "outlinewidth": 0,
             "ticks": ""
            },
            "type": "choropleth"
           }
          ],
          "contour": [
           {
            "colorbar": {
             "outlinewidth": 0,
             "ticks": ""
            },
            "colorscale": [
             [
              0,
              "#0d0887"
             ],
             [
              0.1111111111111111,
              "#46039f"
             ],
             [
              0.2222222222222222,
              "#7201a8"
             ],
             [
              0.3333333333333333,
              "#9c179e"
             ],
             [
              0.4444444444444444,
              "#bd3786"
             ],
             [
              0.5555555555555556,
              "#d8576b"
             ],
             [
              0.6666666666666666,
              "#ed7953"
             ],
             [
              0.7777777777777778,
              "#fb9f3a"
             ],
             [
              0.8888888888888888,
              "#fdca26"
             ],
             [
              1,
              "#f0f921"
             ]
            ],
            "type": "contour"
           }
          ],
          "contourcarpet": [
           {
            "colorbar": {
             "outlinewidth": 0,
             "ticks": ""
            },
            "type": "contourcarpet"
           }
          ],
          "heatmap": [
           {
            "colorbar": {
             "outlinewidth": 0,
             "ticks": ""
            },
            "colorscale": [
             [
              0,
              "#0d0887"
             ],
             [
              0.1111111111111111,
              "#46039f"
             ],
             [
              0.2222222222222222,
              "#7201a8"
             ],
             [
              0.3333333333333333,
              "#9c179e"
             ],
             [
              0.4444444444444444,
              "#bd3786"
             ],
             [
              0.5555555555555556,
              "#d8576b"
             ],
             [
              0.6666666666666666,
              "#ed7953"
             ],
             [
              0.7777777777777778,
              "#fb9f3a"
             ],
             [
              0.8888888888888888,
              "#fdca26"
             ],
             [
              1,
              "#f0f921"
             ]
            ],
            "type": "heatmap"
           }
          ],
          "histogram": [
           {
            "marker": {
             "pattern": {
              "fillmode": "overlay",
              "size": 10,
              "solidity": 0.2
             }
            },
            "type": "histogram"
           }
          ],
          "histogram2d": [
           {
            "colorbar": {
             "outlinewidth": 0,
             "ticks": ""
            },
            "colorscale": [
             [
              0,
              "#0d0887"
             ],
             [
              0.1111111111111111,
              "#46039f"
             ],
             [
              0.2222222222222222,
              "#7201a8"
             ],
             [
              0.3333333333333333,
              "#9c179e"
             ],
             [
              0.4444444444444444,
              "#bd3786"
             ],
             [
              0.5555555555555556,
              "#d8576b"
             ],
             [
              0.6666666666666666,
              "#ed7953"
             ],
             [
              0.7777777777777778,
              "#fb9f3a"
             ],
             [
              0.8888888888888888,
              "#fdca26"
             ],
             [
              1,
              "#f0f921"
             ]
            ],
            "type": "histogram2d"
           }
          ],
          "histogram2dcontour": [
           {
            "colorbar": {
             "outlinewidth": 0,
             "ticks": ""
            },
            "colorscale": [
             [
              0,
              "#0d0887"
             ],
             [
              0.1111111111111111,
              "#46039f"
             ],
             [
              0.2222222222222222,
              "#7201a8"
             ],
             [
              0.3333333333333333,
              "#9c179e"
             ],
             [
              0.4444444444444444,
              "#bd3786"
             ],
             [
              0.5555555555555556,
              "#d8576b"
             ],
             [
              0.6666666666666666,
              "#ed7953"
             ],
             [
              0.7777777777777778,
              "#fb9f3a"
             ],
             [
              0.8888888888888888,
              "#fdca26"
             ],
             [
              1,
              "#f0f921"
             ]
            ],
            "type": "histogram2dcontour"
           }
          ],
          "mesh3d": [
           {
            "colorbar": {
             "outlinewidth": 0,
             "ticks": ""
            },
            "type": "mesh3d"
           }
          ],
          "parcoords": [
           {
            "line": {
             "colorbar": {
              "outlinewidth": 0,
              "ticks": ""
             }
            },
            "type": "parcoords"
           }
          ],
          "pie": [
           {
            "automargin": true,
            "type": "pie"
           }
          ],
          "scatter": [
           {
            "fillpattern": {
             "fillmode": "overlay",
             "size": 10,
             "solidity": 0.2
            },
            "type": "scatter"
           }
          ],
          "scatter3d": [
           {
            "line": {
             "colorbar": {
              "outlinewidth": 0,
              "ticks": ""
             }
            },
            "marker": {
             "colorbar": {
              "outlinewidth": 0,
              "ticks": ""
             }
            },
            "type": "scatter3d"
           }
          ],
          "scattercarpet": [
           {
            "marker": {
             "colorbar": {
              "outlinewidth": 0,
              "ticks": ""
             }
            },
            "type": "scattercarpet"
           }
          ],
          "scattergeo": [
           {
            "marker": {
             "colorbar": {
              "outlinewidth": 0,
              "ticks": ""
             }
            },
            "type": "scattergeo"
           }
          ],
          "scattergl": [
           {
            "marker": {
             "colorbar": {
              "outlinewidth": 0,
              "ticks": ""
             }
            },
            "type": "scattergl"
           }
          ],
          "scattermap": [
           {
            "marker": {
             "colorbar": {
              "outlinewidth": 0,
              "ticks": ""
             }
            },
            "type": "scattermap"
           }
          ],
          "scattermapbox": [
           {
            "marker": {
             "colorbar": {
              "outlinewidth": 0,
              "ticks": ""
             }
            },
            "type": "scattermapbox"
           }
          ],
          "scatterpolar": [
           {
            "marker": {
             "colorbar": {
              "outlinewidth": 0,
              "ticks": ""
             }
            },
            "type": "scatterpolar"
           }
          ],
          "scatterpolargl": [
           {
            "marker": {
             "colorbar": {
              "outlinewidth": 0,
              "ticks": ""
             }
            },
            "type": "scatterpolargl"
           }
          ],
          "scatterternary": [
           {
            "marker": {
             "colorbar": {
              "outlinewidth": 0,
              "ticks": ""
             }
            },
            "type": "scatterternary"
           }
          ],
          "surface": [
           {
            "colorbar": {
             "outlinewidth": 0,
             "ticks": ""
            },
            "colorscale": [
             [
              0,
              "#0d0887"
             ],
             [
              0.1111111111111111,
              "#46039f"
             ],
             [
              0.2222222222222222,
              "#7201a8"
             ],
             [
              0.3333333333333333,
              "#9c179e"
             ],
             [
              0.4444444444444444,
              "#bd3786"
             ],
             [
              0.5555555555555556,
              "#d8576b"
             ],
             [
              0.6666666666666666,
              "#ed7953"
             ],
             [
              0.7777777777777778,
              "#fb9f3a"
             ],
             [
              0.8888888888888888,
              "#fdca26"
             ],
             [
              1,
              "#f0f921"
             ]
            ],
            "type": "surface"
           }
          ],
          "table": [
           {
            "cells": {
             "fill": {
              "color": "#EBF0F8"
             },
             "line": {
              "color": "white"
             }
            },
            "header": {
             "fill": {
              "color": "#C8D4E3"
             },
             "line": {
              "color": "white"
             }
            },
            "type": "table"
           }
          ]
         },
         "layout": {
          "annotationdefaults": {
           "arrowcolor": "#2a3f5f",
           "arrowhead": 0,
           "arrowwidth": 1
          },
          "autotypenumbers": "strict",
          "coloraxis": {
           "colorbar": {
            "outlinewidth": 0,
            "ticks": ""
           }
          },
          "colorscale": {
           "diverging": [
            [
             0,
             "#8e0152"
            ],
            [
             0.1,
             "#c51b7d"
            ],
            [
             0.2,
             "#de77ae"
            ],
            [
             0.3,
             "#f1b6da"
            ],
            [
             0.4,
             "#fde0ef"
            ],
            [
             0.5,
             "#f7f7f7"
            ],
            [
             0.6,
             "#e6f5d0"
            ],
            [
             0.7,
             "#b8e186"
            ],
            [
             0.8,
             "#7fbc41"
            ],
            [
             0.9,
             "#4d9221"
            ],
            [
             1,
             "#276419"
            ]
           ],
           "sequential": [
            [
             0,
             "#0d0887"
            ],
            [
             0.1111111111111111,
             "#46039f"
            ],
            [
             0.2222222222222222,
             "#7201a8"
            ],
            [
             0.3333333333333333,
             "#9c179e"
            ],
            [
             0.4444444444444444,
             "#bd3786"
            ],
            [
             0.5555555555555556,
             "#d8576b"
            ],
            [
             0.6666666666666666,
             "#ed7953"
            ],
            [
             0.7777777777777778,
             "#fb9f3a"
            ],
            [
             0.8888888888888888,
             "#fdca26"
            ],
            [
             1,
             "#f0f921"
            ]
           ],
           "sequentialminus": [
            [
             0,
             "#0d0887"
            ],
            [
             0.1111111111111111,
             "#46039f"
            ],
            [
             0.2222222222222222,
             "#7201a8"
            ],
            [
             0.3333333333333333,
             "#9c179e"
            ],
            [
             0.4444444444444444,
             "#bd3786"
            ],
            [
             0.5555555555555556,
             "#d8576b"
            ],
            [
             0.6666666666666666,
             "#ed7953"
            ],
            [
             0.7777777777777778,
             "#fb9f3a"
            ],
            [
             0.8888888888888888,
             "#fdca26"
            ],
            [
             1,
             "#f0f921"
            ]
           ]
          },
          "colorway": [
           "#636efa",
           "#EF553B",
           "#00cc96",
           "#ab63fa",
           "#FFA15A",
           "#19d3f3",
           "#FF6692",
           "#B6E880",
           "#FF97FF",
           "#FECB52"
          ],
          "font": {
           "color": "#2a3f5f"
          },
          "geo": {
           "bgcolor": "white",
           "lakecolor": "white",
           "landcolor": "#E5ECF6",
           "showlakes": true,
           "showland": true,
           "subunitcolor": "white"
          },
          "hoverlabel": {
           "align": "left"
          },
          "hovermode": "closest",
          "mapbox": {
           "style": "light"
          },
          "paper_bgcolor": "white",
          "plot_bgcolor": "#E5ECF6",
          "polar": {
           "angularaxis": {
            "gridcolor": "white",
            "linecolor": "white",
            "ticks": ""
           },
           "bgcolor": "#E5ECF6",
           "radialaxis": {
            "gridcolor": "white",
            "linecolor": "white",
            "ticks": ""
           }
          },
          "scene": {
           "xaxis": {
            "backgroundcolor": "#E5ECF6",
            "gridcolor": "white",
            "gridwidth": 2,
            "linecolor": "white",
            "showbackground": true,
            "ticks": "",
            "zerolinecolor": "white"
           },
           "yaxis": {
            "backgroundcolor": "#E5ECF6",
            "gridcolor": "white",
            "gridwidth": 2,
            "linecolor": "white",
            "showbackground": true,
            "ticks": "",
            "zerolinecolor": "white"
           },
           "zaxis": {
            "backgroundcolor": "#E5ECF6",
            "gridcolor": "white",
            "gridwidth": 2,
            "linecolor": "white",
            "showbackground": true,
            "ticks": "",
            "zerolinecolor": "white"
           }
          },
          "shapedefaults": {
           "line": {
            "color": "#2a3f5f"
           }
          },
          "ternary": {
           "aaxis": {
            "gridcolor": "white",
            "linecolor": "white",
            "ticks": ""
           },
           "baxis": {
            "gridcolor": "white",
            "linecolor": "white",
            "ticks": ""
           },
           "bgcolor": "#E5ECF6",
           "caxis": {
            "gridcolor": "white",
            "linecolor": "white",
            "ticks": ""
           }
          },
          "title": {
           "x": 0.05
          },
          "xaxis": {
           "automargin": true,
           "gridcolor": "white",
           "linecolor": "white",
           "ticks": "",
           "title": {
            "standoff": 15
           },
           "zerolinecolor": "white",
           "zerolinewidth": 2
          },
          "yaxis": {
           "automargin": true,
           "gridcolor": "white",
           "linecolor": "white",
           "ticks": "",
           "title": {
            "standoff": 15
           },
           "zerolinecolor": "white",
           "zerolinewidth": 2
          }
         }
        },
        "title": {
         "text": "Optimization History Plot"
        },
        "xaxis": {
         "title": {
          "text": "Trial"
         }
        },
        "yaxis": {
         "title": {
          "text": "Objective Value"
         }
        }
       }
      }
     },
     "metadata": {},
     "output_type": "display_data"
    }
   ],
   "source": [
    "def objective(trial):\n",
    "    params={'penalty':trial.suggest_categorical('penalty',['l1', 'l2']),\n",
    "            'max_iter':trial.suggest_int('max_iter', 100,10000),\n",
    "            'loss':trial.suggest_categorical('loss', ['squared_hinge']),\n",
    "            'dual':trial.suggest_categorical('dual', [False]),\n",
    "            'C':trial.suggest_float('C',.1, 30)\n",
    "           }\n",
    "    \n",
    "    ideal_svc = LinearSVC(**params, random_state=12)\n",
    "\n",
    "    cv=StratifiedKFold(n_splits=5, shuffle=True, random_state=12)\n",
    "    score = cross_val_score(ideal_svc,\n",
    "                            X_train_svc, \n",
    "                            y_train,\n",
    "                            cv=cv,\n",
    "                            scoring='accuracy').mean()\n",
    "    \n",
    "    return score \n",
    "    \n",
    "# create study\n",
    "study = opt.create_study(direction='maximize')\n",
    "\n",
    "# optimize study\n",
    "study.optimize(objective, n_trials=30)\n",
    "\n",
    "best_score_svc = study.best_value \n",
    "best_param_svc = study.best_params \n",
    "\n",
    "print(f'Best_score = {best_score_svc} \\n Best_params = {best_param_svc}')\n",
    "\n",
    "opt.visualization.plot_optimization_history(study).show()"
   ]
  },
  {
   "cell_type": "markdown",
   "id": "12901b17",
   "metadata": {},
   "source": [
    "Having tried to tune `LinearSVC` with RandomizedSearchCV and Optuna with the best score being `82`% it's best to drop it and move to morre promising models"
   ]
  },
  {
   "cell_type": "markdown",
   "id": "481fbeef",
   "metadata": {},
   "source": [
    "### Hyper-parameter Tuning to improve score\n",
    "1. With RandomizedSearchCV"
   ]
  },
  {
   "cell_type": "code",
   "execution_count": 161,
   "id": "d855175f",
   "metadata": {},
   "outputs": [],
   "source": [
    "# Tune CatBoost and RandomizedForestClassifier with Randomized CV\n",
    "\n",
    "clf_rs = RandomForestClassifier()\n",
    "cat_rs = cat.CatBoostClassifier()\n",
    "\n",
    "models = {'clf': clf_rs,\n",
    "          'cat': cat_rs}\n",
    "\n",
    "clf_rs_param = {\n",
    "    'n_estimators':list(range(10,300)),\n",
    "    'max_depth':list(range(1,10)),\n",
    "    'min_samples_leaf': list(range(5,20)),\n",
    "    'min_samples_split': list(range(5,20)),\n",
    "    'criterion':['gini', 'entropy', 'log_loss'],\n",
    "    'max_features':['sqrt', 'log2', None],\n",
    "    #'max_leaf_nodes':list(range(2,100)),\n",
    "    'min_weight_fraction_leaf': np.random.uniform(.0, .05, size=20).tolist()\n",
    "}\n",
    "\n",
    "cat_rs_param = {\n",
    "    'iterations':np.arange(100,300,20).tolist(),\n",
    "    'learning_rate':np.random.uniform(.05,.1, size=20).tolist(),\n",
    "    'depth':np.arange(4,10).tolist(),\n",
    "    'l2_leaf_reg':np.arange(1,10).tolist(),\n",
    "    'subsample': np.random.uniform(.5, 1, size=20).tolist()\n",
    "}\n",
    "\n",
    "# RandomizedSearchCV function\n",
    "def r_search(model, params):\n",
    "\n",
    "    cv=StratifiedKFold(n_splits=5, shuffle=True, random_state=12)\n",
    "\n",
    "    r_model = RandomizedSearchCV(\n",
    "        model,\n",
    "        param_distributions=params,\n",
    "        cv = cv,\n",
    "        n_iter=10,\n",
    "        scoring='accuracy',\n",
    "        verbose=1,\n",
    "        random_state=12,\n",
    "        n_jobs=-1\n",
    "    )\n",
    "\n",
    "    r_model.fit(X_train, y_train)\n",
    "    y_preds = r_model.predict(X_valid)\n",
    "    score = accuracy_score(y_valid, y_preds)\n",
    "    return score "
   ]
  },
  {
   "cell_type": "code",
   "execution_count": 163,
   "id": "103ef8aa",
   "metadata": {},
   "outputs": [
    {
     "name": "stdout",
     "output_type": "stream",
     "text": [
      "Fitting 5 folds for each of 10 candidates, totalling 50 fits\n",
      "0:\tlearn: 0.6490988\ttotal: 49.1ms\tremaining: 8.78s\n",
      "1:\tlearn: 0.6051990\ttotal: 58.1ms\tremaining: 5.17s\n",
      "2:\tlearn: 0.5751123\ttotal: 63.4ms\tremaining: 3.74s\n",
      "3:\tlearn: 0.5449183\ttotal: 65.8ms\tremaining: 2.89s\n",
      "4:\tlearn: 0.5210846\ttotal: 74.6ms\tremaining: 2.61s\n",
      "5:\tlearn: 0.4973774\ttotal: 82.2ms\tremaining: 2.38s\n",
      "6:\tlearn: 0.4804356\ttotal: 90.2ms\tremaining: 2.23s\n",
      "7:\tlearn: 0.4623976\ttotal: 101ms\tremaining: 2.17s\n",
      "8:\tlearn: 0.4466690\ttotal: 120ms\tremaining: 2.28s\n",
      "9:\tlearn: 0.4355263\ttotal: 214ms\tremaining: 3.64s\n",
      "10:\tlearn: 0.4237173\ttotal: 228ms\tremaining: 3.5s\n",
      "11:\tlearn: 0.4138788\ttotal: 239ms\tremaining: 3.34s\n",
      "12:\tlearn: 0.4064344\ttotal: 241ms\tremaining: 3.1s\n",
      "13:\tlearn: 0.3986676\ttotal: 252ms\tremaining: 2.98s\n",
      "14:\tlearn: 0.3906469\ttotal: 260ms\tremaining: 2.86s\n",
      "15:\tlearn: 0.3837184\ttotal: 271ms\tremaining: 2.78s\n",
      "16:\tlearn: 0.3773988\ttotal: 306ms\tremaining: 2.93s\n",
      "17:\tlearn: 0.3714572\ttotal: 317ms\tremaining: 2.85s\n",
      "18:\tlearn: 0.3655979\ttotal: 325ms\tremaining: 2.76s\n",
      "19:\tlearn: 0.3598366\ttotal: 339ms\tremaining: 2.71s\n",
      "20:\tlearn: 0.3540806\ttotal: 357ms\tremaining: 2.7s\n",
      "21:\tlearn: 0.3484861\ttotal: 380ms\tremaining: 2.73s\n",
      "22:\tlearn: 0.3462353\ttotal: 386ms\tremaining: 2.64s\n",
      "23:\tlearn: 0.3434680\ttotal: 395ms\tremaining: 2.57s\n",
      "24:\tlearn: 0.3394560\ttotal: 408ms\tremaining: 2.53s\n",
      "25:\tlearn: 0.3352196\ttotal: 421ms\tremaining: 2.5s\n",
      "26:\tlearn: 0.3322550\ttotal: 434ms\tremaining: 2.46s\n",
      "27:\tlearn: 0.3277391\ttotal: 442ms\tremaining: 2.4s\n",
      "28:\tlearn: 0.3257142\ttotal: 455ms\tremaining: 2.37s\n",
      "29:\tlearn: 0.3232077\ttotal: 468ms\tremaining: 2.34s\n",
      "30:\tlearn: 0.3189784\ttotal: 484ms\tremaining: 2.32s\n",
      "31:\tlearn: 0.3156289\ttotal: 492ms\tremaining: 2.27s\n",
      "32:\tlearn: 0.3131230\ttotal: 503ms\tremaining: 2.24s\n",
      "33:\tlearn: 0.3102315\ttotal: 513ms\tremaining: 2.2s\n",
      "34:\tlearn: 0.3073646\ttotal: 525ms\tremaining: 2.17s\n",
      "35:\tlearn: 0.3039339\ttotal: 541ms\tremaining: 2.16s\n",
      "36:\tlearn: 0.3023846\ttotal: 553ms\tremaining: 2.14s\n",
      "37:\tlearn: 0.2991719\ttotal: 562ms\tremaining: 2.1s\n",
      "38:\tlearn: 0.2981511\ttotal: 574ms\tremaining: 2.08s\n",
      "39:\tlearn: 0.2954740\ttotal: 600ms\tremaining: 2.1s\n",
      "40:\tlearn: 0.2945095\ttotal: 611ms\tremaining: 2.07s\n",
      "41:\tlearn: 0.2930240\ttotal: 632ms\tremaining: 2.08s\n",
      "42:\tlearn: 0.2917294\ttotal: 638ms\tremaining: 2.03s\n",
      "43:\tlearn: 0.2891403\ttotal: 652ms\tremaining: 2.02s\n",
      "44:\tlearn: 0.2870794\ttotal: 668ms\tremaining: 2s\n",
      "45:\tlearn: 0.2840347\ttotal: 677ms\tremaining: 1.97s\n",
      "46:\tlearn: 0.2823707\ttotal: 686ms\tremaining: 1.94s\n",
      "47:\tlearn: 0.2817491\ttotal: 689ms\tremaining: 1.89s\n",
      "48:\tlearn: 0.2802169\ttotal: 701ms\tremaining: 1.87s\n",
      "49:\tlearn: 0.2793970\ttotal: 712ms\tremaining: 1.85s\n",
      "50:\tlearn: 0.2763729\ttotal: 720ms\tremaining: 1.82s\n",
      "51:\tlearn: 0.2753712\ttotal: 731ms\tremaining: 1.8s\n",
      "52:\tlearn: 0.2742297\ttotal: 739ms\tremaining: 1.77s\n",
      "53:\tlearn: 0.2730839\ttotal: 774ms\tremaining: 1.81s\n",
      "54:\tlearn: 0.2710920\ttotal: 782ms\tremaining: 1.78s\n",
      "55:\tlearn: 0.2700549\ttotal: 793ms\tremaining: 1.75s\n",
      "56:\tlearn: 0.2684198\ttotal: 801ms\tremaining: 1.73s\n",
      "57:\tlearn: 0.2665746\ttotal: 815ms\tremaining: 1.72s\n",
      "58:\tlearn: 0.2650492\ttotal: 831ms\tremaining: 1.7s\n",
      "59:\tlearn: 0.2631823\ttotal: 841ms\tremaining: 1.68s\n",
      "60:\tlearn: 0.2610798\ttotal: 850ms\tremaining: 1.66s\n",
      "61:\tlearn: 0.2577158\ttotal: 864ms\tremaining: 1.64s\n",
      "62:\tlearn: 0.2566570\ttotal: 867ms\tremaining: 1.61s\n",
      "63:\tlearn: 0.2544039\ttotal: 880ms\tremaining: 1.59s\n",
      "64:\tlearn: 0.2530160\ttotal: 894ms\tremaining: 1.58s\n",
      "65:\tlearn: 0.2515498\ttotal: 906ms\tremaining: 1.56s\n",
      "66:\tlearn: 0.2489829\ttotal: 916ms\tremaining: 1.54s\n",
      "67:\tlearn: 0.2463120\ttotal: 928ms\tremaining: 1.53s\n",
      "68:\tlearn: 0.2432964\ttotal: 940ms\tremaining: 1.51s\n",
      "69:\tlearn: 0.2432038\ttotal: 943ms\tremaining: 1.48s\n",
      "70:\tlearn: 0.2416461\ttotal: 956ms\tremaining: 1.47s\n",
      "71:\tlearn: 0.2402294\ttotal: 968ms\tremaining: 1.45s\n",
      "72:\tlearn: 0.2398866\ttotal: 974ms\tremaining: 1.43s\n",
      "73:\tlearn: 0.2381226\ttotal: 985ms\tremaining: 1.41s\n",
      "74:\tlearn: 0.2362819\ttotal: 994ms\tremaining: 1.39s\n",
      "75:\tlearn: 0.2344486\ttotal: 1s\tremaining: 1.38s\n",
      "76:\tlearn: 0.2326707\ttotal: 1.02s\tremaining: 1.36s\n",
      "77:\tlearn: 0.2298760\ttotal: 1.03s\tremaining: 1.34s\n",
      "78:\tlearn: 0.2282913\ttotal: 1.04s\tremaining: 1.33s\n",
      "79:\tlearn: 0.2271026\ttotal: 1.05s\tremaining: 1.31s\n",
      "80:\tlearn: 0.2262485\ttotal: 1.06s\tremaining: 1.29s\n",
      "81:\tlearn: 0.2243567\ttotal: 1.07s\tremaining: 1.28s\n",
      "82:\tlearn: 0.2216607\ttotal: 1.08s\tremaining: 1.26s\n",
      "83:\tlearn: 0.2199526\ttotal: 1.09s\tremaining: 1.25s\n",
      "84:\tlearn: 0.2183089\ttotal: 1.1s\tremaining: 1.23s\n",
      "85:\tlearn: 0.2164929\ttotal: 1.11s\tremaining: 1.22s\n",
      "86:\tlearn: 0.2149718\ttotal: 1.12s\tremaining: 1.2s\n",
      "87:\tlearn: 0.2137752\ttotal: 1.13s\tremaining: 1.18s\n",
      "88:\tlearn: 0.2132709\ttotal: 1.14s\tremaining: 1.17s\n",
      "89:\tlearn: 0.2105229\ttotal: 1.15s\tremaining: 1.15s\n",
      "90:\tlearn: 0.2094347\ttotal: 1.16s\tremaining: 1.14s\n",
      "91:\tlearn: 0.2083133\ttotal: 1.17s\tremaining: 1.12s\n",
      "92:\tlearn: 0.2067681\ttotal: 1.19s\tremaining: 1.11s\n",
      "93:\tlearn: 0.2057798\ttotal: 1.2s\tremaining: 1.09s\n",
      "94:\tlearn: 0.2040632\ttotal: 1.28s\tremaining: 1.14s\n",
      "95:\tlearn: 0.2017819\ttotal: 1.31s\tremaining: 1.14s\n",
      "96:\tlearn: 0.2002479\ttotal: 1.33s\tremaining: 1.14s\n",
      "97:\tlearn: 0.1993005\ttotal: 1.34s\tremaining: 1.12s\n",
      "98:\tlearn: 0.1977865\ttotal: 1.35s\tremaining: 1.11s\n",
      "99:\tlearn: 0.1963748\ttotal: 1.36s\tremaining: 1.09s\n",
      "100:\tlearn: 0.1957974\ttotal: 1.38s\tremaining: 1.08s\n",
      "101:\tlearn: 0.1942965\ttotal: 1.39s\tremaining: 1.06s\n",
      "102:\tlearn: 0.1935456\ttotal: 1.39s\tremaining: 1.04s\n",
      "103:\tlearn: 0.1921453\ttotal: 1.4s\tremaining: 1.02s\n",
      "104:\tlearn: 0.1905135\ttotal: 1.41s\tremaining: 1.01s\n",
      "105:\tlearn: 0.1892194\ttotal: 1.42s\tremaining: 995ms\n",
      "106:\tlearn: 0.1885336\ttotal: 1.44s\tremaining: 982ms\n",
      "107:\tlearn: 0.1869280\ttotal: 1.45s\tremaining: 966ms\n",
      "108:\tlearn: 0.1864802\ttotal: 1.46s\tremaining: 949ms\n",
      "109:\tlearn: 0.1857215\ttotal: 1.47s\tremaining: 934ms\n",
      "110:\tlearn: 0.1837396\ttotal: 1.48s\tremaining: 919ms\n",
      "111:\tlearn: 0.1828881\ttotal: 1.49s\tremaining: 903ms\n",
      "112:\tlearn: 0.1827576\ttotal: 1.49s\tremaining: 883ms\n",
      "113:\tlearn: 0.1808137\ttotal: 1.5s\tremaining: 869ms\n",
      "114:\tlearn: 0.1787995\ttotal: 1.51s\tremaining: 856ms\n",
      "115:\tlearn: 0.1782742\ttotal: 1.52s\tremaining: 840ms\n",
      "116:\tlearn: 0.1778875\ttotal: 1.53s\tremaining: 826ms\n",
      "117:\tlearn: 0.1774736\ttotal: 1.55s\tremaining: 814ms\n",
      "118:\tlearn: 0.1767309\ttotal: 1.56s\tremaining: 801ms\n",
      "119:\tlearn: 0.1754482\ttotal: 1.57s\tremaining: 787ms\n",
      "120:\tlearn: 0.1742887\ttotal: 1.58s\tremaining: 773ms\n",
      "121:\tlearn: 0.1735577\ttotal: 1.6s\tremaining: 759ms\n",
      "122:\tlearn: 0.1729738\ttotal: 1.61s\tremaining: 746ms\n",
      "123:\tlearn: 0.1722586\ttotal: 1.62s\tremaining: 732ms\n",
      "124:\tlearn: 0.1722089\ttotal: 1.63s\tremaining: 715ms\n",
      "125:\tlearn: 0.1701759\ttotal: 1.64s\tremaining: 702ms\n",
      "126:\tlearn: 0.1684362\ttotal: 1.68s\tremaining: 700ms\n",
      "127:\tlearn: 0.1664328\ttotal: 1.69s\tremaining: 687ms\n",
      "128:\tlearn: 0.1658335\ttotal: 1.7s\tremaining: 672ms\n",
      "129:\tlearn: 0.1657179\ttotal: 1.71s\tremaining: 658ms\n",
      "130:\tlearn: 0.1652692\ttotal: 1.72s\tremaining: 645ms\n",
      "131:\tlearn: 0.1647854\ttotal: 1.74s\tremaining: 632ms\n",
      "132:\tlearn: 0.1646598\ttotal: 1.75s\tremaining: 618ms\n",
      "133:\tlearn: 0.1627716\ttotal: 1.76s\tremaining: 604ms\n",
      "134:\tlearn: 0.1604244\ttotal: 1.77s\tremaining: 590ms\n",
      "135:\tlearn: 0.1603375\ttotal: 1.78s\tremaining: 575ms\n",
      "136:\tlearn: 0.1590817\ttotal: 1.79s\tremaining: 561ms\n",
      "137:\tlearn: 0.1580582\ttotal: 1.8s\tremaining: 547ms\n",
      "138:\tlearn: 0.1572909\ttotal: 1.81s\tremaining: 534ms\n",
      "139:\tlearn: 0.1570129\ttotal: 1.82s\tremaining: 521ms\n",
      "140:\tlearn: 0.1565165\ttotal: 1.83s\tremaining: 507ms\n",
      "141:\tlearn: 0.1564984\ttotal: 1.84s\tremaining: 491ms\n",
      "142:\tlearn: 0.1552849\ttotal: 1.84s\tremaining: 477ms\n",
      "143:\tlearn: 0.1549061\ttotal: 1.85s\tremaining: 464ms\n",
      "144:\tlearn: 0.1538985\ttotal: 1.87s\tremaining: 450ms\n",
      "145:\tlearn: 0.1529687\ttotal: 1.87s\tremaining: 437ms\n",
      "146:\tlearn: 0.1517982\ttotal: 1.88s\tremaining: 423ms\n",
      "147:\tlearn: 0.1505152\ttotal: 1.9s\tremaining: 410ms\n",
      "148:\tlearn: 0.1492825\ttotal: 1.91s\tremaining: 397ms\n",
      "149:\tlearn: 0.1490800\ttotal: 1.93s\tremaining: 385ms\n",
      "150:\tlearn: 0.1484438\ttotal: 1.94s\tremaining: 372ms\n",
      "151:\tlearn: 0.1476596\ttotal: 1.95s\tremaining: 358ms\n",
      "152:\tlearn: 0.1472394\ttotal: 1.96s\tremaining: 345ms\n",
      "153:\tlearn: 0.1465007\ttotal: 1.97s\tremaining: 332ms\n",
      "154:\tlearn: 0.1453734\ttotal: 1.98s\tremaining: 319ms\n",
      "155:\tlearn: 0.1437438\ttotal: 1.99s\tremaining: 306ms\n",
      "156:\tlearn: 0.1420121\ttotal: 2s\tremaining: 292ms\n",
      "157:\tlearn: 0.1408494\ttotal: 2.01s\tremaining: 279ms\n",
      "158:\tlearn: 0.1407079\ttotal: 2.02s\tremaining: 266ms\n",
      "159:\tlearn: 0.1398242\ttotal: 2.02s\tremaining: 253ms\n",
      "160:\tlearn: 0.1386029\ttotal: 2.04s\tremaining: 240ms\n",
      "161:\tlearn: 0.1376518\ttotal: 2.04s\tremaining: 227ms\n",
      "162:\tlearn: 0.1374245\ttotal: 2.06s\tremaining: 214ms\n",
      "163:\tlearn: 0.1361732\ttotal: 2.07s\tremaining: 202ms\n",
      "164:\tlearn: 0.1355162\ttotal: 2.08s\tremaining: 189ms\n",
      "165:\tlearn: 0.1349550\ttotal: 2.09s\tremaining: 176ms\n",
      "166:\tlearn: 0.1333046\ttotal: 2.1s\tremaining: 164ms\n",
      "167:\tlearn: 0.1325524\ttotal: 2.12s\tremaining: 151ms\n",
      "168:\tlearn: 0.1317865\ttotal: 2.14s\tremaining: 139ms\n",
      "169:\tlearn: 0.1315168\ttotal: 2.15s\tremaining: 126ms\n",
      "170:\tlearn: 0.1308888\ttotal: 2.16s\tremaining: 114ms\n",
      "171:\tlearn: 0.1304126\ttotal: 2.17s\tremaining: 101ms\n",
      "172:\tlearn: 0.1299479\ttotal: 2.18s\tremaining: 88.3ms\n",
      "173:\tlearn: 0.1288530\ttotal: 2.23s\tremaining: 76.9ms\n",
      "174:\tlearn: 0.1276674\ttotal: 2.25s\tremaining: 64.4ms\n",
      "175:\tlearn: 0.1274854\ttotal: 2.29s\tremaining: 51.9ms\n",
      "176:\tlearn: 0.1263818\ttotal: 2.31s\tremaining: 39.2ms\n",
      "177:\tlearn: 0.1254775\ttotal: 2.35s\tremaining: 26.4ms\n",
      "178:\tlearn: 0.1243518\ttotal: 2.38s\tremaining: 13.3ms\n",
      "179:\tlearn: 0.1235779\ttotal: 2.41s\tremaining: 0us\n"
     ]
    },
    {
     "data": {
      "text/plain": [
       "0.8044692737430168"
      ]
     },
     "execution_count": 163,
     "metadata": {},
     "output_type": "execute_result"
    }
   ],
   "source": [
    "r_search(cat_rs, cat_rs_param)"
   ]
  },
  {
   "cell_type": "code",
   "execution_count": null,
   "id": "d2a5abfb",
   "metadata": {},
   "outputs": [],
   "source": [
    "r_search(clf_rs, clf_rs_param)"
   ]
  },
  {
   "cell_type": "code",
   "execution_count": 138,
   "id": "d02d0ea6",
   "metadata": {},
   "outputs": [
    {
     "data": {
      "text/plain": [
       "list[catboost.core.CatBoost.get_all_params]"
      ]
     },
     "execution_count": 138,
     "metadata": {},
     "output_type": "execute_result"
    }
   ],
   "source": [
    "list[cat_rs.get_all_params]"
   ]
  },
  {
   "cell_type": "markdown",
   "id": "92a3a944",
   "metadata": {},
   "source": [
    "2. GridSearchCV Tuning"
   ]
  },
  {
   "cell_type": "code",
   "execution_count": null,
   "id": "94311fd9",
   "metadata": {},
   "outputs": [],
   "source": []
  },
  {
   "cell_type": "markdown",
   "id": "6e6d7bba",
   "metadata": {},
   "source": [
    "3. Optuna parameter tuning"
   ]
  },
  {
   "cell_type": "code",
   "execution_count": null,
   "id": "eb76dbbc",
   "metadata": {},
   "outputs": [],
   "source": []
  },
  {
   "cell_type": "code",
   "execution_count": null,
   "id": "617bbf13",
   "metadata": {},
   "outputs": [],
   "source": []
  },
  {
   "cell_type": "code",
   "execution_count": null,
   "id": "d2289ec9",
   "metadata": {},
   "outputs": [],
   "source": []
  },
  {
   "cell_type": "code",
   "execution_count": null,
   "id": "e001c7bd",
   "metadata": {},
   "outputs": [],
   "source": []
  },
  {
   "cell_type": "code",
   "execution_count": null,
   "id": "13e1241c",
   "metadata": {},
   "outputs": [],
   "source": []
  },
  {
   "cell_type": "code",
   "execution_count": null,
   "id": "66d9bf22",
   "metadata": {},
   "outputs": [],
   "source": []
  },
  {
   "cell_type": "code",
   "execution_count": null,
   "id": "c8faa7b5",
   "metadata": {},
   "outputs": [],
   "source": []
  },
  {
   "cell_type": "code",
   "execution_count": null,
   "id": "fba82b37",
   "metadata": {},
   "outputs": [],
   "source": []
  },
  {
   "cell_type": "code",
   "execution_count": null,
   "id": "b11d1dbf",
   "metadata": {},
   "outputs": [],
   "source": []
  },
  {
   "cell_type": "code",
   "execution_count": null,
   "id": "8dd73b77",
   "metadata": {},
   "outputs": [],
   "source": []
  },
  {
   "cell_type": "code",
   "execution_count": 110,
   "id": "90423627",
   "metadata": {},
   "outputs": [],
   "source": [
    "# create objective function\n",
    "def objective(trial):\n",
    "    params = {'n_estimators': trial.suggest_int('n_estimators',10,500),\n",
    "              'min_samples_split': trial.suggest_float('min_samples_split',.2, .5),\n",
    "              'min_samples_leaf': trial.suggest_float('min_samples_leaf',.3,.5),\n",
    "              'max_features': trial.suggest_categorical('max_features', ['sqrt', 'log2']),\n",
    "              'max_depth': trial.suggest_int('max_depth', 5,15),\n",
    "              'criterion': trial.suggest_categorical('criterion', ['gini', 'entropy']),\n",
    "              'class_weight': trial.suggest_categorical('class_weight', [None])}\n",
    "    \n",
    "    # instantiate model\n",
    "    clf_4 = RandomForestClassifier(**params, n_jobs=-1, random_state=12)\n",
    "\n",
    "    # evaluate score\n",
    "    cv = StratifiedKFold(n_splits=5, shuffle=True, random_state=12) # to ensure robustness ensure reproducibility by setting cv with fixed shuffling\n",
    "    score = cross_val_score(clf_4,\n",
    "                            X_train,\n",
    "                            y_train,\n",
    "                            cv = cv,\n",
    "                            scoring='accuracy',\n",
    "                            n_jobs=-1).mean() \n",
    "    \n",
    "    # return the score value as evaluation metric \n",
    "    return score "
   ]
  },
  {
   "cell_type": "code",
   "execution_count": null,
   "id": "b60e9269",
   "metadata": {},
   "outputs": [
    {
     "name": "stderr",
     "output_type": "stream",
     "text": [
      "[I 2025-09-25 18:35:39,407] A new study created in memory with name: no-name-675bd911-cee9-46d5-a236-c5a656126022\n",
      "[I 2025-09-25 18:35:44,804] Trial 0 finished with value: 0.6165763813651137 and parameters: {'n_estimators': 439, 'min_samples_split': 0.4731663183997827, 'min_samples_leaf': 0.4076460132787512, 'max_features': 'log2', 'max_depth': 11, 'criterion': 'entropy', 'class_weight': None}. Best is trial 0 with value: 0.6165763813651137.\n",
      "[I 2025-09-25 18:35:45,864] Trial 1 finished with value: 0.6165763813651137 and parameters: {'n_estimators': 95, 'min_samples_split': 0.20489422920496408, 'min_samples_leaf': 0.4764515712661325, 'max_features': 'sqrt', 'max_depth': 6, 'criterion': 'entropy', 'class_weight': None}. Best is trial 0 with value: 0.6165763813651137.\n",
      "[I 2025-09-25 18:35:51,220] Trial 2 finished with value: 0.6165763813651137 and parameters: {'n_estimators': 489, 'min_samples_split': 0.38725739136009607, 'min_samples_leaf': 0.37291649146776973, 'max_features': 'sqrt', 'max_depth': 7, 'criterion': 'entropy', 'class_weight': None}. Best is trial 0 with value: 0.6165763813651137.\n",
      "[I 2025-09-25 18:35:53,882] Trial 3 finished with value: 0.6165763813651137 and parameters: {'n_estimators': 286, 'min_samples_split': 0.3846561719675078, 'min_samples_leaf': 0.42336275961819947, 'max_features': 'log2', 'max_depth': 12, 'criterion': 'gini', 'class_weight': None}. Best is trial 0 with value: 0.6165763813651137.\n",
      "[I 2025-09-25 18:35:55,045] Trial 4 finished with value: 0.6165763813651137 and parameters: {'n_estimators': 108, 'min_samples_split': 0.29648636929670913, 'min_samples_leaf': 0.4542193191916117, 'max_features': 'sqrt', 'max_depth': 12, 'criterion': 'gini', 'class_weight': None}. Best is trial 0 with value: 0.6165763813651137.\n",
      "[W 2025-09-25 18:35:58,940] Trial 5 failed with parameters: {'n_estimators': 445, 'min_samples_split': 0.28274219795165023, 'min_samples_leaf': 0.46881809278179143, 'max_features': 'sqrt', 'max_depth': 9, 'criterion': 'gini', 'class_weight': None} because of the following error: KeyboardInterrupt().\n",
      "Traceback (most recent call last):\n",
      "  File \"c:\\ProgramData\\Miniconda3\\envs\\ML\\Lib\\site-packages\\optuna\\study\\_optimize.py\", line 201, in _run_trial\n",
      "    value_or_values = func(trial)\n",
      "                      ^^^^^^^^^^^\n",
      "  File \"C:\\Users\\Admin\\AppData\\Local\\Temp\\ipykernel_9148\\3184798314.py\", line 16, in objective\n",
      "    score = cross_val_score(clf_4,\n",
      "            ^^^^^^^^^^^^^^^^^^^^^^\n",
      "  File \"c:\\ProgramData\\Miniconda3\\envs\\ML\\Lib\\site-packages\\sklearn\\utils\\_param_validation.py\", line 216, in wrapper\n",
      "    return func(*args, **kwargs)\n",
      "           ^^^^^^^^^^^^^^^^^^^^^\n",
      "  File \"c:\\ProgramData\\Miniconda3\\envs\\ML\\Lib\\site-packages\\sklearn\\model_selection\\_validation.py\", line 684, in cross_val_score\n",
      "    cv_results = cross_validate(\n",
      "                 ^^^^^^^^^^^^^^^\n",
      "  File \"c:\\ProgramData\\Miniconda3\\envs\\ML\\Lib\\site-packages\\sklearn\\utils\\_param_validation.py\", line 216, in wrapper\n",
      "    return func(*args, **kwargs)\n",
      "           ^^^^^^^^^^^^^^^^^^^^^\n",
      "  File \"c:\\ProgramData\\Miniconda3\\envs\\ML\\Lib\\site-packages\\sklearn\\model_selection\\_validation.py\", line 411, in cross_validate\n",
      "    results = parallel(\n",
      "              ^^^^^^^^^\n",
      "  File \"c:\\ProgramData\\Miniconda3\\envs\\ML\\Lib\\site-packages\\sklearn\\utils\\parallel.py\", line 77, in __call__\n",
      "    return super().__call__(iterable_with_config)\n",
      "           ^^^^^^^^^^^^^^^^^^^^^^^^^^^^^^^^^^^^^^\n",
      "  File \"c:\\ProgramData\\Miniconda3\\envs\\ML\\Lib\\site-packages\\joblib\\parallel.py\", line 2007, in __call__\n",
      "    return output if self.return_generator else list(output)\n",
      "                                                ^^^^^^^^^^^^\n",
      "  File \"c:\\ProgramData\\Miniconda3\\envs\\ML\\Lib\\site-packages\\joblib\\parallel.py\", line 1650, in _get_outputs\n",
      "    yield from self._retrieve()\n",
      "  File \"c:\\ProgramData\\Miniconda3\\envs\\ML\\Lib\\site-packages\\joblib\\parallel.py\", line 1762, in _retrieve\n",
      "    time.sleep(0.01)\n",
      "KeyboardInterrupt\n",
      "[W 2025-09-25 18:35:58,982] Trial 5 failed with value None.\n"
     ]
    },
    {
     "ename": "KeyboardInterrupt",
     "evalue": "",
     "output_type": "error",
     "traceback": [
      "\u001b[1;31m---------------------------------------------------------------------------\u001b[0m",
      "\u001b[1;31mKeyboardInterrupt\u001b[0m                         Traceback (most recent call last)",
      "Cell \u001b[1;32mIn[111], line 5\u001b[0m\n\u001b[0;32m      2\u001b[0m study \u001b[38;5;241m=\u001b[39m opt\u001b[38;5;241m.\u001b[39mcreate_study(direction\u001b[38;5;241m=\u001b[39m\u001b[38;5;124m'\u001b[39m\u001b[38;5;124mmaximize\u001b[39m\u001b[38;5;124m'\u001b[39m)\n\u001b[0;32m      4\u001b[0m \u001b[38;5;66;03m# run optimization\u001b[39;00m\n\u001b[1;32m----> 5\u001b[0m \u001b[43mstudy\u001b[49m\u001b[38;5;241;43m.\u001b[39;49m\u001b[43moptimize\u001b[49m\u001b[43m(\u001b[49m\u001b[43mobjective\u001b[49m\u001b[43m,\u001b[49m\u001b[43m \u001b[49m\u001b[43mn_trials\u001b[49m\u001b[38;5;241;43m=\u001b[39;49m\u001b[38;5;241;43m50\u001b[39;49m\u001b[43m)\u001b[49m\n\u001b[0;32m      7\u001b[0m Opt_best_score \u001b[38;5;241m=\u001b[39m study\u001b[38;5;241m.\u001b[39mbest_value \n\u001b[0;32m      8\u001b[0m Opt_best_param \u001b[38;5;241m=\u001b[39m study\u001b[38;5;241m.\u001b[39mbest_params\n",
      "File \u001b[1;32mc:\\ProgramData\\Miniconda3\\envs\\ML\\Lib\\site-packages\\optuna\\study\\study.py:490\u001b[0m, in \u001b[0;36mStudy.optimize\u001b[1;34m(self, func, n_trials, timeout, n_jobs, catch, callbacks, gc_after_trial, show_progress_bar)\u001b[0m\n\u001b[0;32m    388\u001b[0m \u001b[38;5;28;01mdef\u001b[39;00m\u001b[38;5;250m \u001b[39m\u001b[38;5;21moptimize\u001b[39m(\n\u001b[0;32m    389\u001b[0m     \u001b[38;5;28mself\u001b[39m,\n\u001b[0;32m    390\u001b[0m     func: ObjectiveFuncType,\n\u001b[1;32m   (...)\u001b[0m\n\u001b[0;32m    397\u001b[0m     show_progress_bar: \u001b[38;5;28mbool\u001b[39m \u001b[38;5;241m=\u001b[39m \u001b[38;5;28;01mFalse\u001b[39;00m,\n\u001b[0;32m    398\u001b[0m ) \u001b[38;5;241m-\u001b[39m\u001b[38;5;241m>\u001b[39m \u001b[38;5;28;01mNone\u001b[39;00m:\n\u001b[0;32m    399\u001b[0m \u001b[38;5;250m    \u001b[39m\u001b[38;5;124;03m\"\"\"Optimize an objective function.\u001b[39;00m\n\u001b[0;32m    400\u001b[0m \n\u001b[0;32m    401\u001b[0m \u001b[38;5;124;03m    Optimization is done by choosing a suitable set of hyperparameter values from a given\u001b[39;00m\n\u001b[1;32m   (...)\u001b[0m\n\u001b[0;32m    488\u001b[0m \u001b[38;5;124;03m            If nested invocation of this method occurs.\u001b[39;00m\n\u001b[0;32m    489\u001b[0m \u001b[38;5;124;03m    \"\"\"\u001b[39;00m\n\u001b[1;32m--> 490\u001b[0m     \u001b[43m_optimize\u001b[49m\u001b[43m(\u001b[49m\n\u001b[0;32m    491\u001b[0m \u001b[43m        \u001b[49m\u001b[43mstudy\u001b[49m\u001b[38;5;241;43m=\u001b[39;49m\u001b[38;5;28;43mself\u001b[39;49m\u001b[43m,\u001b[49m\n\u001b[0;32m    492\u001b[0m \u001b[43m        \u001b[49m\u001b[43mfunc\u001b[49m\u001b[38;5;241;43m=\u001b[39;49m\u001b[43mfunc\u001b[49m\u001b[43m,\u001b[49m\n\u001b[0;32m    493\u001b[0m \u001b[43m        \u001b[49m\u001b[43mn_trials\u001b[49m\u001b[38;5;241;43m=\u001b[39;49m\u001b[43mn_trials\u001b[49m\u001b[43m,\u001b[49m\n\u001b[0;32m    494\u001b[0m \u001b[43m        \u001b[49m\u001b[43mtimeout\u001b[49m\u001b[38;5;241;43m=\u001b[39;49m\u001b[43mtimeout\u001b[49m\u001b[43m,\u001b[49m\n\u001b[0;32m    495\u001b[0m \u001b[43m        \u001b[49m\u001b[43mn_jobs\u001b[49m\u001b[38;5;241;43m=\u001b[39;49m\u001b[43mn_jobs\u001b[49m\u001b[43m,\u001b[49m\n\u001b[0;32m    496\u001b[0m \u001b[43m        \u001b[49m\u001b[43mcatch\u001b[49m\u001b[38;5;241;43m=\u001b[39;49m\u001b[38;5;28;43mtuple\u001b[39;49m\u001b[43m(\u001b[49m\u001b[43mcatch\u001b[49m\u001b[43m)\u001b[49m\u001b[43m \u001b[49m\u001b[38;5;28;43;01mif\u001b[39;49;00m\u001b[43m \u001b[49m\u001b[38;5;28;43misinstance\u001b[39;49m\u001b[43m(\u001b[49m\u001b[43mcatch\u001b[49m\u001b[43m,\u001b[49m\u001b[43m \u001b[49m\u001b[43mIterable\u001b[49m\u001b[43m)\u001b[49m\u001b[43m \u001b[49m\u001b[38;5;28;43;01melse\u001b[39;49;00m\u001b[43m \u001b[49m\u001b[43m(\u001b[49m\u001b[43mcatch\u001b[49m\u001b[43m,\u001b[49m\u001b[43m)\u001b[49m\u001b[43m,\u001b[49m\n\u001b[0;32m    497\u001b[0m \u001b[43m        \u001b[49m\u001b[43mcallbacks\u001b[49m\u001b[38;5;241;43m=\u001b[39;49m\u001b[43mcallbacks\u001b[49m\u001b[43m,\u001b[49m\n\u001b[0;32m    498\u001b[0m \u001b[43m        \u001b[49m\u001b[43mgc_after_trial\u001b[49m\u001b[38;5;241;43m=\u001b[39;49m\u001b[43mgc_after_trial\u001b[49m\u001b[43m,\u001b[49m\n\u001b[0;32m    499\u001b[0m \u001b[43m        \u001b[49m\u001b[43mshow_progress_bar\u001b[49m\u001b[38;5;241;43m=\u001b[39;49m\u001b[43mshow_progress_bar\u001b[49m\u001b[43m,\u001b[49m\n\u001b[0;32m    500\u001b[0m \u001b[43m    \u001b[49m\u001b[43m)\u001b[49m\n",
      "File \u001b[1;32mc:\\ProgramData\\Miniconda3\\envs\\ML\\Lib\\site-packages\\optuna\\study\\_optimize.py:63\u001b[0m, in \u001b[0;36m_optimize\u001b[1;34m(study, func, n_trials, timeout, n_jobs, catch, callbacks, gc_after_trial, show_progress_bar)\u001b[0m\n\u001b[0;32m     61\u001b[0m \u001b[38;5;28;01mtry\u001b[39;00m:\n\u001b[0;32m     62\u001b[0m     \u001b[38;5;28;01mif\u001b[39;00m n_jobs \u001b[38;5;241m==\u001b[39m \u001b[38;5;241m1\u001b[39m:\n\u001b[1;32m---> 63\u001b[0m         \u001b[43m_optimize_sequential\u001b[49m\u001b[43m(\u001b[49m\n\u001b[0;32m     64\u001b[0m \u001b[43m            \u001b[49m\u001b[43mstudy\u001b[49m\u001b[43m,\u001b[49m\n\u001b[0;32m     65\u001b[0m \u001b[43m            \u001b[49m\u001b[43mfunc\u001b[49m\u001b[43m,\u001b[49m\n\u001b[0;32m     66\u001b[0m \u001b[43m            \u001b[49m\u001b[43mn_trials\u001b[49m\u001b[43m,\u001b[49m\n\u001b[0;32m     67\u001b[0m \u001b[43m            \u001b[49m\u001b[43mtimeout\u001b[49m\u001b[43m,\u001b[49m\n\u001b[0;32m     68\u001b[0m \u001b[43m            \u001b[49m\u001b[43mcatch\u001b[49m\u001b[43m,\u001b[49m\n\u001b[0;32m     69\u001b[0m \u001b[43m            \u001b[49m\u001b[43mcallbacks\u001b[49m\u001b[43m,\u001b[49m\n\u001b[0;32m     70\u001b[0m \u001b[43m            \u001b[49m\u001b[43mgc_after_trial\u001b[49m\u001b[43m,\u001b[49m\n\u001b[0;32m     71\u001b[0m \u001b[43m            \u001b[49m\u001b[43mreseed_sampler_rng\u001b[49m\u001b[38;5;241;43m=\u001b[39;49m\u001b[38;5;28;43;01mFalse\u001b[39;49;00m\u001b[43m,\u001b[49m\n\u001b[0;32m     72\u001b[0m \u001b[43m            \u001b[49m\u001b[43mtime_start\u001b[49m\u001b[38;5;241;43m=\u001b[39;49m\u001b[38;5;28;43;01mNone\u001b[39;49;00m\u001b[43m,\u001b[49m\n\u001b[0;32m     73\u001b[0m \u001b[43m            \u001b[49m\u001b[43mprogress_bar\u001b[49m\u001b[38;5;241;43m=\u001b[39;49m\u001b[43mprogress_bar\u001b[49m\u001b[43m,\u001b[49m\n\u001b[0;32m     74\u001b[0m \u001b[43m        \u001b[49m\u001b[43m)\u001b[49m\n\u001b[0;32m     75\u001b[0m     \u001b[38;5;28;01melse\u001b[39;00m:\n\u001b[0;32m     76\u001b[0m         \u001b[38;5;28;01mif\u001b[39;00m n_jobs \u001b[38;5;241m==\u001b[39m \u001b[38;5;241m-\u001b[39m\u001b[38;5;241m1\u001b[39m:\n",
      "File \u001b[1;32mc:\\ProgramData\\Miniconda3\\envs\\ML\\Lib\\site-packages\\optuna\\study\\_optimize.py:160\u001b[0m, in \u001b[0;36m_optimize_sequential\u001b[1;34m(study, func, n_trials, timeout, catch, callbacks, gc_after_trial, reseed_sampler_rng, time_start, progress_bar)\u001b[0m\n\u001b[0;32m    157\u001b[0m         \u001b[38;5;28;01mbreak\u001b[39;00m\n\u001b[0;32m    159\u001b[0m \u001b[38;5;28;01mtry\u001b[39;00m:\n\u001b[1;32m--> 160\u001b[0m     frozen_trial_id \u001b[38;5;241m=\u001b[39m \u001b[43m_run_trial\u001b[49m\u001b[43m(\u001b[49m\u001b[43mstudy\u001b[49m\u001b[43m,\u001b[49m\u001b[43m \u001b[49m\u001b[43mfunc\u001b[49m\u001b[43m,\u001b[49m\u001b[43m \u001b[49m\u001b[43mcatch\u001b[49m\u001b[43m)\u001b[49m\n\u001b[0;32m    161\u001b[0m \u001b[38;5;28;01mfinally\u001b[39;00m:\n\u001b[0;32m    162\u001b[0m     \u001b[38;5;66;03m# The following line mitigates memory problems that can be occurred in some\u001b[39;00m\n\u001b[0;32m    163\u001b[0m     \u001b[38;5;66;03m# environments (e.g., services that use computing containers such as GitHub Actions).\u001b[39;00m\n\u001b[0;32m    164\u001b[0m     \u001b[38;5;66;03m# Please refer to the following PR for further details:\u001b[39;00m\n\u001b[0;32m    165\u001b[0m     \u001b[38;5;66;03m# https://github.com/optuna/optuna/pull/325.\u001b[39;00m\n\u001b[0;32m    166\u001b[0m     \u001b[38;5;28;01mif\u001b[39;00m gc_after_trial:\n",
      "File \u001b[1;32mc:\\ProgramData\\Miniconda3\\envs\\ML\\Lib\\site-packages\\optuna\\study\\_optimize.py:258\u001b[0m, in \u001b[0;36m_run_trial\u001b[1;34m(study, func, catch)\u001b[0m\n\u001b[0;32m    251\u001b[0m         \u001b[38;5;28;01massert\u001b[39;00m \u001b[38;5;28;01mFalse\u001b[39;00m, \u001b[38;5;124m\"\u001b[39m\u001b[38;5;124mShould not reach.\u001b[39m\u001b[38;5;124m\"\u001b[39m\n\u001b[0;32m    253\u001b[0m \u001b[38;5;28;01mif\u001b[39;00m (\n\u001b[0;32m    254\u001b[0m     updated_state \u001b[38;5;241m==\u001b[39m TrialState\u001b[38;5;241m.\u001b[39mFAIL\n\u001b[0;32m    255\u001b[0m     \u001b[38;5;129;01mand\u001b[39;00m func_err \u001b[38;5;129;01mis\u001b[39;00m \u001b[38;5;129;01mnot\u001b[39;00m \u001b[38;5;28;01mNone\u001b[39;00m\n\u001b[0;32m    256\u001b[0m     \u001b[38;5;129;01mand\u001b[39;00m \u001b[38;5;129;01mnot\u001b[39;00m \u001b[38;5;28misinstance\u001b[39m(func_err, catch)\n\u001b[0;32m    257\u001b[0m ):\n\u001b[1;32m--> 258\u001b[0m     \u001b[38;5;28;01mraise\u001b[39;00m func_err\n\u001b[0;32m    259\u001b[0m \u001b[38;5;28;01mreturn\u001b[39;00m trial\u001b[38;5;241m.\u001b[39m_trial_id\n",
      "File \u001b[1;32mc:\\ProgramData\\Miniconda3\\envs\\ML\\Lib\\site-packages\\optuna\\study\\_optimize.py:201\u001b[0m, in \u001b[0;36m_run_trial\u001b[1;34m(study, func, catch)\u001b[0m\n\u001b[0;32m    199\u001b[0m \u001b[38;5;28;01mwith\u001b[39;00m get_heartbeat_thread(trial\u001b[38;5;241m.\u001b[39m_trial_id, study\u001b[38;5;241m.\u001b[39m_storage):\n\u001b[0;32m    200\u001b[0m     \u001b[38;5;28;01mtry\u001b[39;00m:\n\u001b[1;32m--> 201\u001b[0m         value_or_values \u001b[38;5;241m=\u001b[39m \u001b[43mfunc\u001b[49m\u001b[43m(\u001b[49m\u001b[43mtrial\u001b[49m\u001b[43m)\u001b[49m\n\u001b[0;32m    202\u001b[0m     \u001b[38;5;28;01mexcept\u001b[39;00m exceptions\u001b[38;5;241m.\u001b[39mTrialPruned \u001b[38;5;28;01mas\u001b[39;00m e:\n\u001b[0;32m    203\u001b[0m         \u001b[38;5;66;03m# TODO(mamu): Handle multi-objective cases.\u001b[39;00m\n\u001b[0;32m    204\u001b[0m         state \u001b[38;5;241m=\u001b[39m TrialState\u001b[38;5;241m.\u001b[39mPRUNED\n",
      "Cell \u001b[1;32mIn[110], line 16\u001b[0m, in \u001b[0;36mobjective\u001b[1;34m(trial)\u001b[0m\n\u001b[0;32m     14\u001b[0m \u001b[38;5;66;03m# evaluate score\u001b[39;00m\n\u001b[0;32m     15\u001b[0m cv \u001b[38;5;241m=\u001b[39m StratifiedKFold(n_splits\u001b[38;5;241m=\u001b[39m\u001b[38;5;241m5\u001b[39m, shuffle\u001b[38;5;241m=\u001b[39m\u001b[38;5;28;01mTrue\u001b[39;00m, random_state\u001b[38;5;241m=\u001b[39m\u001b[38;5;241m12\u001b[39m) \u001b[38;5;66;03m# to ensure robustness ensure reproducibility by setting cv with fixed shuffling\u001b[39;00m\n\u001b[1;32m---> 16\u001b[0m score \u001b[38;5;241m=\u001b[39m \u001b[43mcross_val_score\u001b[49m\u001b[43m(\u001b[49m\u001b[43mclf_4\u001b[49m\u001b[43m,\u001b[49m\n\u001b[0;32m     17\u001b[0m \u001b[43m                        \u001b[49m\u001b[43mX_train\u001b[49m\u001b[43m,\u001b[49m\n\u001b[0;32m     18\u001b[0m \u001b[43m                        \u001b[49m\u001b[43my_train\u001b[49m\u001b[43m,\u001b[49m\n\u001b[0;32m     19\u001b[0m \u001b[43m                        \u001b[49m\u001b[43mcv\u001b[49m\u001b[43m \u001b[49m\u001b[38;5;241;43m=\u001b[39;49m\u001b[43m \u001b[49m\u001b[43mcv\u001b[49m\u001b[43m,\u001b[49m\n\u001b[0;32m     20\u001b[0m \u001b[43m                        \u001b[49m\u001b[43mscoring\u001b[49m\u001b[38;5;241;43m=\u001b[39;49m\u001b[38;5;124;43m'\u001b[39;49m\u001b[38;5;124;43maccuracy\u001b[39;49m\u001b[38;5;124;43m'\u001b[39;49m\u001b[43m,\u001b[49m\n\u001b[0;32m     21\u001b[0m \u001b[43m                        \u001b[49m\u001b[43mn_jobs\u001b[49m\u001b[38;5;241;43m=\u001b[39;49m\u001b[38;5;241;43m-\u001b[39;49m\u001b[38;5;241;43m1\u001b[39;49m\u001b[43m)\u001b[49m\u001b[38;5;241m.\u001b[39mmean() \n\u001b[0;32m     23\u001b[0m \u001b[38;5;66;03m# return the score value as evaluation metric \u001b[39;00m\n\u001b[0;32m     24\u001b[0m \u001b[38;5;28;01mreturn\u001b[39;00m score\n",
      "File \u001b[1;32mc:\\ProgramData\\Miniconda3\\envs\\ML\\Lib\\site-packages\\sklearn\\utils\\_param_validation.py:216\u001b[0m, in \u001b[0;36mvalidate_params.<locals>.decorator.<locals>.wrapper\u001b[1;34m(*args, **kwargs)\u001b[0m\n\u001b[0;32m    210\u001b[0m \u001b[38;5;28;01mtry\u001b[39;00m:\n\u001b[0;32m    211\u001b[0m     \u001b[38;5;28;01mwith\u001b[39;00m config_context(\n\u001b[0;32m    212\u001b[0m         skip_parameter_validation\u001b[38;5;241m=\u001b[39m(\n\u001b[0;32m    213\u001b[0m             prefer_skip_nested_validation \u001b[38;5;129;01mor\u001b[39;00m global_skip_validation\n\u001b[0;32m    214\u001b[0m         )\n\u001b[0;32m    215\u001b[0m     ):\n\u001b[1;32m--> 216\u001b[0m         \u001b[38;5;28;01mreturn\u001b[39;00m \u001b[43mfunc\u001b[49m\u001b[43m(\u001b[49m\u001b[38;5;241;43m*\u001b[39;49m\u001b[43margs\u001b[49m\u001b[43m,\u001b[49m\u001b[43m \u001b[49m\u001b[38;5;241;43m*\u001b[39;49m\u001b[38;5;241;43m*\u001b[39;49m\u001b[43mkwargs\u001b[49m\u001b[43m)\u001b[49m\n\u001b[0;32m    217\u001b[0m \u001b[38;5;28;01mexcept\u001b[39;00m InvalidParameterError \u001b[38;5;28;01mas\u001b[39;00m e:\n\u001b[0;32m    218\u001b[0m     \u001b[38;5;66;03m# When the function is just a wrapper around an estimator, we allow\u001b[39;00m\n\u001b[0;32m    219\u001b[0m     \u001b[38;5;66;03m# the function to delegate validation to the estimator, but we replace\u001b[39;00m\n\u001b[0;32m    220\u001b[0m     \u001b[38;5;66;03m# the name of the estimator by the name of the function in the error\u001b[39;00m\n\u001b[0;32m    221\u001b[0m     \u001b[38;5;66;03m# message to avoid confusion.\u001b[39;00m\n\u001b[0;32m    222\u001b[0m     msg \u001b[38;5;241m=\u001b[39m re\u001b[38;5;241m.\u001b[39msub(\n\u001b[0;32m    223\u001b[0m         \u001b[38;5;124mr\u001b[39m\u001b[38;5;124m\"\u001b[39m\u001b[38;5;124mparameter of \u001b[39m\u001b[38;5;124m\\\u001b[39m\u001b[38;5;124mw+ must be\u001b[39m\u001b[38;5;124m\"\u001b[39m,\n\u001b[0;32m    224\u001b[0m         \u001b[38;5;124mf\u001b[39m\u001b[38;5;124m\"\u001b[39m\u001b[38;5;124mparameter of \u001b[39m\u001b[38;5;132;01m{\u001b[39;00mfunc\u001b[38;5;241m.\u001b[39m\u001b[38;5;18m__qualname__\u001b[39m\u001b[38;5;132;01m}\u001b[39;00m\u001b[38;5;124m must be\u001b[39m\u001b[38;5;124m\"\u001b[39m,\n\u001b[0;32m    225\u001b[0m         \u001b[38;5;28mstr\u001b[39m(e),\n\u001b[0;32m    226\u001b[0m     )\n",
      "File \u001b[1;32mc:\\ProgramData\\Miniconda3\\envs\\ML\\Lib\\site-packages\\sklearn\\model_selection\\_validation.py:684\u001b[0m, in \u001b[0;36mcross_val_score\u001b[1;34m(estimator, X, y, groups, scoring, cv, n_jobs, verbose, params, pre_dispatch, error_score)\u001b[0m\n\u001b[0;32m    681\u001b[0m \u001b[38;5;66;03m# To ensure multimetric format is not supported\u001b[39;00m\n\u001b[0;32m    682\u001b[0m scorer \u001b[38;5;241m=\u001b[39m check_scoring(estimator, scoring\u001b[38;5;241m=\u001b[39mscoring)\n\u001b[1;32m--> 684\u001b[0m cv_results \u001b[38;5;241m=\u001b[39m \u001b[43mcross_validate\u001b[49m\u001b[43m(\u001b[49m\n\u001b[0;32m    685\u001b[0m \u001b[43m    \u001b[49m\u001b[43mestimator\u001b[49m\u001b[38;5;241;43m=\u001b[39;49m\u001b[43mestimator\u001b[49m\u001b[43m,\u001b[49m\n\u001b[0;32m    686\u001b[0m \u001b[43m    \u001b[49m\u001b[43mX\u001b[49m\u001b[38;5;241;43m=\u001b[39;49m\u001b[43mX\u001b[49m\u001b[43m,\u001b[49m\n\u001b[0;32m    687\u001b[0m \u001b[43m    \u001b[49m\u001b[43my\u001b[49m\u001b[38;5;241;43m=\u001b[39;49m\u001b[43my\u001b[49m\u001b[43m,\u001b[49m\n\u001b[0;32m    688\u001b[0m \u001b[43m    \u001b[49m\u001b[43mgroups\u001b[49m\u001b[38;5;241;43m=\u001b[39;49m\u001b[43mgroups\u001b[49m\u001b[43m,\u001b[49m\n\u001b[0;32m    689\u001b[0m \u001b[43m    \u001b[49m\u001b[43mscoring\u001b[49m\u001b[38;5;241;43m=\u001b[39;49m\u001b[43m{\u001b[49m\u001b[38;5;124;43m\"\u001b[39;49m\u001b[38;5;124;43mscore\u001b[39;49m\u001b[38;5;124;43m\"\u001b[39;49m\u001b[43m:\u001b[49m\u001b[43m \u001b[49m\u001b[43mscorer\u001b[49m\u001b[43m}\u001b[49m\u001b[43m,\u001b[49m\n\u001b[0;32m    690\u001b[0m \u001b[43m    \u001b[49m\u001b[43mcv\u001b[49m\u001b[38;5;241;43m=\u001b[39;49m\u001b[43mcv\u001b[49m\u001b[43m,\u001b[49m\n\u001b[0;32m    691\u001b[0m \u001b[43m    \u001b[49m\u001b[43mn_jobs\u001b[49m\u001b[38;5;241;43m=\u001b[39;49m\u001b[43mn_jobs\u001b[49m\u001b[43m,\u001b[49m\n\u001b[0;32m    692\u001b[0m \u001b[43m    \u001b[49m\u001b[43mverbose\u001b[49m\u001b[38;5;241;43m=\u001b[39;49m\u001b[43mverbose\u001b[49m\u001b[43m,\u001b[49m\n\u001b[0;32m    693\u001b[0m \u001b[43m    \u001b[49m\u001b[43mparams\u001b[49m\u001b[38;5;241;43m=\u001b[39;49m\u001b[43mparams\u001b[49m\u001b[43m,\u001b[49m\n\u001b[0;32m    694\u001b[0m \u001b[43m    \u001b[49m\u001b[43mpre_dispatch\u001b[49m\u001b[38;5;241;43m=\u001b[39;49m\u001b[43mpre_dispatch\u001b[49m\u001b[43m,\u001b[49m\n\u001b[0;32m    695\u001b[0m \u001b[43m    \u001b[49m\u001b[43merror_score\u001b[49m\u001b[38;5;241;43m=\u001b[39;49m\u001b[43merror_score\u001b[49m\u001b[43m,\u001b[49m\n\u001b[0;32m    696\u001b[0m \u001b[43m\u001b[49m\u001b[43m)\u001b[49m\n\u001b[0;32m    697\u001b[0m \u001b[38;5;28;01mreturn\u001b[39;00m cv_results[\u001b[38;5;124m\"\u001b[39m\u001b[38;5;124mtest_score\u001b[39m\u001b[38;5;124m\"\u001b[39m]\n",
      "File \u001b[1;32mc:\\ProgramData\\Miniconda3\\envs\\ML\\Lib\\site-packages\\sklearn\\utils\\_param_validation.py:216\u001b[0m, in \u001b[0;36mvalidate_params.<locals>.decorator.<locals>.wrapper\u001b[1;34m(*args, **kwargs)\u001b[0m\n\u001b[0;32m    210\u001b[0m \u001b[38;5;28;01mtry\u001b[39;00m:\n\u001b[0;32m    211\u001b[0m     \u001b[38;5;28;01mwith\u001b[39;00m config_context(\n\u001b[0;32m    212\u001b[0m         skip_parameter_validation\u001b[38;5;241m=\u001b[39m(\n\u001b[0;32m    213\u001b[0m             prefer_skip_nested_validation \u001b[38;5;129;01mor\u001b[39;00m global_skip_validation\n\u001b[0;32m    214\u001b[0m         )\n\u001b[0;32m    215\u001b[0m     ):\n\u001b[1;32m--> 216\u001b[0m         \u001b[38;5;28;01mreturn\u001b[39;00m \u001b[43mfunc\u001b[49m\u001b[43m(\u001b[49m\u001b[38;5;241;43m*\u001b[39;49m\u001b[43margs\u001b[49m\u001b[43m,\u001b[49m\u001b[43m \u001b[49m\u001b[38;5;241;43m*\u001b[39;49m\u001b[38;5;241;43m*\u001b[39;49m\u001b[43mkwargs\u001b[49m\u001b[43m)\u001b[49m\n\u001b[0;32m    217\u001b[0m \u001b[38;5;28;01mexcept\u001b[39;00m InvalidParameterError \u001b[38;5;28;01mas\u001b[39;00m e:\n\u001b[0;32m    218\u001b[0m     \u001b[38;5;66;03m# When the function is just a wrapper around an estimator, we allow\u001b[39;00m\n\u001b[0;32m    219\u001b[0m     \u001b[38;5;66;03m# the function to delegate validation to the estimator, but we replace\u001b[39;00m\n\u001b[0;32m    220\u001b[0m     \u001b[38;5;66;03m# the name of the estimator by the name of the function in the error\u001b[39;00m\n\u001b[0;32m    221\u001b[0m     \u001b[38;5;66;03m# message to avoid confusion.\u001b[39;00m\n\u001b[0;32m    222\u001b[0m     msg \u001b[38;5;241m=\u001b[39m re\u001b[38;5;241m.\u001b[39msub(\n\u001b[0;32m    223\u001b[0m         \u001b[38;5;124mr\u001b[39m\u001b[38;5;124m\"\u001b[39m\u001b[38;5;124mparameter of \u001b[39m\u001b[38;5;124m\\\u001b[39m\u001b[38;5;124mw+ must be\u001b[39m\u001b[38;5;124m\"\u001b[39m,\n\u001b[0;32m    224\u001b[0m         \u001b[38;5;124mf\u001b[39m\u001b[38;5;124m\"\u001b[39m\u001b[38;5;124mparameter of \u001b[39m\u001b[38;5;132;01m{\u001b[39;00mfunc\u001b[38;5;241m.\u001b[39m\u001b[38;5;18m__qualname__\u001b[39m\u001b[38;5;132;01m}\u001b[39;00m\u001b[38;5;124m must be\u001b[39m\u001b[38;5;124m\"\u001b[39m,\n\u001b[0;32m    225\u001b[0m         \u001b[38;5;28mstr\u001b[39m(e),\n\u001b[0;32m    226\u001b[0m     )\n",
      "File \u001b[1;32mc:\\ProgramData\\Miniconda3\\envs\\ML\\Lib\\site-packages\\sklearn\\model_selection\\_validation.py:411\u001b[0m, in \u001b[0;36mcross_validate\u001b[1;34m(estimator, X, y, groups, scoring, cv, n_jobs, verbose, params, pre_dispatch, return_train_score, return_estimator, return_indices, error_score)\u001b[0m\n\u001b[0;32m    408\u001b[0m \u001b[38;5;66;03m# We clone the estimator to make sure that all the folds are\u001b[39;00m\n\u001b[0;32m    409\u001b[0m \u001b[38;5;66;03m# independent, and that it is pickle-able.\u001b[39;00m\n\u001b[0;32m    410\u001b[0m parallel \u001b[38;5;241m=\u001b[39m Parallel(n_jobs\u001b[38;5;241m=\u001b[39mn_jobs, verbose\u001b[38;5;241m=\u001b[39mverbose, pre_dispatch\u001b[38;5;241m=\u001b[39mpre_dispatch)\n\u001b[1;32m--> 411\u001b[0m results \u001b[38;5;241m=\u001b[39m \u001b[43mparallel\u001b[49m\u001b[43m(\u001b[49m\n\u001b[0;32m    412\u001b[0m \u001b[43m    \u001b[49m\u001b[43mdelayed\u001b[49m\u001b[43m(\u001b[49m\u001b[43m_fit_and_score\u001b[49m\u001b[43m)\u001b[49m\u001b[43m(\u001b[49m\n\u001b[0;32m    413\u001b[0m \u001b[43m        \u001b[49m\u001b[43mclone\u001b[49m\u001b[43m(\u001b[49m\u001b[43mestimator\u001b[49m\u001b[43m)\u001b[49m\u001b[43m,\u001b[49m\n\u001b[0;32m    414\u001b[0m \u001b[43m        \u001b[49m\u001b[43mX\u001b[49m\u001b[43m,\u001b[49m\n\u001b[0;32m    415\u001b[0m \u001b[43m        \u001b[49m\u001b[43my\u001b[49m\u001b[43m,\u001b[49m\n\u001b[0;32m    416\u001b[0m \u001b[43m        \u001b[49m\u001b[43mscorer\u001b[49m\u001b[38;5;241;43m=\u001b[39;49m\u001b[43mscorers\u001b[49m\u001b[43m,\u001b[49m\n\u001b[0;32m    417\u001b[0m \u001b[43m        \u001b[49m\u001b[43mtrain\u001b[49m\u001b[38;5;241;43m=\u001b[39;49m\u001b[43mtrain\u001b[49m\u001b[43m,\u001b[49m\n\u001b[0;32m    418\u001b[0m \u001b[43m        \u001b[49m\u001b[43mtest\u001b[49m\u001b[38;5;241;43m=\u001b[39;49m\u001b[43mtest\u001b[49m\u001b[43m,\u001b[49m\n\u001b[0;32m    419\u001b[0m \u001b[43m        \u001b[49m\u001b[43mverbose\u001b[49m\u001b[38;5;241;43m=\u001b[39;49m\u001b[43mverbose\u001b[49m\u001b[43m,\u001b[49m\n\u001b[0;32m    420\u001b[0m \u001b[43m        \u001b[49m\u001b[43mparameters\u001b[49m\u001b[38;5;241;43m=\u001b[39;49m\u001b[38;5;28;43;01mNone\u001b[39;49;00m\u001b[43m,\u001b[49m\n\u001b[0;32m    421\u001b[0m \u001b[43m        \u001b[49m\u001b[43mfit_params\u001b[49m\u001b[38;5;241;43m=\u001b[39;49m\u001b[43mrouted_params\u001b[49m\u001b[38;5;241;43m.\u001b[39;49m\u001b[43mestimator\u001b[49m\u001b[38;5;241;43m.\u001b[39;49m\u001b[43mfit\u001b[49m\u001b[43m,\u001b[49m\n\u001b[0;32m    422\u001b[0m \u001b[43m        \u001b[49m\u001b[43mscore_params\u001b[49m\u001b[38;5;241;43m=\u001b[39;49m\u001b[43mrouted_params\u001b[49m\u001b[38;5;241;43m.\u001b[39;49m\u001b[43mscorer\u001b[49m\u001b[38;5;241;43m.\u001b[39;49m\u001b[43mscore\u001b[49m\u001b[43m,\u001b[49m\n\u001b[0;32m    423\u001b[0m \u001b[43m        \u001b[49m\u001b[43mreturn_train_score\u001b[49m\u001b[38;5;241;43m=\u001b[39;49m\u001b[43mreturn_train_score\u001b[49m\u001b[43m,\u001b[49m\n\u001b[0;32m    424\u001b[0m \u001b[43m        \u001b[49m\u001b[43mreturn_times\u001b[49m\u001b[38;5;241;43m=\u001b[39;49m\u001b[38;5;28;43;01mTrue\u001b[39;49;00m\u001b[43m,\u001b[49m\n\u001b[0;32m    425\u001b[0m \u001b[43m        \u001b[49m\u001b[43mreturn_estimator\u001b[49m\u001b[38;5;241;43m=\u001b[39;49m\u001b[43mreturn_estimator\u001b[49m\u001b[43m,\u001b[49m\n\u001b[0;32m    426\u001b[0m \u001b[43m        \u001b[49m\u001b[43merror_score\u001b[49m\u001b[38;5;241;43m=\u001b[39;49m\u001b[43merror_score\u001b[49m\u001b[43m,\u001b[49m\n\u001b[0;32m    427\u001b[0m \u001b[43m    \u001b[49m\u001b[43m)\u001b[49m\n\u001b[0;32m    428\u001b[0m \u001b[43m    \u001b[49m\u001b[38;5;28;43;01mfor\u001b[39;49;00m\u001b[43m \u001b[49m\u001b[43mtrain\u001b[49m\u001b[43m,\u001b[49m\u001b[43m \u001b[49m\u001b[43mtest\u001b[49m\u001b[43m \u001b[49m\u001b[38;5;129;43;01min\u001b[39;49;00m\u001b[43m \u001b[49m\u001b[43mindices\u001b[49m\n\u001b[0;32m    429\u001b[0m \u001b[43m\u001b[49m\u001b[43m)\u001b[49m\n\u001b[0;32m    431\u001b[0m _warn_or_raise_about_fit_failures(results, error_score)\n\u001b[0;32m    433\u001b[0m \u001b[38;5;66;03m# For callable scoring, the return type is only know after calling. If the\u001b[39;00m\n\u001b[0;32m    434\u001b[0m \u001b[38;5;66;03m# return type is a dictionary, the error scores can now be inserted with\u001b[39;00m\n\u001b[0;32m    435\u001b[0m \u001b[38;5;66;03m# the correct key.\u001b[39;00m\n",
      "File \u001b[1;32mc:\\ProgramData\\Miniconda3\\envs\\ML\\Lib\\site-packages\\sklearn\\utils\\parallel.py:77\u001b[0m, in \u001b[0;36mParallel.__call__\u001b[1;34m(self, iterable)\u001b[0m\n\u001b[0;32m     72\u001b[0m config \u001b[38;5;241m=\u001b[39m get_config()\n\u001b[0;32m     73\u001b[0m iterable_with_config \u001b[38;5;241m=\u001b[39m (\n\u001b[0;32m     74\u001b[0m     (_with_config(delayed_func, config), args, kwargs)\n\u001b[0;32m     75\u001b[0m     \u001b[38;5;28;01mfor\u001b[39;00m delayed_func, args, kwargs \u001b[38;5;129;01min\u001b[39;00m iterable\n\u001b[0;32m     76\u001b[0m )\n\u001b[1;32m---> 77\u001b[0m \u001b[38;5;28;01mreturn\u001b[39;00m \u001b[38;5;28;43msuper\u001b[39;49m\u001b[43m(\u001b[49m\u001b[43m)\u001b[49m\u001b[38;5;241;43m.\u001b[39;49m\u001b[38;5;21;43m__call__\u001b[39;49m\u001b[43m(\u001b[49m\u001b[43miterable_with_config\u001b[49m\u001b[43m)\u001b[49m\n",
      "File \u001b[1;32mc:\\ProgramData\\Miniconda3\\envs\\ML\\Lib\\site-packages\\joblib\\parallel.py:2007\u001b[0m, in \u001b[0;36mParallel.__call__\u001b[1;34m(self, iterable)\u001b[0m\n\u001b[0;32m   2001\u001b[0m \u001b[38;5;66;03m# The first item from the output is blank, but it makes the interpreter\u001b[39;00m\n\u001b[0;32m   2002\u001b[0m \u001b[38;5;66;03m# progress until it enters the Try/Except block of the generator and\u001b[39;00m\n\u001b[0;32m   2003\u001b[0m \u001b[38;5;66;03m# reaches the first `yield` statement. This starts the asynchronous\u001b[39;00m\n\u001b[0;32m   2004\u001b[0m \u001b[38;5;66;03m# dispatch of the tasks to the workers.\u001b[39;00m\n\u001b[0;32m   2005\u001b[0m \u001b[38;5;28mnext\u001b[39m(output)\n\u001b[1;32m-> 2007\u001b[0m \u001b[38;5;28;01mreturn\u001b[39;00m output \u001b[38;5;28;01mif\u001b[39;00m \u001b[38;5;28mself\u001b[39m\u001b[38;5;241m.\u001b[39mreturn_generator \u001b[38;5;28;01melse\u001b[39;00m \u001b[38;5;28;43mlist\u001b[39;49m\u001b[43m(\u001b[49m\u001b[43moutput\u001b[49m\u001b[43m)\u001b[49m\n",
      "File \u001b[1;32mc:\\ProgramData\\Miniconda3\\envs\\ML\\Lib\\site-packages\\joblib\\parallel.py:1650\u001b[0m, in \u001b[0;36mParallel._get_outputs\u001b[1;34m(self, iterator, pre_dispatch)\u001b[0m\n\u001b[0;32m   1647\u001b[0m     \u001b[38;5;28;01myield\u001b[39;00m\n\u001b[0;32m   1649\u001b[0m     \u001b[38;5;28;01mwith\u001b[39;00m \u001b[38;5;28mself\u001b[39m\u001b[38;5;241m.\u001b[39m_backend\u001b[38;5;241m.\u001b[39mretrieval_context():\n\u001b[1;32m-> 1650\u001b[0m         \u001b[38;5;28;01myield from\u001b[39;00m \u001b[38;5;28mself\u001b[39m\u001b[38;5;241m.\u001b[39m_retrieve()\n\u001b[0;32m   1652\u001b[0m \u001b[38;5;28;01mexcept\u001b[39;00m \u001b[38;5;167;01mGeneratorExit\u001b[39;00m:\n\u001b[0;32m   1653\u001b[0m     \u001b[38;5;66;03m# The generator has been garbage collected before being fully\u001b[39;00m\n\u001b[0;32m   1654\u001b[0m     \u001b[38;5;66;03m# consumed. This aborts the remaining tasks if possible and warn\u001b[39;00m\n\u001b[0;32m   1655\u001b[0m     \u001b[38;5;66;03m# the user if necessary.\u001b[39;00m\n\u001b[0;32m   1656\u001b[0m     \u001b[38;5;28mself\u001b[39m\u001b[38;5;241m.\u001b[39m_exception \u001b[38;5;241m=\u001b[39m \u001b[38;5;28;01mTrue\u001b[39;00m\n",
      "File \u001b[1;32mc:\\ProgramData\\Miniconda3\\envs\\ML\\Lib\\site-packages\\joblib\\parallel.py:1762\u001b[0m, in \u001b[0;36mParallel._retrieve\u001b[1;34m(self)\u001b[0m\n\u001b[0;32m   1757\u001b[0m \u001b[38;5;66;03m# If the next job is not ready for retrieval yet, we just wait for\u001b[39;00m\n\u001b[0;32m   1758\u001b[0m \u001b[38;5;66;03m# async callbacks to progress.\u001b[39;00m\n\u001b[0;32m   1759\u001b[0m \u001b[38;5;28;01mif\u001b[39;00m ((\u001b[38;5;28mlen\u001b[39m(\u001b[38;5;28mself\u001b[39m\u001b[38;5;241m.\u001b[39m_jobs) \u001b[38;5;241m==\u001b[39m \u001b[38;5;241m0\u001b[39m) \u001b[38;5;129;01mor\u001b[39;00m\n\u001b[0;32m   1760\u001b[0m     (\u001b[38;5;28mself\u001b[39m\u001b[38;5;241m.\u001b[39m_jobs[\u001b[38;5;241m0\u001b[39m]\u001b[38;5;241m.\u001b[39mget_status(\n\u001b[0;32m   1761\u001b[0m         timeout\u001b[38;5;241m=\u001b[39m\u001b[38;5;28mself\u001b[39m\u001b[38;5;241m.\u001b[39mtimeout) \u001b[38;5;241m==\u001b[39m TASK_PENDING)):\n\u001b[1;32m-> 1762\u001b[0m     \u001b[43mtime\u001b[49m\u001b[38;5;241;43m.\u001b[39;49m\u001b[43msleep\u001b[49m\u001b[43m(\u001b[49m\u001b[38;5;241;43m0.01\u001b[39;49m\u001b[43m)\u001b[49m\n\u001b[0;32m   1763\u001b[0m     \u001b[38;5;28;01mcontinue\u001b[39;00m\n\u001b[0;32m   1765\u001b[0m \u001b[38;5;66;03m# We need to be careful: the job list can be filling up as\u001b[39;00m\n\u001b[0;32m   1766\u001b[0m \u001b[38;5;66;03m# we empty it and Python list are not thread-safe by\u001b[39;00m\n\u001b[0;32m   1767\u001b[0m \u001b[38;5;66;03m# default hence the use of the lock\u001b[39;00m\n",
      "\u001b[1;31mKeyboardInterrupt\u001b[0m: "
     ]
    }
   ],
   "source": [
    "# create optuna study \n",
    "study = opt.create_study(direction='maximize')\n",
    "\n",
    "# run optimization\n",
    "study.optimize(objective, n_trials=50)\n",
    "\n",
    "Opt_best_score = study.best_value \n",
    "Opt_best_param = study.best_params\n",
    "\n",
    "# retrieve best results\n",
    "print(f'Best score = {Opt_best_score} \\n Opt_best_param = {Opt_best_param}')\n",
    "\n",
    "# visualize tuning history for evaluation\n",
    "opt.visualization.plot_optimization_history(study).show() \n"
   ]
  },
  {
   "cell_type": "code",
   "execution_count": null,
   "id": "0855f4b0",
   "metadata": {},
   "outputs": [],
   "source": [
    "# visualize tuning history for evaluation\n",
    "opt.visualization.plot_optimization_history(study).show() \n"
   ]
  },
  {
   "cell_type": "code",
   "execution_count": null,
   "id": "8cd1efbe",
   "metadata": {},
   "outputs": [],
   "source": [
    "Opt_best_param = {'n_estimators': 123, 'min_samples_split': 0.10319010791486938, 'min_samples_leaf': 0.19247689850677693, 'max_features': 'log2', 'max_depth': 5, 'criterion': 'gini', 'class_weight': None}"
   ]
  },
  {
   "cell_type": "code",
   "execution_count": null,
   "id": "41e7c404",
   "metadata": {},
   "outputs": [],
   "source": []
  },
  {
   "cell_type": "code",
   "execution_count": null,
   "id": "72abf865",
   "metadata": {},
   "outputs": [],
   "source": []
  },
  {
   "cell_type": "code",
   "execution_count": null,
   "id": "ea1a4474",
   "metadata": {},
   "outputs": [],
   "source": []
  },
  {
   "cell_type": "code",
   "execution_count": null,
   "id": "82f49c70",
   "metadata": {},
   "outputs": [],
   "source": []
  }
 ],
 "metadata": {
  "kernelspec": {
   "display_name": "ML",
   "language": "python",
   "name": "python3"
  },
  "language_info": {
   "codemirror_mode": {
    "name": "ipython",
    "version": 3
   },
   "file_extension": ".py",
   "mimetype": "text/x-python",
   "name": "python",
   "nbconvert_exporter": "python",
   "pygments_lexer": "ipython3",
   "version": "3.12.8"
  }
 },
 "nbformat": 4,
 "nbformat_minor": 5
}
