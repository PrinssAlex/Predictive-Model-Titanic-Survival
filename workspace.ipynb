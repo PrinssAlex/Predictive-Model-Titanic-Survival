{
 "cells": [
  {
   "cell_type": "markdown",
   "id": "7fcf37c1",
   "metadata": {},
   "source": [
    "# Titanic - Machine Learning from Disaster"
   ]
  },
  {
   "cell_type": "markdown",
   "id": "6b86fe7d",
   "metadata": {},
   "source": [
    "## Overview\n",
    "\n",
    "The sinking of the Titanic is one of the most infamous shipwrecks in history.\n",
    "\n",
    "On April 15, 1912, during her maiden voyage, the widely considered “unsinkable” RMS Titanic sank after colliding with an iceberg. Unfortunately, there weren’t enough lifeboats for everyone onboard, resulting in the death of 1502 out of 2224 passengers and crew.\n",
    "\n",
    "While there was some element of luck involved in surviving, it seems some groups of people were more likely to survive than others.\n",
    "\n",
    "In this challenge, the goal is to build a predictive model that answers the question: “what sorts of people were more likely to survive?” using passenger data (ie name, age, gender, socio-economic class, etc).\n",
    "\n",
    "### Problem Definition\n",
    "\n",
    "> what sorts of people were more likely to survive?\n",
    "\n",
    "### Data\n",
    "\n",
    "The data has been split into two groups:\n",
    "\n",
    "- training set (train.csv)\n",
    "- test set (test.csv)\n",
    "\n",
    "The training set was used to build the machine learning models. For the training set, it provides the outcome (also known as the “ground truth”) for each passenger. The model was based on “features” like passengers’ gender and class. \n",
    "\n",
    "The test set was used to see how well the model performed on unseen data. For each passenger in the test set, the model was trained to predict whether or not they survived the sinking of the Titanic.\n",
    "\n",
    "Also includes is the gender_submission.csv, a set of predictions that assume all and only female passengers survive, as an example of what the submission file should look like.\n",
    "\n",
    "For more details, checkout the [data dictionary](https://www.kaggle.com/competitions/titanic/data)\n",
    "\n",
    "### Evaluation\n",
    "\n",
    "> The score is the percentage of passengers the model correctly predicted. This is known as accuracy."
   ]
  },
  {
   "cell_type": "markdown",
   "id": "a6a5ac92",
   "metadata": {},
   "source": [
    "### Features\n",
    "#### Data Analysis EDA"
   ]
  },
  {
   "cell_type": "code",
   "execution_count": 580,
   "id": "c96c5484",
   "metadata": {},
   "outputs": [],
   "source": [
    "# import libraries\n",
    "import numpy as np\n",
    "import matplotlib.pyplot as plt \n",
    "import pandas as pd \n",
    "from sklearn.metrics import accuracy_score \n",
    "from sklearn.svm import LinearSVC \n",
    "from sklearn.ensemble import RandomForestClassifier \n",
    "from sklearn.metrics import classification_report\n",
    "from sklearn.model_selection import train_test_split, RandomizedSearchCV, GridSearchCV, cross_val_score, StratifiedKFold \n",
    "from sklearn.preprocessing import OneHotEncoder, StandardScaler \n",
    "import optuna as opt\n",
    "import xgboost as xgb\n",
    "import catboost as cat\n",
    "%matplotlib inline"
   ]
  },
  {
   "cell_type": "code",
   "execution_count": 447,
   "id": "6012417e",
   "metadata": {},
   "outputs": [
    {
     "data": {
      "text/html": [
       "<div>\n",
       "<style scoped>\n",
       "    .dataframe tbody tr th:only-of-type {\n",
       "        vertical-align: middle;\n",
       "    }\n",
       "\n",
       "    .dataframe tbody tr th {\n",
       "        vertical-align: top;\n",
       "    }\n",
       "\n",
       "    .dataframe thead th {\n",
       "        text-align: right;\n",
       "    }\n",
       "</style>\n",
       "<table border=\"1\" class=\"dataframe\">\n",
       "  <thead>\n",
       "    <tr style=\"text-align: right;\">\n",
       "      <th></th>\n",
       "      <th>PassengerId</th>\n",
       "      <th>Survived</th>\n",
       "      <th>Pclass</th>\n",
       "      <th>Name</th>\n",
       "      <th>Sex</th>\n",
       "      <th>Age</th>\n",
       "      <th>SibSp</th>\n",
       "      <th>Parch</th>\n",
       "      <th>Ticket</th>\n",
       "      <th>Fare</th>\n",
       "      <th>Cabin</th>\n",
       "      <th>Embarked</th>\n",
       "    </tr>\n",
       "  </thead>\n",
       "  <tbody>\n",
       "    <tr>\n",
       "      <th>755</th>\n",
       "      <td>756</td>\n",
       "      <td>1</td>\n",
       "      <td>2</td>\n",
       "      <td>Hamalainen, Master. Viljo</td>\n",
       "      <td>male</td>\n",
       "      <td>0.67</td>\n",
       "      <td>1</td>\n",
       "      <td>1</td>\n",
       "      <td>250649</td>\n",
       "      <td>14.5000</td>\n",
       "      <td>NaN</td>\n",
       "      <td>S</td>\n",
       "    </tr>\n",
       "    <tr>\n",
       "      <th>239</th>\n",
       "      <td>240</td>\n",
       "      <td>0</td>\n",
       "      <td>2</td>\n",
       "      <td>Hunt, Mr. George Henry</td>\n",
       "      <td>male</td>\n",
       "      <td>33.00</td>\n",
       "      <td>0</td>\n",
       "      <td>0</td>\n",
       "      <td>SCO/W 1585</td>\n",
       "      <td>12.2750</td>\n",
       "      <td>NaN</td>\n",
       "      <td>S</td>\n",
       "    </tr>\n",
       "    <tr>\n",
       "      <th>315</th>\n",
       "      <td>316</td>\n",
       "      <td>1</td>\n",
       "      <td>3</td>\n",
       "      <td>Nilsson, Miss. Helmina Josefina</td>\n",
       "      <td>female</td>\n",
       "      <td>26.00</td>\n",
       "      <td>0</td>\n",
       "      <td>0</td>\n",
       "      <td>347470</td>\n",
       "      <td>7.8542</td>\n",
       "      <td>NaN</td>\n",
       "      <td>S</td>\n",
       "    </tr>\n",
       "    <tr>\n",
       "      <th>50</th>\n",
       "      <td>51</td>\n",
       "      <td>0</td>\n",
       "      <td>3</td>\n",
       "      <td>Panula, Master. Juha Niilo</td>\n",
       "      <td>male</td>\n",
       "      <td>7.00</td>\n",
       "      <td>4</td>\n",
       "      <td>1</td>\n",
       "      <td>3101295</td>\n",
       "      <td>39.6875</td>\n",
       "      <td>NaN</td>\n",
       "      <td>S</td>\n",
       "    </tr>\n",
       "    <tr>\n",
       "      <th>297</th>\n",
       "      <td>298</td>\n",
       "      <td>0</td>\n",
       "      <td>1</td>\n",
       "      <td>Allison, Miss. Helen Loraine</td>\n",
       "      <td>female</td>\n",
       "      <td>2.00</td>\n",
       "      <td>1</td>\n",
       "      <td>2</td>\n",
       "      <td>113781</td>\n",
       "      <td>151.5500</td>\n",
       "      <td>C22 C26</td>\n",
       "      <td>S</td>\n",
       "    </tr>\n",
       "    <tr>\n",
       "      <th>...</th>\n",
       "      <td>...</td>\n",
       "      <td>...</td>\n",
       "      <td>...</td>\n",
       "      <td>...</td>\n",
       "      <td>...</td>\n",
       "      <td>...</td>\n",
       "      <td>...</td>\n",
       "      <td>...</td>\n",
       "      <td>...</td>\n",
       "      <td>...</td>\n",
       "      <td>...</td>\n",
       "      <td>...</td>\n",
       "    </tr>\n",
       "    <tr>\n",
       "      <th>437</th>\n",
       "      <td>438</td>\n",
       "      <td>1</td>\n",
       "      <td>2</td>\n",
       "      <td>Richards, Mrs. Sidney (Emily Hocking)</td>\n",
       "      <td>female</td>\n",
       "      <td>24.00</td>\n",
       "      <td>2</td>\n",
       "      <td>3</td>\n",
       "      <td>29106</td>\n",
       "      <td>18.7500</td>\n",
       "      <td>NaN</td>\n",
       "      <td>S</td>\n",
       "    </tr>\n",
       "    <tr>\n",
       "      <th>278</th>\n",
       "      <td>279</td>\n",
       "      <td>0</td>\n",
       "      <td>3</td>\n",
       "      <td>Rice, Master. Eric</td>\n",
       "      <td>male</td>\n",
       "      <td>7.00</td>\n",
       "      <td>4</td>\n",
       "      <td>1</td>\n",
       "      <td>382652</td>\n",
       "      <td>29.1250</td>\n",
       "      <td>NaN</td>\n",
       "      <td>Q</td>\n",
       "    </tr>\n",
       "    <tr>\n",
       "      <th>689</th>\n",
       "      <td>690</td>\n",
       "      <td>1</td>\n",
       "      <td>1</td>\n",
       "      <td>Madill, Miss. Georgette Alexandra</td>\n",
       "      <td>female</td>\n",
       "      <td>15.00</td>\n",
       "      <td>0</td>\n",
       "      <td>1</td>\n",
       "      <td>24160</td>\n",
       "      <td>211.3375</td>\n",
       "      <td>B5</td>\n",
       "      <td>S</td>\n",
       "    </tr>\n",
       "    <tr>\n",
       "      <th>599</th>\n",
       "      <td>600</td>\n",
       "      <td>1</td>\n",
       "      <td>1</td>\n",
       "      <td>Duff Gordon, Sir. Cosmo Edmund (\"Mr Morgan\")</td>\n",
       "      <td>male</td>\n",
       "      <td>49.00</td>\n",
       "      <td>1</td>\n",
       "      <td>0</td>\n",
       "      <td>PC 17485</td>\n",
       "      <td>56.9292</td>\n",
       "      <td>A20</td>\n",
       "      <td>C</td>\n",
       "    </tr>\n",
       "    <tr>\n",
       "      <th>317</th>\n",
       "      <td>318</td>\n",
       "      <td>0</td>\n",
       "      <td>2</td>\n",
       "      <td>Moraweck, Dr. Ernest</td>\n",
       "      <td>male</td>\n",
       "      <td>54.00</td>\n",
       "      <td>0</td>\n",
       "      <td>0</td>\n",
       "      <td>29011</td>\n",
       "      <td>14.0000</td>\n",
       "      <td>NaN</td>\n",
       "      <td>S</td>\n",
       "    </tr>\n",
       "  </tbody>\n",
       "</table>\n",
       "<p>178 rows × 12 columns</p>\n",
       "</div>"
      ],
      "text/plain": [
       "     PassengerId  Survived  Pclass  \\\n",
       "755          756         1       2   \n",
       "239          240         0       2   \n",
       "315          316         1       3   \n",
       "50            51         0       3   \n",
       "297          298         0       1   \n",
       "..           ...       ...     ...   \n",
       "437          438         1       2   \n",
       "278          279         0       3   \n",
       "689          690         1       1   \n",
       "599          600         1       1   \n",
       "317          318         0       2   \n",
       "\n",
       "                                             Name     Sex    Age  SibSp  \\\n",
       "755                     Hamalainen, Master. Viljo    male   0.67      1   \n",
       "239                        Hunt, Mr. George Henry    male  33.00      0   \n",
       "315               Nilsson, Miss. Helmina Josefina  female  26.00      0   \n",
       "50                     Panula, Master. Juha Niilo    male   7.00      4   \n",
       "297                  Allison, Miss. Helen Loraine  female   2.00      1   \n",
       "..                                            ...     ...    ...    ...   \n",
       "437         Richards, Mrs. Sidney (Emily Hocking)  female  24.00      2   \n",
       "278                            Rice, Master. Eric    male   7.00      4   \n",
       "689             Madill, Miss. Georgette Alexandra  female  15.00      0   \n",
       "599  Duff Gordon, Sir. Cosmo Edmund (\"Mr Morgan\")    male  49.00      1   \n",
       "317                          Moraweck, Dr. Ernest    male  54.00      0   \n",
       "\n",
       "     Parch      Ticket      Fare    Cabin Embarked  \n",
       "755      1      250649   14.5000      NaN        S  \n",
       "239      0  SCO/W 1585   12.2750      NaN        S  \n",
       "315      0      347470    7.8542      NaN        S  \n",
       "50       1     3101295   39.6875      NaN        S  \n",
       "297      2      113781  151.5500  C22 C26        S  \n",
       "..     ...         ...       ...      ...      ...  \n",
       "437      3       29106   18.7500      NaN        S  \n",
       "278      1      382652   29.1250      NaN        Q  \n",
       "689      1       24160  211.3375       B5        S  \n",
       "599      0    PC 17485   56.9292      A20        C  \n",
       "317      0       29011   14.0000      NaN        S  \n",
       "\n",
       "[178 rows x 12 columns]"
      ]
     },
     "execution_count": 447,
     "metadata": {},
     "output_type": "execute_result"
    }
   ],
   "source": [
    "# load training data \n",
    "dff = pd.read_csv('data/train.csv')\n",
    "dff.sample(frac=.2)"
   ]
  },
  {
   "cell_type": "code",
   "execution_count": 448,
   "id": "22966732",
   "metadata": {},
   "outputs": [],
   "source": [
    "# drop `PassengerID`\n",
    "df = dff.drop('PassengerId', axis=1)"
   ]
  },
  {
   "cell_type": "code",
   "execution_count": 450,
   "id": "4ab63a56",
   "metadata": {},
   "outputs": [
    {
     "name": "stdout",
     "output_type": "stream",
     "text": [
      "<class 'pandas.core.frame.DataFrame'>\n",
      "RangeIndex: 891 entries, 0 to 890\n",
      "Data columns (total 11 columns):\n",
      " #   Column    Non-Null Count  Dtype  \n",
      "---  ------    --------------  -----  \n",
      " 0   Survived  891 non-null    int64  \n",
      " 1   Pclass    891 non-null    int64  \n",
      " 2   Name      891 non-null    object \n",
      " 3   Sex       891 non-null    object \n",
      " 4   Age       714 non-null    float64\n",
      " 5   SibSp     891 non-null    int64  \n",
      " 6   Parch     891 non-null    int64  \n",
      " 7   Ticket    891 non-null    object \n",
      " 8   Fare      891 non-null    float64\n",
      " 9   Cabin     204 non-null    object \n",
      " 10  Embarked  889 non-null    object \n",
      "dtypes: float64(2), int64(4), object(5)\n",
      "memory usage: 76.7+ KB\n"
     ]
    }
   ],
   "source": [
    "# quick overview of the dataset\n",
    "df.info()"
   ]
  },
  {
   "cell_type": "markdown",
   "id": "a90d2534",
   "metadata": {},
   "source": [
    "Note: \n",
    "- There are 891 samples/rows and 12 columns/varibles (11 features, 1 label).\n",
    "- There are some non-numeric features.\n",
    "- Based on the total number of rows there are some missing values in some features like `Age`, `Cabin`..."
   ]
  },
  {
   "cell_type": "code",
   "execution_count": 451,
   "id": "72c0bb3e",
   "metadata": {},
   "outputs": [
    {
     "data": {
      "text/plain": [
       "(891, 11)"
      ]
     },
     "execution_count": 451,
     "metadata": {},
     "output_type": "execute_result"
    }
   ],
   "source": [
    "# check dimension of data\n",
    "df.shape "
   ]
  },
  {
   "cell_type": "code",
   "execution_count": 452,
   "id": "74a745c0",
   "metadata": {},
   "outputs": [
    {
     "data": {
      "text/plain": [
       "Survived\n",
       "0    549\n",
       "1    342\n",
       "Name: count, dtype: int64"
      ]
     },
     "execution_count": 452,
     "metadata": {},
     "output_type": "execute_result"
    }
   ],
   "source": [
    "# check that labels have only 2 unique values\n",
    "df.Survived.value_counts() "
   ]
  },
  {
   "cell_type": "code",
   "execution_count": 453,
   "id": "e39e56a7",
   "metadata": {},
   "outputs": [
    {
     "data": {
      "text/html": [
       "<div>\n",
       "<style scoped>\n",
       "    .dataframe tbody tr th:only-of-type {\n",
       "        vertical-align: middle;\n",
       "    }\n",
       "\n",
       "    .dataframe tbody tr th {\n",
       "        vertical-align: top;\n",
       "    }\n",
       "\n",
       "    .dataframe thead th {\n",
       "        text-align: right;\n",
       "    }\n",
       "</style>\n",
       "<table border=\"1\" class=\"dataframe\">\n",
       "  <thead>\n",
       "    <tr style=\"text-align: right;\">\n",
       "      <th></th>\n",
       "      <th>Survived</th>\n",
       "      <th>Pclass</th>\n",
       "      <th>Age</th>\n",
       "      <th>SibSp</th>\n",
       "      <th>Parch</th>\n",
       "      <th>Fare</th>\n",
       "    </tr>\n",
       "  </thead>\n",
       "  <tbody>\n",
       "    <tr>\n",
       "      <th>count</th>\n",
       "      <td>891.000000</td>\n",
       "      <td>891.000000</td>\n",
       "      <td>714.000000</td>\n",
       "      <td>891.000000</td>\n",
       "      <td>891.000000</td>\n",
       "      <td>891.000000</td>\n",
       "    </tr>\n",
       "    <tr>\n",
       "      <th>mean</th>\n",
       "      <td>0.383838</td>\n",
       "      <td>2.308642</td>\n",
       "      <td>29.699118</td>\n",
       "      <td>0.523008</td>\n",
       "      <td>0.381594</td>\n",
       "      <td>32.204208</td>\n",
       "    </tr>\n",
       "    <tr>\n",
       "      <th>std</th>\n",
       "      <td>0.486592</td>\n",
       "      <td>0.836071</td>\n",
       "      <td>14.526497</td>\n",
       "      <td>1.102743</td>\n",
       "      <td>0.806057</td>\n",
       "      <td>49.693429</td>\n",
       "    </tr>\n",
       "    <tr>\n",
       "      <th>min</th>\n",
       "      <td>0.000000</td>\n",
       "      <td>1.000000</td>\n",
       "      <td>0.420000</td>\n",
       "      <td>0.000000</td>\n",
       "      <td>0.000000</td>\n",
       "      <td>0.000000</td>\n",
       "    </tr>\n",
       "    <tr>\n",
       "      <th>25%</th>\n",
       "      <td>0.000000</td>\n",
       "      <td>2.000000</td>\n",
       "      <td>20.125000</td>\n",
       "      <td>0.000000</td>\n",
       "      <td>0.000000</td>\n",
       "      <td>7.910400</td>\n",
       "    </tr>\n",
       "    <tr>\n",
       "      <th>50%</th>\n",
       "      <td>0.000000</td>\n",
       "      <td>3.000000</td>\n",
       "      <td>28.000000</td>\n",
       "      <td>0.000000</td>\n",
       "      <td>0.000000</td>\n",
       "      <td>14.454200</td>\n",
       "    </tr>\n",
       "    <tr>\n",
       "      <th>75%</th>\n",
       "      <td>1.000000</td>\n",
       "      <td>3.000000</td>\n",
       "      <td>38.000000</td>\n",
       "      <td>1.000000</td>\n",
       "      <td>0.000000</td>\n",
       "      <td>31.000000</td>\n",
       "    </tr>\n",
       "    <tr>\n",
       "      <th>max</th>\n",
       "      <td>1.000000</td>\n",
       "      <td>3.000000</td>\n",
       "      <td>80.000000</td>\n",
       "      <td>8.000000</td>\n",
       "      <td>6.000000</td>\n",
       "      <td>512.329200</td>\n",
       "    </tr>\n",
       "  </tbody>\n",
       "</table>\n",
       "</div>"
      ],
      "text/plain": [
       "         Survived      Pclass         Age       SibSp       Parch        Fare\n",
       "count  891.000000  891.000000  714.000000  891.000000  891.000000  891.000000\n",
       "mean     0.383838    2.308642   29.699118    0.523008    0.381594   32.204208\n",
       "std      0.486592    0.836071   14.526497    1.102743    0.806057   49.693429\n",
       "min      0.000000    1.000000    0.420000    0.000000    0.000000    0.000000\n",
       "25%      0.000000    2.000000   20.125000    0.000000    0.000000    7.910400\n",
       "50%      0.000000    3.000000   28.000000    0.000000    0.000000   14.454200\n",
       "75%      1.000000    3.000000   38.000000    1.000000    0.000000   31.000000\n",
       "max      1.000000    3.000000   80.000000    8.000000    6.000000  512.329200"
      ]
     },
     "execution_count": 453,
     "metadata": {},
     "output_type": "execute_result"
    }
   ],
   "source": [
    "# quick descriptive statistics\n",
    "df.describe() "
   ]
  },
  {
   "cell_type": "markdown",
   "id": "4c857961",
   "metadata": {},
   "source": [
    "Note:\n",
    "- The majority of passengers came with at least one person (sibling, spouse, parent, or child)\n",
    "- There seem to be an outlier in the `Age` column - `0.42  `, need to visualize to comfirm. Might be an outlier, or a toddler i.e 42% of 12 (couple of months old).\n",
    "- Seems some person's did not pay for the fare, min value is `0` might be crew members, need to visualize.\n",
    "- Less passengers survived.\n",
    "- The majority of passengers bought 3rd class tickets. \n",
    "- The majority of passegers were young adults less than 40 years of age."
   ]
  },
  {
   "cell_type": "markdown",
   "id": "95c56973",
   "metadata": {},
   "source": [
    "### Data Visualization"
   ]
  },
  {
   "cell_type": "code",
   "execution_count": 454,
   "id": "1714260b",
   "metadata": {},
   "outputs": [
    {
     "data": {
      "text/html": [
       "<div>\n",
       "<style scoped>\n",
       "    .dataframe tbody tr th:only-of-type {\n",
       "        vertical-align: middle;\n",
       "    }\n",
       "\n",
       "    .dataframe tbody tr th {\n",
       "        vertical-align: top;\n",
       "    }\n",
       "\n",
       "    .dataframe thead th {\n",
       "        text-align: right;\n",
       "    }\n",
       "</style>\n",
       "<table border=\"1\" class=\"dataframe\">\n",
       "  <thead>\n",
       "    <tr style=\"text-align: right;\">\n",
       "      <th></th>\n",
       "      <th>Survived</th>\n",
       "      <th>Pclass</th>\n",
       "      <th>Name</th>\n",
       "      <th>Sex</th>\n",
       "      <th>Age</th>\n",
       "      <th>SibSp</th>\n",
       "      <th>Parch</th>\n",
       "      <th>Ticket</th>\n",
       "      <th>Fare</th>\n",
       "      <th>Cabin</th>\n",
       "      <th>Embarked</th>\n",
       "    </tr>\n",
       "  </thead>\n",
       "  <tbody>\n",
       "    <tr>\n",
       "      <th>0</th>\n",
       "      <td>0</td>\n",
       "      <td>3</td>\n",
       "      <td>Braund, Mr. Owen Harris</td>\n",
       "      <td>male</td>\n",
       "      <td>22.0</td>\n",
       "      <td>1</td>\n",
       "      <td>0</td>\n",
       "      <td>A/5 21171</td>\n",
       "      <td>7.2500</td>\n",
       "      <td>NaN</td>\n",
       "      <td>S</td>\n",
       "    </tr>\n",
       "    <tr>\n",
       "      <th>1</th>\n",
       "      <td>1</td>\n",
       "      <td>1</td>\n",
       "      <td>Cumings, Mrs. John Bradley (Florence Briggs Th...</td>\n",
       "      <td>female</td>\n",
       "      <td>38.0</td>\n",
       "      <td>1</td>\n",
       "      <td>0</td>\n",
       "      <td>PC 17599</td>\n",
       "      <td>71.2833</td>\n",
       "      <td>C85</td>\n",
       "      <td>C</td>\n",
       "    </tr>\n",
       "  </tbody>\n",
       "</table>\n",
       "</div>"
      ],
      "text/plain": [
       "   Survived  Pclass                                               Name  \\\n",
       "0         0       3                            Braund, Mr. Owen Harris   \n",
       "1         1       1  Cumings, Mrs. John Bradley (Florence Briggs Th...   \n",
       "\n",
       "      Sex   Age  SibSp  Parch     Ticket     Fare Cabin Embarked  \n",
       "0    male  22.0      1      0  A/5 21171   7.2500   NaN        S  \n",
       "1  female  38.0      1      0   PC 17599  71.2833   C85        C  "
      ]
     },
     "execution_count": 454,
     "metadata": {},
     "output_type": "execute_result"
    }
   ],
   "source": [
    "df.head(2)"
   ]
  },
  {
   "cell_type": "code",
   "execution_count": 455,
   "id": "ab75028c",
   "metadata": {},
   "outputs": [
    {
     "data": {
      "text/plain": [
       "Index(['Survived', 'Pclass', 'Name', 'Sex', 'Age', 'SibSp', 'Parch', 'Ticket',\n",
       "       'Fare', 'Cabin', 'Embarked'],\n",
       "      dtype='object')"
      ]
     },
     "execution_count": 455,
     "metadata": {},
     "output_type": "execute_result"
    }
   ],
   "source": [
    "df.columns"
   ]
  },
  {
   "cell_type": "code",
   "execution_count": 456,
   "id": "795c8068",
   "metadata": {},
   "outputs": [
    {
     "data": {
      "image/png": "[encoded data removed]",
      "text/plain": [
       "<Figure size 640x480 with 1 Axes>"
      ]
     },
     "metadata": {},
     "output_type": "display_data"
    }
   ],
   "source": [
    "# check the number of survivors with respect to gender \n",
    "fig, ax = plt.subplots()\n",
    "ax.bar(df.Sex.unique(), df.Survived.value_counts(), label='Survived');\n",
    "ax.set(xlabel='Gender',\n",
    "       ylabel='Number of Survivors',\n",
    "       title=\"Male vs Female survivors\")\n",
    "ax.legend();\n"
   ]
  },
  {
   "cell_type": "code",
   "execution_count": 457,
   "id": "f7bd2bc3",
   "metadata": {},
   "outputs": [
    {
     "data": {
      "text/html": [
       "<div>\n",
       "<style scoped>\n",
       "    .dataframe tbody tr th:only-of-type {\n",
       "        vertical-align: middle;\n",
       "    }\n",
       "\n",
       "    .dataframe tbody tr th {\n",
       "        vertical-align: top;\n",
       "    }\n",
       "\n",
       "    .dataframe thead th {\n",
       "        text-align: right;\n",
       "    }\n",
       "</style>\n",
       "<table border=\"1\" class=\"dataframe\">\n",
       "  <thead>\n",
       "    <tr style=\"text-align: right;\">\n",
       "      <th></th>\n",
       "      <th>Survived</th>\n",
       "      <th>Pclass</th>\n",
       "      <th>Name</th>\n",
       "      <th>Sex</th>\n",
       "      <th>Age</th>\n",
       "      <th>SibSp</th>\n",
       "      <th>Parch</th>\n",
       "      <th>Ticket</th>\n",
       "      <th>Fare</th>\n",
       "      <th>Cabin</th>\n",
       "      <th>Embarked</th>\n",
       "    </tr>\n",
       "  </thead>\n",
       "  <tbody>\n",
       "    <tr>\n",
       "      <th>0</th>\n",
       "      <td>0</td>\n",
       "      <td>3</td>\n",
       "      <td>Braund, Mr. Owen Harris</td>\n",
       "      <td>male</td>\n",
       "      <td>22.0</td>\n",
       "      <td>1</td>\n",
       "      <td>0</td>\n",
       "      <td>A/5 21171</td>\n",
       "      <td>7.2500</td>\n",
       "      <td>NaN</td>\n",
       "      <td>S</td>\n",
       "    </tr>\n",
       "    <tr>\n",
       "      <th>1</th>\n",
       "      <td>1</td>\n",
       "      <td>1</td>\n",
       "      <td>Cumings, Mrs. John Bradley (Florence Briggs Th...</td>\n",
       "      <td>female</td>\n",
       "      <td>38.0</td>\n",
       "      <td>1</td>\n",
       "      <td>0</td>\n",
       "      <td>PC 17599</td>\n",
       "      <td>71.2833</td>\n",
       "      <td>C85</td>\n",
       "      <td>C</td>\n",
       "    </tr>\n",
       "  </tbody>\n",
       "</table>\n",
       "</div>"
      ],
      "text/plain": [
       "   Survived  Pclass                                               Name  \\\n",
       "0         0       3                            Braund, Mr. Owen Harris   \n",
       "1         1       1  Cumings, Mrs. John Bradley (Florence Briggs Th...   \n",
       "\n",
       "      Sex   Age  SibSp  Parch     Ticket     Fare Cabin Embarked  \n",
       "0    male  22.0      1      0  A/5 21171   7.2500   NaN        S  \n",
       "1  female  38.0      1      0   PC 17599  71.2833   C85        C  "
      ]
     },
     "execution_count": 457,
     "metadata": {},
     "output_type": "execute_result"
    }
   ],
   "source": [
    "df.head(2)"
   ]
  },
  {
   "cell_type": "code",
   "execution_count": 458,
   "id": "3f030dd9",
   "metadata": {},
   "outputs": [
    {
     "data": {
      "image/png": "[encoded data removed]",
      "text/plain": [
       "<Figure size 2000x1500 with 4 Axes>"
      ]
     },
     "metadata": {},
     "output_type": "display_data"
    }
   ],
   "source": [
    "# age distribution, fare distribution, scatter plot between age and survival, gender and survival\n",
    "fig, ((ax1, ax2), (ax3, ax4)) = plt.subplots(nrows=2, ncols=2, figsize=(20,15))\n",
    "ax1.hist(df.Age, bins=50)\n",
    "ax2.hist(df.Fare, bins=20)\n",
    "ax3.scatter(df.Age, df.Survived)\n",
    "ax4.scatter(df.Sex, df.Survived)\n",
    "\n",
    "ax1.set(title='Age distribution',\n",
    "        xlabel='Age',\n",
    "        ylabel='Frequency')\n",
    "\n",
    "ax2.set(title='Fare distribution',\n",
    "        xlabel='Fare',\n",
    "        ylabel='Frequency')\n",
    "\n",
    "ax3.set(title='Age v. Survived',\n",
    "        xlabel='Age',\n",
    "        ylabel='Survived')\n",
    "\n",
    "ax4.set(title='Gender v. Survived',\n",
    "        xlabel='Gender',\n",
    "        ylabel='Survived');\n"
   ]
  },
  {
   "cell_type": "code",
   "execution_count": 459,
   "id": "d41e33c4",
   "metadata": {},
   "outputs": [
    {
     "data": {
      "text/html": [
       "<div>\n",
       "<style scoped>\n",
       "    .dataframe tbody tr th:only-of-type {\n",
       "        vertical-align: middle;\n",
       "    }\n",
       "\n",
       "    .dataframe tbody tr th {\n",
       "        vertical-align: top;\n",
       "    }\n",
       "\n",
       "    .dataframe thead th {\n",
       "        text-align: right;\n",
       "    }\n",
       "</style>\n",
       "<table border=\"1\" class=\"dataframe\">\n",
       "  <thead>\n",
       "    <tr style=\"text-align: right;\">\n",
       "      <th>count</th>\n",
       "      <th>342</th>\n",
       "      <th>549</th>\n",
       "    </tr>\n",
       "    <tr>\n",
       "      <th>Sex</th>\n",
       "      <th></th>\n",
       "      <th></th>\n",
       "    </tr>\n",
       "  </thead>\n",
       "  <tbody>\n",
       "    <tr>\n",
       "      <th>female</th>\n",
       "      <td>1</td>\n",
       "      <td>0</td>\n",
       "    </tr>\n",
       "    <tr>\n",
       "      <th>male</th>\n",
       "      <td>0</td>\n",
       "      <td>1</td>\n",
       "    </tr>\n",
       "  </tbody>\n",
       "</table>\n",
       "</div>"
      ],
      "text/plain": [
       "count   342  549\n",
       "Sex             \n",
       "female    1    0\n",
       "male      0    1"
      ]
     },
     "execution_count": 459,
     "metadata": {},
     "output_type": "execute_result"
    }
   ],
   "source": [
    "pd.crosstab(df.Sex, df.Survived.value_counts())"
   ]
  },
  {
   "cell_type": "markdown",
   "id": "056f31e2",
   "metadata": {},
   "source": [
    "## Modelling"
   ]
  },
  {
   "cell_type": "code",
   "execution_count": 460,
   "id": "048fa721",
   "metadata": {},
   "outputs": [
    {
     "data": {
      "text/html": [
       "<div>\n",
       "<style scoped>\n",
       "    .dataframe tbody tr th:only-of-type {\n",
       "        vertical-align: middle;\n",
       "    }\n",
       "\n",
       "    .dataframe tbody tr th {\n",
       "        vertical-align: top;\n",
       "    }\n",
       "\n",
       "    .dataframe thead th {\n",
       "        text-align: right;\n",
       "    }\n",
       "</style>\n",
       "<table border=\"1\" class=\"dataframe\">\n",
       "  <thead>\n",
       "    <tr style=\"text-align: right;\">\n",
       "      <th></th>\n",
       "      <th>Survived</th>\n",
       "      <th>Pclass</th>\n",
       "      <th>Name</th>\n",
       "      <th>Sex</th>\n",
       "      <th>Age</th>\n",
       "      <th>SibSp</th>\n",
       "      <th>Parch</th>\n",
       "      <th>Ticket</th>\n",
       "      <th>Fare</th>\n",
       "      <th>Cabin</th>\n",
       "      <th>Embarked</th>\n",
       "    </tr>\n",
       "  </thead>\n",
       "  <tbody>\n",
       "    <tr>\n",
       "      <th>0</th>\n",
       "      <td>0</td>\n",
       "      <td>3</td>\n",
       "      <td>Braund, Mr. Owen Harris</td>\n",
       "      <td>male</td>\n",
       "      <td>22.0</td>\n",
       "      <td>1</td>\n",
       "      <td>0</td>\n",
       "      <td>A/5 21171</td>\n",
       "      <td>7.2500</td>\n",
       "      <td>NaN</td>\n",
       "      <td>S</td>\n",
       "    </tr>\n",
       "    <tr>\n",
       "      <th>1</th>\n",
       "      <td>1</td>\n",
       "      <td>1</td>\n",
       "      <td>Cumings, Mrs. John Bradley (Florence Briggs Th...</td>\n",
       "      <td>female</td>\n",
       "      <td>38.0</td>\n",
       "      <td>1</td>\n",
       "      <td>0</td>\n",
       "      <td>PC 17599</td>\n",
       "      <td>71.2833</td>\n",
       "      <td>C85</td>\n",
       "      <td>C</td>\n",
       "    </tr>\n",
       "    <tr>\n",
       "      <th>2</th>\n",
       "      <td>1</td>\n",
       "      <td>3</td>\n",
       "      <td>Heikkinen, Miss. Laina</td>\n",
       "      <td>female</td>\n",
       "      <td>26.0</td>\n",
       "      <td>0</td>\n",
       "      <td>0</td>\n",
       "      <td>STON/O2. 3101282</td>\n",
       "      <td>7.9250</td>\n",
       "      <td>NaN</td>\n",
       "      <td>S</td>\n",
       "    </tr>\n",
       "    <tr>\n",
       "      <th>3</th>\n",
       "      <td>1</td>\n",
       "      <td>1</td>\n",
       "      <td>Futrelle, Mrs. Jacques Heath (Lily May Peel)</td>\n",
       "      <td>female</td>\n",
       "      <td>35.0</td>\n",
       "      <td>1</td>\n",
       "      <td>0</td>\n",
       "      <td>113803</td>\n",
       "      <td>53.1000</td>\n",
       "      <td>C123</td>\n",
       "      <td>S</td>\n",
       "    </tr>\n",
       "    <tr>\n",
       "      <th>4</th>\n",
       "      <td>0</td>\n",
       "      <td>3</td>\n",
       "      <td>Allen, Mr. William Henry</td>\n",
       "      <td>male</td>\n",
       "      <td>35.0</td>\n",
       "      <td>0</td>\n",
       "      <td>0</td>\n",
       "      <td>373450</td>\n",
       "      <td>8.0500</td>\n",
       "      <td>NaN</td>\n",
       "      <td>S</td>\n",
       "    </tr>\n",
       "  </tbody>\n",
       "</table>\n",
       "</div>"
      ],
      "text/plain": [
       "   Survived  Pclass                                               Name  \\\n",
       "0         0       3                            Braund, Mr. Owen Harris   \n",
       "1         1       1  Cumings, Mrs. John Bradley (Florence Briggs Th...   \n",
       "2         1       3                             Heikkinen, Miss. Laina   \n",
       "3         1       1       Futrelle, Mrs. Jacques Heath (Lily May Peel)   \n",
       "4         0       3                           Allen, Mr. William Henry   \n",
       "\n",
       "      Sex   Age  SibSp  Parch            Ticket     Fare Cabin Embarked  \n",
       "0    male  22.0      1      0         A/5 21171   7.2500   NaN        S  \n",
       "1  female  38.0      1      0          PC 17599  71.2833   C85        C  \n",
       "2  female  26.0      0      0  STON/O2. 3101282   7.9250   NaN        S  \n",
       "3  female  35.0      1      0            113803  53.1000  C123        S  \n",
       "4    male  35.0      0      0            373450   8.0500   NaN        S  "
      ]
     },
     "execution_count": 460,
     "metadata": {},
     "output_type": "execute_result"
    }
   ],
   "source": [
    "# duplicate df\n",
    "df_mod = df.copy() \n",
    "df_mod.head()"
   ]
  },
  {
   "cell_type": "markdown",
   "id": "448efead",
   "metadata": {},
   "source": [
    "### Data Modelling EDA:  Preprocessing"
   ]
  },
  {
   "cell_type": "code",
   "execution_count": 461,
   "id": "f7ee1d6b",
   "metadata": {},
   "outputs": [
    {
     "data": {
      "text/plain": [
       "Survived      0\n",
       "Pclass        0\n",
       "Name          0\n",
       "Sex           0\n",
       "Age         177\n",
       "SibSp         0\n",
       "Parch         0\n",
       "Ticket        0\n",
       "Fare          0\n",
       "Cabin       687\n",
       "Embarked      2\n",
       "dtype: int64"
      ]
     },
     "execution_count": 461,
     "metadata": {},
     "output_type": "execute_result"
    }
   ],
   "source": [
    "# re-confirm if there are missing values in the dataset\n",
    "df_mod.isna().sum() "
   ]
  },
  {
   "cell_type": "code",
   "execution_count": 462,
   "id": "dc34ded8",
   "metadata": {},
   "outputs": [
    {
     "name": "stdout",
     "output_type": "stream",
     "text": [
      "Age\n",
      "Cabin\n",
      "Embarked\n"
     ]
    }
   ],
   "source": [
    "for label,content in df_mod.items():\n",
    "    if content.isna().sum():\n",
    "        print(label)"
   ]
  },
  {
   "cell_type": "markdown",
   "id": "1d0818c7",
   "metadata": {},
   "source": [
    "There are missing values in 3 features"
   ]
  },
  {
   "cell_type": "markdown",
   "id": "7b96fdff",
   "metadata": {},
   "source": [
    "#### Address missing values"
   ]
  },
  {
   "cell_type": "code",
   "execution_count": 463,
   "id": "9a32c6fc",
   "metadata": {},
   "outputs": [
    {
     "data": {
      "text/html": [
       "<div>\n",
       "<style scoped>\n",
       "    .dataframe tbody tr th:only-of-type {\n",
       "        vertical-align: middle;\n",
       "    }\n",
       "\n",
       "    .dataframe tbody tr th {\n",
       "        vertical-align: top;\n",
       "    }\n",
       "\n",
       "    .dataframe thead th {\n",
       "        text-align: right;\n",
       "    }\n",
       "</style>\n",
       "<table border=\"1\" class=\"dataframe\">\n",
       "  <thead>\n",
       "    <tr style=\"text-align: right;\">\n",
       "      <th></th>\n",
       "      <th>Survived</th>\n",
       "      <th>Pclass</th>\n",
       "      <th>Name</th>\n",
       "      <th>Sex</th>\n",
       "      <th>Age</th>\n",
       "      <th>SibSp</th>\n",
       "      <th>Parch</th>\n",
       "      <th>Ticket</th>\n",
       "      <th>Fare</th>\n",
       "      <th>Cabin</th>\n",
       "      <th>Embarked</th>\n",
       "    </tr>\n",
       "  </thead>\n",
       "  <tbody>\n",
       "    <tr>\n",
       "      <th>0</th>\n",
       "      <td>0</td>\n",
       "      <td>3</td>\n",
       "      <td>Braund, Mr. Owen Harris</td>\n",
       "      <td>male</td>\n",
       "      <td>22.0</td>\n",
       "      <td>1</td>\n",
       "      <td>0</td>\n",
       "      <td>A/5 21171</td>\n",
       "      <td>7.2500</td>\n",
       "      <td>NaN</td>\n",
       "      <td>S</td>\n",
       "    </tr>\n",
       "    <tr>\n",
       "      <th>1</th>\n",
       "      <td>1</td>\n",
       "      <td>1</td>\n",
       "      <td>Cumings, Mrs. John Bradley (Florence Briggs Th...</td>\n",
       "      <td>female</td>\n",
       "      <td>38.0</td>\n",
       "      <td>1</td>\n",
       "      <td>0</td>\n",
       "      <td>PC 17599</td>\n",
       "      <td>71.2833</td>\n",
       "      <td>C85</td>\n",
       "      <td>C</td>\n",
       "    </tr>\n",
       "  </tbody>\n",
       "</table>\n",
       "</div>"
      ],
      "text/plain": [
       "   Survived  Pclass                                               Name  \\\n",
       "0         0       3                            Braund, Mr. Owen Harris   \n",
       "1         1       1  Cumings, Mrs. John Bradley (Florence Briggs Th...   \n",
       "\n",
       "      Sex   Age  SibSp  Parch     Ticket     Fare Cabin Embarked  \n",
       "0    male  22.0      1      0  A/5 21171   7.2500   NaN        S  \n",
       "1  female  38.0      1      0   PC 17599  71.2833   C85        C  "
      ]
     },
     "execution_count": 463,
     "metadata": {},
     "output_type": "execute_result"
    }
   ],
   "source": [
    "df_mod.head(2)"
   ]
  },
  {
   "cell_type": "code",
   "execution_count": 464,
   "id": "3d6f8bad",
   "metadata": {},
   "outputs": [
    {
     "data": {
      "text/plain": [
       "np.float64(10056.312600000001)"
      ]
     },
     "execution_count": 464,
     "metadata": {},
     "output_type": "execute_result"
    }
   ],
   "source": [
    "df_mod.Fare.unique().sum()"
   ]
  },
  {
   "cell_type": "code",
   "execution_count": 465,
   "id": "19eae01e",
   "metadata": {},
   "outputs": [
    {
     "data": {
      "text/plain": [
       "(np.int64(177), 891)"
      ]
     },
     "execution_count": 465,
     "metadata": {},
     "output_type": "execute_result"
    }
   ],
   "source": [
    "df_mod.Age.isna().sum(), len(df_mod)"
   ]
  },
  {
   "cell_type": "markdown",
   "id": "65e6f491",
   "metadata": {},
   "source": [
    "Missing values will be filled accordingly:\n",
    "- Age: Median and indicator column \n",
    "- Cabin: 'Missing' and indicator column\n",
    "- Embarked: 'M' and indicator column "
   ]
  },
  {
   "cell_type": "code",
   "execution_count": 466,
   "id": "a914c7d9",
   "metadata": {},
   "outputs": [],
   "source": [
    "# fix all missing values\n",
    "for label,content in df_mod.items():\n",
    "    if (label=='Age'):\n",
    "         if pd.isna(content).sum():\n",
    "                df_mod[label + '_is_missing'] = pd.isna(content)\n",
    "                df_mod[label] = content.fillna(content.median())\n",
    "    elif (label=='Cabin'):\n",
    "         if pd.isna(content).sum():\n",
    "              df_mod[label + '_is_missing'] = pd.isna(content)\n",
    "              df_mod[label] = content.fillna('Missing')\n",
    "    elif (label=='Embarked'):\n",
    "         if pd.isna(content).sum():\n",
    "              df_mod[label + '_is_missing'] = pd.isna(content)\n",
    "              df_mod[label] = content.fillna('M') "
   ]
  },
  {
   "cell_type": "code",
   "execution_count": 467,
   "id": "e7484029",
   "metadata": {},
   "outputs": [
    {
     "data": {
      "text/plain": [
       "Survived               0\n",
       "Pclass                 0\n",
       "Name                   0\n",
       "Sex                    0\n",
       "Age                    0\n",
       "SibSp                  0\n",
       "Parch                  0\n",
       "Ticket                 0\n",
       "Fare                   0\n",
       "Cabin                  0\n",
       "Embarked               0\n",
       "Age_is_missing         0\n",
       "Cabin_is_missing       0\n",
       "Embarked_is_missing    0\n",
       "dtype: int64"
      ]
     },
     "execution_count": 467,
     "metadata": {},
     "output_type": "execute_result"
    }
   ],
   "source": [
    "df_mod.isna().sum()"
   ]
  },
  {
   "cell_type": "code",
   "execution_count": 468,
   "id": "117fe4d8",
   "metadata": {},
   "outputs": [
    {
     "data": {
      "text/plain": [
       "(Age_is_missing\n",
       " False    714\n",
       " True     177\n",
       " Name: count, dtype: int64,\n",
       " Cabin_is_missing\n",
       " True     687\n",
       " False    204\n",
       " Name: count, dtype: int64,\n",
       " Embarked_is_missing\n",
       " False    889\n",
       " True       2\n",
       " Name: count, dtype: int64)"
      ]
     },
     "execution_count": 468,
     "metadata": {},
     "output_type": "execute_result"
    }
   ],
   "source": [
    "df_mod.Age_is_missing.value_counts(), df_mod.Cabin_is_missing.value_counts(), df_mod.Embarked_is_missing.value_counts()"
   ]
  },
  {
   "cell_type": "markdown",
   "id": "52caeae5",
   "metadata": {},
   "source": [
    "Missing values fixed"
   ]
  },
  {
   "cell_type": "markdown",
   "id": "f9a2ba27",
   "metadata": {},
   "source": [
    "#### Address Non-numerical data/values"
   ]
  },
  {
   "cell_type": "code",
   "execution_count": 469,
   "id": "86a582cb",
   "metadata": {},
   "outputs": [
    {
     "name": "stdout",
     "output_type": "stream",
     "text": [
      "Name\n",
      "Sex\n",
      "Ticket\n",
      "Cabin\n",
      "Embarked\n"
     ]
    }
   ],
   "source": [
    "# re-confirm if there are non-numerical data in the dataset \n",
    "for label,content in df_mod.items():\n",
    "    if not pd.api.types.is_numeric_dtype(content):\n",
    "        print(label)"
   ]
  },
  {
   "cell_type": "code",
   "execution_count": 470,
   "id": "145d3f1d",
   "metadata": {},
   "outputs": [
    {
     "data": {
      "text/plain": [
       "891"
      ]
     },
     "execution_count": 470,
     "metadata": {},
     "output_type": "execute_result"
    }
   ],
   "source": [
    "len(df_mod.Name.unique())"
   ]
  },
  {
   "cell_type": "code",
   "execution_count": 471,
   "id": "377bf95e",
   "metadata": {},
   "outputs": [
    {
     "data": {
      "text/plain": [
       "Survived                 int64\n",
       "Pclass                   int64\n",
       "Name                    object\n",
       "Sex                     object\n",
       "Age                    float64\n",
       "SibSp                    int64\n",
       "Parch                    int64\n",
       "Ticket                  object\n",
       "Fare                   float64\n",
       "Cabin                   object\n",
       "Embarked                object\n",
       "Age_is_missing            bool\n",
       "Cabin_is_missing          bool\n",
       "Embarked_is_missing       bool\n",
       "dtype: object"
      ]
     },
     "execution_count": 471,
     "metadata": {},
     "output_type": "execute_result"
    }
   ],
   "source": [
    "df_mod.dtypes "
   ]
  },
  {
   "cell_type": "markdown",
   "id": "90ef56cd",
   "metadata": {},
   "source": [
    "There are 5 features [Name, Sex, Ticket, Cabin, Embarked] that are non-numeric"
   ]
  },
  {
   "cell_type": "code",
   "execution_count": 472,
   "id": "88696703",
   "metadata": {},
   "outputs": [
    {
     "data": {
      "text/html": [
       "<div>\n",
       "<style scoped>\n",
       "    .dataframe tbody tr th:only-of-type {\n",
       "        vertical-align: middle;\n",
       "    }\n",
       "\n",
       "    .dataframe tbody tr th {\n",
       "        vertical-align: top;\n",
       "    }\n",
       "\n",
       "    .dataframe thead th {\n",
       "        text-align: right;\n",
       "    }\n",
       "</style>\n",
       "<table border=\"1\" class=\"dataframe\">\n",
       "  <thead>\n",
       "    <tr style=\"text-align: right;\">\n",
       "      <th></th>\n",
       "      <th>Survived</th>\n",
       "      <th>Pclass</th>\n",
       "      <th>Name</th>\n",
       "      <th>Sex</th>\n",
       "      <th>Age</th>\n",
       "      <th>SibSp</th>\n",
       "      <th>Parch</th>\n",
       "      <th>Ticket</th>\n",
       "      <th>Fare</th>\n",
       "      <th>Cabin</th>\n",
       "      <th>Embarked</th>\n",
       "      <th>Age_is_missing</th>\n",
       "      <th>Cabin_is_missing</th>\n",
       "      <th>Embarked_is_missing</th>\n",
       "    </tr>\n",
       "  </thead>\n",
       "  <tbody>\n",
       "    <tr>\n",
       "      <th>0</th>\n",
       "      <td>0</td>\n",
       "      <td>3</td>\n",
       "      <td>Braund, Mr. Owen Harris</td>\n",
       "      <td>male</td>\n",
       "      <td>22.0</td>\n",
       "      <td>1</td>\n",
       "      <td>0</td>\n",
       "      <td>A/5 21171</td>\n",
       "      <td>7.2500</td>\n",
       "      <td>Missing</td>\n",
       "      <td>S</td>\n",
       "      <td>False</td>\n",
       "      <td>True</td>\n",
       "      <td>False</td>\n",
       "    </tr>\n",
       "    <tr>\n",
       "      <th>1</th>\n",
       "      <td>1</td>\n",
       "      <td>1</td>\n",
       "      <td>Cumings, Mrs. John Bradley (Florence Briggs Th...</td>\n",
       "      <td>female</td>\n",
       "      <td>38.0</td>\n",
       "      <td>1</td>\n",
       "      <td>0</td>\n",
       "      <td>PC 17599</td>\n",
       "      <td>71.2833</td>\n",
       "      <td>C85</td>\n",
       "      <td>C</td>\n",
       "      <td>False</td>\n",
       "      <td>False</td>\n",
       "      <td>False</td>\n",
       "    </tr>\n",
       "  </tbody>\n",
       "</table>\n",
       "</div>"
      ],
      "text/plain": [
       "   Survived  Pclass                                               Name  \\\n",
       "0         0       3                            Braund, Mr. Owen Harris   \n",
       "1         1       1  Cumings, Mrs. John Bradley (Florence Briggs Th...   \n",
       "\n",
       "      Sex   Age  SibSp  Parch     Ticket     Fare    Cabin Embarked  \\\n",
       "0    male  22.0      1      0  A/5 21171   7.2500  Missing        S   \n",
       "1  female  38.0      1      0   PC 17599  71.2833      C85        C   \n",
       "\n",
       "   Age_is_missing  Cabin_is_missing  Embarked_is_missing  \n",
       "0           False              True                False  \n",
       "1           False             False                False  "
      ]
     },
     "execution_count": 472,
     "metadata": {},
     "output_type": "execute_result"
    }
   ],
   "source": [
    "df_mod.head(2)"
   ]
  },
  {
   "cell_type": "code",
   "execution_count": 473,
   "id": "7d3c0990",
   "metadata": {},
   "outputs": [
    {
     "name": "stdout",
     "output_type": "stream",
     "text": [
      "Name\n",
      "Sex\n",
      "Ticket\n",
      "Cabin\n",
      "Embarked\n"
     ]
    }
   ],
   "source": [
    "# re-confirm if there are non-numerical data in the dataset \n",
    "for label,content in df_mod.items():\n",
    "    if not pd.api.types.is_numeric_dtype(content):\n",
    "        print(label)"
   ]
  },
  {
   "cell_type": "markdown",
   "id": "4219088d",
   "metadata": {},
   "source": [
    "Steps to converting non-numerical values to numerical\n",
    "- `Name`: Extract regular titles, store irregular titles as `other` and put under a column called 'Titles`, then drop the `Name` column - Feature Engineering.\n",
    "- `Sex`and `Embarked`: convert using pd.get_dummies\n",
    "- `Cabin`: Create `Deck` feature for decks to avoid high-cardinality, then drop column - Feature Engineering.\n",
    "- `Ticket`: Convert using Categorical method"
   ]
  },
  {
   "cell_type": "markdown",
   "id": "15a4cabb",
   "metadata": {},
   "source": [
    "#### `Name` (Feature engineering)"
   ]
  },
  {
   "cell_type": "code",
   "execution_count": 474,
   "id": "491dfa97",
   "metadata": {},
   "outputs": [
    {
     "data": {
      "text/plain": [
       "array(['Andersson, Miss. Ingeborg Constanzia', 'Mernagh, Mr. Robert',\n",
       "       'Abbott, Mrs. Stanton (Rosa Hunt)', 'Sjostedt, Mr. Ernst Adolf',\n",
       "       'Aks, Mrs. Sam (Leah Rosen)', 'Hood, Mr. Ambrose Jr',\n",
       "       'Clarke, Mrs. Charles V (Ada Maria Winfield)',\n",
       "       'Vestrom, Miss. Hulda Amanda Adolfina', 'Laleff, Mr. Kristo',\n",
       "       'Hart, Mr. Henry', 'Bracken, Mr. James H',\n",
       "       'Goncalves, Mr. Manuel Estanslas', 'Braund, Mr. Lewis Richard',\n",
       "       'Hansen, Mr. Henry Damsgaard', 'Goodwin, Master. Sidney Leonard',\n",
       "       'Weir, Col. John', 'Hickman, Mr. Lewis',\n",
       "       'Jacobsohn, Mr. Sidney Samuel', 'Carlsson, Mr. Frans Olof',\n",
       "       'Silvey, Mrs. William Baird (Alice Munger)', 'Culumovic, Mr. Jeso',\n",
       "       'Asplund, Master. Clarence Gustaf Hugo',\n",
       "       'Brown, Mrs. Thomas William Solomon (Elizabeth Catherine Ford)',\n",
       "       'Fortune, Miss. Mabel Helen', 'O\\'Leary, Miss. Hanora \"Norah\"',\n",
       "       'Lines, Miss. Mary Conover', 'McDermott, Miss. Brigdet Delia',\n",
       "       'Lobb, Mr. William Arthur', 'Peuchen, Major. Arthur Godfrey',\n",
       "       'Duane, Mr. Frank', 'Goodwin, Mr. Charles Edward',\n",
       "       'Newell, Miss. Madeleine', 'Pain, Dr. Alfred',\n",
       "       'Chambers, Mr. Norman Campbell', 'Allison, Miss. Helen Loraine',\n",
       "       'Hamalainen, Mrs. William (Anna)', 'Ford, Mr. William Neal',\n",
       "       'Tikkanen, Mr. Juho', 'Cook, Mr. Jacob', 'LeRoy, Miss. Bertha',\n",
       "       'Chronopoulos, Mr. Apostolos',\n",
       "       'Swift, Mrs. Frederick Joel (Margaret Welles Barron)',\n",
       "       'Longley, Miss. Gretchen Fiske',\n",
       "       'Gilnagh, Miss. Katherine \"Katie\"',\n",
       "       'Andersson, Master. Sigvard Harald Elias', 'Ross, Mr. John Hugo',\n",
       "       'Christy, Miss. Julie Rachel',\n",
       "       'Hoyt, Mrs. Frederick Maxfield (Jane Anne Forby)',\n",
       "       'Cavendish, Mr. Tyrell William', 'Taussig, Miss. Ruth',\n",
       "       'Peduzzi, Mr. Joseph', 'Keane, Miss. Nora A', 'Asim, Mr. Adola',\n",
       "       'Mineff, Mr. Ivan',\n",
       "       'Andersen-Jensen, Miss. Carla Christine Nielsine',\n",
       "       'Panula, Mr. Jaako Arnold', 'Barbara, Mrs. (Catherine David)',\n",
       "       'Frost, Mr. Anthony Wood \"Archie\"', 'Garfirth, Mr. John',\n",
       "       'Andersson, Miss. Ellis Anna Maria', 'Allum, Mr. Owen George',\n",
       "       'Carter, Miss. Lucile Polk', 'Lindell, Mr. Edvard Bengtsson',\n",
       "       'Richard, Mr. Emile', 'Gilinski, Mr. Eliezer',\n",
       "       'Mudd, Mr. Thomas Charles', 'Meanwell, Miss. (Marion Ogden)',\n",
       "       'Graham, Mr. George Edward',\n",
       "       'Dick, Mrs. Albert Adrian (Vera Gillespie)', 'Novel, Mr. Mansouer',\n",
       "       'Givard, Mr. Hans Kristensen', 'Emanuel, Miss. Virginia Ethel',\n",
       "       'Silven, Miss. Lyyli Karoliina', 'Ali, Mr. William',\n",
       "       'Lindahl, Miss. Agda Thorilda Viktoria',\n",
       "       'Lovell, Mr. John Hall (\"Henry\")', 'Larsson, Mr. August Viktor',\n",
       "       'Stanley, Miss. Amy Zillah Elsie', 'Compton, Miss. Sara Rebecca',\n",
       "       'Frolicher-Stehli, Mr. Maxmillian',\n",
       "       'Moubarek, Master. Halim Gonios (\"William George\")',\n",
       "       'Fry, Mr. Richard', 'Fortune, Miss. Alice Elizabeth',\n",
       "       'Chip, Mr. Chang', 'Sivic, Mr. Husein',\n",
       "       \"O'Driscoll, Miss. Bridget\",\n",
       "       'Navratil, Mr. Michel (\"Louis M Hoffman\")',\n",
       "       'Goodwin, Mrs. Frederick (Augusta Tyler)',\n",
       "       'Navratil, Master. Edmond Roger', 'Vande Walle, Mr. Nestor Cyriel',\n",
       "       'Arnold-Franchi, Mrs. Josef (Josefine Franchi)',\n",
       "       'Touma, Mrs. Darwis (Hanne Youssef Razi)',\n",
       "       'Funk, Miss. Annie Clemmer', 'Meyer, Mr. Edgar Joseph',\n",
       "       'Goldsmith, Master. Frank John William \"Frankie\"',\n",
       "       'Douglas, Mr. Walter Donald', 'Markoff, Mr. Marin',\n",
       "       'Sheerlinck, Mr. Jan Baptist', 'Ekstrom, Mr. Johan',\n",
       "       'Hogeboom, Mrs. John C (Anna Andrews)',\n",
       "       'Williams, Mr. Charles Duane', 'Skoog, Master. Karl Thorsten',\n",
       "       'Stanley, Mr. Edward Roland',\n",
       "       'Asplund, Mrs. Carl Oscar (Selma Augusta Emilia Johansson)',\n",
       "       'Van Impe, Miss. Catharina', 'Reynaldo, Ms. Encarnacion',\n",
       "       'Connors, Mr. Patrick', 'Dodge, Master. Washington',\n",
       "       'McGovern, Miss. Mary', 'Hawksford, Mr. Walter James',\n",
       "       'Leyson, Mr. Robert William Norman', 'Haas, Miss. Aloisia',\n",
       "       'Rommetvedt, Mr. Knud Paust', 'Vander Planke, Miss. Augusta Maria',\n",
       "       'Rice, Master. Eric', 'Madsen, Mr. Fridtjof Arne',\n",
       "       'Sagesser, Mlle. Emma', 'Stoytcheff, Mr. Ilia',\n",
       "       'Hansen, Mr. Henrik Juul', 'Chaffee, Mr. Herbert Fuller',\n",
       "       'Pernot, Mr. Rene', 'Minahan, Dr. William Edward',\n",
       "       'Warren, Mrs. Frank Manley (Anna Sophia Atkinson)',\n",
       "       'Levy, Mr. Rene Jacques',\n",
       "       'Drew, Mrs. James Vivian (Lulu Thorne Christian)',\n",
       "       'Persson, Mr. Ernst Ulrik', 'Tobin, Mr. Roger',\n",
       "       'Kink-Heilmann, Miss. Luise Gretchen', 'Olsen, Mr. Henry Margido',\n",
       "       'Sirota, Mr. Maurice', 'Allen, Mr. William Henry',\n",
       "       'Garside, Miss. Ethel', 'Mamee, Mr. Hanna',\n",
       "       'Goodwin, Miss. Lillian Amy', 'Simmons, Mr. John',\n",
       "       'Cacic, Mr. Luka', 'Devaney, Miss. Margaret Delia',\n",
       "       'Yasbeck, Mr. Antoni', 'Albimona, Mr. Nassef Cassem',\n",
       "       'Andersson, Miss. Ebba Iris Alfrida', 'Honkanen, Miss. Eliina',\n",
       "       'Najib, Miss. Adele Kiamie \"Jane\"',\n",
       "       'Collyer, Mrs. Harvey (Charlotte Annie Tate)',\n",
       "       'Porter, Mr. Walter Chamberlain', 'Downton, Mr. William James',\n",
       "       'Leinonen, Mr. Antti Gustaf', 'Kimball, Mr. Edwin Nelson Jr',\n",
       "       'Lindqvist, Mr. Eino William', 'Skoog, Master. Harald',\n",
       "       'Lam, Mr. Len',\n",
       "       'Robert, Mrs. Edward Scott (Elisabeth Walton McMillan)',\n",
       "       'Johannesen-Bratthammer, Mr. Bernt', 'Dick, Mr. Albert Adrian',\n",
       "       'Morley, Mr. William', 'Dowdell, Miss. Elizabeth',\n",
       "       'Dorking, Mr. Edward Arthur', 'Futrelle, Mr. Jacques Heath',\n",
       "       'Murphy, Miss. Margaret Jane', 'Jalsevac, Mr. Ivan',\n",
       "       'Keefe, Mr. Arthur', 'Sivola, Mr. Antti Wilhelm',\n",
       "       'Maenpaa, Mr. Matti Alexanteri', 'Goodwin, Master. Harold Victor',\n",
       "       'Nicola-Yarred, Master. Elias',\n",
       "       'de Messemaeker, Mrs. Guillaume Joseph (Emma)',\n",
       "       'Backstrom, Mr. Karl Alfred', 'Palsson, Miss. Torborg Danira',\n",
       "       'Sage, Mr. George John Jr', 'Stewart, Mr. Albert A',\n",
       "       'Rice, Master. Arthur', 'Bengtsson, Mr. John Viktor',\n",
       "       'Gillespie, Mr. William Henry', 'Panula, Master. Juha Niilo',\n",
       "       'Rintamaki, Mr. Matti', 'Richards, Master. George Sibley',\n",
       "       'Artagaveytia, Mr. Ramon', 'Gee, Mr. Arthur H',\n",
       "       'Robbins, Mr. Victor'], dtype=object)"
      ]
     },
     "execution_count": 474,
     "metadata": {},
     "output_type": "execute_result"
    }
   ],
   "source": [
    "df_mod.Name.sample(frac=.2).unique()"
   ]
  },
  {
   "cell_type": "code",
   "execution_count": 475,
   "id": "de1c9d70",
   "metadata": {},
   "outputs": [],
   "source": [
    "# Extract regular titles form Name feature\n",
    "titles = ['Mr', 'Mrs', 'Master', 'Miss', 'Dr', 'Rev']\n",
    "\n",
    "df_mod['Titles'] = df_mod.Name.str.extract(rf'({\"|\".join(titles)})', expand=False).fillna('Other')"
   ]
  },
  {
   "cell_type": "code",
   "execution_count": 476,
   "id": "0525e7c8",
   "metadata": {},
   "outputs": [],
   "source": [
    "# drop Name column \n",
    "df_mod = df_mod.drop('Name', axis=1)"
   ]
  },
  {
   "cell_type": "code",
   "execution_count": 477,
   "id": "05ce3691",
   "metadata": {},
   "outputs": [
    {
     "data": {
      "text/html": [
       "<div>\n",
       "<style scoped>\n",
       "    .dataframe tbody tr th:only-of-type {\n",
       "        vertical-align: middle;\n",
       "    }\n",
       "\n",
       "    .dataframe tbody tr th {\n",
       "        vertical-align: top;\n",
       "    }\n",
       "\n",
       "    .dataframe thead th {\n",
       "        text-align: right;\n",
       "    }\n",
       "</style>\n",
       "<table border=\"1\" class=\"dataframe\">\n",
       "  <thead>\n",
       "    <tr style=\"text-align: right;\">\n",
       "      <th></th>\n",
       "      <th>Survived</th>\n",
       "      <th>Pclass</th>\n",
       "      <th>Sex</th>\n",
       "      <th>Age</th>\n",
       "      <th>SibSp</th>\n",
       "      <th>Parch</th>\n",
       "      <th>Ticket</th>\n",
       "      <th>Fare</th>\n",
       "      <th>Cabin</th>\n",
       "      <th>Embarked</th>\n",
       "      <th>Age_is_missing</th>\n",
       "      <th>Cabin_is_missing</th>\n",
       "      <th>Embarked_is_missing</th>\n",
       "      <th>Titles</th>\n",
       "    </tr>\n",
       "  </thead>\n",
       "  <tbody>\n",
       "    <tr>\n",
       "      <th>596</th>\n",
       "      <td>1</td>\n",
       "      <td>2</td>\n",
       "      <td>female</td>\n",
       "      <td>28.0</td>\n",
       "      <td>0</td>\n",
       "      <td>0</td>\n",
       "      <td>248727</td>\n",
       "      <td>33.00</td>\n",
       "      <td>Missing</td>\n",
       "      <td>S</td>\n",
       "      <td>True</td>\n",
       "      <td>True</td>\n",
       "      <td>False</td>\n",
       "      <td>Miss</td>\n",
       "    </tr>\n",
       "    <tr>\n",
       "      <th>814</th>\n",
       "      <td>0</td>\n",
       "      <td>3</td>\n",
       "      <td>male</td>\n",
       "      <td>30.5</td>\n",
       "      <td>0</td>\n",
       "      <td>0</td>\n",
       "      <td>364499</td>\n",
       "      <td>8.05</td>\n",
       "      <td>Missing</td>\n",
       "      <td>S</td>\n",
       "      <td>False</td>\n",
       "      <td>True</td>\n",
       "      <td>False</td>\n",
       "      <td>Mr</td>\n",
       "    </tr>\n",
       "  </tbody>\n",
       "</table>\n",
       "</div>"
      ],
      "text/plain": [
       "     Survived  Pclass     Sex   Age  SibSp  Parch  Ticket   Fare    Cabin  \\\n",
       "596         1       2  female  28.0      0      0  248727  33.00  Missing   \n",
       "814         0       3    male  30.5      0      0  364499   8.05  Missing   \n",
       "\n",
       "    Embarked  Age_is_missing  Cabin_is_missing  Embarked_is_missing Titles  \n",
       "596        S            True              True                False   Miss  \n",
       "814        S           False              True                False     Mr  "
      ]
     },
     "execution_count": 477,
     "metadata": {},
     "output_type": "execute_result"
    }
   ],
   "source": [
    "# confirm results\n",
    "df_mod.sample(frac=.002)"
   ]
  },
  {
   "cell_type": "code",
   "execution_count": 478,
   "id": "adb211de",
   "metadata": {},
   "outputs": [
    {
     "data": {
      "text/plain": [
       "6"
      ]
     },
     "execution_count": 478,
     "metadata": {},
     "output_type": "execute_result"
    }
   ],
   "source": [
    "len(df_mod.Titles.unique())"
   ]
  },
  {
   "cell_type": "code",
   "execution_count": 479,
   "id": "c00f1b2e",
   "metadata": {},
   "outputs": [],
   "source": [
    "# convert Titles feature to numerical \n",
    "df_mod = pd.concat([df_mod, pd.get_dummies(df_mod.Titles, prefix='Titles_')], axis=1)"
   ]
  },
  {
   "cell_type": "code",
   "execution_count": 480,
   "id": "84850258",
   "metadata": {},
   "outputs": [],
   "source": [
    "df_mod = df_mod.drop('Titles', axis=1)"
   ]
  },
  {
   "cell_type": "code",
   "execution_count": 481,
   "id": "a6e3f92d",
   "metadata": {},
   "outputs": [
    {
     "data": {
      "text/html": [
       "<div>\n",
       "<style scoped>\n",
       "    .dataframe tbody tr th:only-of-type {\n",
       "        vertical-align: middle;\n",
       "    }\n",
       "\n",
       "    .dataframe tbody tr th {\n",
       "        vertical-align: top;\n",
       "    }\n",
       "\n",
       "    .dataframe thead th {\n",
       "        text-align: right;\n",
       "    }\n",
       "</style>\n",
       "<table border=\"1\" class=\"dataframe\">\n",
       "  <thead>\n",
       "    <tr style=\"text-align: right;\">\n",
       "      <th></th>\n",
       "      <th>Survived</th>\n",
       "      <th>Pclass</th>\n",
       "      <th>Sex</th>\n",
       "      <th>Age</th>\n",
       "      <th>SibSp</th>\n",
       "      <th>Parch</th>\n",
       "      <th>Ticket</th>\n",
       "      <th>Fare</th>\n",
       "      <th>Cabin</th>\n",
       "      <th>Embarked</th>\n",
       "      <th>Age_is_missing</th>\n",
       "      <th>Cabin_is_missing</th>\n",
       "      <th>Embarked_is_missing</th>\n",
       "      <th>Titles__Dr</th>\n",
       "      <th>Titles__Master</th>\n",
       "      <th>Titles__Miss</th>\n",
       "      <th>Titles__Mr</th>\n",
       "      <th>Titles__Other</th>\n",
       "      <th>Titles__Rev</th>\n",
       "    </tr>\n",
       "  </thead>\n",
       "  <tbody>\n",
       "    <tr>\n",
       "      <th>0</th>\n",
       "      <td>0</td>\n",
       "      <td>3</td>\n",
       "      <td>male</td>\n",
       "      <td>22.0</td>\n",
       "      <td>1</td>\n",
       "      <td>0</td>\n",
       "      <td>A/5 21171</td>\n",
       "      <td>7.25</td>\n",
       "      <td>Missing</td>\n",
       "      <td>S</td>\n",
       "      <td>False</td>\n",
       "      <td>True</td>\n",
       "      <td>False</td>\n",
       "      <td>False</td>\n",
       "      <td>False</td>\n",
       "      <td>False</td>\n",
       "      <td>True</td>\n",
       "      <td>False</td>\n",
       "      <td>False</td>\n",
       "    </tr>\n",
       "  </tbody>\n",
       "</table>\n",
       "</div>"
      ],
      "text/plain": [
       "   Survived  Pclass   Sex   Age  SibSp  Parch     Ticket  Fare    Cabin  \\\n",
       "0         0       3  male  22.0      1      0  A/5 21171  7.25  Missing   \n",
       "\n",
       "  Embarked  Age_is_missing  Cabin_is_missing  Embarked_is_missing  Titles__Dr  \\\n",
       "0        S           False              True                False       False   \n",
       "\n",
       "   Titles__Master  Titles__Miss  Titles__Mr  Titles__Other  Titles__Rev  \n",
       "0           False         False        True          False        False  "
      ]
     },
     "execution_count": 481,
     "metadata": {},
     "output_type": "execute_result"
    }
   ],
   "source": [
    "df_mod.head(1)"
   ]
  },
  {
   "cell_type": "code",
   "execution_count": 482,
   "id": "be7588a9",
   "metadata": {},
   "outputs": [
    {
     "name": "stdout",
     "output_type": "stream",
     "text": [
      "Sex\n",
      "Ticket\n",
      "Cabin\n",
      "Embarked\n"
     ]
    }
   ],
   "source": [
    "# re-confirm if there are non-numerical data in the dataset \n",
    "for label,content in df_mod.items():\n",
    "    if not pd.api.types.is_numeric_dtype(content):\n",
    "        print(label)"
   ]
  },
  {
   "cell_type": "markdown",
   "id": "20f94a59",
   "metadata": {},
   "source": [
    "#### `Sex` and `Embarked` - pd.get_dummies() "
   ]
  },
  {
   "cell_type": "code",
   "execution_count": 483,
   "id": "24804d1a",
   "metadata": {},
   "outputs": [],
   "source": [
    "df_mod = pd.concat([df_mod, pd.get_dummies(df_mod[['Sex', 'Embarked']], prefix=['Sex_', 'Embarked_'])], axis=1)"
   ]
  },
  {
   "cell_type": "code",
   "execution_count": 484,
   "id": "79467cbd",
   "metadata": {},
   "outputs": [],
   "source": [
    "# drop `Sex` and `Embarked` columns\n",
    "df_mod = df_mod.drop(columns=['Sex', 'Embarked'], axis=1)"
   ]
  },
  {
   "cell_type": "code",
   "execution_count": 485,
   "id": "9d3c7e46",
   "metadata": {},
   "outputs": [
    {
     "data": {
      "text/html": [
       "<div>\n",
       "<style scoped>\n",
       "    .dataframe tbody tr th:only-of-type {\n",
       "        vertical-align: middle;\n",
       "    }\n",
       "\n",
       "    .dataframe tbody tr th {\n",
       "        vertical-align: top;\n",
       "    }\n",
       "\n",
       "    .dataframe thead th {\n",
       "        text-align: right;\n",
       "    }\n",
       "</style>\n",
       "<table border=\"1\" class=\"dataframe\">\n",
       "  <thead>\n",
       "    <tr style=\"text-align: right;\">\n",
       "      <th></th>\n",
       "      <th>0</th>\n",
       "      <th>1</th>\n",
       "      <th>2</th>\n",
       "      <th>3</th>\n",
       "      <th>4</th>\n",
       "    </tr>\n",
       "  </thead>\n",
       "  <tbody>\n",
       "    <tr>\n",
       "      <th>Survived</th>\n",
       "      <td>0</td>\n",
       "      <td>1</td>\n",
       "      <td>1</td>\n",
       "      <td>1</td>\n",
       "      <td>0</td>\n",
       "    </tr>\n",
       "    <tr>\n",
       "      <th>Pclass</th>\n",
       "      <td>3</td>\n",
       "      <td>1</td>\n",
       "      <td>3</td>\n",
       "      <td>1</td>\n",
       "      <td>3</td>\n",
       "    </tr>\n",
       "    <tr>\n",
       "      <th>Age</th>\n",
       "      <td>22.0</td>\n",
       "      <td>38.0</td>\n",
       "      <td>26.0</td>\n",
       "      <td>35.0</td>\n",
       "      <td>35.0</td>\n",
       "    </tr>\n",
       "    <tr>\n",
       "      <th>SibSp</th>\n",
       "      <td>1</td>\n",
       "      <td>1</td>\n",
       "      <td>0</td>\n",
       "      <td>1</td>\n",
       "      <td>0</td>\n",
       "    </tr>\n",
       "    <tr>\n",
       "      <th>Parch</th>\n",
       "      <td>0</td>\n",
       "      <td>0</td>\n",
       "      <td>0</td>\n",
       "      <td>0</td>\n",
       "      <td>0</td>\n",
       "    </tr>\n",
       "    <tr>\n",
       "      <th>Ticket</th>\n",
       "      <td>A/5 21171</td>\n",
       "      <td>PC 17599</td>\n",
       "      <td>STON/O2. 3101282</td>\n",
       "      <td>113803</td>\n",
       "      <td>373450</td>\n",
       "    </tr>\n",
       "    <tr>\n",
       "      <th>Fare</th>\n",
       "      <td>7.25</td>\n",
       "      <td>71.2833</td>\n",
       "      <td>7.925</td>\n",
       "      <td>53.1</td>\n",
       "      <td>8.05</td>\n",
       "    </tr>\n",
       "    <tr>\n",
       "      <th>Cabin</th>\n",
       "      <td>Missing</td>\n",
       "      <td>C85</td>\n",
       "      <td>Missing</td>\n",
       "      <td>C123</td>\n",
       "      <td>Missing</td>\n",
       "    </tr>\n",
       "    <tr>\n",
       "      <th>Age_is_missing</th>\n",
       "      <td>False</td>\n",
       "      <td>False</td>\n",
       "      <td>False</td>\n",
       "      <td>False</td>\n",
       "      <td>False</td>\n",
       "    </tr>\n",
       "    <tr>\n",
       "      <th>Cabin_is_missing</th>\n",
       "      <td>True</td>\n",
       "      <td>False</td>\n",
       "      <td>True</td>\n",
       "      <td>False</td>\n",
       "      <td>True</td>\n",
       "    </tr>\n",
       "    <tr>\n",
       "      <th>Embarked_is_missing</th>\n",
       "      <td>False</td>\n",
       "      <td>False</td>\n",
       "      <td>False</td>\n",
       "      <td>False</td>\n",
       "      <td>False</td>\n",
       "    </tr>\n",
       "    <tr>\n",
       "      <th>Titles__Dr</th>\n",
       "      <td>False</td>\n",
       "      <td>False</td>\n",
       "      <td>False</td>\n",
       "      <td>False</td>\n",
       "      <td>False</td>\n",
       "    </tr>\n",
       "    <tr>\n",
       "      <th>Titles__Master</th>\n",
       "      <td>False</td>\n",
       "      <td>False</td>\n",
       "      <td>False</td>\n",
       "      <td>False</td>\n",
       "      <td>False</td>\n",
       "    </tr>\n",
       "    <tr>\n",
       "      <th>Titles__Miss</th>\n",
       "      <td>False</td>\n",
       "      <td>False</td>\n",
       "      <td>True</td>\n",
       "      <td>False</td>\n",
       "      <td>False</td>\n",
       "    </tr>\n",
       "    <tr>\n",
       "      <th>Titles__Mr</th>\n",
       "      <td>True</td>\n",
       "      <td>True</td>\n",
       "      <td>False</td>\n",
       "      <td>True</td>\n",
       "      <td>True</td>\n",
       "    </tr>\n",
       "    <tr>\n",
       "      <th>Titles__Other</th>\n",
       "      <td>False</td>\n",
       "      <td>False</td>\n",
       "      <td>False</td>\n",
       "      <td>False</td>\n",
       "      <td>False</td>\n",
       "    </tr>\n",
       "    <tr>\n",
       "      <th>Titles__Rev</th>\n",
       "      <td>False</td>\n",
       "      <td>False</td>\n",
       "      <td>False</td>\n",
       "      <td>False</td>\n",
       "      <td>False</td>\n",
       "    </tr>\n",
       "    <tr>\n",
       "      <th>Sex__female</th>\n",
       "      <td>False</td>\n",
       "      <td>True</td>\n",
       "      <td>True</td>\n",
       "      <td>True</td>\n",
       "      <td>False</td>\n",
       "    </tr>\n",
       "    <tr>\n",
       "      <th>Sex__male</th>\n",
       "      <td>True</td>\n",
       "      <td>False</td>\n",
       "      <td>False</td>\n",
       "      <td>False</td>\n",
       "      <td>True</td>\n",
       "    </tr>\n",
       "    <tr>\n",
       "      <th>Embarked__C</th>\n",
       "      <td>False</td>\n",
       "      <td>True</td>\n",
       "      <td>False</td>\n",
       "      <td>False</td>\n",
       "      <td>False</td>\n",
       "    </tr>\n",
       "    <tr>\n",
       "      <th>Embarked__M</th>\n",
       "      <td>False</td>\n",
       "      <td>False</td>\n",
       "      <td>False</td>\n",
       "      <td>False</td>\n",
       "      <td>False</td>\n",
       "    </tr>\n",
       "    <tr>\n",
       "      <th>Embarked__Q</th>\n",
       "      <td>False</td>\n",
       "      <td>False</td>\n",
       "      <td>False</td>\n",
       "      <td>False</td>\n",
       "      <td>False</td>\n",
       "    </tr>\n",
       "    <tr>\n",
       "      <th>Embarked__S</th>\n",
       "      <td>True</td>\n",
       "      <td>False</td>\n",
       "      <td>True</td>\n",
       "      <td>True</td>\n",
       "      <td>True</td>\n",
       "    </tr>\n",
       "  </tbody>\n",
       "</table>\n",
       "</div>"
      ],
      "text/plain": [
       "                             0         1                 2       3        4\n",
       "Survived                     0         1                 1       1        0\n",
       "Pclass                       3         1                 3       1        3\n",
       "Age                       22.0      38.0              26.0    35.0     35.0\n",
       "SibSp                        1         1                 0       1        0\n",
       "Parch                        0         0                 0       0        0\n",
       "Ticket               A/5 21171  PC 17599  STON/O2. 3101282  113803   373450\n",
       "Fare                      7.25   71.2833             7.925    53.1     8.05\n",
       "Cabin                  Missing       C85           Missing    C123  Missing\n",
       "Age_is_missing           False     False             False   False    False\n",
       "Cabin_is_missing          True     False              True   False     True\n",
       "Embarked_is_missing      False     False             False   False    False\n",
       "Titles__Dr               False     False             False   False    False\n",
       "Titles__Master           False     False             False   False    False\n",
       "Titles__Miss             False     False              True   False    False\n",
       "Titles__Mr                True      True             False    True     True\n",
       "Titles__Other            False     False             False   False    False\n",
       "Titles__Rev              False     False             False   False    False\n",
       "Sex__female              False      True              True    True    False\n",
       "Sex__male                 True     False             False   False     True\n",
       "Embarked__C              False      True             False   False    False\n",
       "Embarked__M              False     False             False   False    False\n",
       "Embarked__Q              False     False             False   False    False\n",
       "Embarked__S               True     False              True    True     True"
      ]
     },
     "execution_count": 485,
     "metadata": {},
     "output_type": "execute_result"
    }
   ],
   "source": [
    "# confirm result\n",
    "df_mod.head().T"
   ]
  },
  {
   "cell_type": "code",
   "execution_count": 486,
   "id": "fdc7862c",
   "metadata": {},
   "outputs": [
    {
     "name": "stdout",
     "output_type": "stream",
     "text": [
      "Ticket\n",
      "Cabin\n"
     ]
    }
   ],
   "source": [
    "# re-confirm if there are non-numerical data in the dataset \n",
    "for label,content in df_mod.items():\n",
    "    if not pd.api.types.is_numeric_dtype(content):\n",
    "        print(label)"
   ]
  },
  {
   "cell_type": "markdown",
   "id": "2d1e3e23",
   "metadata": {},
   "source": [
    "- `Cabin`: Create `Deck` feature for decks to avoid high-cardinality, then drop column - Feature Engineering.\n",
    "- `Ticket`: Convert using Categorical method"
   ]
  },
  {
   "cell_type": "markdown",
   "id": "424af6eb",
   "metadata": {},
   "source": [
    "#### `Cabin` (Feature Engineering)"
   ]
  },
  {
   "cell_type": "code",
   "execution_count": 487,
   "id": "2b0f4262",
   "metadata": {},
   "outputs": [
    {
     "data": {
      "text/plain": [
       "77.10437710437711"
      ]
     },
     "execution_count": 487,
     "metadata": {},
     "output_type": "execute_result"
    }
   ],
   "source": [
    "# check proportion of missing data in the Cabin column\n",
    "len(df_mod[df_mod.Cabin == 'Missing'])/len(df_mod)*100"
   ]
  },
  {
   "cell_type": "markdown",
   "id": "c37f2ca7",
   "metadata": {},
   "source": [
    "There are about 80% of missing data/samples in the `Cabin` feature. Normally, I should drop this feature as this is quite much, but for the sake of practise, I will feature engineer this."
   ]
  },
  {
   "cell_type": "code",
   "execution_count": 488,
   "id": "2feebe12",
   "metadata": {},
   "outputs": [],
   "source": [
    "# Extract first letter from column values\n",
    "df_mod['Deck'] = df_mod.Cabin.str.extract(r'([A-Za-z])', expand=False)"
   ]
  },
  {
   "cell_type": "code",
   "execution_count": 489,
   "id": "de84ba2b",
   "metadata": {},
   "outputs": [],
   "source": [
    "# drop Cabin column\n",
    "df_mod = df_mod.drop('Cabin', axis=1)"
   ]
  },
  {
   "cell_type": "code",
   "execution_count": 490,
   "id": "f1676bd2",
   "metadata": {},
   "outputs": [
    {
     "data": {
      "text/plain": [
       "Deck\n",
       "M    687\n",
       "C     59\n",
       "B     47\n",
       "D     33\n",
       "E     32\n",
       "A     15\n",
       "F     13\n",
       "G      4\n",
       "T      1\n",
       "Name: count, dtype: int64"
      ]
     },
     "execution_count": 490,
     "metadata": {},
     "output_type": "execute_result"
    }
   ],
   "source": [
    "# Convert to numerical \n",
    "df_mod.Deck.value_counts() "
   ]
  },
  {
   "cell_type": "code",
   "execution_count": 491,
   "id": "6eca1aaa",
   "metadata": {},
   "outputs": [],
   "source": [
    "# replace M with -1\n",
    "df_mod['Deck'] = df_mod['Deck'].replace('M', -1)\n",
    "\n",
    "# convert to numerical without ordering\n",
    "df_mod.Deck = df_mod.Deck.astype('category').cat.codes"
   ]
  },
  {
   "cell_type": "code",
   "execution_count": 492,
   "id": "076a1575",
   "metadata": {},
   "outputs": [
    {
     "data": {
      "text/html": [
       "<div>\n",
       "<style scoped>\n",
       "    .dataframe tbody tr th:only-of-type {\n",
       "        vertical-align: middle;\n",
       "    }\n",
       "\n",
       "    .dataframe tbody tr th {\n",
       "        vertical-align: top;\n",
       "    }\n",
       "\n",
       "    .dataframe thead th {\n",
       "        text-align: right;\n",
       "    }\n",
       "</style>\n",
       "<table border=\"1\" class=\"dataframe\">\n",
       "  <thead>\n",
       "    <tr style=\"text-align: right;\">\n",
       "      <th></th>\n",
       "      <th>0</th>\n",
       "      <th>1</th>\n",
       "    </tr>\n",
       "  </thead>\n",
       "  <tbody>\n",
       "    <tr>\n",
       "      <th>Survived</th>\n",
       "      <td>0</td>\n",
       "      <td>1</td>\n",
       "    </tr>\n",
       "    <tr>\n",
       "      <th>Pclass</th>\n",
       "      <td>3</td>\n",
       "      <td>1</td>\n",
       "    </tr>\n",
       "    <tr>\n",
       "      <th>Age</th>\n",
       "      <td>22</td>\n",
       "      <td>38</td>\n",
       "    </tr>\n",
       "    <tr>\n",
       "      <th>SibSp</th>\n",
       "      <td>1</td>\n",
       "      <td>1</td>\n",
       "    </tr>\n",
       "    <tr>\n",
       "      <th>Parch</th>\n",
       "      <td>0</td>\n",
       "      <td>0</td>\n",
       "    </tr>\n",
       "    <tr>\n",
       "      <th>Ticket</th>\n",
       "      <td>A/5 21171</td>\n",
       "      <td>PC 17599</td>\n",
       "    </tr>\n",
       "    <tr>\n",
       "      <th>Fare</th>\n",
       "      <td>7.25</td>\n",
       "      <td>71.2833</td>\n",
       "    </tr>\n",
       "    <tr>\n",
       "      <th>Age_is_missing</th>\n",
       "      <td>False</td>\n",
       "      <td>False</td>\n",
       "    </tr>\n",
       "    <tr>\n",
       "      <th>Cabin_is_missing</th>\n",
       "      <td>True</td>\n",
       "      <td>False</td>\n",
       "    </tr>\n",
       "    <tr>\n",
       "      <th>Embarked_is_missing</th>\n",
       "      <td>False</td>\n",
       "      <td>False</td>\n",
       "    </tr>\n",
       "    <tr>\n",
       "      <th>Titles__Dr</th>\n",
       "      <td>False</td>\n",
       "      <td>False</td>\n",
       "    </tr>\n",
       "    <tr>\n",
       "      <th>Titles__Master</th>\n",
       "      <td>False</td>\n",
       "      <td>False</td>\n",
       "    </tr>\n",
       "    <tr>\n",
       "      <th>Titles__Miss</th>\n",
       "      <td>False</td>\n",
       "      <td>False</td>\n",
       "    </tr>\n",
       "    <tr>\n",
       "      <th>Titles__Mr</th>\n",
       "      <td>True</td>\n",
       "      <td>True</td>\n",
       "    </tr>\n",
       "    <tr>\n",
       "      <th>Titles__Other</th>\n",
       "      <td>False</td>\n",
       "      <td>False</td>\n",
       "    </tr>\n",
       "    <tr>\n",
       "      <th>Titles__Rev</th>\n",
       "      <td>False</td>\n",
       "      <td>False</td>\n",
       "    </tr>\n",
       "    <tr>\n",
       "      <th>Sex__female</th>\n",
       "      <td>False</td>\n",
       "      <td>True</td>\n",
       "    </tr>\n",
       "    <tr>\n",
       "      <th>Sex__male</th>\n",
       "      <td>True</td>\n",
       "      <td>False</td>\n",
       "    </tr>\n",
       "    <tr>\n",
       "      <th>Embarked__C</th>\n",
       "      <td>False</td>\n",
       "      <td>True</td>\n",
       "    </tr>\n",
       "    <tr>\n",
       "      <th>Embarked__M</th>\n",
       "      <td>False</td>\n",
       "      <td>False</td>\n",
       "    </tr>\n",
       "    <tr>\n",
       "      <th>Embarked__Q</th>\n",
       "      <td>False</td>\n",
       "      <td>False</td>\n",
       "    </tr>\n",
       "    <tr>\n",
       "      <th>Embarked__S</th>\n",
       "      <td>True</td>\n",
       "      <td>False</td>\n",
       "    </tr>\n",
       "    <tr>\n",
       "      <th>Deck</th>\n",
       "      <td>0</td>\n",
       "      <td>3</td>\n",
       "    </tr>\n",
       "  </tbody>\n",
       "</table>\n",
       "</div>"
      ],
      "text/plain": [
       "                             0         1\n",
       "Survived                     0         1\n",
       "Pclass                       3         1\n",
       "Age                         22        38\n",
       "SibSp                        1         1\n",
       "Parch                        0         0\n",
       "Ticket               A/5 21171  PC 17599\n",
       "Fare                      7.25   71.2833\n",
       "Age_is_missing           False     False\n",
       "Cabin_is_missing          True     False\n",
       "Embarked_is_missing      False     False\n",
       "Titles__Dr               False     False\n",
       "Titles__Master           False     False\n",
       "Titles__Miss             False     False\n",
       "Titles__Mr                True      True\n",
       "Titles__Other            False     False\n",
       "Titles__Rev              False     False\n",
       "Sex__female              False      True\n",
       "Sex__male                 True     False\n",
       "Embarked__C              False      True\n",
       "Embarked__M              False     False\n",
       "Embarked__Q              False     False\n",
       "Embarked__S               True     False\n",
       "Deck                         0         3"
      ]
     },
     "execution_count": 492,
     "metadata": {},
     "output_type": "execute_result"
    }
   ],
   "source": [
    "# confirm result\n",
    "df_mod.Age = df_mod.Age.astype('int64')\n",
    "df_mod.head(2).T "
   ]
  },
  {
   "cell_type": "code",
   "execution_count": 493,
   "id": "edba91c8",
   "metadata": {},
   "outputs": [
    {
     "name": "stdout",
     "output_type": "stream",
     "text": [
      "Ticket\n"
     ]
    }
   ],
   "source": [
    "# re-confirm if there are non-numerical data in the dataset \n",
    "for label,content in df_mod.items():\n",
    "    if not pd.api.types.is_numeric_dtype(content):\n",
    "        print(label)"
   ]
  },
  {
   "cell_type": "markdown",
   "id": "c9fd240a",
   "metadata": {},
   "source": [
    "- `Ticket`: Convert using Categorical method"
   ]
  },
  {
   "cell_type": "markdown",
   "id": "6ec499fc",
   "metadata": {},
   "source": [
    "#### `Ticket` - Categorical \n"
   ]
  },
  {
   "cell_type": "code",
   "execution_count": 494,
   "id": "c6e2c47e",
   "metadata": {},
   "outputs": [],
   "source": [
    "# convert to categorical data and order\n",
    "df_mod.Ticket = df_mod['Ticket'].astype('category').cat.as_ordered()\n",
    "\n",
    "# convert to numerical\n",
    "df_mod.Ticket = df_mod['Ticket'].cat.codes"
   ]
  },
  {
   "cell_type": "code",
   "execution_count": 495,
   "id": "b5054d02",
   "metadata": {},
   "outputs": [
    {
     "data": {
      "text/html": [
       "<div>\n",
       "<style scoped>\n",
       "    .dataframe tbody tr th:only-of-type {\n",
       "        vertical-align: middle;\n",
       "    }\n",
       "\n",
       "    .dataframe tbody tr th {\n",
       "        vertical-align: top;\n",
       "    }\n",
       "\n",
       "    .dataframe thead th {\n",
       "        text-align: right;\n",
       "    }\n",
       "</style>\n",
       "<table border=\"1\" class=\"dataframe\">\n",
       "  <thead>\n",
       "    <tr style=\"text-align: right;\">\n",
       "      <th></th>\n",
       "      <th>0</th>\n",
       "    </tr>\n",
       "  </thead>\n",
       "  <tbody>\n",
       "    <tr>\n",
       "      <th>Survived</th>\n",
       "      <td>0</td>\n",
       "    </tr>\n",
       "    <tr>\n",
       "      <th>Pclass</th>\n",
       "      <td>3</td>\n",
       "    </tr>\n",
       "    <tr>\n",
       "      <th>Age</th>\n",
       "      <td>22</td>\n",
       "    </tr>\n",
       "    <tr>\n",
       "      <th>SibSp</th>\n",
       "      <td>1</td>\n",
       "    </tr>\n",
       "    <tr>\n",
       "      <th>Parch</th>\n",
       "      <td>0</td>\n",
       "    </tr>\n",
       "    <tr>\n",
       "      <th>Ticket</th>\n",
       "      <td>523</td>\n",
       "    </tr>\n",
       "    <tr>\n",
       "      <th>Fare</th>\n",
       "      <td>7.25</td>\n",
       "    </tr>\n",
       "    <tr>\n",
       "      <th>Age_is_missing</th>\n",
       "      <td>False</td>\n",
       "    </tr>\n",
       "    <tr>\n",
       "      <th>Cabin_is_missing</th>\n",
       "      <td>True</td>\n",
       "    </tr>\n",
       "    <tr>\n",
       "      <th>Embarked_is_missing</th>\n",
       "      <td>False</td>\n",
       "    </tr>\n",
       "    <tr>\n",
       "      <th>Titles__Dr</th>\n",
       "      <td>False</td>\n",
       "    </tr>\n",
       "    <tr>\n",
       "      <th>Titles__Master</th>\n",
       "      <td>False</td>\n",
       "    </tr>\n",
       "    <tr>\n",
       "      <th>Titles__Miss</th>\n",
       "      <td>False</td>\n",
       "    </tr>\n",
       "    <tr>\n",
       "      <th>Titles__Mr</th>\n",
       "      <td>True</td>\n",
       "    </tr>\n",
       "    <tr>\n",
       "      <th>Titles__Other</th>\n",
       "      <td>False</td>\n",
       "    </tr>\n",
       "    <tr>\n",
       "      <th>Titles__Rev</th>\n",
       "      <td>False</td>\n",
       "    </tr>\n",
       "    <tr>\n",
       "      <th>Sex__female</th>\n",
       "      <td>False</td>\n",
       "    </tr>\n",
       "    <tr>\n",
       "      <th>Sex__male</th>\n",
       "      <td>True</td>\n",
       "    </tr>\n",
       "    <tr>\n",
       "      <th>Embarked__C</th>\n",
       "      <td>False</td>\n",
       "    </tr>\n",
       "    <tr>\n",
       "      <th>Embarked__M</th>\n",
       "      <td>False</td>\n",
       "    </tr>\n",
       "    <tr>\n",
       "      <th>Embarked__Q</th>\n",
       "      <td>False</td>\n",
       "    </tr>\n",
       "    <tr>\n",
       "      <th>Embarked__S</th>\n",
       "      <td>True</td>\n",
       "    </tr>\n",
       "    <tr>\n",
       "      <th>Deck</th>\n",
       "      <td>0</td>\n",
       "    </tr>\n",
       "  </tbody>\n",
       "</table>\n",
       "</div>"
      ],
      "text/plain": [
       "                         0\n",
       "Survived                 0\n",
       "Pclass                   3\n",
       "Age                     22\n",
       "SibSp                    1\n",
       "Parch                    0\n",
       "Ticket                 523\n",
       "Fare                  7.25\n",
       "Age_is_missing       False\n",
       "Cabin_is_missing      True\n",
       "Embarked_is_missing  False\n",
       "Titles__Dr           False\n",
       "Titles__Master       False\n",
       "Titles__Miss         False\n",
       "Titles__Mr            True\n",
       "Titles__Other        False\n",
       "Titles__Rev          False\n",
       "Sex__female          False\n",
       "Sex__male             True\n",
       "Embarked__C          False\n",
       "Embarked__M          False\n",
       "Embarked__Q          False\n",
       "Embarked__S           True\n",
       "Deck                     0"
      ]
     },
     "execution_count": 495,
     "metadata": {},
     "output_type": "execute_result"
    }
   ],
   "source": [
    "# confirm result\n",
    "df_mod.head(1).T"
   ]
  },
  {
   "cell_type": "code",
   "execution_count": 496,
   "id": "41a21961",
   "metadata": {},
   "outputs": [
    {
     "name": "stdout",
     "output_type": "stream",
     "text": [
      "<class 'pandas.core.frame.DataFrame'>\n",
      "RangeIndex: 891 entries, 0 to 890\n",
      "Data columns (total 23 columns):\n",
      " #   Column               Non-Null Count  Dtype  \n",
      "---  ------               --------------  -----  \n",
      " 0   Survived             891 non-null    int64  \n",
      " 1   Pclass               891 non-null    int64  \n",
      " 2   Age                  891 non-null    int64  \n",
      " 3   SibSp                891 non-null    int64  \n",
      " 4   Parch                891 non-null    int64  \n",
      " 5   Ticket               891 non-null    int16  \n",
      " 6   Fare                 891 non-null    float64\n",
      " 7   Age_is_missing       891 non-null    bool   \n",
      " 8   Cabin_is_missing     891 non-null    bool   \n",
      " 9   Embarked_is_missing  891 non-null    bool   \n",
      " 10  Titles__Dr           891 non-null    bool   \n",
      " 11  Titles__Master       891 non-null    bool   \n",
      " 12  Titles__Miss         891 non-null    bool   \n",
      " 13  Titles__Mr           891 non-null    bool   \n",
      " 14  Titles__Other        891 non-null    bool   \n",
      " 15  Titles__Rev          891 non-null    bool   \n",
      " 16  Sex__female          891 non-null    bool   \n",
      " 17  Sex__male            891 non-null    bool   \n",
      " 18  Embarked__C          891 non-null    bool   \n",
      " 19  Embarked__M          891 non-null    bool   \n",
      " 20  Embarked__Q          891 non-null    bool   \n",
      " 21  Embarked__S          891 non-null    bool   \n",
      " 22  Deck                 891 non-null    int8   \n",
      "dtypes: bool(15), float64(1), int16(1), int64(5), int8(1)\n",
      "memory usage: 57.6 KB\n"
     ]
    }
   ],
   "source": [
    "df_mod.info()"
   ]
  },
  {
   "cell_type": "code",
   "execution_count": 497,
   "id": "616f1e7b",
   "metadata": {},
   "outputs": [
    {
     "data": {
      "text/plain": [
       "(False, False)"
      ]
     },
     "execution_count": 497,
     "metadata": {},
     "output_type": "execute_result"
    }
   ],
   "source": [
    "pd.api.types.is_object_dtype(df_mod), pd.api.types.is_string_dtype(df_mod)"
   ]
  },
  {
   "cell_type": "markdown",
   "id": "24b07e33",
   "metadata": {},
   "source": [
    "### Modelling"
   ]
  },
  {
   "cell_type": "code",
   "execution_count": 498,
   "id": "7f042626",
   "metadata": {},
   "outputs": [
    {
     "data": {
      "text/plain": [
       "Index(['Survived', 'Pclass', 'Age', 'SibSp', 'Parch', 'Ticket', 'Fare',\n",
       "       'Age_is_missing', 'Cabin_is_missing', 'Embarked_is_missing',\n",
       "       'Titles__Dr', 'Titles__Master', 'Titles__Miss', 'Titles__Mr',\n",
       "       'Titles__Other', 'Titles__Rev', 'Sex__female', 'Sex__male',\n",
       "       'Embarked__C', 'Embarked__M', 'Embarked__Q', 'Embarked__S', 'Deck'],\n",
       "      dtype='object')"
      ]
     },
     "execution_count": 498,
     "metadata": {},
     "output_type": "execute_result"
    }
   ],
   "source": [
    "df_mod.columns"
   ]
  },
  {
   "cell_type": "code",
   "execution_count": 499,
   "id": "1efa2271",
   "metadata": {},
   "outputs": [],
   "source": [
    "# split data into train and validation sets\n",
    "\n",
    "X = df_mod.drop('Survived', axis=1) # training set\n",
    "y = df_mod['Survived'] # validation set\n",
    "\n",
    "X_train, X_valid, y_train, y_valid = train_test_split(X, y, test_size=.2, random_state=12, stratify=y)"
   ]
  },
  {
   "cell_type": "code",
   "execution_count": 500,
   "id": "94dfbfc5",
   "metadata": {},
   "outputs": [
    {
     "data": {
      "text/plain": [
       "((712, 22), (179, 22), (712,), (179,))"
      ]
     },
     "execution_count": 500,
     "metadata": {},
     "output_type": "execute_result"
    }
   ],
   "source": [
    "X_train.shape, X_valid.shape, y_train.shape, y_valid.shape "
   ]
  },
  {
   "cell_type": "code",
   "execution_count": 501,
   "id": "de04c44d",
   "metadata": {},
   "outputs": [
    {
     "data": {
      "text/html": [
       "<div>\n",
       "<style scoped>\n",
       "    .dataframe tbody tr th:only-of-type {\n",
       "        vertical-align: middle;\n",
       "    }\n",
       "\n",
       "    .dataframe tbody tr th {\n",
       "        vertical-align: top;\n",
       "    }\n",
       "\n",
       "    .dataframe thead th {\n",
       "        text-align: right;\n",
       "    }\n",
       "</style>\n",
       "<table border=\"1\" class=\"dataframe\">\n",
       "  <thead>\n",
       "    <tr style=\"text-align: right;\">\n",
       "      <th></th>\n",
       "      <th>Pclass</th>\n",
       "      <th>Age</th>\n",
       "      <th>SibSp</th>\n",
       "      <th>Parch</th>\n",
       "      <th>Ticket</th>\n",
       "      <th>Fare</th>\n",
       "      <th>Age_is_missing</th>\n",
       "      <th>Cabin_is_missing</th>\n",
       "      <th>Embarked_is_missing</th>\n",
       "      <th>Titles__Dr</th>\n",
       "      <th>...</th>\n",
       "      <th>Titles__Mr</th>\n",
       "      <th>Titles__Other</th>\n",
       "      <th>Titles__Rev</th>\n",
       "      <th>Sex__female</th>\n",
       "      <th>Sex__male</th>\n",
       "      <th>Embarked__C</th>\n",
       "      <th>Embarked__M</th>\n",
       "      <th>Embarked__Q</th>\n",
       "      <th>Embarked__S</th>\n",
       "      <th>Deck</th>\n",
       "    </tr>\n",
       "  </thead>\n",
       "  <tbody>\n",
       "    <tr>\n",
       "      <th>691</th>\n",
       "      <td>3</td>\n",
       "      <td>4</td>\n",
       "      <td>0</td>\n",
       "      <td>1</td>\n",
       "      <td>393</td>\n",
       "      <td>13.4167</td>\n",
       "      <td>False</td>\n",
       "      <td>True</td>\n",
       "      <td>False</td>\n",
       "      <td>False</td>\n",
       "      <td>...</td>\n",
       "      <td>False</td>\n",
       "      <td>False</td>\n",
       "      <td>False</td>\n",
       "      <td>True</td>\n",
       "      <td>False</td>\n",
       "      <td>True</td>\n",
       "      <td>False</td>\n",
       "      <td>False</td>\n",
       "      <td>False</td>\n",
       "      <td>0</td>\n",
       "    </tr>\n",
       "    <tr>\n",
       "      <th>43</th>\n",
       "      <td>2</td>\n",
       "      <td>3</td>\n",
       "      <td>1</td>\n",
       "      <td>2</td>\n",
       "      <td>634</td>\n",
       "      <td>41.5792</td>\n",
       "      <td>False</td>\n",
       "      <td>True</td>\n",
       "      <td>False</td>\n",
       "      <td>False</td>\n",
       "      <td>...</td>\n",
       "      <td>False</td>\n",
       "      <td>False</td>\n",
       "      <td>False</td>\n",
       "      <td>True</td>\n",
       "      <td>False</td>\n",
       "      <td>True</td>\n",
       "      <td>False</td>\n",
       "      <td>False</td>\n",
       "      <td>False</td>\n",
       "      <td>0</td>\n",
       "    </tr>\n",
       "    <tr>\n",
       "      <th>666</th>\n",
       "      <td>2</td>\n",
       "      <td>25</td>\n",
       "      <td>0</td>\n",
       "      <td>0</td>\n",
       "      <td>123</td>\n",
       "      <td>13.0000</td>\n",
       "      <td>False</td>\n",
       "      <td>True</td>\n",
       "      <td>False</td>\n",
       "      <td>False</td>\n",
       "      <td>...</td>\n",
       "      <td>True</td>\n",
       "      <td>False</td>\n",
       "      <td>False</td>\n",
       "      <td>False</td>\n",
       "      <td>True</td>\n",
       "      <td>False</td>\n",
       "      <td>False</td>\n",
       "      <td>False</td>\n",
       "      <td>True</td>\n",
       "      <td>0</td>\n",
       "    </tr>\n",
       "    <tr>\n",
       "      <th>769</th>\n",
       "      <td>3</td>\n",
       "      <td>32</td>\n",
       "      <td>0</td>\n",
       "      <td>0</td>\n",
       "      <td>511</td>\n",
       "      <td>8.3625</td>\n",
       "      <td>False</td>\n",
       "      <td>True</td>\n",
       "      <td>False</td>\n",
       "      <td>False</td>\n",
       "      <td>...</td>\n",
       "      <td>True</td>\n",
       "      <td>False</td>\n",
       "      <td>False</td>\n",
       "      <td>False</td>\n",
       "      <td>True</td>\n",
       "      <td>False</td>\n",
       "      <td>False</td>\n",
       "      <td>False</td>\n",
       "      <td>True</td>\n",
       "      <td>0</td>\n",
       "    </tr>\n",
       "    <tr>\n",
       "      <th>419</th>\n",
       "      <td>3</td>\n",
       "      <td>10</td>\n",
       "      <td>0</td>\n",
       "      <td>2</td>\n",
       "      <td>307</td>\n",
       "      <td>24.1500</td>\n",
       "      <td>False</td>\n",
       "      <td>True</td>\n",
       "      <td>False</td>\n",
       "      <td>False</td>\n",
       "      <td>...</td>\n",
       "      <td>False</td>\n",
       "      <td>False</td>\n",
       "      <td>False</td>\n",
       "      <td>True</td>\n",
       "      <td>False</td>\n",
       "      <td>False</td>\n",
       "      <td>False</td>\n",
       "      <td>False</td>\n",
       "      <td>True</td>\n",
       "      <td>0</td>\n",
       "    </tr>\n",
       "  </tbody>\n",
       "</table>\n",
       "<p>5 rows × 22 columns</p>\n",
       "</div>"
      ],
      "text/plain": [
       "     Pclass  Age  SibSp  Parch  Ticket     Fare  Age_is_missing  \\\n",
       "691       3    4      0      1     393  13.4167           False   \n",
       "43        2    3      1      2     634  41.5792           False   \n",
       "666       2   25      0      0     123  13.0000           False   \n",
       "769       3   32      0      0     511   8.3625           False   \n",
       "419       3   10      0      2     307  24.1500           False   \n",
       "\n",
       "     Cabin_is_missing  Embarked_is_missing  Titles__Dr  ...  Titles__Mr  \\\n",
       "691              True                False       False  ...       False   \n",
       "43               True                False       False  ...       False   \n",
       "666              True                False       False  ...        True   \n",
       "769              True                False       False  ...        True   \n",
       "419              True                False       False  ...       False   \n",
       "\n",
       "     Titles__Other  Titles__Rev  Sex__female  Sex__male  Embarked__C  \\\n",
       "691          False        False         True      False         True   \n",
       "43           False        False         True      False         True   \n",
       "666          False        False        False       True        False   \n",
       "769          False        False        False       True        False   \n",
       "419          False        False         True      False        False   \n",
       "\n",
       "     Embarked__M  Embarked__Q  Embarked__S  Deck  \n",
       "691        False        False        False     0  \n",
       "43         False        False        False     0  \n",
       "666        False        False         True     0  \n",
       "769        False        False         True     0  \n",
       "419        False        False         True     0  \n",
       "\n",
       "[5 rows x 22 columns]"
      ]
     },
     "execution_count": 501,
     "metadata": {},
     "output_type": "execute_result"
    }
   ],
   "source": [
    "X_valid.head()"
   ]
  },
  {
   "cell_type": "code",
   "execution_count": 502,
   "id": "aa952507",
   "metadata": {},
   "outputs": [
    {
     "data": {
      "text/plain": [
       "(891, 23)"
      ]
     },
     "execution_count": 502,
     "metadata": {},
     "output_type": "execute_result"
    }
   ],
   "source": [
    "df_mod.shape "
   ]
  },
  {
   "cell_type": "code",
   "execution_count": 503,
   "id": "648f8576",
   "metadata": {},
   "outputs": [
    {
     "data": {
      "text/plain": [
       "Survived\n",
       "0    549\n",
       "1    342\n",
       "Name: count, dtype: int64"
      ]
     },
     "execution_count": 503,
     "metadata": {},
     "output_type": "execute_result"
    }
   ],
   "source": [
    "df_mod.Survived.value_counts()"
   ]
  },
  {
   "cell_type": "code",
   "execution_count": 504,
   "id": "c97f8877",
   "metadata": {},
   "outputs": [
    {
     "data": {
      "text/plain": [
       "\"\\nSince it's a classification problem, selected suitable models:\\n- RandomForestClassifier()\\n- XGBoost() - refine/improve metric score \\n- Catboost()\\n\\nHyper-parameter Tunning\\n- RandomSearchCV - baseline\\n- GridSearchCV - refine tuning\\n- Optuna ()\\n\""
      ]
     },
     "execution_count": 504,
     "metadata": {},
     "output_type": "execute_result"
    }
   ],
   "source": [
    "'''\n",
    "Since it's a classification problem, selected suitable models:\n",
    "- RandomForestClassifier()\n",
    "- XGBoost() - refine/improve metric score \n",
    "- Catboost()\n",
    "\n",
    "Hyper-parameter Tunning\n",
    "- RandomSearchCV - baseline\n",
    "- GridSearchCV - refine tuning\n",
    "- Optuna ()\n",
    "''' "
   ]
  },
  {
   "cell_type": "code",
   "execution_count": 505,
   "id": "bc9e2e5d",
   "metadata": {},
   "outputs": [
    {
     "name": "stdout",
     "output_type": "stream",
     "text": [
      "RF: 0.7989\n",
      "XGB: 0.8324\n",
      "CatBoost: 0.8380\n",
      "LinearSVC: 0.8156\n"
     ]
    }
   ],
   "source": [
    "models = {\n",
    "    'RF' : RandomForestClassifier(random_state=12,\n",
    "                                  n_estimators=100,\n",
    "                                  max_depth=10,\n",
    "                                  min_samples_split=5,\n",
    "                                  min_samples_leaf=2,\n",
    "                                  max_features='sqrt',\n",
    "                                  n_jobs=-1),\n",
    "    'XGB' : xgb.XGBClassifier(eval_metric='logloss', \n",
    "                              random_state=12,\n",
    "                              n_estimators=100,\n",
    "                              max_depth=6,\n",
    "                              learning_rate=0.1,\n",
    "                              subsample=0.8,\n",
    "                              colsample_bytree=.8,\n",
    "                              reg_alpha=.1,\n",
    "                              reg_lambda=1),\n",
    "    'CatBoost' : cat.CatBoostClassifier(verbose=0, \n",
    "                                        iterations=200, \n",
    "                                        random_state=12,\n",
    "                                        depth=6,\n",
    "                                        learning_rate=.1,\n",
    "                                        l2_leaf_reg=3.0,\n",
    "                                        random_strength=1.0,\n",
    "                                        thread_count=-1\n",
    "                                        ),\n",
    "    'LinearSVC': LinearSVC(random_state=12,\n",
    "                           C=1,\n",
    "                           penalty='l2',\n",
    "                           loss='squared_hinge',\n",
    "                           max_iter=2000)\n",
    "}\n",
    "\n",
    "results = {}\n",
    "for name, model in models.items():\n",
    "    # preprocess if needed (scale for SVC)\n",
    "    if name in ['LinearSVC']:\n",
    "        scaler = StandardScaler() \n",
    "        X_train_mod = scaler.fit_transform(X_train)\n",
    "        X_valid_mod = scaler.transform(X_valid)\n",
    "    else: \n",
    "        X_train_mod, X_valid_mod = X_train, X_valid \n",
    "    \n",
    "    model.fit(X_train_mod, y_train)\n",
    "    preds = model.predict(X_valid_mod)\n",
    "    results[name] = accuracy_score(y_valid, preds)\n",
    "    print(f'{name}: {results[name]:.4f}')\n"
   ]
  },
  {
   "cell_type": "markdown",
   "id": "d501b71a",
   "metadata": {},
   "source": [
    "From the results above it is clear the the top 2 most promising models are RF and CatBoost, let's however quickly tune LinearSVC to see if it holds any promise before eliminating it."
   ]
  },
  {
   "cell_type": "code",
   "execution_count": 506,
   "id": "bb18e9b0",
   "metadata": {},
   "outputs": [
    {
     "name": "stdout",
     "output_type": "stream",
     "text": [
      "Fitting 5 folds for each of 10 candidates, totalling 50 fits\n"
     ]
    }
   ],
   "source": [
    "SVC_baseline = LinearSVC()\n",
    "\n",
    "param_dist = {'C':np.arange(.1,5),\n",
    "              'penalty':['l1', 'l2'],\n",
    "              'loss':['squared_hinge'],\n",
    "              'dual':[False],\n",
    "              'max_iter':np.arange(100,2000,100)}\n",
    "\n",
    "cv_svc = StratifiedKFold(n_splits=5, shuffle=True, random_state=12)\n",
    "rs_svc = RandomizedSearchCV(SVC_baseline,\n",
    "                            param_distributions=param_dist,\n",
    "                            cv=cv_svc,\n",
    "                            n_iter=10,\n",
    "                            n_jobs=-1,\n",
    "                            scoring='accuracy',\n",
    "                            verbose=True,\n",
    "                            random_state=12)\n",
    "\n",
    "scaler = StandardScaler()\n",
    "X_train_svc = scaler.fit_transform(X_train)\n",
    "X_valid_svc = scaler.transform(X_valid)\n",
    "\n",
    "rs_svc.fit(X_train_svc, y_train)\n",
    "y_preds_svc = rs_svc.predict(X_valid_svc)\n",
    "score_svc = accuracy_score(y_valid, y_preds_svc)\n"
   ]
  },
  {
   "cell_type": "code",
   "execution_count": 507,
   "id": "933e9eb1",
   "metadata": {},
   "outputs": [
    {
     "data": {
      "text/plain": [
       "0.8100558659217877"
      ]
     },
     "execution_count": 507,
     "metadata": {},
     "output_type": "execute_result"
    }
   ],
   "source": [
    "score_svc"
   ]
  },
  {
   "cell_type": "code",
   "execution_count": 508,
   "id": "42f45880",
   "metadata": {},
   "outputs": [
    {
     "data": {
      "text/plain": [
       "{'penalty': 'l2',\n",
       " 'max_iter': np.int64(600),\n",
       " 'loss': 'squared_hinge',\n",
       " 'dual': False,\n",
       " 'C': np.float64(0.1)}"
      ]
     },
     "execution_count": 508,
     "metadata": {},
     "output_type": "execute_result"
    }
   ],
   "source": [
    "rs_svc.best_params_"
   ]
  },
  {
   "cell_type": "markdown",
   "id": "df77cd37",
   "metadata": {},
   "source": [
    "Tune with Optuna"
   ]
  },
  {
   "cell_type": "code",
   "execution_count": 509,
   "id": "b57b9e6f",
   "metadata": {},
   "outputs": [
    {
     "name": "stderr",
     "output_type": "stream",
     "text": [
      "[I 2025-10-02 19:45:57,231] A new study created in memory with name: no-name-6296481c-e8a7-426c-9938-9e3810010e2d\n",
      "c:\\ProgramData\\Miniconda3\\envs\\ML\\Lib\\site-packages\\sklearn\\svm\\_base.py:1249: ConvergenceWarning:\n",
      "\n",
      "Liblinear failed to converge, increase the number of iterations.\n",
      "\n",
      "c:\\ProgramData\\Miniconda3\\envs\\ML\\Lib\\site-packages\\sklearn\\svm\\_base.py:1249: ConvergenceWarning:\n",
      "\n",
      "Liblinear failed to converge, increase the number of iterations.\n",
      "\n",
      "c:\\ProgramData\\Miniconda3\\envs\\ML\\Lib\\site-packages\\sklearn\\svm\\_base.py:1249: ConvergenceWarning:\n",
      "\n",
      "Liblinear failed to converge, increase the number of iterations.\n",
      "\n",
      "c:\\ProgramData\\Miniconda3\\envs\\ML\\Lib\\site-packages\\sklearn\\svm\\_base.py:1249: ConvergenceWarning:\n",
      "\n",
      "Liblinear failed to converge, increase the number of iterations.\n",
      "\n",
      "c:\\ProgramData\\Miniconda3\\envs\\ML\\Lib\\site-packages\\sklearn\\svm\\_base.py:1249: ConvergenceWarning:\n",
      "\n",
      "Liblinear failed to converge, increase the number of iterations.\n",
      "\n",
      "[I 2025-10-02 19:45:58,239] Trial 0 finished with value: 0.8271840835221116 and parameters: {'penalty': 'l1', 'max_iter': 2124, 'loss': 'squared_hinge', 'dual': False, 'C': 19.605449074351846}. Best is trial 0 with value: 0.8271840835221116.\n",
      "[I 2025-10-02 19:45:59,334] Trial 1 finished with value: 0.8271840835221116 and parameters: {'penalty': 'l1', 'max_iter': 6503, 'loss': 'squared_hinge', 'dual': False, 'C': 16.53778227756418}. Best is trial 0 with value: 0.8271840835221116.\n",
      "c:\\ProgramData\\Miniconda3\\envs\\ML\\Lib\\site-packages\\sklearn\\svm\\_base.py:1249: ConvergenceWarning:\n",
      "\n",
      "Liblinear failed to converge, increase the number of iterations.\n",
      "\n",
      "c:\\ProgramData\\Miniconda3\\envs\\ML\\Lib\\site-packages\\sklearn\\svm\\_base.py:1249: ConvergenceWarning:\n",
      "\n",
      "Liblinear failed to converge, increase the number of iterations.\n",
      "\n",
      "c:\\ProgramData\\Miniconda3\\envs\\ML\\Lib\\site-packages\\sklearn\\svm\\_base.py:1249: ConvergenceWarning:\n",
      "\n",
      "Liblinear failed to converge, increase the number of iterations.\n",
      "\n",
      "c:\\ProgramData\\Miniconda3\\envs\\ML\\Lib\\site-packages\\sklearn\\svm\\_base.py:1249: ConvergenceWarning:\n",
      "\n",
      "Liblinear failed to converge, increase the number of iterations.\n",
      "\n",
      "c:\\ProgramData\\Miniconda3\\envs\\ML\\Lib\\site-packages\\sklearn\\svm\\_base.py:1249: ConvergenceWarning:\n",
      "\n",
      "Liblinear failed to converge, increase the number of iterations.\n",
      "\n",
      "[I 2025-10-02 19:45:59,698] Trial 2 finished with value: 0.8271840835221116 and parameters: {'penalty': 'l1', 'max_iter': 1536, 'loss': 'squared_hinge', 'dual': False, 'C': 10.620906207594317}. Best is trial 0 with value: 0.8271840835221116.\n",
      "[I 2025-10-02 19:45:59,739] Trial 3 finished with value: 0.8271840835221116 and parameters: {'penalty': 'l2', 'max_iter': 1955, 'loss': 'squared_hinge', 'dual': False, 'C': 21.218566854824903}. Best is trial 0 with value: 0.8271840835221116.\n",
      "[I 2025-10-02 19:46:00,424] Trial 4 finished with value: 0.8271840835221116 and parameters: {'penalty': 'l1', 'max_iter': 7712, 'loss': 'squared_hinge', 'dual': False, 'C': 20.353827299355398}. Best is trial 0 with value: 0.8271840835221116.\n",
      "[I 2025-10-02 19:46:00,466] Trial 5 finished with value: 0.8271840835221116 and parameters: {'penalty': 'l2', 'max_iter': 2107, 'loss': 'squared_hinge', 'dual': False, 'C': 24.033595956885975}. Best is trial 0 with value: 0.8271840835221116.\n",
      "c:\\ProgramData\\Miniconda3\\envs\\ML\\Lib\\site-packages\\sklearn\\svm\\_base.py:1249: ConvergenceWarning:\n",
      "\n",
      "Liblinear failed to converge, increase the number of iterations.\n",
      "\n",
      "c:\\ProgramData\\Miniconda3\\envs\\ML\\Lib\\site-packages\\sklearn\\svm\\_base.py:1249: ConvergenceWarning:\n",
      "\n",
      "Liblinear failed to converge, increase the number of iterations.\n",
      "\n",
      "c:\\ProgramData\\Miniconda3\\envs\\ML\\Lib\\site-packages\\sklearn\\svm\\_base.py:1249: ConvergenceWarning:\n",
      "\n",
      "Liblinear failed to converge, increase the number of iterations.\n",
      "\n",
      "c:\\ProgramData\\Miniconda3\\envs\\ML\\Lib\\site-packages\\sklearn\\svm\\_base.py:1249: ConvergenceWarning:\n",
      "\n",
      "Liblinear failed to converge, increase the number of iterations.\n",
      "\n",
      "c:\\ProgramData\\Miniconda3\\envs\\ML\\Lib\\site-packages\\sklearn\\svm\\_base.py:1249: ConvergenceWarning:\n",
      "\n",
      "Liblinear failed to converge, increase the number of iterations.\n",
      "\n",
      "[I 2025-10-02 19:46:00,611] Trial 6 finished with value: 0.8271840835221116 and parameters: {'penalty': 'l1', 'max_iter': 737, 'loss': 'squared_hinge', 'dual': False, 'C': 11.898158027284536}. Best is trial 0 with value: 0.8271840835221116.\n",
      "[I 2025-10-02 19:46:00,663] Trial 7 finished with value: 0.8271840835221116 and parameters: {'penalty': 'l2', 'max_iter': 4255, 'loss': 'squared_hinge', 'dual': False, 'C': 5.911052672088705}. Best is trial 0 with value: 0.8271840835221116.\n",
      "[I 2025-10-02 19:46:00,733] Trial 8 finished with value: 0.8271840835221116 and parameters: {'penalty': 'l2', 'max_iter': 8597, 'loss': 'squared_hinge', 'dual': False, 'C': 6.348339776144273}. Best is trial 0 with value: 0.8271840835221116.\n",
      "[I 2025-10-02 19:46:00,811] Trial 9 finished with value: 0.8271840835221116 and parameters: {'penalty': 'l2', 'max_iter': 7175, 'loss': 'squared_hinge', 'dual': False, 'C': 1.152693025280356}. Best is trial 0 with value: 0.8271840835221116.\n",
      "[I 2025-10-02 19:46:01,580] Trial 10 finished with value: 0.8271840835221116 and parameters: {'penalty': 'l1', 'max_iter': 4283, 'loss': 'squared_hinge', 'dual': False, 'C': 16.95382045266987}. Best is trial 0 with value: 0.8271840835221116.\n",
      "[I 2025-10-02 19:46:02,436] Trial 11 finished with value: 0.8271840835221116 and parameters: {'penalty': 'l1', 'max_iter': 6155, 'loss': 'squared_hinge', 'dual': False, 'C': 27.36645429395123}. Best is trial 0 with value: 0.8271840835221116.\n",
      "[I 2025-10-02 19:46:03,084] Trial 12 finished with value: 0.8271840835221116 and parameters: {'penalty': 'l1', 'max_iter': 9836, 'loss': 'squared_hinge', 'dual': False, 'C': 16.0695955336963}. Best is trial 0 with value: 0.8271840835221116.\n",
      "c:\\ProgramData\\Miniconda3\\envs\\ML\\Lib\\site-packages\\sklearn\\svm\\_base.py:1249: ConvergenceWarning:\n",
      "\n",
      "Liblinear failed to converge, increase the number of iterations.\n",
      "\n",
      "c:\\ProgramData\\Miniconda3\\envs\\ML\\Lib\\site-packages\\sklearn\\svm\\_base.py:1249: ConvergenceWarning:\n",
      "\n",
      "Liblinear failed to converge, increase the number of iterations.\n",
      "\n",
      "c:\\ProgramData\\Miniconda3\\envs\\ML\\Lib\\site-packages\\sklearn\\svm\\_base.py:1249: ConvergenceWarning:\n",
      "\n",
      "Liblinear failed to converge, increase the number of iterations.\n",
      "\n",
      "c:\\ProgramData\\Miniconda3\\envs\\ML\\Lib\\site-packages\\sklearn\\svm\\_base.py:1249: ConvergenceWarning:\n",
      "\n",
      "Liblinear failed to converge, increase the number of iterations.\n",
      "\n",
      "c:\\ProgramData\\Miniconda3\\envs\\ML\\Lib\\site-packages\\sklearn\\svm\\_base.py:1249: ConvergenceWarning:\n",
      "\n",
      "Liblinear failed to converge, increase the number of iterations.\n",
      "\n",
      "[I 2025-10-02 19:46:03,788] Trial 13 finished with value: 0.8271840835221116 and parameters: {'penalty': 'l1', 'max_iter': 3530, 'loss': 'squared_hinge', 'dual': False, 'C': 29.28397200027026}. Best is trial 0 with value: 0.8271840835221116.\n",
      "[I 2025-10-02 19:46:04,959] Trial 14 finished with value: 0.8271840835221116 and parameters: {'penalty': 'l1', 'max_iter': 6107, 'loss': 'squared_hinge', 'dual': False, 'C': 19.35497753072133}. Best is trial 0 with value: 0.8271840835221116.\n",
      "[I 2025-10-02 19:46:05,381] Trial 15 finished with value: 0.8271840835221116 and parameters: {'penalty': 'l1', 'max_iter': 3047, 'loss': 'squared_hinge', 'dual': False, 'C': 11.962102260989324}. Best is trial 0 with value: 0.8271840835221116.\n",
      "c:\\ProgramData\\Miniconda3\\envs\\ML\\Lib\\site-packages\\sklearn\\svm\\_base.py:1249: ConvergenceWarning:\n",
      "\n",
      "Liblinear failed to converge, increase the number of iterations.\n",
      "\n",
      "c:\\ProgramData\\Miniconda3\\envs\\ML\\Lib\\site-packages\\sklearn\\svm\\_base.py:1249: ConvergenceWarning:\n",
      "\n",
      "Liblinear failed to converge, increase the number of iterations.\n",
      "\n",
      "c:\\ProgramData\\Miniconda3\\envs\\ML\\Lib\\site-packages\\sklearn\\svm\\_base.py:1249: ConvergenceWarning:\n",
      "\n",
      "Liblinear failed to converge, increase the number of iterations.\n",
      "\n",
      "c:\\ProgramData\\Miniconda3\\envs\\ML\\Lib\\site-packages\\sklearn\\svm\\_base.py:1249: ConvergenceWarning:\n",
      "\n",
      "Liblinear failed to converge, increase the number of iterations.\n",
      "\n",
      "c:\\ProgramData\\Miniconda3\\envs\\ML\\Lib\\site-packages\\sklearn\\svm\\_base.py:1249: ConvergenceWarning:\n",
      "\n",
      "Liblinear failed to converge, increase the number of iterations.\n",
      "\n",
      "[I 2025-10-02 19:46:05,471] Trial 16 finished with value: 0.8271840835221116 and parameters: {'penalty': 'l1', 'max_iter': 205, 'loss': 'squared_hinge', 'dual': False, 'C': 23.988373990323392}. Best is trial 0 with value: 0.8271840835221116.\n",
      "[I 2025-10-02 19:46:05,894] Trial 17 finished with value: 0.8271840835221116 and parameters: {'penalty': 'l1', 'max_iter': 5857, 'loss': 'squared_hinge', 'dual': False, 'C': 14.645684883515084}. Best is trial 0 with value: 0.8271840835221116.\n",
      "[I 2025-10-02 19:46:06,640] Trial 18 finished with value: 0.8271840835221116 and parameters: {'penalty': 'l1', 'max_iter': 5126, 'loss': 'squared_hinge', 'dual': False, 'C': 24.701037538321447}. Best is trial 0 with value: 0.8271840835221116.\n",
      "[I 2025-10-02 19:46:07,189] Trial 19 finished with value: 0.8271840835221116 and parameters: {'penalty': 'l1', 'max_iter': 7271, 'loss': 'squared_hinge', 'dual': False, 'C': 17.66039921773385}. Best is trial 0 with value: 0.8271840835221116.\n",
      "[I 2025-10-02 19:46:07,507] Trial 20 finished with value: 0.8271840835221116 and parameters: {'penalty': 'l1', 'max_iter': 2793, 'loss': 'squared_hinge', 'dual': False, 'C': 7.957312422141891}. Best is trial 0 with value: 0.8271840835221116.\n",
      "c:\\ProgramData\\Miniconda3\\envs\\ML\\Lib\\site-packages\\sklearn\\svm\\_base.py:1249: ConvergenceWarning:\n",
      "\n",
      "Liblinear failed to converge, increase the number of iterations.\n",
      "\n",
      "c:\\ProgramData\\Miniconda3\\envs\\ML\\Lib\\site-packages\\sklearn\\svm\\_base.py:1249: ConvergenceWarning:\n",
      "\n",
      "Liblinear failed to converge, increase the number of iterations.\n",
      "\n",
      "c:\\ProgramData\\Miniconda3\\envs\\ML\\Lib\\site-packages\\sklearn\\svm\\_base.py:1249: ConvergenceWarning:\n",
      "\n",
      "Liblinear failed to converge, increase the number of iterations.\n",
      "\n",
      "c:\\ProgramData\\Miniconda3\\envs\\ML\\Lib\\site-packages\\sklearn\\svm\\_base.py:1249: ConvergenceWarning:\n",
      "\n",
      "Liblinear failed to converge, increase the number of iterations.\n",
      "\n",
      "c:\\ProgramData\\Miniconda3\\envs\\ML\\Lib\\site-packages\\sklearn\\svm\\_base.py:1249: ConvergenceWarning:\n",
      "\n",
      "Liblinear failed to converge, increase the number of iterations.\n",
      "\n",
      "[I 2025-10-02 19:46:07,855] Trial 21 finished with value: 0.8271840835221116 and parameters: {'penalty': 'l1', 'max_iter': 1430, 'loss': 'squared_hinge', 'dual': False, 'C': 12.353342284040291}. Best is trial 0 with value: 0.8271840835221116.\n",
      "c:\\ProgramData\\Miniconda3\\envs\\ML\\Lib\\site-packages\\sklearn\\svm\\_base.py:1249: ConvergenceWarning:\n",
      "\n",
      "Liblinear failed to converge, increase the number of iterations.\n",
      "\n",
      "c:\\ProgramData\\Miniconda3\\envs\\ML\\Lib\\site-packages\\sklearn\\svm\\_base.py:1249: ConvergenceWarning:\n",
      "\n",
      "Liblinear failed to converge, increase the number of iterations.\n",
      "\n",
      "c:\\ProgramData\\Miniconda3\\envs\\ML\\Lib\\site-packages\\sklearn\\svm\\_base.py:1249: ConvergenceWarning:\n",
      "\n",
      "Liblinear failed to converge, increase the number of iterations.\n",
      "\n",
      "c:\\ProgramData\\Miniconda3\\envs\\ML\\Lib\\site-packages\\sklearn\\svm\\_base.py:1249: ConvergenceWarning:\n",
      "\n",
      "Liblinear failed to converge, increase the number of iterations.\n",
      "\n",
      "c:\\ProgramData\\Miniconda3\\envs\\ML\\Lib\\site-packages\\sklearn\\svm\\_base.py:1249: ConvergenceWarning:\n",
      "\n",
      "Liblinear failed to converge, increase the number of iterations.\n",
      "\n",
      "[I 2025-10-02 19:46:08,401] Trial 22 finished with value: 0.8271840835221116 and parameters: {'penalty': 'l1', 'max_iter': 1148, 'loss': 'squared_hinge', 'dual': False, 'C': 8.458650354282916}. Best is trial 0 with value: 0.8271840835221116.\n",
      "c:\\ProgramData\\Miniconda3\\envs\\ML\\Lib\\site-packages\\sklearn\\svm\\_base.py:1249: ConvergenceWarning:\n",
      "\n",
      "Liblinear failed to converge, increase the number of iterations.\n",
      "\n",
      "c:\\ProgramData\\Miniconda3\\envs\\ML\\Lib\\site-packages\\sklearn\\svm\\_base.py:1249: ConvergenceWarning:\n",
      "\n",
      "Liblinear failed to converge, increase the number of iterations.\n",
      "\n",
      "c:\\ProgramData\\Miniconda3\\envs\\ML\\Lib\\site-packages\\sklearn\\svm\\_base.py:1249: ConvergenceWarning:\n",
      "\n",
      "Liblinear failed to converge, increase the number of iterations.\n",
      "\n",
      "[I 2025-10-02 19:46:09,085] Trial 23 finished with value: 0.8271840835221116 and parameters: {'penalty': 'l1', 'max_iter': 2322, 'loss': 'squared_hinge', 'dual': False, 'C': 14.116668032789754}. Best is trial 0 with value: 0.8271840835221116.\n",
      "[I 2025-10-02 19:46:09,456] Trial 24 finished with value: 0.8271840835221116 and parameters: {'penalty': 'l1', 'max_iter': 4048, 'loss': 'squared_hinge', 'dual': False, 'C': 9.942369355967719}. Best is trial 0 with value: 0.8271840835221116.\n",
      "[I 2025-10-02 19:46:09,615] Trial 25 finished with value: 0.8271840835221116 and parameters: {'penalty': 'l1', 'max_iter': 4942, 'loss': 'squared_hinge', 'dual': False, 'C': 3.1158509171348534}. Best is trial 0 with value: 0.8271840835221116.\n",
      "[I 2025-10-02 19:46:09,653] Trial 26 finished with value: 0.8271840835221116 and parameters: {'penalty': 'l2', 'max_iter': 429, 'loss': 'squared_hinge', 'dual': False, 'C': 21.66404893471023}. Best is trial 0 with value: 0.8271840835221116.\n",
      "c:\\ProgramData\\Miniconda3\\envs\\ML\\Lib\\site-packages\\sklearn\\svm\\_base.py:1249: ConvergenceWarning:\n",
      "\n",
      "Liblinear failed to converge, increase the number of iterations.\n",
      "\n",
      "c:\\ProgramData\\Miniconda3\\envs\\ML\\Lib\\site-packages\\sklearn\\svm\\_base.py:1249: ConvergenceWarning:\n",
      "\n",
      "Liblinear failed to converge, increase the number of iterations.\n",
      "\n",
      "c:\\ProgramData\\Miniconda3\\envs\\ML\\Lib\\site-packages\\sklearn\\svm\\_base.py:1249: ConvergenceWarning:\n",
      "\n",
      "Liblinear failed to converge, increase the number of iterations.\n",
      "\n",
      "c:\\ProgramData\\Miniconda3\\envs\\ML\\Lib\\site-packages\\sklearn\\svm\\_base.py:1249: ConvergenceWarning:\n",
      "\n",
      "Liblinear failed to converge, increase the number of iterations.\n",
      "\n",
      "c:\\ProgramData\\Miniconda3\\envs\\ML\\Lib\\site-packages\\sklearn\\svm\\_base.py:1249: ConvergenceWarning:\n",
      "\n",
      "Liblinear failed to converge, increase the number of iterations.\n",
      "\n",
      "[I 2025-10-02 19:46:10,002] Trial 27 finished with value: 0.8271840835221116 and parameters: {'penalty': 'l1', 'max_iter': 1375, 'loss': 'squared_hinge', 'dual': False, 'C': 18.472824074585272}. Best is trial 0 with value: 0.8271840835221116.\n",
      "[I 2025-10-02 19:46:10,593] Trial 28 finished with value: 0.8271840835221116 and parameters: {'penalty': 'l1', 'max_iter': 3314, 'loss': 'squared_hinge', 'dual': False, 'C': 13.829805020573746}. Best is trial 0 with value: 0.8271840835221116.\n",
      "[I 2025-10-02 19:46:10,702] Trial 29 finished with value: 0.8271840835221116 and parameters: {'penalty': 'l2', 'max_iter': 2057, 'loss': 'squared_hinge', 'dual': False, 'C': 21.523818204157973}. Best is trial 0 with value: 0.8271840835221116.\n"
     ]
    },
    {
     "name": "stdout",
     "output_type": "stream",
     "text": [
      "Best_score = 0.8271840835221116 \n",
      " Best_params = {'penalty': 'l1', 'max_iter': 2124, 'loss': 'squared_hinge', 'dual': False, 'C': 19.605449074351846}\n"
     ]
    },
    {
     "data": {
      "application/vnd.plotly.v1+json": {
       "config": {
        "plotlyServerURL": "https://plot.ly"
       },
       "data": [
        {
         "mode": "markers",
         "name": "Objective Value",
         "type": "scatter",
         "x": [
          0,
          1,
          2,
          3,
          4,
          5,
          6,
          7,
          8,
          9,
          10,
          11,
          12,
          13,
          14,
          15,
          16,
          17,
          18,
          19,
          20,
          21,
          22,
          23,
          24,
          25,
          26,
          27,
          28,
          29
         ],
         "y": [
          0.8271840835221116,
          0.8271840835221116,
          0.8271840835221116,
          0.8271840835221116,
          0.8271840835221116,
          0.8271840835221116,
          0.8271840835221116,
          0.8271840835221116,
          0.8271840835221116,
          0.8271840835221116,
          0.8271840835221116,
          0.8271840835221116,
          0.8271840835221116,
          0.8271840835221116,
          0.8271840835221116,
          0.8271840835221116,
          0.8271840835221116,
          0.8271840835221116,
          0.8271840835221116,
          0.8271840835221116,
          0.8271840835221116,
          0.8271840835221116,
          0.8271840835221116,
          0.8271840835221116,
          0.8271840835221116,
          0.8271840835221116,
          0.8271840835221116,
          0.8271840835221116,
          0.8271840835221116,
          0.8271840835221116
         ]
        },
        {
         "mode": "lines",
         "name": "Best Value",
         "type": "scatter",
         "x": [
          0,
          1,
          2,
          3,
          4,
          5,
          6,
          7,
          8,
          9,
          10,
          11,
          12,
          13,
          14,
          15,
          16,
          17,
          18,
          19,
          20,
          21,
          22,
          23,
          24,
          25,
          26,
          27,
          28,
          29
         ],
         "y": [
          0.8271840835221116,
          0.8271840835221116,
          0.8271840835221116,
          0.8271840835221116,
          0.8271840835221116,
          0.8271840835221116,
          0.8271840835221116,
          0.8271840835221116,
          0.8271840835221116,
          0.8271840835221116,
          0.8271840835221116,
          0.8271840835221116,
          0.8271840835221116,
          0.8271840835221116,
          0.8271840835221116,
          0.8271840835221116,
          0.8271840835221116,
          0.8271840835221116,
          0.8271840835221116,
          0.8271840835221116,
          0.8271840835221116,
          0.8271840835221116,
          0.8271840835221116,
          0.8271840835221116,
          0.8271840835221116,
          0.8271840835221116,
          0.8271840835221116,
          0.8271840835221116,
          0.8271840835221116,
          0.8271840835221116
         ]
        },
        {
         "marker": {
          "color": "#cccccc"
         },
         "mode": "markers",
         "name": "Infeasible Trial",
         "showlegend": false,
         "type": "scatter",
         "x": [],
         "y": []
        }
       ],
       "layout": {
        "template": {
         "data": {
          "bar": [
           {
            "error_x": {
             "color": "#2a3f5f"
            },
            "error_y": {
             "color": "#2a3f5f"
            },
            "marker": {
             "line": {
              "color": "#E5ECF6",
              "width": 0.5
             },
             "pattern": {
              "fillmode": "overlay",
              "size": 10,
              "solidity": 0.2
             }
            },
            "type": "bar"
           }
          ],
          "barpolar": [
           {
            "marker": {
             "line": {
              "color": "#E5ECF6",
              "width": 0.5
             },
             "pattern": {
              "fillmode": "overlay",
              "size": 10,
              "solidity": 0.2
             }
            },
            "type": "barpolar"
           }
          ],
          "carpet": [
           {
            "aaxis": {
             "endlinecolor": "#2a3f5f",
             "gridcolor": "white",
             "linecolor": "white",
             "minorgridcolor": "white",
             "startlinecolor": "#2a3f5f"
            },
            "baxis": {
             "endlinecolor": "#2a3f5f",
             "gridcolor": "white",
             "linecolor": "white",
             "minorgridcolor": "white",
             "startlinecolor": "#2a3f5f"
            },
            "type": "carpet"
           }
          ],
          "choropleth": [
           {
            "colorbar": {
             "outlinewidth": 0,
             "ticks": ""
            },
            "type": "choropleth"
           }
          ],
          "contour": [
           {
            "colorbar": {
             "outlinewidth": 0,
             "ticks": ""
            },
            "colorscale": [
             [
              0,
              "#0d0887"
             ],
             [
              0.1111111111111111,
              "#46039f"
             ],
             [
              0.2222222222222222,
              "#7201a8"
             ],
             [
              0.3333333333333333,
              "#9c179e"
             ],
             [
              0.4444444444444444,
              "#bd3786"
             ],
             [
              0.5555555555555556,
              "#d8576b"
             ],
             [
              0.6666666666666666,
              "#ed7953"
             ],
             [
              0.7777777777777778,
              "#fb9f3a"
             ],
             [
              0.8888888888888888,
              "#fdca26"
             ],
             [
              1,
              "#f0f921"
             ]
            ],
            "type": "contour"
           }
          ],
          "contourcarpet": [
           {
            "colorbar": {
             "outlinewidth": 0,
             "ticks": ""
            },
            "type": "contourcarpet"
           }
          ],
          "heatmap": [
           {
            "colorbar": {
             "outlinewidth": 0,
             "ticks": ""
            },
            "colorscale": [
             [
              0,
              "#0d0887"
             ],
             [
              0.1111111111111111,
              "#46039f"
             ],
             [
              0.2222222222222222,
              "#7201a8"
             ],
             [
              0.3333333333333333,
              "#9c179e"
             ],
             [
              0.4444444444444444,
              "#bd3786"
             ],
             [
              0.5555555555555556,
              "#d8576b"
             ],
             [
              0.6666666666666666,
              "#ed7953"
             ],
             [
              0.7777777777777778,
              "#fb9f3a"
             ],
             [
              0.8888888888888888,
              "#fdca26"
             ],
             [
              1,
              "#f0f921"
             ]
            ],
            "type": "heatmap"
           }
          ],
          "histogram": [
           {
            "marker": {
             "pattern": {
              "fillmode": "overlay",
              "size": 10,
              "solidity": 0.2
             }
            },
            "type": "histogram"
           }
          ],
          "histogram2d": [
           {
            "colorbar": {
             "outlinewidth": 0,
             "ticks": ""
            },
            "colorscale": [
             [
              0,
              "#0d0887"
             ],
             [
              0.1111111111111111,
              "#46039f"
             ],
             [
              0.2222222222222222,
              "#7201a8"
             ],
             [
              0.3333333333333333,
              "#9c179e"
             ],
             [
              0.4444444444444444,
              "#bd3786"
             ],
             [
              0.5555555555555556,
              "#d8576b"
             ],
             [
              0.6666666666666666,
              "#ed7953"
             ],
             [
              0.7777777777777778,
              "#fb9f3a"
             ],
             [
              0.8888888888888888,
              "#fdca26"
             ],
             [
              1,
              "#f0f921"
             ]
            ],
            "type": "histogram2d"
           }
          ],
          "histogram2dcontour": [
           {
            "colorbar": {
             "outlinewidth": 0,
             "ticks": ""
            },
            "colorscale": [
             [
              0,
              "#0d0887"
             ],
             [
              0.1111111111111111,
              "#46039f"
             ],
             [
              0.2222222222222222,
              "#7201a8"
             ],
             [
              0.3333333333333333,
              "#9c179e"
             ],
             [
              0.4444444444444444,
              "#bd3786"
             ],
             [
              0.5555555555555556,
              "#d8576b"
             ],
             [
              0.6666666666666666,
              "#ed7953"
             ],
             [
              0.7777777777777778,
              "#fb9f3a"
             ],
             [
              0.8888888888888888,
              "#fdca26"
             ],
             [
              1,
              "#f0f921"
             ]
            ],
            "type": "histogram2dcontour"
           }
          ],
          "mesh3d": [
           {
            "colorbar": {
             "outlinewidth": 0,
             "ticks": ""
            },
            "type": "mesh3d"
           }
          ],
          "parcoords": [
           {
            "line": {
             "colorbar": {
              "outlinewidth": 0,
              "ticks": ""
             }
            },
            "type": "parcoords"
           }
          ],
          "pie": [
           {
            "automargin": true,
            "type": "pie"
           }
          ],
          "scatter": [
           {
            "fillpattern": {
             "fillmode": "overlay",
             "size": 10,
             "solidity": 0.2
            },
            "type": "scatter"
           }
          ],
          "scatter3d": [
           {
            "line": {
             "colorbar": {
              "outlinewidth": 0,
              "ticks": ""
             }
            },
            "marker": {
             "colorbar": {
              "outlinewidth": 0,
              "ticks": ""
             }
            },
            "type": "scatter3d"
           }
          ],
          "scattercarpet": [
           {
            "marker": {
             "colorbar": {
              "outlinewidth": 0,
              "ticks": ""
             }
            },
            "type": "scattercarpet"
           }
          ],
          "scattergeo": [
           {
            "marker": {
             "colorbar": {
              "outlinewidth": 0,
              "ticks": ""
             }
            },
            "type": "scattergeo"
           }
          ],
          "scattergl": [
           {
            "marker": {
             "colorbar": {
              "outlinewidth": 0,
              "ticks": ""
             }
            },
            "type": "scattergl"
           }
          ],
          "scattermap": [
           {
            "marker": {
             "colorbar": {
              "outlinewidth": 0,
              "ticks": ""
             }
            },
            "type": "scattermap"
           }
          ],
          "scattermapbox": [
           {
            "marker": {
             "colorbar": {
              "outlinewidth": 0,
              "ticks": ""
             }
            },
            "type": "scattermapbox"
           }
          ],
          "scatterpolar": [
           {
            "marker": {
             "colorbar": {
              "outlinewidth": 0,
              "ticks": ""
             }
            },
            "type": "scatterpolar"
           }
          ],
          "scatterpolargl": [
           {
            "marker": {
             "colorbar": {
              "outlinewidth": 0,
              "ticks": ""
             }
            },
            "type": "scatterpolargl"
           }
          ],
          "scatterternary": [
           {
            "marker": {
             "colorbar": {
              "outlinewidth": 0,
              "ticks": ""
             }
            },
            "type": "scatterternary"
           }
          ],
          "surface": [
           {
            "colorbar": {
             "outlinewidth": 0,
             "ticks": ""
            },
            "colorscale": [
             [
              0,
              "#0d0887"
             ],
             [
              0.1111111111111111,
              "#46039f"
             ],
             [
              0.2222222222222222,
              "#7201a8"
             ],
             [
              0.3333333333333333,
              "#9c179e"
             ],
             [
              0.4444444444444444,
              "#bd3786"
             ],
             [
              0.5555555555555556,
              "#d8576b"
             ],
             [
              0.6666666666666666,
              "#ed7953"
             ],
             [
              0.7777777777777778,
              "#fb9f3a"
             ],
             [
              0.8888888888888888,
              "#fdca26"
             ],
             [
              1,
              "#f0f921"
             ]
            ],
            "type": "surface"
           }
          ],
          "table": [
           {
            "cells": {
             "fill": {
              "color": "#EBF0F8"
             },
             "line": {
              "color": "white"
             }
            },
            "header": {
             "fill": {
              "color": "#C8D4E3"
             },
             "line": {
              "color": "white"
             }
            },
            "type": "table"
           }
          ]
         },
         "layout": {
          "annotationdefaults": {
           "arrowcolor": "#2a3f5f",
           "arrowhead": 0,
           "arrowwidth": 1
          },
          "autotypenumbers": "strict",
          "coloraxis": {
           "colorbar": {
            "outlinewidth": 0,
            "ticks": ""
           }
          },
          "colorscale": {
           "diverging": [
            [
             0,
             "#8e0152"
            ],
            [
             0.1,
             "#c51b7d"
            ],
            [
             0.2,
             "#de77ae"
            ],
            [
             0.3,
             "#f1b6da"
            ],
            [
             0.4,
             "#fde0ef"
            ],
            [
             0.5,
             "#f7f7f7"
            ],
            [
             0.6,
             "#e6f5d0"
            ],
            [
             0.7,
             "#b8e186"
            ],
            [
             0.8,
             "#7fbc41"
            ],
            [
             0.9,
             "#4d9221"
            ],
            [
             1,
             "#276419"
            ]
           ],
           "sequential": [
            [
             0,
             "#0d0887"
            ],
            [
             0.1111111111111111,
             "#46039f"
            ],
            [
             0.2222222222222222,
             "#7201a8"
            ],
            [
             0.3333333333333333,
             "#9c179e"
            ],
            [
             0.4444444444444444,
             "#bd3786"
            ],
            [
             0.5555555555555556,
             "#d8576b"
            ],
            [
             0.6666666666666666,
             "#ed7953"
            ],
            [
             0.7777777777777778,
             "#fb9f3a"
            ],
            [
             0.8888888888888888,
             "#fdca26"
            ],
            [
             1,
             "#f0f921"
            ]
           ],
           "sequentialminus": [
            [
             0,
             "#0d0887"
            ],
            [
             0.1111111111111111,
             "#46039f"
            ],
            [
             0.2222222222222222,
             "#7201a8"
            ],
            [
             0.3333333333333333,
             "#9c179e"
            ],
            [
             0.4444444444444444,
             "#bd3786"
            ],
            [
             0.5555555555555556,
             "#d8576b"
            ],
            [
             0.6666666666666666,
             "#ed7953"
            ],
            [
             0.7777777777777778,
             "#fb9f3a"
            ],
            [
             0.8888888888888888,
             "#fdca26"
            ],
            [
             1,
             "#f0f921"
            ]
           ]
          },
          "colorway": [
           "#636efa",
           "#EF553B",
           "#00cc96",
           "#ab63fa",
           "#FFA15A",
           "#19d3f3",
           "#FF6692",
           "#B6E880",
           "#FF97FF",
           "#FECB52"
          ],
          "font": {
           "color": "#2a3f5f"
          },
          "geo": {
           "bgcolor": "white",
           "lakecolor": "white",
           "landcolor": "#E5ECF6",
           "showlakes": true,
           "showland": true,
           "subunitcolor": "white"
          },
          "hoverlabel": {
           "align": "left"
          },
          "hovermode": "closest",
          "mapbox": {
           "style": "light"
          },
          "paper_bgcolor": "white",
          "plot_bgcolor": "#E5ECF6",
          "polar": {
           "angularaxis": {
            "gridcolor": "white",
            "linecolor": "white",
            "ticks": ""
           },
           "bgcolor": "#E5ECF6",
           "radialaxis": {
            "gridcolor": "white",
            "linecolor": "white",
            "ticks": ""
           }
          },
          "scene": {
           "xaxis": {
            "backgroundcolor": "#E5ECF6",
            "gridcolor": "white",
            "gridwidth": 2,
            "linecolor": "white",
            "showbackground": true,
            "ticks": "",
            "zerolinecolor": "white"
           },
           "yaxis": {
            "backgroundcolor": "#E5ECF6",
            "gridcolor": "white",
            "gridwidth": 2,
            "linecolor": "white",
            "showbackground": true,
            "ticks": "",
            "zerolinecolor": "white"
           },
           "zaxis": {
            "backgroundcolor": "#E5ECF6",
            "gridcolor": "white",
            "gridwidth": 2,
            "linecolor": "white",
            "showbackground": true,
            "ticks": "",
            "zerolinecolor": "white"
           }
          },
          "shapedefaults": {
           "line": {
            "color": "#2a3f5f"
           }
          },
          "ternary": {
           "aaxis": {
            "gridcolor": "white",
            "linecolor": "white",
            "ticks": ""
           },
           "baxis": {
            "gridcolor": "white",
            "linecolor": "white",
            "ticks": ""
           },
           "bgcolor": "#E5ECF6",
           "caxis": {
            "gridcolor": "white",
            "linecolor": "white",
            "ticks": ""
           }
          },
          "title": {
           "x": 0.05
          },
          "xaxis": {
           "automargin": true,
           "gridcolor": "white",
           "linecolor": "white",
           "ticks": "",
           "title": {
            "standoff": 15
           },
           "zerolinecolor": "white",
           "zerolinewidth": 2
          },
          "yaxis": {
           "automargin": true,
           "gridcolor": "white",
           "linecolor": "white",
           "ticks": "",
           "title": {
            "standoff": 15
           },
           "zerolinecolor": "white",
           "zerolinewidth": 2
          }
         }
        },
        "title": {
         "text": "Optimization History Plot"
        },
        "xaxis": {
         "title": {
          "text": "Trial"
         }
        },
        "yaxis": {
         "title": {
          "text": "Objective Value"
         }
        }
       }
      }
     },
     "metadata": {},
     "output_type": "display_data"
    }
   ],
   "source": [
    "def objective(trial):\n",
    "    params={'penalty':trial.suggest_categorical('penalty',['l1', 'l2']),\n",
    "            'max_iter':trial.suggest_int('max_iter', 100,10000),\n",
    "            'loss':trial.suggest_categorical('loss', ['squared_hinge']),\n",
    "            'dual':trial.suggest_categorical('dual', [False]),\n",
    "            'C':trial.suggest_float('C',.1, 30)\n",
    "           }\n",
    "    \n",
    "    ideal_svc = LinearSVC(**params, random_state=12)\n",
    "\n",
    "    cv=StratifiedKFold(n_splits=5, shuffle=True, random_state=12)\n",
    "    score = cross_val_score(ideal_svc,\n",
    "                            X_train_svc, \n",
    "                            y_train,\n",
    "                            cv=cv,\n",
    "                            scoring='accuracy').mean()\n",
    "    \n",
    "    return score \n",
    "    \n",
    "# create study\n",
    "study = opt.create_study(direction='maximize')\n",
    "\n",
    "# optimize study\n",
    "study.optimize(objective, n_trials=30)\n",
    "\n",
    "best_score_svc = study.best_value \n",
    "best_param_svc = study.best_params \n",
    "\n",
    "print(f'Best_score = {best_score_svc} \\n Best_params = {best_param_svc}')\n",
    "\n",
    "opt.visualization.plot_optimization_history(study).show()"
   ]
  },
  {
   "cell_type": "markdown",
   "id": "12901b17",
   "metadata": {},
   "source": [
    "Having tried to tune `LinearSVC` with RandomizedSearchCV and Optuna with the best score being `82`% it's best to drop it and move to morre promising models"
   ]
  },
  {
   "cell_type": "markdown",
   "id": "481fbeef",
   "metadata": {},
   "source": [
    "### Hyper-parameter Tuning to improve score\n",
    "1. With RandomizedSearchCV"
   ]
  },
  {
   "cell_type": "code",
   "execution_count": 510,
   "id": "d855175f",
   "metadata": {},
   "outputs": [],
   "source": [
    "# Tune CatBoost and RandomizedForestClassifier with Randomized CV\n",
    "\n",
    "clf_rs = RandomForestClassifier(random_state=12)\n",
    "cat_rs = cat.CatBoostClassifier(random_state=12)\n",
    "\n",
    "models = {'clf': clf_rs,\n",
    "          'cat': cat_rs}\n",
    "\n",
    "clf_rs_param = {\n",
    "    'n_estimators':list(range(100,300,50)),\n",
    "    'max_depth':list(range(3,10)),\n",
    "    'min_samples_leaf': list(range(5,20)),\n",
    "    'min_samples_split': list(range(5,20)),\n",
    "    'criterion':['gini', 'entropy', 'log_loss'],\n",
    "    'max_features':['sqrt', 'log2', None],\n",
    "    'max_leaf_nodes':list(range(20,100)),\n",
    "    'min_weight_fraction_leaf': np.random.uniform(.0, .05, size=60).tolist()\n",
    "}\n",
    "\n",
    "cat_rs_param = {\n",
    "    'iterations':np.arange(100,500,50).tolist(),\n",
    "    'learning_rate':np.random.uniform(.05,.1, size=20).tolist(),\n",
    "    'depth':np.arange(4,10).tolist(),\n",
    "    'l2_leaf_reg':np.arange(1,10).tolist(),\n",
    "    'subsample': np.random.uniform(.5, 1, size=20).tolist()\n",
    "}\n",
    "\n",
    "# RandomizedSearchCV function\n",
    "def r_search(model, params):\n",
    "\n",
    "    cv=StratifiedKFold(n_splits=5, shuffle=True, random_state=12)\n",
    "\n",
    "    r_model = RandomizedSearchCV(\n",
    "        model,\n",
    "        param_distributions=params,\n",
    "        cv = cv,\n",
    "        n_iter=20,\n",
    "        scoring='accuracy',\n",
    "        verbose=1,\n",
    "        random_state=12,\n",
    "        n_jobs=-1\n",
    "    )\n",
    "\n",
    "    r_model.fit(X_train, y_train)\n",
    "    y_preds = r_model.predict(X_valid)\n",
    "    score = accuracy_score(y_valid, y_preds)\n",
    "    return score, f'model best parameters = {r_model.best_params_}'"
   ]
  },
  {
   "cell_type": "code",
   "execution_count": 511,
   "id": "e5829c93",
   "metadata": {},
   "outputs": [
    {
     "data": {
      "text/html": [
       "<div>\n",
       "<style scoped>\n",
       "    .dataframe tbody tr th:only-of-type {\n",
       "        vertical-align: middle;\n",
       "    }\n",
       "\n",
       "    .dataframe tbody tr th {\n",
       "        vertical-align: top;\n",
       "    }\n",
       "\n",
       "    .dataframe thead th {\n",
       "        text-align: right;\n",
       "    }\n",
       "</style>\n",
       "<table border=\"1\" class=\"dataframe\">\n",
       "  <thead>\n",
       "    <tr style=\"text-align: right;\">\n",
       "      <th></th>\n",
       "      <th>802</th>\n",
       "      <th>541</th>\n",
       "      <th>356</th>\n",
       "      <th>250</th>\n",
       "      <th>522</th>\n",
       "    </tr>\n",
       "  </thead>\n",
       "  <tbody>\n",
       "    <tr>\n",
       "      <th>Pclass</th>\n",
       "      <td>1</td>\n",
       "      <td>3</td>\n",
       "      <td>1</td>\n",
       "      <td>3</td>\n",
       "      <td>3</td>\n",
       "    </tr>\n",
       "    <tr>\n",
       "      <th>Age</th>\n",
       "      <td>11</td>\n",
       "      <td>9</td>\n",
       "      <td>22</td>\n",
       "      <td>28</td>\n",
       "      <td>28</td>\n",
       "    </tr>\n",
       "    <tr>\n",
       "      <th>SibSp</th>\n",
       "      <td>1</td>\n",
       "      <td>4</td>\n",
       "      <td>0</td>\n",
       "      <td>0</td>\n",
       "      <td>0</td>\n",
       "    </tr>\n",
       "    <tr>\n",
       "      <th>Parch</th>\n",
       "      <td>2</td>\n",
       "      <td>2</td>\n",
       "      <td>1</td>\n",
       "      <td>0</td>\n",
       "      <td>0</td>\n",
       "    </tr>\n",
       "    <tr>\n",
       "      <th>Ticket</th>\n",
       "      <td>33</td>\n",
       "      <td>333</td>\n",
       "      <td>28</td>\n",
       "      <td>422</td>\n",
       "      <td>173</td>\n",
       "    </tr>\n",
       "    <tr>\n",
       "      <th>Fare</th>\n",
       "      <td>120.0</td>\n",
       "      <td>31.275</td>\n",
       "      <td>55.0</td>\n",
       "      <td>7.25</td>\n",
       "      <td>7.225</td>\n",
       "    </tr>\n",
       "    <tr>\n",
       "      <th>Age_is_missing</th>\n",
       "      <td>False</td>\n",
       "      <td>False</td>\n",
       "      <td>False</td>\n",
       "      <td>True</td>\n",
       "      <td>True</td>\n",
       "    </tr>\n",
       "    <tr>\n",
       "      <th>Cabin_is_missing</th>\n",
       "      <td>False</td>\n",
       "      <td>True</td>\n",
       "      <td>False</td>\n",
       "      <td>True</td>\n",
       "      <td>True</td>\n",
       "    </tr>\n",
       "    <tr>\n",
       "      <th>Embarked_is_missing</th>\n",
       "      <td>False</td>\n",
       "      <td>False</td>\n",
       "      <td>False</td>\n",
       "      <td>False</td>\n",
       "      <td>False</td>\n",
       "    </tr>\n",
       "    <tr>\n",
       "      <th>Titles__Dr</th>\n",
       "      <td>False</td>\n",
       "      <td>False</td>\n",
       "      <td>False</td>\n",
       "      <td>False</td>\n",
       "      <td>False</td>\n",
       "    </tr>\n",
       "    <tr>\n",
       "      <th>Titles__Master</th>\n",
       "      <td>True</td>\n",
       "      <td>False</td>\n",
       "      <td>False</td>\n",
       "      <td>False</td>\n",
       "      <td>False</td>\n",
       "    </tr>\n",
       "    <tr>\n",
       "      <th>Titles__Miss</th>\n",
       "      <td>False</td>\n",
       "      <td>True</td>\n",
       "      <td>True</td>\n",
       "      <td>False</td>\n",
       "      <td>False</td>\n",
       "    </tr>\n",
       "    <tr>\n",
       "      <th>Titles__Mr</th>\n",
       "      <td>False</td>\n",
       "      <td>False</td>\n",
       "      <td>False</td>\n",
       "      <td>True</td>\n",
       "      <td>True</td>\n",
       "    </tr>\n",
       "    <tr>\n",
       "      <th>Titles__Other</th>\n",
       "      <td>False</td>\n",
       "      <td>False</td>\n",
       "      <td>False</td>\n",
       "      <td>False</td>\n",
       "      <td>False</td>\n",
       "    </tr>\n",
       "    <tr>\n",
       "      <th>Titles__Rev</th>\n",
       "      <td>False</td>\n",
       "      <td>False</td>\n",
       "      <td>False</td>\n",
       "      <td>False</td>\n",
       "      <td>False</td>\n",
       "    </tr>\n",
       "    <tr>\n",
       "      <th>Sex__female</th>\n",
       "      <td>False</td>\n",
       "      <td>True</td>\n",
       "      <td>True</td>\n",
       "      <td>False</td>\n",
       "      <td>False</td>\n",
       "    </tr>\n",
       "    <tr>\n",
       "      <th>Sex__male</th>\n",
       "      <td>True</td>\n",
       "      <td>False</td>\n",
       "      <td>False</td>\n",
       "      <td>True</td>\n",
       "      <td>True</td>\n",
       "    </tr>\n",
       "    <tr>\n",
       "      <th>Embarked__C</th>\n",
       "      <td>False</td>\n",
       "      <td>False</td>\n",
       "      <td>False</td>\n",
       "      <td>False</td>\n",
       "      <td>True</td>\n",
       "    </tr>\n",
       "    <tr>\n",
       "      <th>Embarked__M</th>\n",
       "      <td>False</td>\n",
       "      <td>False</td>\n",
       "      <td>False</td>\n",
       "      <td>False</td>\n",
       "      <td>False</td>\n",
       "    </tr>\n",
       "    <tr>\n",
       "      <th>Embarked__Q</th>\n",
       "      <td>False</td>\n",
       "      <td>False</td>\n",
       "      <td>False</td>\n",
       "      <td>False</td>\n",
       "      <td>False</td>\n",
       "    </tr>\n",
       "    <tr>\n",
       "      <th>Embarked__S</th>\n",
       "      <td>True</td>\n",
       "      <td>True</td>\n",
       "      <td>True</td>\n",
       "      <td>True</td>\n",
       "      <td>False</td>\n",
       "    </tr>\n",
       "    <tr>\n",
       "      <th>Deck</th>\n",
       "      <td>2</td>\n",
       "      <td>0</td>\n",
       "      <td>5</td>\n",
       "      <td>0</td>\n",
       "      <td>0</td>\n",
       "    </tr>\n",
       "  </tbody>\n",
       "</table>\n",
       "</div>"
      ],
      "text/plain": [
       "                       802     541    356    250    522\n",
       "Pclass                   1       3      1      3      3\n",
       "Age                     11       9     22     28     28\n",
       "SibSp                    1       4      0      0      0\n",
       "Parch                    2       2      1      0      0\n",
       "Ticket                  33     333     28    422    173\n",
       "Fare                 120.0  31.275   55.0   7.25  7.225\n",
       "Age_is_missing       False   False  False   True   True\n",
       "Cabin_is_missing     False    True  False   True   True\n",
       "Embarked_is_missing  False   False  False  False  False\n",
       "Titles__Dr           False   False  False  False  False\n",
       "Titles__Master        True   False  False  False  False\n",
       "Titles__Miss         False    True   True  False  False\n",
       "Titles__Mr           False   False  False   True   True\n",
       "Titles__Other        False   False  False  False  False\n",
       "Titles__Rev          False   False  False  False  False\n",
       "Sex__female          False    True   True  False  False\n",
       "Sex__male             True   False  False   True   True\n",
       "Embarked__C          False   False  False  False   True\n",
       "Embarked__M          False   False  False  False  False\n",
       "Embarked__Q          False   False  False  False  False\n",
       "Embarked__S           True    True   True   True  False\n",
       "Deck                     2       0      5      0      0"
      ]
     },
     "execution_count": 511,
     "metadata": {},
     "output_type": "execute_result"
    }
   ],
   "source": [
    "X_train.head().T "
   ]
  },
  {
   "cell_type": "code",
   "execution_count": 512,
   "id": "103ef8aa",
   "metadata": {},
   "outputs": [
    {
     "name": "stdout",
     "output_type": "stream",
     "text": [
      "Fitting 5 folds for each of 20 candidates, totalling 100 fits\n",
      "0:\tlearn: 0.6379624\ttotal: 31.4ms\tremaining: 10.9s\n",
      "1:\tlearn: 0.5961812\ttotal: 33.6ms\tremaining: 5.85s\n",
      "2:\tlearn: 0.5598445\ttotal: 36ms\tremaining: 4.16s\n",
      "3:\tlearn: 0.5347071\ttotal: 38.2ms\tremaining: 3.31s\n",
      "4:\tlearn: 0.5107493\ttotal: 40.6ms\tremaining: 2.8s\n",
      "5:\tlearn: 0.4905010\ttotal: 42.9ms\tremaining: 2.46s\n",
      "6:\tlearn: 0.4790336\ttotal: 46.2ms\tremaining: 2.26s\n",
      "7:\tlearn: 0.4697613\ttotal: 48.6ms\tremaining: 2.08s\n",
      "8:\tlearn: 0.4551886\ttotal: 51ms\tremaining: 1.93s\n",
      "9:\tlearn: 0.4444175\ttotal: 53.5ms\tremaining: 1.82s\n",
      "10:\tlearn: 0.4375330\ttotal: 67.5ms\tremaining: 2.08s\n",
      "11:\tlearn: 0.4294348\ttotal: 70.3ms\tremaining: 1.98s\n",
      "12:\tlearn: 0.4250365\ttotal: 72.7ms\tremaining: 1.89s\n",
      "13:\tlearn: 0.4174387\ttotal: 75.1ms\tremaining: 1.8s\n",
      "14:\tlearn: 0.4114292\ttotal: 78.5ms\tremaining: 1.75s\n",
      "15:\tlearn: 0.4049163\ttotal: 80.9ms\tremaining: 1.69s\n",
      "16:\tlearn: 0.4029125\ttotal: 83.2ms\tremaining: 1.63s\n",
      "17:\tlearn: 0.3993205\ttotal: 85.5ms\tremaining: 1.58s\n",
      "18:\tlearn: 0.3961366\ttotal: 87.7ms\tremaining: 1.53s\n",
      "19:\tlearn: 0.3952839\ttotal: 89.5ms\tremaining: 1.48s\n",
      "20:\tlearn: 0.3938027\ttotal: 92.9ms\tremaining: 1.46s\n",
      "21:\tlearn: 0.3919798\ttotal: 95.3ms\tremaining: 1.42s\n",
      "22:\tlearn: 0.3903953\ttotal: 97.8ms\tremaining: 1.39s\n",
      "23:\tlearn: 0.3864141\ttotal: 101ms\tremaining: 1.37s\n",
      "24:\tlearn: 0.3846033\ttotal: 103ms\tremaining: 1.34s\n",
      "25:\tlearn: 0.3821130\ttotal: 106ms\tremaining: 1.32s\n",
      "26:\tlearn: 0.3806137\ttotal: 111ms\tremaining: 1.32s\n",
      "27:\tlearn: 0.3793345\ttotal: 131ms\tremaining: 1.5s\n",
      "28:\tlearn: 0.3767735\ttotal: 133ms\tremaining: 1.47s\n",
      "29:\tlearn: 0.3752353\ttotal: 135ms\tremaining: 1.45s\n",
      "30:\tlearn: 0.3737261\ttotal: 139ms\tremaining: 1.43s\n",
      "31:\tlearn: 0.3714174\ttotal: 154ms\tremaining: 1.52s\n",
      "32:\tlearn: 0.3704188\ttotal: 157ms\tremaining: 1.51s\n",
      "33:\tlearn: 0.3685102\ttotal: 159ms\tremaining: 1.48s\n",
      "34:\tlearn: 0.3663721\ttotal: 162ms\tremaining: 1.46s\n",
      "35:\tlearn: 0.3648066\ttotal: 164ms\tremaining: 1.43s\n",
      "36:\tlearn: 0.3643244\ttotal: 166ms\tremaining: 1.41s\n",
      "37:\tlearn: 0.3641338\ttotal: 169ms\tremaining: 1.38s\n",
      "38:\tlearn: 0.3613589\ttotal: 173ms\tremaining: 1.38s\n",
      "39:\tlearn: 0.3610745\ttotal: 175ms\tremaining: 1.36s\n",
      "40:\tlearn: 0.3602478\ttotal: 178ms\tremaining: 1.34s\n",
      "41:\tlearn: 0.3594773\ttotal: 180ms\tremaining: 1.32s\n",
      "42:\tlearn: 0.3586229\ttotal: 182ms\tremaining: 1.3s\n",
      "43:\tlearn: 0.3572061\ttotal: 185ms\tremaining: 1.28s\n",
      "44:\tlearn: 0.3555477\ttotal: 188ms\tremaining: 1.28s\n",
      "45:\tlearn: 0.3542493\ttotal: 191ms\tremaining: 1.26s\n",
      "46:\tlearn: 0.3540362\ttotal: 193ms\tremaining: 1.25s\n",
      "47:\tlearn: 0.3527477\ttotal: 196ms\tremaining: 1.23s\n",
      "48:\tlearn: 0.3515745\ttotal: 198ms\tremaining: 1.22s\n",
      "49:\tlearn: 0.3512236\ttotal: 203ms\tremaining: 1.22s\n",
      "50:\tlearn: 0.3507884\ttotal: 205ms\tremaining: 1.2s\n",
      "51:\tlearn: 0.3490391\ttotal: 208ms\tremaining: 1.19s\n",
      "52:\tlearn: 0.3475988\ttotal: 210ms\tremaining: 1.18s\n",
      "53:\tlearn: 0.3471356\ttotal: 213ms\tremaining: 1.17s\n",
      "54:\tlearn: 0.3462895\ttotal: 215ms\tremaining: 1.15s\n",
      "55:\tlearn: 0.3453309\ttotal: 219ms\tremaining: 1.15s\n",
      "56:\tlearn: 0.3441351\ttotal: 225ms\tremaining: 1.16s\n",
      "57:\tlearn: 0.3434752\ttotal: 233ms\tremaining: 1.17s\n",
      "58:\tlearn: 0.3415657\ttotal: 236ms\tremaining: 1.16s\n",
      "59:\tlearn: 0.3414198\ttotal: 239ms\tremaining: 1.16s\n",
      "60:\tlearn: 0.3403807\ttotal: 242ms\tremaining: 1.15s\n",
      "61:\tlearn: 0.3383238\ttotal: 245ms\tremaining: 1.14s\n",
      "62:\tlearn: 0.3370492\ttotal: 250ms\tremaining: 1.14s\n",
      "63:\tlearn: 0.3368963\ttotal: 253ms\tremaining: 1.13s\n",
      "64:\tlearn: 0.3358986\ttotal: 255ms\tremaining: 1.12s\n",
      "65:\tlearn: 0.3347031\ttotal: 257ms\tremaining: 1.11s\n",
      "66:\tlearn: 0.3345661\ttotal: 260ms\tremaining: 1.1s\n",
      "67:\tlearn: 0.3342219\ttotal: 264ms\tremaining: 1.09s\n",
      "68:\tlearn: 0.3331373\ttotal: 266ms\tremaining: 1.08s\n",
      "69:\tlearn: 0.3317709\ttotal: 269ms\tremaining: 1.07s\n",
      "70:\tlearn: 0.3307673\ttotal: 272ms\tremaining: 1.07s\n",
      "71:\tlearn: 0.3298250\ttotal: 274ms\tremaining: 1.06s\n",
      "72:\tlearn: 0.3286352\ttotal: 277ms\tremaining: 1.05s\n",
      "73:\tlearn: 0.3284173\ttotal: 281ms\tremaining: 1.05s\n",
      "74:\tlearn: 0.3273411\ttotal: 283ms\tremaining: 1.04s\n",
      "75:\tlearn: 0.3262146\ttotal: 286ms\tremaining: 1.03s\n",
      "76:\tlearn: 0.3253110\ttotal: 288ms\tremaining: 1.02s\n",
      "77:\tlearn: 0.3251164\ttotal: 291ms\tremaining: 1.01s\n",
      "78:\tlearn: 0.3235603\ttotal: 296ms\tremaining: 1.01s\n",
      "79:\tlearn: 0.3224489\ttotal: 298ms\tremaining: 1s\n",
      "80:\tlearn: 0.3218201\ttotal: 300ms\tremaining: 998ms\n",
      "81:\tlearn: 0.3196107\ttotal: 303ms\tremaining: 990ms\n",
      "82:\tlearn: 0.3194379\ttotal: 305ms\tremaining: 982ms\n",
      "83:\tlearn: 0.3192615\ttotal: 308ms\tremaining: 974ms\n",
      "84:\tlearn: 0.3181151\ttotal: 312ms\tremaining: 972ms\n",
      "85:\tlearn: 0.3179978\ttotal: 314ms\tremaining: 965ms\n",
      "86:\tlearn: 0.3169494\ttotal: 317ms\tremaining: 958ms\n",
      "87:\tlearn: 0.3152512\ttotal: 319ms\tremaining: 951ms\n",
      "88:\tlearn: 0.3150944\ttotal: 322ms\tremaining: 943ms\n",
      "89:\tlearn: 0.3149420\ttotal: 325ms\tremaining: 939ms\n",
      "90:\tlearn: 0.3148382\ttotal: 328ms\tremaining: 933ms\n",
      "91:\tlearn: 0.3138725\ttotal: 330ms\tremaining: 926ms\n",
      "92:\tlearn: 0.3125715\ttotal: 333ms\tremaining: 919ms\n",
      "93:\tlearn: 0.3121859\ttotal: 335ms\tremaining: 913ms\n",
      "94:\tlearn: 0.3113970\ttotal: 338ms\tremaining: 907ms\n",
      "95:\tlearn: 0.3112248\ttotal: 342ms\tremaining: 905ms\n",
      "96:\tlearn: 0.3100855\ttotal: 346ms\tremaining: 902ms\n",
      "97:\tlearn: 0.3094256\ttotal: 348ms\tremaining: 895ms\n",
      "98:\tlearn: 0.3092856\ttotal: 350ms\tremaining: 888ms\n",
      "99:\tlearn: 0.3082447\ttotal: 353ms\tremaining: 882ms\n",
      "100:\tlearn: 0.3081339\ttotal: 357ms\tremaining: 880ms\n",
      "101:\tlearn: 0.3071540\ttotal: 359ms\tremaining: 873ms\n",
      "102:\tlearn: 0.3070355\ttotal: 362ms\tremaining: 867ms\n",
      "103:\tlearn: 0.3055648\ttotal: 364ms\tremaining: 861ms\n",
      "104:\tlearn: 0.3050923\ttotal: 400ms\tremaining: 934ms\n",
      "105:\tlearn: 0.3036181\ttotal: 403ms\tremaining: 927ms\n",
      "106:\tlearn: 0.3033149\ttotal: 405ms\tremaining: 921ms\n",
      "107:\tlearn: 0.3021437\ttotal: 408ms\tremaining: 914ms\n",
      "108:\tlearn: 0.3020531\ttotal: 410ms\tremaining: 907ms\n",
      "109:\tlearn: 0.3016153\ttotal: 413ms\tremaining: 901ms\n",
      "110:\tlearn: 0.3015316\ttotal: 415ms\tremaining: 894ms\n",
      "111:\tlearn: 0.3004162\ttotal: 418ms\tremaining: 889ms\n",
      "112:\tlearn: 0.3003415\ttotal: 421ms\tremaining: 883ms\n",
      "113:\tlearn: 0.2989325\ttotal: 425ms\tremaining: 879ms\n",
      "114:\tlearn: 0.2988190\ttotal: 427ms\tremaining: 873ms\n",
      "115:\tlearn: 0.2987420\ttotal: 430ms\tremaining: 866ms\n",
      "116:\tlearn: 0.2982828\ttotal: 432ms\tremaining: 860ms\n",
      "117:\tlearn: 0.2970472\ttotal: 439ms\tremaining: 863ms\n",
      "118:\tlearn: 0.2966930\ttotal: 441ms\tremaining: 857ms\n",
      "119:\tlearn: 0.2966005\ttotal: 444ms\tremaining: 850ms\n",
      "120:\tlearn: 0.2959290\ttotal: 446ms\tremaining: 844ms\n",
      "121:\tlearn: 0.2939836\ttotal: 450ms\tremaining: 841ms\n",
      "122:\tlearn: 0.2935314\ttotal: 453ms\tremaining: 836ms\n",
      "123:\tlearn: 0.2923248\ttotal: 455ms\tremaining: 830ms\n",
      "124:\tlearn: 0.2910234\ttotal: 458ms\tremaining: 825ms\n",
      "125:\tlearn: 0.2902137\ttotal: 461ms\tremaining: 819ms\n",
      "126:\tlearn: 0.2899802\ttotal: 463ms\tremaining: 813ms\n",
      "127:\tlearn: 0.2892579\ttotal: 467ms\tremaining: 810ms\n",
      "128:\tlearn: 0.2888590\ttotal: 470ms\tremaining: 805ms\n",
      "129:\tlearn: 0.2887715\ttotal: 472ms\tremaining: 799ms\n",
      "130:\tlearn: 0.2870439\ttotal: 474ms\tremaining: 793ms\n",
      "131:\tlearn: 0.2858834\ttotal: 477ms\tremaining: 787ms\n",
      "132:\tlearn: 0.2858211\ttotal: 480ms\tremaining: 784ms\n",
      "133:\tlearn: 0.2850242\ttotal: 483ms\tremaining: 779ms\n",
      "134:\tlearn: 0.2849016\ttotal: 486ms\tremaining: 773ms\n",
      "135:\tlearn: 0.2845567\ttotal: 488ms\tremaining: 768ms\n",
      "136:\tlearn: 0.2828116\ttotal: 490ms\tremaining: 762ms\n",
      "137:\tlearn: 0.2816396\ttotal: 494ms\tremaining: 759ms\n",
      "138:\tlearn: 0.2806724\ttotal: 498ms\tremaining: 755ms\n",
      "139:\tlearn: 0.2795530\ttotal: 500ms\tremaining: 750ms\n",
      "140:\tlearn: 0.2792508\ttotal: 502ms\tremaining: 744ms\n",
      "141:\tlearn: 0.2791940\ttotal: 504ms\tremaining: 739ms\n",
      "142:\tlearn: 0.2774041\ttotal: 507ms\tremaining: 735ms\n",
      "143:\tlearn: 0.2769934\ttotal: 511ms\tremaining: 731ms\n",
      "144:\tlearn: 0.2764507\ttotal: 514ms\tremaining: 726ms\n",
      "145:\tlearn: 0.2749882\ttotal: 516ms\tremaining: 721ms\n",
      "146:\tlearn: 0.2742251\ttotal: 519ms\tremaining: 716ms\n",
      "147:\tlearn: 0.2740393\ttotal: 521ms\tremaining: 711ms\n",
      "148:\tlearn: 0.2733616\ttotal: 524ms\tremaining: 706ms\n",
      "149:\tlearn: 0.2725836\ttotal: 527ms\tremaining: 703ms\n",
      "150:\tlearn: 0.2716603\ttotal: 530ms\tremaining: 698ms\n",
      "151:\tlearn: 0.2711720\ttotal: 532ms\tremaining: 693ms\n",
      "152:\tlearn: 0.2702674\ttotal: 535ms\tremaining: 689ms\n",
      "153:\tlearn: 0.2692789\ttotal: 537ms\tremaining: 684ms\n",
      "154:\tlearn: 0.2689356\ttotal: 540ms\tremaining: 679ms\n",
      "155:\tlearn: 0.2688610\ttotal: 543ms\tremaining: 676ms\n",
      "156:\tlearn: 0.2685497\ttotal: 546ms\tremaining: 671ms\n",
      "157:\tlearn: 0.2681267\ttotal: 548ms\tremaining: 666ms\n",
      "158:\tlearn: 0.2665282\ttotal: 550ms\tremaining: 661ms\n",
      "159:\tlearn: 0.2657487\ttotal: 552ms\tremaining: 656ms\n",
      "160:\tlearn: 0.2644373\ttotal: 555ms\tremaining: 651ms\n",
      "161:\tlearn: 0.2634191\ttotal: 559ms\tremaining: 648ms\n",
      "162:\tlearn: 0.2633096\ttotal: 561ms\tremaining: 644ms\n",
      "163:\tlearn: 0.2632147\ttotal: 564ms\tremaining: 639ms\n",
      "164:\tlearn: 0.2624989\ttotal: 566ms\tremaining: 635ms\n",
      "165:\tlearn: 0.2619806\ttotal: 569ms\tremaining: 630ms\n",
      "166:\tlearn: 0.2609206\ttotal: 571ms\tremaining: 626ms\n",
      "167:\tlearn: 0.2608323\ttotal: 574ms\tremaining: 621ms\n",
      "168:\tlearn: 0.2600927\ttotal: 576ms\tremaining: 617ms\n",
      "169:\tlearn: 0.2589668\ttotal: 578ms\tremaining: 612ms\n",
      "170:\tlearn: 0.2584577\ttotal: 580ms\tremaining: 607ms\n",
      "171:\tlearn: 0.2578167\ttotal: 583ms\tremaining: 603ms\n",
      "172:\tlearn: 0.2570766\ttotal: 585ms\tremaining: 599ms\n",
      "173:\tlearn: 0.2568362\ttotal: 590ms\tremaining: 597ms\n",
      "174:\tlearn: 0.2566837\ttotal: 592ms\tremaining: 592ms\n",
      "175:\tlearn: 0.2551887\ttotal: 595ms\tremaining: 588ms\n",
      "176:\tlearn: 0.2544249\ttotal: 597ms\tremaining: 584ms\n",
      "177:\tlearn: 0.2538069\ttotal: 599ms\tremaining: 579ms\n",
      "178:\tlearn: 0.2528573\ttotal: 603ms\tremaining: 576ms\n",
      "179:\tlearn: 0.2524841\ttotal: 605ms\tremaining: 572ms\n",
      "180:\tlearn: 0.2517613\ttotal: 608ms\tremaining: 567ms\n",
      "181:\tlearn: 0.2505617\ttotal: 610ms\tremaining: 563ms\n",
      "182:\tlearn: 0.2501305\ttotal: 613ms\tremaining: 559ms\n",
      "183:\tlearn: 0.2493858\ttotal: 615ms\tremaining: 555ms\n",
      "184:\tlearn: 0.2490755\ttotal: 620ms\tremaining: 553ms\n",
      "185:\tlearn: 0.2485527\ttotal: 624ms\tremaining: 550ms\n",
      "186:\tlearn: 0.2473628\ttotal: 626ms\tremaining: 546ms\n",
      "187:\tlearn: 0.2463789\ttotal: 629ms\tremaining: 542ms\n",
      "188:\tlearn: 0.2461009\ttotal: 632ms\tremaining: 538ms\n",
      "189:\tlearn: 0.2452285\ttotal: 635ms\tremaining: 535ms\n",
      "190:\tlearn: 0.2450865\ttotal: 638ms\tremaining: 531ms\n",
      "191:\tlearn: 0.2445700\ttotal: 641ms\tremaining: 527ms\n",
      "192:\tlearn: 0.2443927\ttotal: 643ms\tremaining: 523ms\n",
      "193:\tlearn: 0.2439111\ttotal: 648ms\tremaining: 521ms\n",
      "194:\tlearn: 0.2436813\ttotal: 650ms\tremaining: 517ms\n",
      "195:\tlearn: 0.2436146\ttotal: 653ms\tremaining: 513ms\n",
      "196:\tlearn: 0.2428137\ttotal: 656ms\tremaining: 509ms\n",
      "197:\tlearn: 0.2425352\ttotal: 658ms\tremaining: 505ms\n",
      "198:\tlearn: 0.2420365\ttotal: 663ms\tremaining: 503ms\n",
      "199:\tlearn: 0.2418470\ttotal: 665ms\tremaining: 499ms\n",
      "200:\tlearn: 0.2414773\ttotal: 667ms\tremaining: 495ms\n",
      "201:\tlearn: 0.2409529\ttotal: 670ms\tremaining: 491ms\n",
      "202:\tlearn: 0.2396169\ttotal: 672ms\tremaining: 487ms\n",
      "203:\tlearn: 0.2387872\ttotal: 676ms\tremaining: 483ms\n",
      "204:\tlearn: 0.2387562\ttotal: 679ms\tremaining: 480ms\n",
      "205:\tlearn: 0.2386953\ttotal: 681ms\tremaining: 476ms\n",
      "206:\tlearn: 0.2385714\ttotal: 683ms\tremaining: 472ms\n",
      "207:\tlearn: 0.2382718\ttotal: 685ms\tremaining: 468ms\n",
      "208:\tlearn: 0.2380494\ttotal: 688ms\tremaining: 464ms\n",
      "209:\tlearn: 0.2377074\ttotal: 691ms\tremaining: 461ms\n",
      "210:\tlearn: 0.2370204\ttotal: 694ms\tremaining: 457ms\n",
      "211:\tlearn: 0.2356718\ttotal: 696ms\tremaining: 453ms\n",
      "212:\tlearn: 0.2356173\ttotal: 699ms\tremaining: 450ms\n",
      "213:\tlearn: 0.2353422\ttotal: 701ms\tremaining: 446ms\n",
      "214:\tlearn: 0.2347279\ttotal: 704ms\tremaining: 442ms\n",
      "215:\tlearn: 0.2343442\ttotal: 707ms\tremaining: 439ms\n",
      "216:\tlearn: 0.2334661\ttotal: 710ms\tremaining: 435ms\n",
      "217:\tlearn: 0.2327039\ttotal: 712ms\tremaining: 431ms\n",
      "218:\tlearn: 0.2324469\ttotal: 714ms\tremaining: 427ms\n",
      "219:\tlearn: 0.2318453\ttotal: 717ms\tremaining: 423ms\n",
      "220:\tlearn: 0.2315094\ttotal: 719ms\tremaining: 420ms\n",
      "221:\tlearn: 0.2312650\ttotal: 723ms\tremaining: 417ms\n",
      "222:\tlearn: 0.2309098\ttotal: 725ms\tremaining: 413ms\n",
      "223:\tlearn: 0.2303320\ttotal: 728ms\tremaining: 409ms\n",
      "224:\tlearn: 0.2303005\ttotal: 730ms\tremaining: 405ms\n",
      "225:\tlearn: 0.2302738\ttotal: 732ms\tremaining: 402ms\n",
      "226:\tlearn: 0.2298634\ttotal: 734ms\tremaining: 398ms\n",
      "227:\tlearn: 0.2296437\ttotal: 740ms\tremaining: 396ms\n",
      "228:\tlearn: 0.2286111\ttotal: 742ms\tremaining: 392ms\n",
      "229:\tlearn: 0.2285878\ttotal: 745ms\tremaining: 389ms\n",
      "230:\tlearn: 0.2285638\ttotal: 747ms\tremaining: 385ms\n",
      "231:\tlearn: 0.2279133\ttotal: 749ms\tremaining: 381ms\n",
      "232:\tlearn: 0.2268333\ttotal: 753ms\tremaining: 378ms\n",
      "233:\tlearn: 0.2264683\ttotal: 756ms\tremaining: 375ms\n",
      "234:\tlearn: 0.2262300\ttotal: 758ms\tremaining: 371ms\n",
      "235:\tlearn: 0.2256199\ttotal: 760ms\tremaining: 367ms\n",
      "236:\tlearn: 0.2249681\ttotal: 763ms\tremaining: 364ms\n",
      "237:\tlearn: 0.2245817\ttotal: 765ms\tremaining: 360ms\n",
      "238:\tlearn: 0.2240813\ttotal: 768ms\tremaining: 357ms\n",
      "239:\tlearn: 0.2235212\ttotal: 771ms\tremaining: 353ms\n",
      "240:\tlearn: 0.2229395\ttotal: 773ms\tremaining: 350ms\n",
      "241:\tlearn: 0.2228938\ttotal: 776ms\tremaining: 346ms\n",
      "242:\tlearn: 0.2225395\ttotal: 778ms\tremaining: 343ms\n",
      "243:\tlearn: 0.2225087\ttotal: 780ms\tremaining: 339ms\n",
      "244:\tlearn: 0.2224379\ttotal: 784ms\tremaining: 336ms\n",
      "245:\tlearn: 0.2220569\ttotal: 786ms\tremaining: 332ms\n",
      "246:\tlearn: 0.2217087\ttotal: 789ms\tremaining: 329ms\n",
      "247:\tlearn: 0.2214481\ttotal: 791ms\tremaining: 325ms\n",
      "248:\tlearn: 0.2212871\ttotal: 793ms\tremaining: 322ms\n",
      "249:\tlearn: 0.2210555\ttotal: 795ms\tremaining: 318ms\n",
      "250:\tlearn: 0.2198321\ttotal: 799ms\tremaining: 315ms\n",
      "251:\tlearn: 0.2195297\ttotal: 802ms\tremaining: 312ms\n",
      "252:\tlearn: 0.2194042\ttotal: 805ms\tremaining: 308ms\n",
      "253:\tlearn: 0.2189192\ttotal: 807ms\tremaining: 305ms\n",
      "254:\tlearn: 0.2179993\ttotal: 810ms\tremaining: 302ms\n",
      "255:\tlearn: 0.2177879\ttotal: 815ms\tremaining: 299ms\n",
      "256:\tlearn: 0.2172241\ttotal: 818ms\tremaining: 296ms\n",
      "257:\tlearn: 0.2164701\ttotal: 820ms\tremaining: 292ms\n",
      "258:\tlearn: 0.2156468\ttotal: 822ms\tremaining: 289ms\n",
      "259:\tlearn: 0.2150761\ttotal: 824ms\tremaining: 285ms\n",
      "260:\tlearn: 0.2147604\ttotal: 826ms\tremaining: 282ms\n",
      "261:\tlearn: 0.2146014\ttotal: 834ms\tremaining: 280ms\n",
      "262:\tlearn: 0.2139741\ttotal: 837ms\tremaining: 277ms\n",
      "263:\tlearn: 0.2139376\ttotal: 840ms\tremaining: 274ms\n",
      "264:\tlearn: 0.2134176\ttotal: 846ms\tremaining: 272ms\n",
      "265:\tlearn: 0.2130366\ttotal: 849ms\tremaining: 268ms\n",
      "266:\tlearn: 0.2128118\ttotal: 852ms\tremaining: 265ms\n",
      "267:\tlearn: 0.2121512\ttotal: 854ms\tremaining: 261ms\n",
      "268:\tlearn: 0.2119993\ttotal: 857ms\tremaining: 258ms\n",
      "269:\tlearn: 0.2117312\ttotal: 859ms\tremaining: 254ms\n",
      "270:\tlearn: 0.2110282\ttotal: 863ms\tremaining: 252ms\n",
      "271:\tlearn: 0.2101207\ttotal: 865ms\tremaining: 248ms\n",
      "272:\tlearn: 0.2097369\ttotal: 868ms\tremaining: 245ms\n",
      "273:\tlearn: 0.2097114\ttotal: 870ms\tremaining: 241ms\n",
      "274:\tlearn: 0.2096841\ttotal: 872ms\tremaining: 238ms\n",
      "275:\tlearn: 0.2096538\ttotal: 874ms\tremaining: 234ms\n",
      "276:\tlearn: 0.2095235\ttotal: 877ms\tremaining: 231ms\n",
      "277:\tlearn: 0.2091952\ttotal: 879ms\tremaining: 228ms\n",
      "278:\tlearn: 0.2089976\ttotal: 882ms\tremaining: 224ms\n",
      "279:\tlearn: 0.2089736\ttotal: 884ms\tremaining: 221ms\n",
      "280:\tlearn: 0.2086480\ttotal: 886ms\tremaining: 218ms\n",
      "281:\tlearn: 0.2075019\ttotal: 890ms\tremaining: 215ms\n",
      "282:\tlearn: 0.2074584\ttotal: 893ms\tremaining: 211ms\n",
      "283:\tlearn: 0.2073070\ttotal: 895ms\tremaining: 208ms\n",
      "284:\tlearn: 0.2072836\ttotal: 898ms\tremaining: 205ms\n",
      "285:\tlearn: 0.2070250\ttotal: 901ms\tremaining: 202ms\n",
      "286:\tlearn: 0.2068666\ttotal: 903ms\tremaining: 198ms\n",
      "287:\tlearn: 0.2060194\ttotal: 907ms\tremaining: 195ms\n",
      "288:\tlearn: 0.2052002\ttotal: 910ms\tremaining: 192ms\n",
      "289:\tlearn: 0.2050172\ttotal: 912ms\tremaining: 189ms\n",
      "290:\tlearn: 0.2048894\ttotal: 915ms\tremaining: 185ms\n",
      "291:\tlearn: 0.2048724\ttotal: 917ms\tremaining: 182ms\n",
      "292:\tlearn: 0.2043809\ttotal: 920ms\tremaining: 179ms\n",
      "293:\tlearn: 0.2041315\ttotal: 923ms\tremaining: 176ms\n",
      "294:\tlearn: 0.2040912\ttotal: 924ms\tremaining: 172ms\n",
      "295:\tlearn: 0.2036001\ttotal: 927ms\tremaining: 169ms\n",
      "296:\tlearn: 0.2035703\ttotal: 929ms\tremaining: 166ms\n",
      "297:\tlearn: 0.2031082\ttotal: 931ms\tremaining: 162ms\n",
      "298:\tlearn: 0.2028635\ttotal: 933ms\tremaining: 159ms\n",
      "299:\tlearn: 0.2027463\ttotal: 936ms\tremaining: 156ms\n",
      "300:\tlearn: 0.2027100\ttotal: 938ms\tremaining: 153ms\n",
      "301:\tlearn: 0.2026922\ttotal: 940ms\tremaining: 149ms\n",
      "302:\tlearn: 0.2019316\ttotal: 942ms\tremaining: 146ms\n",
      "303:\tlearn: 0.2018471\ttotal: 945ms\tremaining: 143ms\n",
      "304:\tlearn: 0.2014923\ttotal: 947ms\tremaining: 140ms\n",
      "305:\tlearn: 0.2010756\ttotal: 949ms\tremaining: 136ms\n",
      "306:\tlearn: 0.2009123\ttotal: 952ms\tremaining: 133ms\n",
      "307:\tlearn: 0.2006438\ttotal: 954ms\tremaining: 130ms\n",
      "308:\tlearn: 0.2005974\ttotal: 957ms\tremaining: 127ms\n",
      "309:\tlearn: 0.1999593\ttotal: 959ms\tremaining: 124ms\n",
      "310:\tlearn: 0.1999282\ttotal: 961ms\tremaining: 121ms\n",
      "311:\tlearn: 0.1998907\ttotal: 963ms\tremaining: 117ms\n",
      "312:\tlearn: 0.1996567\ttotal: 967ms\tremaining: 114ms\n",
      "313:\tlearn: 0.1993241\ttotal: 969ms\tremaining: 111ms\n",
      "314:\tlearn: 0.1984827\ttotal: 972ms\tremaining: 108ms\n",
      "315:\tlearn: 0.1984672\ttotal: 974ms\tremaining: 105ms\n",
      "316:\tlearn: 0.1980177\ttotal: 977ms\tremaining: 102ms\n",
      "317:\tlearn: 0.1974075\ttotal: 979ms\tremaining: 98.5ms\n",
      "318:\tlearn: 0.1970239\ttotal: 983ms\tremaining: 95.5ms\n",
      "319:\tlearn: 0.1965057\ttotal: 985ms\tremaining: 92.4ms\n",
      "320:\tlearn: 0.1963957\ttotal: 988ms\tremaining: 89.2ms\n",
      "321:\tlearn: 0.1962653\ttotal: 991ms\tremaining: 86.1ms\n",
      "322:\tlearn: 0.1960998\ttotal: 993ms\tremaining: 83ms\n",
      "323:\tlearn: 0.1960819\ttotal: 995ms\tremaining: 79.9ms\n",
      "324:\tlearn: 0.1953439\ttotal: 1s\tremaining: 77ms\n",
      "325:\tlearn: 0.1952021\ttotal: 1s\tremaining: 73.9ms\n",
      "326:\tlearn: 0.1949194\ttotal: 1.01s\tremaining: 70.8ms\n",
      "327:\tlearn: 0.1947042\ttotal: 1.01s\tremaining: 67.7ms\n",
      "328:\tlearn: 0.1945462\ttotal: 1.01s\tremaining: 64.7ms\n",
      "329:\tlearn: 0.1945176\ttotal: 1.02s\tremaining: 61.6ms\n",
      "330:\tlearn: 0.1936494\ttotal: 1.02s\tremaining: 58.5ms\n",
      "331:\tlearn: 0.1931066\ttotal: 1.02s\tremaining: 55.5ms\n",
      "332:\tlearn: 0.1929318\ttotal: 1.02s\tremaining: 52.4ms\n",
      "333:\tlearn: 0.1928665\ttotal: 1.03s\tremaining: 49.3ms\n",
      "334:\tlearn: 0.1924945\ttotal: 1.03s\tremaining: 46.2ms\n",
      "335:\tlearn: 0.1924844\ttotal: 1.03s\tremaining: 43.1ms\n",
      "336:\tlearn: 0.1921620\ttotal: 1.04s\tremaining: 40ms\n",
      "337:\tlearn: 0.1919666\ttotal: 1.04s\tremaining: 36.9ms\n",
      "338:\tlearn: 0.1914002\ttotal: 1.04s\tremaining: 33.9ms\n",
      "339:\tlearn: 0.1912129\ttotal: 1.05s\tremaining: 30.8ms\n",
      "340:\tlearn: 0.1910069\ttotal: 1.05s\tremaining: 27.7ms\n",
      "341:\tlearn: 0.1909016\ttotal: 1.05s\tremaining: 24.6ms\n",
      "342:\tlearn: 0.1905626\ttotal: 1.05s\tremaining: 21.5ms\n",
      "343:\tlearn: 0.1900633\ttotal: 1.06s\tremaining: 18.4ms\n",
      "344:\tlearn: 0.1894725\ttotal: 1.06s\tremaining: 15.4ms\n",
      "345:\tlearn: 0.1890777\ttotal: 1.06s\tremaining: 12.3ms\n",
      "346:\tlearn: 0.1884758\ttotal: 1.06s\tremaining: 9.21ms\n",
      "347:\tlearn: 0.1881346\ttotal: 1.07s\tremaining: 6.14ms\n",
      "348:\tlearn: 0.1881198\ttotal: 1.07s\tremaining: 3.07ms\n",
      "349:\tlearn: 0.1876821\ttotal: 1.07s\tremaining: 0us\n"
     ]
    },
    {
     "data": {
      "text/plain": [
       "(0.8212290502793296,\n",
       " \"model best parameters = {'subsample': 0.6907703920918711, 'learning_rate': 0.09548248168621205, 'l2_leaf_reg': 8, 'iterations': 350, 'depth': 4}\")"
      ]
     },
     "execution_count": 512,
     "metadata": {},
     "output_type": "execute_result"
    }
   ],
   "source": [
    "r_search(cat_rs, cat_rs_param)"
   ]
  },
  {
   "cell_type": "code",
   "execution_count": 513,
   "id": "b80ad867",
   "metadata": {},
   "outputs": [
    {
     "data": {
      "text/plain": [
       "{'subsample': 0.6485771921664951,\n",
       " 'learning_rate': 0.08266168342627189,\n",
       " 'l2_leaf_reg': 4,\n",
       " 'iterations': 200,\n",
       " 'depth': 4}"
      ]
     },
     "execution_count": 513,
     "metadata": {},
     "output_type": "execute_result"
    }
   ],
   "source": [
    "rs_cat_best_params = {'subsample': 0.6485771921664951, 'learning_rate': 0.08266168342627189, 'l2_leaf_reg': 4, 'iterations': 200, 'depth': 4}\n",
    "rs_cat_best_params "
   ]
  },
  {
   "cell_type": "code",
   "execution_count": 514,
   "id": "d2a5abfb",
   "metadata": {},
   "outputs": [
    {
     "name": "stdout",
     "output_type": "stream",
     "text": [
      "Fitting 5 folds for each of 20 candidates, totalling 100 fits\n"
     ]
    },
    {
     "data": {
      "text/plain": [
       "(0.776536312849162,\n",
       " \"model best parameters = {'n_estimators': 150, 'min_weight_fraction_leaf': 0.029476566567042502, 'min_samples_split': 12, 'min_samples_leaf': 7, 'max_leaf_nodes': 76, 'max_features': None, 'max_depth': 5, 'criterion': 'log_loss'}\")"
      ]
     },
     "execution_count": 514,
     "metadata": {},
     "output_type": "execute_result"
    }
   ],
   "source": [
    "r_search(clf_rs, clf_rs_param)"
   ]
  },
  {
   "cell_type": "code",
   "execution_count": 515,
   "id": "7cd384dc",
   "metadata": {},
   "outputs": [
    {
     "data": {
      "text/plain": [
       "{'n_estimators': 150,\n",
       " 'min_weight_fraction_leaf': 0.012389209638971067,\n",
       " 'min_samples_split': 11,\n",
       " 'min_samples_leaf': 5,\n",
       " 'max_leaf_nodes': 39,\n",
       " 'max_features': 'log2',\n",
       " 'max_depth': 7,\n",
       " 'criterion': 'gini'}"
      ]
     },
     "execution_count": 515,
     "metadata": {},
     "output_type": "execute_result"
    }
   ],
   "source": [
    "rs_clf_best_params = {'n_estimators': 150, 'min_weight_fraction_leaf': 0.012389209638971067, 'min_samples_split': 11, 'min_samples_leaf': 5, 'max_leaf_nodes': 39, 'max_features': 'log2', 'max_depth': 7, 'criterion': 'gini'}\n",
    "rs_clf_best_params"
   ]
  },
  {
   "cell_type": "markdown",
   "id": "dc767b35",
   "metadata": {},
   "source": [
    "Having ran searches using RandomSearchCV to get baseline parameters, GridSearchCV is used to narrow the tunable parameters for the best parameters.\n",
    "\n",
    "Score with RandomSearch parameters for each model:\n",
    "- CatBoost (score=0.8212290502793296):\n",
    "> - 'subsample': 0.6485771921664951,\n",
    "> - 'learning_rate': 0.08266168342627189,\n",
    "> - 'l2_leaf_reg': 4,\n",
    "> - 'iterations': 200,\n",
    "> - 'depth': 4\n",
    "\n",
    "- RandomForest (score=0.776536312849162):\n",
    "> - 'n_estimators': 150,\n",
    "> - 'min_weight_fraction_leaf': 0.012389209638971067,\n",
    "> - 'min_samples_split': 11,\n",
    "> - 'min_samples_leaf': 5,\n",
    "> - 'max_leaf_nodes': 39,\n",
    "> - 'max_features': 'log2',\n",
    "> - 'max_depth': 7,\n",
    "> - 'criterion': 'gini'"
   ]
  },
  {
   "cell_type": "code",
   "execution_count": null,
   "id": "7b63d881",
   "metadata": {},
   "outputs": [],
   "source": [
    "cat_rs_score = 0.8212290502793296\n",
    "clf_rs_score = 0.776536312849162"
   ]
  },
  {
   "cell_type": "markdown",
   "id": "92a3a944",
   "metadata": {},
   "source": [
    "2. GridSearchCV Tuning"
   ]
  },
  {
   "cell_type": "code",
   "execution_count": 517,
   "id": "94311fd9",
   "metadata": {},
   "outputs": [],
   "source": [
    "# grid parameters for each model using the best parameters for each derived from previous search\n",
    "\n",
    "clf_gs = RandomForestClassifier(random_state=12)\n",
    "cat_gs = cat.CatBoostClassifier(random_state=12)\n",
    "\n",
    "# grid search parameters\n",
    "clf_gs_param = {\n",
    "    'n_estimators':[100,150,200],\n",
    "    'max_depth': [6,7,8],\n",
    "    'min_samples_leaf': [4,5,6],\n",
    "    'min_samples_split': [10,11,12],\n",
    "    'criterion': ['gini'],\n",
    "    'max_features': ['log2'],\n",
    "    'max_leaf_nodes': [37,39,40],\n",
    "    'min_weight_fraction_leaf': [0.012]\n",
    "}\n",
    "\n",
    "# catboost parameters\n",
    "cat_gs_param = {\n",
    "    'iterations': [200],\n",
    "    'learning_rate': [.08],\n",
    "    'depth': [3,4,5],\n",
    "    'l2_leaf_reg': [5,6],\n",
    "    'subsample': [.65],\n",
    "}\n",
    "\n",
    "def g_search(model, param):\n",
    "\n",
    "    # create stratified CV\n",
    "    cv = StratifiedKFold(n_splits=5, shuffle=True, random_state=12)\n",
    "\n",
    "    # create model for g_search\n",
    "    gs_model = GridSearchCV(model,\n",
    "                            param_grid=param,\n",
    "                            cv=cv,\n",
    "                            n_jobs=-1,\n",
    "                            verbose=1,\n",
    "                            scoring='accuracy'\n",
    "                            )\n",
    "    \n",
    "    gs_model.fit(X_train, y_train)\n",
    "    y_preds = gs_model.predict(X_valid)\n",
    "    g_score = accuracy_score(y_valid, y_preds)\n",
    "    g_best_params = gs_model.best_params_\n",
    "\n",
    "    return g_score, f'Best parameters = {g_best_params}'"
   ]
  },
  {
   "cell_type": "code",
   "execution_count": 518,
   "id": "6b62823d",
   "metadata": {},
   "outputs": [
    {
     "name": "stdout",
     "output_type": "stream",
     "text": [
      "Fitting 5 folds for each of 6 candidates, totalling 30 fits\n",
      "0:\tlearn: 0.6402203\ttotal: 3.72ms\tremaining: 740ms\n",
      "1:\tlearn: 0.6166518\ttotal: 5.67ms\tremaining: 562ms\n",
      "2:\tlearn: 0.5773268\ttotal: 9.6ms\tremaining: 630ms\n",
      "3:\tlearn: 0.5498023\ttotal: 12.6ms\tremaining: 617ms\n",
      "4:\tlearn: 0.5245827\ttotal: 16.3ms\tremaining: 637ms\n",
      "5:\tlearn: 0.5077860\ttotal: 18.9ms\tremaining: 610ms\n",
      "6:\tlearn: 0.4892598\ttotal: 21.5ms\tremaining: 592ms\n",
      "7:\tlearn: 0.4786334\ttotal: 23.6ms\tremaining: 565ms\n",
      "8:\tlearn: 0.4653758\ttotal: 26.2ms\tremaining: 555ms\n",
      "9:\tlearn: 0.4497745\ttotal: 28.9ms\tremaining: 550ms\n",
      "10:\tlearn: 0.4390568\ttotal: 32.7ms\tremaining: 562ms\n",
      "11:\tlearn: 0.4337277\ttotal: 35.3ms\tremaining: 554ms\n",
      "12:\tlearn: 0.4253130\ttotal: 37.9ms\tremaining: 546ms\n",
      "13:\tlearn: 0.4168998\ttotal: 40.6ms\tremaining: 540ms\n",
      "14:\tlearn: 0.4103113\ttotal: 43.3ms\tremaining: 534ms\n",
      "15:\tlearn: 0.4039990\ttotal: 46.8ms\tremaining: 539ms\n",
      "16:\tlearn: 0.4028570\ttotal: 48.9ms\tremaining: 526ms\n",
      "17:\tlearn: 0.3980145\ttotal: 51.5ms\tremaining: 520ms\n",
      "18:\tlearn: 0.3923547\ttotal: 54ms\tremaining: 515ms\n",
      "19:\tlearn: 0.3914644\ttotal: 56ms\tremaining: 504ms\n",
      "20:\tlearn: 0.3866761\ttotal: 58.7ms\tremaining: 501ms\n",
      "21:\tlearn: 0.3826555\ttotal: 62.3ms\tremaining: 504ms\n",
      "22:\tlearn: 0.3794194\ttotal: 64.8ms\tremaining: 499ms\n",
      "23:\tlearn: 0.3769938\ttotal: 67.1ms\tremaining: 492ms\n",
      "24:\tlearn: 0.3753601\ttotal: 69.3ms\tremaining: 485ms\n",
      "25:\tlearn: 0.3726278\ttotal: 113ms\tremaining: 757ms\n",
      "26:\tlearn: 0.3704367\ttotal: 142ms\tremaining: 908ms\n",
      "27:\tlearn: 0.3681213\ttotal: 148ms\tremaining: 909ms\n",
      "28:\tlearn: 0.3671544\ttotal: 151ms\tremaining: 892ms\n",
      "29:\tlearn: 0.3655108\ttotal: 155ms\tremaining: 876ms\n",
      "30:\tlearn: 0.3653237\ttotal: 157ms\tremaining: 853ms\n",
      "31:\tlearn: 0.3633233\ttotal: 163ms\tremaining: 858ms\n",
      "32:\tlearn: 0.3605734\ttotal: 167ms\tremaining: 844ms\n",
      "33:\tlearn: 0.3591799\ttotal: 170ms\tremaining: 832ms\n",
      "34:\tlearn: 0.3577644\ttotal: 193ms\tremaining: 909ms\n",
      "35:\tlearn: 0.3559776\ttotal: 196ms\tremaining: 894ms\n",
      "36:\tlearn: 0.3546068\ttotal: 200ms\tremaining: 879ms\n",
      "37:\tlearn: 0.3536944\ttotal: 203ms\tremaining: 865ms\n",
      "38:\tlearn: 0.3522069\ttotal: 208ms\tremaining: 857ms\n",
      "39:\tlearn: 0.3506802\ttotal: 213ms\tremaining: 852ms\n",
      "40:\tlearn: 0.3490341\ttotal: 216ms\tremaining: 839ms\n",
      "41:\tlearn: 0.3481041\ttotal: 220ms\tremaining: 826ms\n",
      "42:\tlearn: 0.3468312\ttotal: 225ms\tremaining: 820ms\n",
      "43:\tlearn: 0.3451165\ttotal: 228ms\tremaining: 809ms\n",
      "44:\tlearn: 0.3437440\ttotal: 252ms\tremaining: 867ms\n",
      "45:\tlearn: 0.3429928\ttotal: 258ms\tremaining: 863ms\n",
      "46:\tlearn: 0.3417502\ttotal: 261ms\tremaining: 849ms\n",
      "47:\tlearn: 0.3397028\ttotal: 264ms\tremaining: 837ms\n",
      "48:\tlearn: 0.3394304\ttotal: 267ms\tremaining: 824ms\n",
      "49:\tlearn: 0.3374162\ttotal: 272ms\tremaining: 817ms\n",
      "50:\tlearn: 0.3364139\ttotal: 276ms\tremaining: 806ms\n",
      "51:\tlearn: 0.3348069\ttotal: 279ms\tremaining: 795ms\n",
      "52:\tlearn: 0.3342651\ttotal: 283ms\tremaining: 784ms\n",
      "53:\tlearn: 0.3332096\ttotal: 313ms\tremaining: 846ms\n",
      "54:\tlearn: 0.3315058\ttotal: 317ms\tremaining: 834ms\n",
      "55:\tlearn: 0.3294398\ttotal: 321ms\tremaining: 825ms\n",
      "56:\tlearn: 0.3286816\ttotal: 324ms\tremaining: 813ms\n",
      "57:\tlearn: 0.3282196\ttotal: 327ms\tremaining: 801ms\n",
      "58:\tlearn: 0.3276479\ttotal: 334ms\tremaining: 797ms\n",
      "59:\tlearn: 0.3274059\ttotal: 341ms\tremaining: 796ms\n",
      "60:\tlearn: 0.3254252\ttotal: 344ms\tremaining: 785ms\n",
      "61:\tlearn: 0.3237860\ttotal: 348ms\tremaining: 774ms\n",
      "62:\tlearn: 0.3236330\ttotal: 352ms\tremaining: 765ms\n",
      "63:\tlearn: 0.3221844\ttotal: 362ms\tremaining: 768ms\n",
      "64:\tlearn: 0.3212950\ttotal: 372ms\tremaining: 772ms\n",
      "65:\tlearn: 0.3210691\ttotal: 377ms\tremaining: 765ms\n",
      "66:\tlearn: 0.3202571\ttotal: 380ms\tremaining: 754ms\n",
      "67:\tlearn: 0.3201150\ttotal: 384ms\tremaining: 746ms\n",
      "68:\tlearn: 0.3185970\ttotal: 388ms\tremaining: 736ms\n",
      "69:\tlearn: 0.3176237\ttotal: 391ms\tremaining: 726ms\n",
      "70:\tlearn: 0.3168930\ttotal: 394ms\tremaining: 717ms\n",
      "71:\tlearn: 0.3165425\ttotal: 397ms\tremaining: 706ms\n",
      "72:\tlearn: 0.3154406\ttotal: 401ms\tremaining: 697ms\n",
      "73:\tlearn: 0.3145121\ttotal: 403ms\tremaining: 687ms\n",
      "74:\tlearn: 0.3143836\ttotal: 405ms\tremaining: 676ms\n",
      "75:\tlearn: 0.3137084\ttotal: 408ms\tremaining: 665ms\n",
      "76:\tlearn: 0.3130023\ttotal: 410ms\tremaining: 655ms\n",
      "77:\tlearn: 0.3112033\ttotal: 416ms\tremaining: 651ms\n",
      "78:\tlearn: 0.3097920\ttotal: 418ms\tremaining: 641ms\n",
      "79:\tlearn: 0.3084179\ttotal: 420ms\tremaining: 631ms\n",
      "80:\tlearn: 0.3072174\ttotal: 423ms\tremaining: 621ms\n",
      "81:\tlearn: 0.3060462\ttotal: 425ms\tremaining: 612ms\n",
      "82:\tlearn: 0.3058242\ttotal: 428ms\tremaining: 603ms\n",
      "83:\tlearn: 0.3056667\ttotal: 431ms\tremaining: 595ms\n",
      "84:\tlearn: 0.3048590\ttotal: 433ms\tremaining: 586ms\n",
      "85:\tlearn: 0.3047595\ttotal: 435ms\tremaining: 577ms\n",
      "86:\tlearn: 0.3040845\ttotal: 438ms\tremaining: 568ms\n",
      "87:\tlearn: 0.3036911\ttotal: 440ms\tremaining: 560ms\n",
      "88:\tlearn: 0.3031825\ttotal: 442ms\tremaining: 551ms\n",
      "89:\tlearn: 0.3021271\ttotal: 445ms\tremaining: 544ms\n",
      "90:\tlearn: 0.3019663\ttotal: 448ms\tremaining: 536ms\n",
      "91:\tlearn: 0.3018117\ttotal: 450ms\tremaining: 528ms\n",
      "92:\tlearn: 0.3006831\ttotal: 452ms\tremaining: 520ms\n",
      "93:\tlearn: 0.3005155\ttotal: 454ms\tremaining: 512ms\n",
      "94:\tlearn: 0.3003230\ttotal: 457ms\tremaining: 505ms\n",
      "95:\tlearn: 0.2979234\ttotal: 459ms\tremaining: 497ms\n",
      "96:\tlearn: 0.2964285\ttotal: 462ms\tremaining: 491ms\n",
      "97:\tlearn: 0.2949572\ttotal: 465ms\tremaining: 484ms\n",
      "98:\tlearn: 0.2943221\ttotal: 467ms\tremaining: 476ms\n",
      "99:\tlearn: 0.2931613\ttotal: 470ms\tremaining: 470ms\n",
      "100:\tlearn: 0.2930318\ttotal: 472ms\tremaining: 463ms\n",
      "101:\tlearn: 0.2915823\ttotal: 474ms\tremaining: 456ms\n",
      "102:\tlearn: 0.2911039\ttotal: 478ms\tremaining: 450ms\n",
      "103:\tlearn: 0.2903672\ttotal: 744ms\tremaining: 687ms\n",
      "104:\tlearn: 0.2902137\ttotal: 747ms\tremaining: 676ms\n",
      "105:\tlearn: 0.2893834\ttotal: 749ms\tremaining: 665ms\n",
      "106:\tlearn: 0.2876214\ttotal: 752ms\tremaining: 653ms\n",
      "107:\tlearn: 0.2861424\ttotal: 754ms\tremaining: 642ms\n",
      "108:\tlearn: 0.2857361\ttotal: 756ms\tremaining: 631ms\n",
      "109:\tlearn: 0.2855769\ttotal: 760ms\tremaining: 621ms\n",
      "110:\tlearn: 0.2844673\ttotal: 762ms\tremaining: 611ms\n",
      "111:\tlearn: 0.2842813\ttotal: 764ms\tremaining: 600ms\n",
      "112:\tlearn: 0.2830929\ttotal: 766ms\tremaining: 590ms\n",
      "113:\tlearn: 0.2825817\ttotal: 768ms\tremaining: 580ms\n",
      "114:\tlearn: 0.2823027\ttotal: 771ms\tremaining: 570ms\n",
      "115:\tlearn: 0.2805916\ttotal: 774ms\tremaining: 561ms\n",
      "116:\tlearn: 0.2797885\ttotal: 777ms\tremaining: 551ms\n",
      "117:\tlearn: 0.2794115\ttotal: 779ms\tremaining: 541ms\n",
      "118:\tlearn: 0.2784057\ttotal: 781ms\tremaining: 532ms\n",
      "119:\tlearn: 0.2782209\ttotal: 783ms\tremaining: 522ms\n",
      "120:\tlearn: 0.2762516\ttotal: 785ms\tremaining: 513ms\n",
      "121:\tlearn: 0.2760164\ttotal: 788ms\tremaining: 504ms\n",
      "122:\tlearn: 0.2750761\ttotal: 791ms\tremaining: 495ms\n",
      "123:\tlearn: 0.2735735\ttotal: 794ms\tremaining: 487ms\n",
      "124:\tlearn: 0.2715277\ttotal: 797ms\tremaining: 478ms\n",
      "125:\tlearn: 0.2708141\ttotal: 800ms\tremaining: 470ms\n",
      "126:\tlearn: 0.2689510\ttotal: 803ms\tremaining: 461ms\n",
      "127:\tlearn: 0.2688063\ttotal: 805ms\tremaining: 453ms\n",
      "128:\tlearn: 0.2676047\ttotal: 810ms\tremaining: 446ms\n",
      "129:\tlearn: 0.2667878\ttotal: 812ms\tremaining: 437ms\n",
      "130:\tlearn: 0.2666755\ttotal: 814ms\tremaining: 429ms\n",
      "131:\tlearn: 0.2657453\ttotal: 816ms\tremaining: 421ms\n",
      "132:\tlearn: 0.2656259\ttotal: 821ms\tremaining: 413ms\n",
      "133:\tlearn: 0.2643783\ttotal: 823ms\tremaining: 405ms\n",
      "134:\tlearn: 0.2634705\ttotal: 825ms\tremaining: 397ms\n",
      "135:\tlearn: 0.2615032\ttotal: 827ms\tremaining: 389ms\n",
      "136:\tlearn: 0.2610131\ttotal: 830ms\tremaining: 381ms\n",
      "137:\tlearn: 0.2599508\ttotal: 832ms\tremaining: 374ms\n",
      "138:\tlearn: 0.2592280\ttotal: 836ms\tremaining: 367ms\n",
      "139:\tlearn: 0.2588654\ttotal: 838ms\tremaining: 359ms\n",
      "140:\tlearn: 0.2576879\ttotal: 840ms\tremaining: 352ms\n",
      "141:\tlearn: 0.2572186\ttotal: 843ms\tremaining: 344ms\n",
      "142:\tlearn: 0.2558805\ttotal: 845ms\tremaining: 337ms\n",
      "143:\tlearn: 0.2555919\ttotal: 847ms\tremaining: 329ms\n",
      "144:\tlearn: 0.2555214\ttotal: 850ms\tremaining: 323ms\n",
      "145:\tlearn: 0.2554533\ttotal: 853ms\tremaining: 315ms\n",
      "146:\tlearn: 0.2538507\ttotal: 855ms\tremaining: 308ms\n",
      "147:\tlearn: 0.2526259\ttotal: 857ms\tremaining: 301ms\n",
      "148:\tlearn: 0.2517759\ttotal: 859ms\tremaining: 294ms\n",
      "149:\tlearn: 0.2508450\ttotal: 862ms\tremaining: 287ms\n",
      "150:\tlearn: 0.2501061\ttotal: 865ms\tremaining: 281ms\n",
      "151:\tlearn: 0.2499433\ttotal: 868ms\tremaining: 274ms\n",
      "152:\tlearn: 0.2487658\ttotal: 870ms\tremaining: 267ms\n",
      "153:\tlearn: 0.2486858\ttotal: 872ms\tremaining: 261ms\n",
      "154:\tlearn: 0.2475750\ttotal: 874ms\tremaining: 254ms\n",
      "155:\tlearn: 0.2463334\ttotal: 877ms\tremaining: 247ms\n",
      "156:\tlearn: 0.2462335\ttotal: 879ms\tremaining: 241ms\n",
      "157:\tlearn: 0.2456599\ttotal: 882ms\tremaining: 234ms\n",
      "158:\tlearn: 0.2447369\ttotal: 884ms\tremaining: 228ms\n",
      "159:\tlearn: 0.2442110\ttotal: 887ms\tremaining: 222ms\n",
      "160:\tlearn: 0.2436241\ttotal: 889ms\tremaining: 215ms\n",
      "161:\tlearn: 0.2432848\ttotal: 891ms\tremaining: 209ms\n",
      "162:\tlearn: 0.2426666\ttotal: 894ms\tremaining: 203ms\n",
      "163:\tlearn: 0.2415371\ttotal: 897ms\tremaining: 197ms\n",
      "164:\tlearn: 0.2408668\ttotal: 899ms\tremaining: 191ms\n",
      "165:\tlearn: 0.2403680\ttotal: 901ms\tremaining: 185ms\n",
      "166:\tlearn: 0.2394338\ttotal: 903ms\tremaining: 179ms\n",
      "167:\tlearn: 0.2382485\ttotal: 906ms\tremaining: 173ms\n",
      "168:\tlearn: 0.2375882\ttotal: 908ms\tremaining: 167ms\n",
      "169:\tlearn: 0.2371236\ttotal: 910ms\tremaining: 161ms\n",
      "170:\tlearn: 0.2364093\ttotal: 914ms\tremaining: 155ms\n",
      "171:\tlearn: 0.2356037\ttotal: 916ms\tremaining: 149ms\n",
      "172:\tlearn: 0.2340793\ttotal: 918ms\tremaining: 143ms\n",
      "173:\tlearn: 0.2335214\ttotal: 920ms\tremaining: 138ms\n",
      "174:\tlearn: 0.2326296\ttotal: 923ms\tremaining: 132ms\n",
      "175:\tlearn: 0.2318836\ttotal: 925ms\tremaining: 126ms\n",
      "176:\tlearn: 0.2313511\ttotal: 928ms\tremaining: 121ms\n",
      "177:\tlearn: 0.2305373\ttotal: 931ms\tremaining: 115ms\n",
      "178:\tlearn: 0.2296036\ttotal: 934ms\tremaining: 110ms\n",
      "179:\tlearn: 0.2287278\ttotal: 939ms\tremaining: 104ms\n",
      "180:\tlearn: 0.2286688\ttotal: 947ms\tremaining: 99.4ms\n",
      "181:\tlearn: 0.2285748\ttotal: 949ms\tremaining: 93.8ms\n",
      "182:\tlearn: 0.2277511\ttotal: 952ms\tremaining: 88.4ms\n",
      "183:\tlearn: 0.2263815\ttotal: 954ms\tremaining: 83ms\n",
      "184:\tlearn: 0.2252810\ttotal: 956ms\tremaining: 77.5ms\n",
      "185:\tlearn: 0.2250150\ttotal: 961ms\tremaining: 72.3ms\n",
      "186:\tlearn: 0.2237847\ttotal: 963ms\tremaining: 66.9ms\n",
      "187:\tlearn: 0.2234046\ttotal: 965ms\tremaining: 61.6ms\n",
      "188:\tlearn: 0.2233277\ttotal: 967ms\tremaining: 56.3ms\n",
      "189:\tlearn: 0.2229729\ttotal: 969ms\tremaining: 51ms\n",
      "190:\tlearn: 0.2223648\ttotal: 972ms\tremaining: 45.8ms\n",
      "191:\tlearn: 0.2215624\ttotal: 975ms\tremaining: 40.6ms\n",
      "192:\tlearn: 0.2213052\ttotal: 978ms\tremaining: 35.5ms\n",
      "193:\tlearn: 0.2210146\ttotal: 980ms\tremaining: 30.3ms\n",
      "194:\tlearn: 0.2207112\ttotal: 982ms\tremaining: 25.2ms\n",
      "195:\tlearn: 0.2205681\ttotal: 984ms\tremaining: 20.1ms\n",
      "196:\tlearn: 0.2201536\ttotal: 986ms\tremaining: 15ms\n",
      "197:\tlearn: 0.2189378\ttotal: 990ms\tremaining: 9.99ms\n",
      "198:\tlearn: 0.2181345\ttotal: 992ms\tremaining: 4.98ms\n",
      "199:\tlearn: 0.2165939\ttotal: 994ms\tremaining: 0us\n"
     ]
    },
    {
     "data": {
      "text/plain": [
       "(0.8156424581005587,\n",
       " \"Best parameters = {'depth': 5, 'iterations': 200, 'l2_leaf_reg': 6, 'learning_rate': 0.08, 'subsample': 0.65}\")"
      ]
     },
     "execution_count": 518,
     "metadata": {},
     "output_type": "execute_result"
    }
   ],
   "source": [
    "# GridSearch for catboost\n",
    "g_search(cat_gs, cat_gs_param)"
   ]
  },
  {
   "cell_type": "code",
   "execution_count": null,
   "id": "1d40db0c",
   "metadata": {},
   "outputs": [],
   "source": [
    "cat_gs_score = 0.8156424581005587\n",
    "cat_gs_best_params = {'depth': 4, 'iterations': 200, 'l2_leaf_reg': 6, 'learning_rate': 0.08, 'subsample': 0.65}"
   ]
  },
  {
   "cell_type": "code",
   "execution_count": 520,
   "id": "24139e5d",
   "metadata": {},
   "outputs": [
    {
     "name": "stdout",
     "output_type": "stream",
     "text": [
      "Fitting 5 folds for each of 243 candidates, totalling 1215 fits\n"
     ]
    },
    {
     "data": {
      "text/plain": [
       "(0.8100558659217877,\n",
       " \"Best parameters = {'criterion': 'gini', 'max_depth': 7, 'max_features': 'log2', 'max_leaf_nodes': 37, 'min_samples_leaf': 5, 'min_samples_split': 11, 'min_weight_fraction_leaf': 0.012, 'n_estimators': 200}\")"
      ]
     },
     "execution_count": 520,
     "metadata": {},
     "output_type": "execute_result"
    }
   ],
   "source": [
    "# GridSearch for RF \n",
    "g_search(clf_gs, clf_gs_param)"
   ]
  },
  {
   "cell_type": "code",
   "execution_count": null,
   "id": "6953530b",
   "metadata": {},
   "outputs": [],
   "source": [
    "clf_gs_score = 0.8100558659217877\n",
    "clf_gs_best_params = {'criterion': 'gini', 'max_depth': 8, 'max_features': 'log2', 'max_leaf_nodes': 37, 'min_samples_leaf': 4, 'min_samples_split': 11, 'min_weight_fraction_leaf': 0.012, 'n_estimators': 100} "
   ]
  },
  {
   "cell_type": "markdown",
   "id": "07fccf03",
   "metadata": {},
   "source": [
    "3. Optuna Parameter Tuning"
   ]
  },
  {
   "cell_type": "code",
   "execution_count": 522,
   "id": "e5076125",
   "metadata": {},
   "outputs": [
    {
     "data": {
      "text/plain": [
       "{'criterion': 'gini',\n",
       " 'max_depth': 8,\n",
       " 'max_features': 'log2',\n",
       " 'max_leaf_nodes': 37,\n",
       " 'min_samples_leaf': 4,\n",
       " 'min_samples_split': 11,\n",
       " 'min_weight_fraction_leaf': 0.012,\n",
       " 'n_estimators': 100}"
      ]
     },
     "execution_count": 522,
     "metadata": {},
     "output_type": "execute_result"
    }
   ],
   "source": [
    "clf_gs_best_params "
   ]
  },
  {
   "cell_type": "code",
   "execution_count": null,
   "id": "eb76dbbc",
   "metadata": {},
   "outputs": [
    {
     "name": "stderr",
     "output_type": "stream",
     "text": [
      "[I 2025-10-02 19:53:33,508] A new study created in memory with name: no-name-26d5cca3-8872-457e-9dd9-6556b467197a\n",
      "[I 2025-10-02 19:53:36,491] Trial 0 finished with value: 0.8173840244262779 and parameters: {'criterion': 'gini', 'max_depth': 8, 'max_features': 'log2', 'max_leaf_nodes': 37, 'min_samples_leaf': 4, 'min_samples_split': 11}. Best is trial 0 with value: 0.8173840244262779.\n",
      "[I 2025-10-02 19:53:38,609] Trial 1 finished with value: 0.8117600709150004 and parameters: {'criterion': 'gini', 'max_depth': 9, 'max_features': 'log2', 'max_leaf_nodes': 37, 'min_samples_leaf': 5, 'min_samples_split': 12}. Best is trial 0 with value: 0.8173840244262779.\n",
      "[I 2025-10-02 19:53:40,387] Trial 2 finished with value: 0.814586821629075 and parameters: {'criterion': 'gini', 'max_depth': 10, 'max_features': 'log2', 'max_leaf_nodes': 38, 'min_samples_leaf': 4, 'min_samples_split': 12}. Best is trial 0 with value: 0.8173840244262779.\n",
      "[I 2025-10-02 19:53:42,439] Trial 3 finished with value: 0.8117600709150006 and parameters: {'criterion': 'gini', 'max_depth': 10, 'max_features': 'log2', 'max_leaf_nodes': 37, 'min_samples_leaf': 5, 'min_samples_split': 12}. Best is trial 0 with value: 0.8173840244262779.\n",
      "[I 2025-10-02 19:53:44,658] Trial 4 finished with value: 0.8117600709150006 and parameters: {'criterion': 'gini', 'max_depth': 10, 'max_features': 'log2', 'max_leaf_nodes': 37, 'min_samples_leaf': 5, 'min_samples_split': 12}. Best is trial 0 with value: 0.8173840244262779.\n",
      "[I 2025-10-02 19:53:46,509] Trial 5 finished with value: 0.8173840244262779 and parameters: {'criterion': 'gini', 'max_depth': 8, 'max_features': 'log2', 'max_leaf_nodes': 37, 'min_samples_leaf': 4, 'min_samples_split': 11}. Best is trial 0 with value: 0.8173840244262779.\n",
      "[I 2025-10-02 19:53:48,341] Trial 6 finished with value: 0.8160051216389244 and parameters: {'criterion': 'gini', 'max_depth': 9, 'max_features': 'log2', 'max_leaf_nodes': 38, 'min_samples_leaf': 4, 'min_samples_split': 12}. Best is trial 0 with value: 0.8173840244262779.\n",
      "[I 2025-10-02 19:53:50,089] Trial 7 finished with value: 0.8117600709150006 and parameters: {'criterion': 'gini', 'max_depth': 10, 'max_features': 'log2', 'max_leaf_nodes': 37, 'min_samples_leaf': 5, 'min_samples_split': 12}. Best is trial 0 with value: 0.8173840244262779.\n",
      "[I 2025-10-02 19:53:51,780] Trial 8 finished with value: 0.8103417709051512 and parameters: {'criterion': 'gini', 'max_depth': 10, 'max_features': 'log2', 'max_leaf_nodes': 38, 'min_samples_leaf': 5, 'min_samples_split': 11}. Best is trial 0 with value: 0.8173840244262779.\n",
      "[I 2025-10-02 19:53:54,494] Trial 9 finished with value: 0.8173840244262779 and parameters: {'criterion': 'gini', 'max_depth': 8, 'max_features': 'log2', 'max_leaf_nodes': 38, 'min_samples_leaf': 4, 'min_samples_split': 11}. Best is trial 0 with value: 0.8173840244262779.\n",
      "[I 2025-10-02 19:53:57,423] Trial 10 finished with value: 0.8173840244262779 and parameters: {'criterion': 'gini', 'max_depth': 8, 'max_features': 'log2', 'max_leaf_nodes': 37, 'min_samples_leaf': 4, 'min_samples_split': 11}. Best is trial 0 with value: 0.8173840244262779.\n",
      "[I 2025-10-02 19:53:59,045] Trial 11 finished with value: 0.8173840244262779 and parameters: {'criterion': 'gini', 'max_depth': 8, 'max_features': 'log2', 'max_leaf_nodes': 37, 'min_samples_leaf': 4, 'min_samples_split': 11}. Best is trial 0 with value: 0.8173840244262779.\n",
      "[I 2025-10-02 19:54:00,688] Trial 12 finished with value: 0.8173840244262779 and parameters: {'criterion': 'gini', 'max_depth': 8, 'max_features': 'log2', 'max_leaf_nodes': 37, 'min_samples_leaf': 4, 'min_samples_split': 11}. Best is trial 0 with value: 0.8173840244262779.\n",
      "[I 2025-10-02 19:54:03,001] Trial 13 finished with value: 0.821589677927706 and parameters: {'criterion': 'gini', 'max_depth': 9, 'max_features': 'log2', 'max_leaf_nodes': 37, 'min_samples_leaf': 4, 'min_samples_split': 11}. Best is trial 13 with value: 0.821589677927706.\n",
      "[I 2025-10-02 19:54:04,543] Trial 14 finished with value: 0.821589677927706 and parameters: {'criterion': 'gini', 'max_depth': 9, 'max_features': 'log2', 'max_leaf_nodes': 37, 'min_samples_leaf': 4, 'min_samples_split': 11}. Best is trial 13 with value: 0.821589677927706.\n",
      "[I 2025-10-02 19:54:06,045] Trial 15 finished with value: 0.821589677927706 and parameters: {'criterion': 'gini', 'max_depth': 9, 'max_features': 'log2', 'max_leaf_nodes': 37, 'min_samples_leaf': 4, 'min_samples_split': 11}. Best is trial 13 with value: 0.821589677927706.\n",
      "[I 2025-10-02 19:54:07,573] Trial 16 finished with value: 0.821589677927706 and parameters: {'criterion': 'gini', 'max_depth': 9, 'max_features': 'log2', 'max_leaf_nodes': 37, 'min_samples_leaf': 4, 'min_samples_split': 11}. Best is trial 13 with value: 0.821589677927706.\n",
      "[I 2025-10-02 19:54:09,309] Trial 17 finished with value: 0.8229981286319313 and parameters: {'criterion': 'gini', 'max_depth': 9, 'max_features': 'log2', 'max_leaf_nodes': 38, 'min_samples_leaf': 4, 'min_samples_split': 11}. Best is trial 17 with value: 0.8229981286319313.\n",
      "[I 2025-10-02 19:54:11,012] Trial 18 finished with value: 0.8229981286319313 and parameters: {'criterion': 'gini', 'max_depth': 9, 'max_features': 'log2', 'max_leaf_nodes': 38, 'min_samples_leaf': 4, 'min_samples_split': 11}. Best is trial 17 with value: 0.8229981286319313.\n",
      "[I 2025-10-02 19:54:12,685] Trial 19 finished with value: 0.8229981286319313 and parameters: {'criterion': 'gini', 'max_depth': 9, 'max_features': 'log2', 'max_leaf_nodes': 38, 'min_samples_leaf': 4, 'min_samples_split': 11}. Best is trial 17 with value: 0.8229981286319313.\n",
      "[I 2025-10-02 19:54:14,286] Trial 20 finished with value: 0.8131488230079779 and parameters: {'criterion': 'gini', 'max_depth': 9, 'max_features': 'log2', 'max_leaf_nodes': 38, 'min_samples_leaf': 5, 'min_samples_split': 11}. Best is trial 17 with value: 0.8229981286319313.\n",
      "[I 2025-10-02 19:54:16,356] Trial 21 finished with value: 0.8229981286319313 and parameters: {'criterion': 'gini', 'max_depth': 9, 'max_features': 'log2', 'max_leaf_nodes': 38, 'min_samples_leaf': 4, 'min_samples_split': 11}. Best is trial 17 with value: 0.8229981286319313.\n",
      "[I 2025-10-02 19:54:17,883] Trial 22 finished with value: 0.8229981286319313 and parameters: {'criterion': 'gini', 'max_depth': 9, 'max_features': 'log2', 'max_leaf_nodes': 38, 'min_samples_leaf': 4, 'min_samples_split': 11}. Best is trial 17 with value: 0.8229981286319313.\n",
      "[I 2025-10-02 19:54:19,459] Trial 23 finished with value: 0.8229981286319313 and parameters: {'criterion': 'gini', 'max_depth': 9, 'max_features': 'log2', 'max_leaf_nodes': 38, 'min_samples_leaf': 4, 'min_samples_split': 11}. Best is trial 17 with value: 0.8229981286319313.\n",
      "[I 2025-10-02 19:54:21,538] Trial 24 finished with value: 0.8229981286319313 and parameters: {'criterion': 'gini', 'max_depth': 9, 'max_features': 'log2', 'max_leaf_nodes': 38, 'min_samples_leaf': 4, 'min_samples_split': 11}. Best is trial 17 with value: 0.8229981286319313.\n",
      "[I 2025-10-02 19:54:23,143] Trial 25 finished with value: 0.8229981286319313 and parameters: {'criterion': 'gini', 'max_depth': 9, 'max_features': 'log2', 'max_leaf_nodes': 38, 'min_samples_leaf': 4, 'min_samples_split': 11}. Best is trial 17 with value: 0.8229981286319313.\n",
      "[I 2025-10-02 19:54:24,801] Trial 26 finished with value: 0.8131685216192258 and parameters: {'criterion': 'gini', 'max_depth': 10, 'max_features': 'log2', 'max_leaf_nodes': 38, 'min_samples_leaf': 4, 'min_samples_split': 11}. Best is trial 17 with value: 0.8229981286319313.\n",
      "[I 2025-10-02 19:54:26,756] Trial 27 finished with value: 0.8229981286319313 and parameters: {'criterion': 'gini', 'max_depth': 9, 'max_features': 'log2', 'max_leaf_nodes': 38, 'min_samples_leaf': 4, 'min_samples_split': 11}. Best is trial 17 with value: 0.8229981286319313.\n",
      "[I 2025-10-02 19:54:28,760] Trial 28 finished with value: 0.8229981286319313 and parameters: {'criterion': 'gini', 'max_depth': 9, 'max_features': 'log2', 'max_leaf_nodes': 38, 'min_samples_leaf': 4, 'min_samples_split': 11}. Best is trial 17 with value: 0.8229981286319313.\n",
      "[I 2025-10-02 19:54:30,953] Trial 29 finished with value: 0.8173840244262779 and parameters: {'criterion': 'gini', 'max_depth': 8, 'max_features': 'log2', 'max_leaf_nodes': 38, 'min_samples_leaf': 4, 'min_samples_split': 11}. Best is trial 17 with value: 0.8229981286319313.\n",
      "[I 2025-10-02 19:54:32,839] Trial 30 finished with value: 0.8229981286319313 and parameters: {'criterion': 'gini', 'max_depth': 9, 'max_features': 'log2', 'max_leaf_nodes': 38, 'min_samples_leaf': 4, 'min_samples_split': 11}. Best is trial 17 with value: 0.8229981286319313.\n",
      "[I 2025-10-02 19:54:34,612] Trial 31 finished with value: 0.8229981286319313 and parameters: {'criterion': 'gini', 'max_depth': 9, 'max_features': 'log2', 'max_leaf_nodes': 38, 'min_samples_leaf': 4, 'min_samples_split': 11}. Best is trial 17 with value: 0.8229981286319313.\n",
      "[I 2025-10-02 19:54:36,188] Trial 32 finished with value: 0.8229981286319313 and parameters: {'criterion': 'gini', 'max_depth': 9, 'max_features': 'log2', 'max_leaf_nodes': 38, 'min_samples_leaf': 4, 'min_samples_split': 11}. Best is trial 17 with value: 0.8229981286319313.\n",
      "[I 2025-10-02 19:54:38,715] Trial 33 finished with value: 0.8229981286319313 and parameters: {'criterion': 'gini', 'max_depth': 9, 'max_features': 'log2', 'max_leaf_nodes': 38, 'min_samples_leaf': 4, 'min_samples_split': 11}. Best is trial 17 with value: 0.8229981286319313.\n",
      "[I 2025-10-02 19:54:40,568] Trial 34 finished with value: 0.8160051216389244 and parameters: {'criterion': 'gini', 'max_depth': 9, 'max_features': 'log2', 'max_leaf_nodes': 38, 'min_samples_leaf': 4, 'min_samples_split': 12}. Best is trial 17 with value: 0.8229981286319313.\n",
      "[I 2025-10-02 19:54:42,236] Trial 35 finished with value: 0.8131488230079779 and parameters: {'criterion': 'gini', 'max_depth': 9, 'max_features': 'log2', 'max_leaf_nodes': 38, 'min_samples_leaf': 5, 'min_samples_split': 11}. Best is trial 17 with value: 0.8229981286319313.\n",
      "[I 2025-10-02 19:54:43,819] Trial 36 finished with value: 0.814586821629075 and parameters: {'criterion': 'gini', 'max_depth': 10, 'max_features': 'log2', 'max_leaf_nodes': 38, 'min_samples_leaf': 4, 'min_samples_split': 12}. Best is trial 17 with value: 0.8229981286319313.\n",
      "[I 2025-10-02 19:54:45,490] Trial 37 finished with value: 0.8131685216192258 and parameters: {'criterion': 'gini', 'max_depth': 10, 'max_features': 'log2', 'max_leaf_nodes': 38, 'min_samples_leaf': 4, 'min_samples_split': 11}. Best is trial 17 with value: 0.8229981286319313.\n",
      "[I 2025-10-02 19:54:47,469] Trial 38 finished with value: 0.8229981286319313 and parameters: {'criterion': 'gini', 'max_depth': 9, 'max_features': 'log2', 'max_leaf_nodes': 38, 'min_samples_leaf': 4, 'min_samples_split': 11}. Best is trial 17 with value: 0.8229981286319313.\n",
      "[I 2025-10-02 19:54:48,922] Trial 39 finished with value: 0.8131685216192259 and parameters: {'criterion': 'gini', 'max_depth': 8, 'max_features': 'log2', 'max_leaf_nodes': 38, 'min_samples_leaf': 5, 'min_samples_split': 12}. Best is trial 17 with value: 0.8229981286319313.\n"
     ]
    },
    {
     "name": "stdout",
     "output_type": "stream",
     "text": [
      "Accuracy for RF = 0.8229981286319313, \n",
      " Best parameters = {'criterion': 'gini', 'max_depth': 9, 'max_features': 'log2', 'max_leaf_nodes': 38, 'min_samples_leaf': 4, 'min_samples_split': 11}\n"
     ]
    },
    {
     "data": {
      "application/vnd.plotly.v1+json": {
       "config": {
        "plotlyServerURL": "https://plot.ly"
       },
       "data": [
        {
         "mode": "markers",
         "name": "Objective Value",
         "type": "scatter",
         "x": [
          0,
          1,
          2,
          3,
          4,
          5,
          6,
          7,
          8,
          9,
          10,
          11,
          12,
          13,
          14,
          15,
          16,
          17,
          18,
          19,
          20,
          21,
          22,
          23,
          24,
          25,
          26,
          27,
          28,
          29,
          30,
          31,
          32,
          33,
          34,
          35,
          36,
          37,
          38,
          39
         ],
         "y": [
          0.8173840244262779,
          0.8117600709150004,
          0.814586821629075,
          0.8117600709150006,
          0.8117600709150006,
          0.8173840244262779,
          0.8160051216389244,
          0.8117600709150006,
          0.8103417709051512,
          0.8173840244262779,
          0.8173840244262779,
          0.8173840244262779,
          0.8173840244262779,
          0.821589677927706,
          0.821589677927706,
          0.821589677927706,
          0.821589677927706,
          0.8229981286319313,
          0.8229981286319313,
          0.8229981286319313,
          0.8131488230079779,
          0.8229981286319313,
          0.8229981286319313,
          0.8229981286319313,
          0.8229981286319313,
          0.8229981286319313,
          0.8131685216192258,
          0.8229981286319313,
          0.8229981286319313,
          0.8173840244262779,
          0.8229981286319313,
          0.8229981286319313,
          0.8229981286319313,
          0.8229981286319313,
          0.8160051216389244,
          0.8131488230079779,
          0.814586821629075,
          0.8131685216192258,
          0.8229981286319313,
          0.8131685216192259
         ]
        },
        {
         "mode": "lines",
         "name": "Best Value",
         "type": "scatter",
         "x": [
          0,
          1,
          2,
          3,
          4,
          5,
          6,
          7,
          8,
          9,
          10,
          11,
          12,
          13,
          14,
          15,
          16,
          17,
          18,
          19,
          20,
          21,
          22,
          23,
          24,
          25,
          26,
          27,
          28,
          29,
          30,
          31,
          32,
          33,
          34,
          35,
          36,
          37,
          38,
          39
         ],
         "y": [
          0.8173840244262779,
          0.8173840244262779,
          0.8173840244262779,
          0.8173840244262779,
          0.8173840244262779,
          0.8173840244262779,
          0.8173840244262779,
          0.8173840244262779,
          0.8173840244262779,
          0.8173840244262779,
          0.8173840244262779,
          0.8173840244262779,
          0.8173840244262779,
          0.821589677927706,
          0.821589677927706,
          0.821589677927706,
          0.821589677927706,
          0.8229981286319313,
          0.8229981286319313,
          0.8229981286319313,
          0.8229981286319313,
          0.8229981286319313,
          0.8229981286319313,
          0.8229981286319313,
          0.8229981286319313,
          0.8229981286319313,
          0.8229981286319313,
          0.8229981286319313,
          0.8229981286319313,
          0.8229981286319313,
          0.8229981286319313,
          0.8229981286319313,
          0.8229981286319313,
          0.8229981286319313,
          0.8229981286319313,
          0.8229981286319313,
          0.8229981286319313,
          0.8229981286319313,
          0.8229981286319313,
          0.8229981286319313
         ]
        },
        {
         "marker": {
          "color": "#cccccc"
         },
         "mode": "markers",
         "name": "Infeasible Trial",
         "showlegend": false,
         "type": "scatter",
         "x": [],
         "y": []
        }
       ],
       "layout": {
        "template": {
         "data": {
          "bar": [
           {
            "error_x": {
             "color": "#2a3f5f"
            },
            "error_y": {
             "color": "#2a3f5f"
            },
            "marker": {
             "line": {
              "color": "#E5ECF6",
              "width": 0.5
             },
             "pattern": {
              "fillmode": "overlay",
              "size": 10,
              "solidity": 0.2
             }
            },
            "type": "bar"
           }
          ],
          "barpolar": [
           {
            "marker": {
             "line": {
              "color": "#E5ECF6",
              "width": 0.5
             },
             "pattern": {
              "fillmode": "overlay",
              "size": 10,
              "solidity": 0.2
             }
            },
            "type": "barpolar"
           }
          ],
          "carpet": [
           {
            "aaxis": {
             "endlinecolor": "#2a3f5f",
             "gridcolor": "white",
             "linecolor": "white",
             "minorgridcolor": "white",
             "startlinecolor": "#2a3f5f"
            },
            "baxis": {
             "endlinecolor": "#2a3f5f",
             "gridcolor": "white",
             "linecolor": "white",
             "minorgridcolor": "white",
             "startlinecolor": "#2a3f5f"
            },
            "type": "carpet"
           }
          ],
          "choropleth": [
           {
            "colorbar": {
             "outlinewidth": 0,
             "ticks": ""
            },
            "type": "choropleth"
           }
          ],
          "contour": [
           {
            "colorbar": {
             "outlinewidth": 0,
             "ticks": ""
            },
            "colorscale": [
             [
              0,
              "#0d0887"
             ],
             [
              0.1111111111111111,
              "#46039f"
             ],
             [
              0.2222222222222222,
              "#7201a8"
             ],
             [
              0.3333333333333333,
              "#9c179e"
             ],
             [
              0.4444444444444444,
              "#bd3786"
             ],
             [
              0.5555555555555556,
              "#d8576b"
             ],
             [
              0.6666666666666666,
              "#ed7953"
             ],
             [
              0.7777777777777778,
              "#fb9f3a"
             ],
             [
              0.8888888888888888,
              "#fdca26"
             ],
             [
              1,
              "#f0f921"
             ]
            ],
            "type": "contour"
           }
          ],
          "contourcarpet": [
           {
            "colorbar": {
             "outlinewidth": 0,
             "ticks": ""
            },
            "type": "contourcarpet"
           }
          ],
          "heatmap": [
           {
            "colorbar": {
             "outlinewidth": 0,
             "ticks": ""
            },
            "colorscale": [
             [
              0,
              "#0d0887"
             ],
             [
              0.1111111111111111,
              "#46039f"
             ],
             [
              0.2222222222222222,
              "#7201a8"
             ],
             [
              0.3333333333333333,
              "#9c179e"
             ],
             [
              0.4444444444444444,
              "#bd3786"
             ],
             [
              0.5555555555555556,
              "#d8576b"
             ],
             [
              0.6666666666666666,
              "#ed7953"
             ],
             [
              0.7777777777777778,
              "#fb9f3a"
             ],
             [
              0.8888888888888888,
              "#fdca26"
             ],
             [
              1,
              "#f0f921"
             ]
            ],
            "type": "heatmap"
           }
          ],
          "histogram": [
           {
            "marker": {
             "pattern": {
              "fillmode": "overlay",
              "size": 10,
              "solidity": 0.2
             }
            },
            "type": "histogram"
           }
          ],
          "histogram2d": [
           {
            "colorbar": {
             "outlinewidth": 0,
             "ticks": ""
            },
            "colorscale": [
             [
              0,
              "#0d0887"
             ],
             [
              0.1111111111111111,
              "#46039f"
             ],
             [
              0.2222222222222222,
              "#7201a8"
             ],
             [
              0.3333333333333333,
              "#9c179e"
             ],
             [
              0.4444444444444444,
              "#bd3786"
             ],
             [
              0.5555555555555556,
              "#d8576b"
             ],
             [
              0.6666666666666666,
              "#ed7953"
             ],
             [
              0.7777777777777778,
              "#fb9f3a"
             ],
             [
              0.8888888888888888,
              "#fdca26"
             ],
             [
              1,
              "#f0f921"
             ]
            ],
            "type": "histogram2d"
           }
          ],
          "histogram2dcontour": [
           {
            "colorbar": {
             "outlinewidth": 0,
             "ticks": ""
            },
            "colorscale": [
             [
              0,
              "#0d0887"
             ],
             [
              0.1111111111111111,
              "#46039f"
             ],
             [
              0.2222222222222222,
              "#7201a8"
             ],
             [
              0.3333333333333333,
              "#9c179e"
             ],
             [
              0.4444444444444444,
              "#bd3786"
             ],
             [
              0.5555555555555556,
              "#d8576b"
             ],
             [
              0.6666666666666666,
              "#ed7953"
             ],
             [
              0.7777777777777778,
              "#fb9f3a"
             ],
             [
              0.8888888888888888,
              "#fdca26"
             ],
             [
              1,
              "#f0f921"
             ]
            ],
            "type": "histogram2dcontour"
           }
          ],
          "mesh3d": [
           {
            "colorbar": {
             "outlinewidth": 0,
             "ticks": ""
            },
            "type": "mesh3d"
           }
          ],
          "parcoords": [
           {
            "line": {
             "colorbar": {
              "outlinewidth": 0,
              "ticks": ""
             }
            },
            "type": "parcoords"
           }
          ],
          "pie": [
           {
            "automargin": true,
            "type": "pie"
           }
          ],
          "scatter": [
           {
            "fillpattern": {
             "fillmode": "overlay",
             "size": 10,
             "solidity": 0.2
            },
            "type": "scatter"
           }
          ],
          "scatter3d": [
           {
            "line": {
             "colorbar": {
              "outlinewidth": 0,
              "ticks": ""
             }
            },
            "marker": {
             "colorbar": {
              "outlinewidth": 0,
              "ticks": ""
             }
            },
            "type": "scatter3d"
           }
          ],
          "scattercarpet": [
           {
            "marker": {
             "colorbar": {
              "outlinewidth": 0,
              "ticks": ""
             }
            },
            "type": "scattercarpet"
           }
          ],
          "scattergeo": [
           {
            "marker": {
             "colorbar": {
              "outlinewidth": 0,
              "ticks": ""
             }
            },
            "type": "scattergeo"
           }
          ],
          "scattergl": [
           {
            "marker": {
             "colorbar": {
              "outlinewidth": 0,
              "ticks": ""
             }
            },
            "type": "scattergl"
           }
          ],
          "scattermap": [
           {
            "marker": {
             "colorbar": {
              "outlinewidth": 0,
              "ticks": ""
             }
            },
            "type": "scattermap"
           }
          ],
          "scattermapbox": [
           {
            "marker": {
             "colorbar": {
              "outlinewidth": 0,
              "ticks": ""
             }
            },
            "type": "scattermapbox"
           }
          ],
          "scatterpolar": [
           {
            "marker": {
             "colorbar": {
              "outlinewidth": 0,
              "ticks": ""
             }
            },
            "type": "scatterpolar"
           }
          ],
          "scatterpolargl": [
           {
            "marker": {
             "colorbar": {
              "outlinewidth": 0,
              "ticks": ""
             }
            },
            "type": "scatterpolargl"
           }
          ],
          "scatterternary": [
           {
            "marker": {
             "colorbar": {
              "outlinewidth": 0,
              "ticks": ""
             }
            },
            "type": "scatterternary"
           }
          ],
          "surface": [
           {
            "colorbar": {
             "outlinewidth": 0,
             "ticks": ""
            },
            "colorscale": [
             [
              0,
              "#0d0887"
             ],
             [
              0.1111111111111111,
              "#46039f"
             ],
             [
              0.2222222222222222,
              "#7201a8"
             ],
             [
              0.3333333333333333,
              "#9c179e"
             ],
             [
              0.4444444444444444,
              "#bd3786"
             ],
             [
              0.5555555555555556,
              "#d8576b"
             ],
             [
              0.6666666666666666,
              "#ed7953"
             ],
             [
              0.7777777777777778,
              "#fb9f3a"
             ],
             [
              0.8888888888888888,
              "#fdca26"
             ],
             [
              1,
              "#f0f921"
             ]
            ],
            "type": "surface"
           }
          ],
          "table": [
           {
            "cells": {
             "fill": {
              "color": "#EBF0F8"
             },
             "line": {
              "color": "white"
             }
            },
            "header": {
             "fill": {
              "color": "#C8D4E3"
             },
             "line": {
              "color": "white"
             }
            },
            "type": "table"
           }
          ]
         },
         "layout": {
          "annotationdefaults": {
           "arrowcolor": "#2a3f5f",
           "arrowhead": 0,
           "arrowwidth": 1
          },
          "autotypenumbers": "strict",
          "coloraxis": {
           "colorbar": {
            "outlinewidth": 0,
            "ticks": ""
           }
          },
          "colorscale": {
           "diverging": [
            [
             0,
             "#8e0152"
            ],
            [
             0.1,
             "#c51b7d"
            ],
            [
             0.2,
             "#de77ae"
            ],
            [
             0.3,
             "#f1b6da"
            ],
            [
             0.4,
             "#fde0ef"
            ],
            [
             0.5,
             "#f7f7f7"
            ],
            [
             0.6,
             "#e6f5d0"
            ],
            [
             0.7,
             "#b8e186"
            ],
            [
             0.8,
             "#7fbc41"
            ],
            [
             0.9,
             "#4d9221"
            ],
            [
             1,
             "#276419"
            ]
           ],
           "sequential": [
            [
             0,
             "#0d0887"
            ],
            [
             0.1111111111111111,
             "#46039f"
            ],
            [
             0.2222222222222222,
             "#7201a8"
            ],
            [
             0.3333333333333333,
             "#9c179e"
            ],
            [
             0.4444444444444444,
             "#bd3786"
            ],
            [
             0.5555555555555556,
             "#d8576b"
            ],
            [
             0.6666666666666666,
             "#ed7953"
            ],
            [
             0.7777777777777778,
             "#fb9f3a"
            ],
            [
             0.8888888888888888,
             "#fdca26"
            ],
            [
             1,
             "#f0f921"
            ]
           ],
           "sequentialminus": [
            [
             0,
             "#0d0887"
            ],
            [
             0.1111111111111111,
             "#46039f"
            ],
            [
             0.2222222222222222,
             "#7201a8"
            ],
            [
             0.3333333333333333,
             "#9c179e"
            ],
            [
             0.4444444444444444,
             "#bd3786"
            ],
            [
             0.5555555555555556,
             "#d8576b"
            ],
            [
             0.6666666666666666,
             "#ed7953"
            ],
            [
             0.7777777777777778,
             "#fb9f3a"
            ],
            [
             0.8888888888888888,
             "#fdca26"
            ],
            [
             1,
             "#f0f921"
            ]
           ]
          },
          "colorway": [
           "#636efa",
           "#EF553B",
           "#00cc96",
           "#ab63fa",
           "#FFA15A",
           "#19d3f3",
           "#FF6692",
           "#B6E880",
           "#FF97FF",
           "#FECB52"
          ],
          "font": {
           "color": "#2a3f5f"
          },
          "geo": {
           "bgcolor": "white",
           "lakecolor": "white",
           "landcolor": "#E5ECF6",
           "showlakes": true,
           "showland": true,
           "subunitcolor": "white"
          },
          "hoverlabel": {
           "align": "left"
          },
          "hovermode": "closest",
          "mapbox": {
           "style": "light"
          },
          "paper_bgcolor": "white",
          "plot_bgcolor": "#E5ECF6",
          "polar": {
           "angularaxis": {
            "gridcolor": "white",
            "linecolor": "white",
            "ticks": ""
           },
           "bgcolor": "#E5ECF6",
           "radialaxis": {
            "gridcolor": "white",
            "linecolor": "white",
            "ticks": ""
           }
          },
          "scene": {
           "xaxis": {
            "backgroundcolor": "#E5ECF6",
            "gridcolor": "white",
            "gridwidth": 2,
            "linecolor": "white",
            "showbackground": true,
            "ticks": "",
            "zerolinecolor": "white"
           },
           "yaxis": {
            "backgroundcolor": "#E5ECF6",
            "gridcolor": "white",
            "gridwidth": 2,
            "linecolor": "white",
            "showbackground": true,
            "ticks": "",
            "zerolinecolor": "white"
           },
           "zaxis": {
            "backgroundcolor": "#E5ECF6",
            "gridcolor": "white",
            "gridwidth": 2,
            "linecolor": "white",
            "showbackground": true,
            "ticks": "",
            "zerolinecolor": "white"
           }
          },
          "shapedefaults": {
           "line": {
            "color": "#2a3f5f"
           }
          },
          "ternary": {
           "aaxis": {
            "gridcolor": "white",
            "linecolor": "white",
            "ticks": ""
           },
           "baxis": {
            "gridcolor": "white",
            "linecolor": "white",
            "ticks": ""
           },
           "bgcolor": "#E5ECF6",
           "caxis": {
            "gridcolor": "white",
            "linecolor": "white",
            "ticks": ""
           }
          },
          "title": {
           "x": 0.05
          },
          "xaxis": {
           "automargin": true,
           "gridcolor": "white",
           "linecolor": "white",
           "ticks": "",
           "title": {
            "standoff": 15
           },
           "zerolinecolor": "white",
           "zerolinewidth": 2
          },
          "yaxis": {
           "automargin": true,
           "gridcolor": "white",
           "linecolor": "white",
           "ticks": "",
           "title": {
            "standoff": 15
           },
           "zerolinecolor": "white",
           "zerolinewidth": 2
          }
         }
        },
        "title": {
         "text": "Optimization History Plot"
        },
        "xaxis": {
         "title": {
          "text": "Trial"
         }
        },
        "yaxis": {
         "title": {
          "text": "Objective Value"
         }
        }
       }
      }
     },
     "metadata": {},
     "output_type": "display_data"
    }
   ],
   "source": [
    "# Optuna tuning for RandomizedSearch\n",
    "def objectives(trial):\n",
    "    r_params = {\n",
    "        'n_estimators': trial.suggest_int('n_estimators', 200,500),\n",
    "        'criterion':trial.suggest_categorical('criterion',['gini']),\n",
    "        'max_depth':trial.suggest_int('max_depth', 8,10),\n",
    "        'max_features':trial.suggest_categorical('max_features', ['log2']),\n",
    "        'max_leaf_nodes':trial.suggest_int('max_leaf_nodes',37,38), # 37 default\n",
    "        'min_samples_leaf':trial.suggest_int('min_samples_leaf',4,5), # 4 default\n",
    "        'min_samples_split':trial.suggest_int('min_samples_split',11,12)# 11 default)\n",
    "    }\n",
    "\n",
    "    # instantiate model \n",
    "    clf_opt = RandomForestClassifier(**r_params, random_state=12, min_weight_fraction_leaf=0.012) \n",
    "\n",
    "    cv = StratifiedKFold(n_splits=5, shuffle=True, random_state=12)\n",
    "\n",
    "    # score \n",
    "    score = cross_val_score(clf_opt,\n",
    "                            X_train,\n",
    "                            y_train,\n",
    "                            cv=cv,\n",
    "                            scoring='accuracy'\n",
    "                            ).mean()\n",
    "    \n",
    "    return score\n",
    "\n",
    "# create study\n",
    "study = opt.create_study(direction='maximize')\n",
    "\n",
    "# optimize study\n",
    "study.optimize(objectives, n_trials=40)\n",
    "\n",
    "# return metrics \n",
    "clf_opt_score = study.best_value\n",
    "clf_opt_params = study.best_params\n",
    "\n",
    "print(f'Accuracy for RF = {clf_opt_score}, \\n Best parameters = {clf_opt_params}')\n",
    "\n",
    "opt.visualization.plot_optimization_history(study).show()\n"
   ]
  },
  {
   "cell_type": "code",
   "execution_count": 588,
   "id": "1786a89f",
   "metadata": {},
   "outputs": [
    {
     "data": {
      "text/plain": [
       "{'criterion': 'gini',\n",
       " 'max_depth': 9,\n",
       " 'max_features': 'log2',\n",
       " 'max_leaf_nodes': 38,\n",
       " 'min_samples_leaf': 4,\n",
       " 'min_samples_split': 11}"
      ]
     },
     "execution_count": 588,
     "metadata": {},
     "output_type": "execute_result"
    }
   ],
   "source": [
    "clf_opt_params"
   ]
  },
  {
   "cell_type": "markdown",
   "id": "1d3d64e6",
   "metadata": {},
   "source": [
    "From the plots, it can be seen that after 20 trials, the objective value doesn't seem to increase further, so no need to increase trials."
   ]
  },
  {
   "cell_type": "code",
   "execution_count": 581,
   "id": "617bbf13",
   "metadata": {},
   "outputs": [
    {
     "name": "stderr",
     "output_type": "stream",
     "text": [
      "[I 2025-10-02 20:30:27,923] A new study created in memory with name: no-name-ffaa8299-180e-4c2c-944b-c2355dbf5cdd\n",
      "[I 2025-10-02 20:30:49,038] Trial 0 finished with value: 0.8356741849699596 and parameters: {'depth': 7, 'iterations': 462, 'l2_leaf_reg': 6, 'learning_rate': 0.03214407337301158}. Best is trial 0 with value: 0.8356741849699596.\n",
      "[I 2025-10-02 20:31:13,072] Trial 1 finished with value: 0.8427164384910864 and parameters: {'depth': 5, 'iterations': 894, 'l2_leaf_reg': 6, 'learning_rate': 0.05343366827437811}. Best is trial 1 with value: 0.8427164384910864.\n",
      "[I 2025-10-02 20:31:42,586] Trial 2 finished with value: 0.8483403920023639 and parameters: {'depth': 6, 'iterations': 945, 'l2_leaf_reg': 7, 'learning_rate': 0.0332568608790467}. Best is trial 2 with value: 0.8483403920023639.\n",
      "[I 2025-10-02 20:32:01,323] Trial 3 finished with value: 0.8399093863882596 and parameters: {'depth': 7, 'iterations': 491, 'l2_leaf_reg': 6, 'learning_rate': 0.04281418031866742}. Best is trial 2 with value: 0.8483403920023639.\n",
      "[I 2025-10-02 20:32:12,221] Trial 4 finished with value: 0.844055944055944 and parameters: {'depth': 4, 'iterations': 213, 'l2_leaf_reg': 6, 'learning_rate': 0.03116581386457727}. Best is trial 2 with value: 0.8483403920023639.\n",
      "[I 2025-10-02 20:33:37,763] Trial 5 finished with value: 0.8118093174431203 and parameters: {'depth': 10, 'iterations': 785, 'l2_leaf_reg': 7, 'learning_rate': 0.0674865567662128}. Best is trial 2 with value: 0.8483403920023639.\n",
      "[I 2025-10-02 20:33:46,202] Trial 6 finished with value: 0.8398995370826355 and parameters: {'depth': 5, 'iterations': 271, 'l2_leaf_reg': 7, 'learning_rate': 0.05631218565804019}. Best is trial 2 with value: 0.8483403920023639.\n",
      "[I 2025-10-02 20:34:34,034] Trial 7 finished with value: 0.8258347286516301 and parameters: {'depth': 10, 'iterations': 461, 'l2_leaf_reg': 7, 'learning_rate': 0.06842869076694783}. Best is trial 2 with value: 0.8483403920023639.\n",
      "[I 2025-10-02 20:34:47,602] Trial 8 finished with value: 0.8469417906037624 and parameters: {'depth': 5, 'iterations': 523, 'l2_leaf_reg': 7, 'learning_rate': 0.040854443999026026}. Best is trial 2 with value: 0.8483403920023639.\n",
      "[I 2025-10-02 20:35:28,517] Trial 9 finished with value: 0.8328769821727569 and parameters: {'depth': 9, 'iterations': 603, 'l2_leaf_reg': 6, 'learning_rate': 0.04860278373587423}. Best is trial 2 with value: 0.8483403920023639.\n",
      "[I 2025-10-02 20:36:06,434] Trial 10 finished with value: 0.830089628681178 and parameters: {'depth': 8, 'iterations': 994, 'l2_leaf_reg': 7, 'learning_rate': 0.03678500975048334}. Best is trial 2 with value: 0.8483403920023639.\n",
      "[I 2025-10-02 20:36:23,180] Trial 11 finished with value: 0.8455234905939133 and parameters: {'depth': 6, 'iterations': 690, 'l2_leaf_reg': 7, 'learning_rate': 0.03882017907056196}. Best is trial 2 with value: 0.8483403920023639.\n",
      "[I 2025-10-02 20:36:38,600] Trial 12 finished with value: 0.852555894809416 and parameters: {'depth': 4, 'iterations': 768, 'l2_leaf_reg': 7, 'learning_rate': 0.03913966477757499}. Best is trial 12 with value: 0.852555894809416.\n",
      "[I 2025-10-02 20:36:54,771] Trial 13 finished with value: 0.8511572934108145 and parameters: {'depth': 4, 'iterations': 831, 'l2_leaf_reg': 7, 'learning_rate': 0.03463797076143612}. Best is trial 12 with value: 0.852555894809416.\n",
      "[I 2025-10-02 20:37:09,411] Trial 14 finished with value: 0.8511474441051906 and parameters: {'depth': 4, 'iterations': 798, 'l2_leaf_reg': 7, 'learning_rate': 0.04580837290860342}. Best is trial 12 with value: 0.852555894809416.\n",
      "[I 2025-10-02 20:37:24,321] Trial 15 finished with value: 0.8525460455037919 and parameters: {'depth': 4, 'iterations': 822, 'l2_leaf_reg': 7, 'learning_rate': 0.03457680884947833}. Best is trial 12 with value: 0.852555894809416.\n",
      "[I 2025-10-02 20:37:40,549] Trial 16 finished with value: 0.8455234905939131 and parameters: {'depth': 6, 'iterations': 679, 'l2_leaf_reg': 7, 'learning_rate': 0.03814128354930596}. Best is trial 12 with value: 0.852555894809416.\n",
      "[I 2025-10-02 20:37:53,295] Trial 17 finished with value: 0.8483502413079878 and parameters: {'depth': 4, 'iterations': 711, 'l2_leaf_reg': 7, 'learning_rate': 0.07829150090467175}. Best is trial 12 with value: 0.852555894809416.\n",
      "[I 2025-10-02 20:38:10,230] Trial 18 finished with value: 0.8441248891953117 and parameters: {'depth': 5, 'iterations': 892, 'l2_leaf_reg': 7, 'learning_rate': 0.04388539338406988}. Best is trial 12 with value: 0.852555894809416.\n",
      "[I 2025-10-02 20:38:31,091] Trial 19 finished with value: 0.8426967398798386 and parameters: {'depth': 7, 'iterations': 593, 'l2_leaf_reg': 7, 'learning_rate': 0.03526679765433537}. Best is trial 12 with value: 0.852555894809416.\n",
      "[I 2025-10-02 20:38:44,813] Trial 20 finished with value: 0.8399093863882596 and parameters: {'depth': 8, 'iterations': 346, 'l2_leaf_reg': 6, 'learning_rate': 0.053626579124464745}. Best is trial 12 with value: 0.852555894809416.\n",
      "[I 2025-10-02 20:38:59,153] Trial 21 finished with value: 0.8483502413079878 and parameters: {'depth': 4, 'iterations': 836, 'l2_leaf_reg': 7, 'learning_rate': 0.030196129041237276}. Best is trial 12 with value: 0.852555894809416.\n",
      "[I 2025-10-02 20:39:12,723] Trial 22 finished with value: 0.852555894809416 and parameters: {'depth': 4, 'iterations': 772, 'l2_leaf_reg': 7, 'learning_rate': 0.03438645799742088}. Best is trial 12 with value: 0.852555894809416.\n",
      "[I 2025-10-02 20:39:29,005] Trial 23 finished with value: 0.8525460455037919 and parameters: {'depth': 5, 'iterations': 760, 'l2_leaf_reg': 7, 'learning_rate': 0.039668165051926586}. Best is trial 12 with value: 0.852555894809416.\n",
      "[I 2025-10-02 20:39:42,111] Trial 24 finished with value: 0.8525657441150398 and parameters: {'depth': 4, 'iterations': 628, 'l2_leaf_reg': 7, 'learning_rate': 0.03520159928468939}. Best is trial 24 with value: 0.8525657441150398.\n",
      "[I 2025-10-02 20:39:57,307] Trial 25 finished with value: 0.8427262877967102 and parameters: {'depth': 5, 'iterations': 627, 'l2_leaf_reg': 7, 'learning_rate': 0.037248174721880696}. Best is trial 24 with value: 0.8525657441150398.\n",
      "[I 2025-10-02 20:40:11,182] Trial 26 finished with value: 0.8497488427065892 and parameters: {'depth': 6, 'iterations': 542, 'l2_leaf_reg': 7, 'learning_rate': 0.030004091492772115}. Best is trial 24 with value: 0.8525657441150398.\n",
      "[I 2025-10-02 20:40:24,252] Trial 27 finished with value: 0.8455234905939133 and parameters: {'depth': 4, 'iterations': 719, 'l2_leaf_reg': 7, 'learning_rate': 0.0414804173391354}. Best is trial 24 with value: 0.8525657441150398.\n",
      "[I 2025-10-02 20:40:36,929] Trial 28 finished with value: 0.8469417906037624 and parameters: {'depth': 5, 'iterations': 646, 'l2_leaf_reg': 7, 'learning_rate': 0.032775814232243704}. Best is trial 24 with value: 0.8525657441150398.\n",
      "[I 2025-10-02 20:41:00,562] Trial 29 finished with value: 0.8328868314783808 and parameters: {'depth': 8, 'iterations': 755, 'l2_leaf_reg': 6, 'learning_rate': 0.0465040686285651}. Best is trial 24 with value: 0.8525657441150398.\n",
      "[I 2025-10-02 20:41:17,346] Trial 30 finished with value: 0.8469516399093864 and parameters: {'depth': 6, 'iterations': 890, 'l2_leaf_reg': 7, 'learning_rate': 0.03280009328345359}. Best is trial 24 with value: 0.8525657441150398.\n",
      "[I 2025-10-02 20:41:28,973] Trial 31 finished with value: 0.8455333398995372 and parameters: {'depth': 4, 'iterations': 836, 'l2_leaf_reg': 7, 'learning_rate': 0.035519885762993225}. Best is trial 24 with value: 0.8525657441150398.\n",
      "[I 2025-10-02 20:41:35,570] Trial 32 finished with value: 0.84833054269674 and parameters: {'depth': 4, 'iterations': 430, 'l2_leaf_reg': 7, 'learning_rate': 0.03480555147440535}. Best is trial 24 with value: 0.8525657441150398.\n",
      "[I 2025-10-02 20:41:50,405] Trial 33 finished with value: 0.8483305426967398 and parameters: {'depth': 5, 'iterations': 936, 'l2_leaf_reg': 7, 'learning_rate': 0.03283745665816887}. Best is trial 24 with value: 0.8525657441150398.\n",
      "[I 2025-10-02 20:42:00,985] Trial 34 finished with value: 0.8497685413178372 and parameters: {'depth': 4, 'iterations': 747, 'l2_leaf_reg': 7, 'learning_rate': 0.03670593889775798}. Best is trial 24 with value: 0.8525657441150398.\n",
      "[I 2025-10-02 20:42:08,954] Trial 35 finished with value: 0.8483403920023639 and parameters: {'depth': 4, 'iterations': 565, 'l2_leaf_reg': 6, 'learning_rate': 0.03159333035456788}. Best is trial 24 with value: 0.8525657441150398.\n",
      "[I 2025-10-02 20:42:19,466] Trial 36 finished with value: 0.8469417906037624 and parameters: {'depth': 5, 'iterations': 653, 'l2_leaf_reg': 7, 'learning_rate': 0.04337870203533547}. Best is trial 24 with value: 0.8525657441150398.\n",
      "[I 2025-10-02 20:42:31,755] Trial 37 finished with value: 0.8511572934108145 and parameters: {'depth': 4, 'iterations': 871, 'l2_leaf_reg': 7, 'learning_rate': 0.033982424729047694}. Best is trial 24 with value: 0.8525657441150398.\n",
      "[I 2025-10-02 20:42:47,352] Trial 38 finished with value: 0.8455234905939133 and parameters: {'depth': 5, 'iterations': 955, 'l2_leaf_reg': 7, 'learning_rate': 0.039358687981832265}. Best is trial 24 with value: 0.8525657441150398.\n",
      "[I 2025-10-02 20:43:05,343] Trial 39 finished with value: 0.8398896877770117 and parameters: {'depth': 7, 'iterations': 782, 'l2_leaf_reg': 6, 'learning_rate': 0.05832788589267101}. Best is trial 24 with value: 0.8525657441150398.\n",
      "[I 2025-10-02 20:43:22,275] Trial 40 finished with value: 0.8469417906037624 and parameters: {'depth': 6, 'iterations': 827, 'l2_leaf_reg': 7, 'learning_rate': 0.040839512244760186}. Best is trial 24 with value: 0.8525657441150398.\n",
      "[I 2025-10-02 20:43:34,706] Trial 41 finished with value: 0.841317837092485 and parameters: {'depth': 5, 'iterations': 750, 'l2_leaf_reg': 7, 'learning_rate': 0.03966544615208713}. Best is trial 24 with value: 0.8525657441150398.\n",
      "[I 2025-10-02 20:43:45,572] Trial 42 finished with value: 0.8511572934108145 and parameters: {'depth': 4, 'iterations': 778, 'l2_leaf_reg': 7, 'learning_rate': 0.03704642889717244}. Best is trial 24 with value: 0.8525657441150398.\n",
      "[I 2025-10-02 20:43:55,575] Trial 43 finished with value: 0.8553530976066188 and parameters: {'depth': 4, 'iterations': 676, 'l2_leaf_reg': 7, 'learning_rate': 0.03190625666400382}. Best is trial 43 with value: 0.8553530976066188.\n",
      "[I 2025-10-02 20:44:07,536] Trial 44 finished with value: 0.8525755934206639 and parameters: {'depth': 4, 'iterations': 695, 'l2_leaf_reg': 7, 'learning_rate': 0.03206118422993417}. Best is trial 43 with value: 0.8553530976066188.\n",
      "[I 2025-10-02 20:44:17,131] Trial 45 finished with value: 0.8497389934009651 and parameters: {'depth': 4, 'iterations': 676, 'l2_leaf_reg': 7, 'learning_rate': 0.031813067307371594}. Best is trial 43 with value: 0.8553530976066188.\n",
      "[I 2025-10-02 20:44:44,714] Trial 46 finished with value: 0.837092484979809 and parameters: {'depth': 9, 'iterations': 606, 'l2_leaf_reg': 7, 'learning_rate': 0.03132457373248851}. Best is trial 43 with value: 0.8553530976066188.\n",
      "[I 2025-10-02 20:44:52,997] Trial 47 finished with value: 0.8497291440953413 and parameters: {'depth': 5, 'iterations': 485, 'l2_leaf_reg': 7, 'learning_rate': 0.03612553756583417}. Best is trial 43 with value: 0.8553530976066188.\n",
      "[I 2025-10-02 20:45:03,312] Trial 48 finished with value: 0.8497389934009651 and parameters: {'depth': 4, 'iterations': 705, 'l2_leaf_reg': 7, 'learning_rate': 0.03379987744412979}. Best is trial 43 with value: 0.8553530976066188.\n",
      "[I 2025-10-02 20:45:12,877] Trial 49 finished with value: 0.8455234905939133 and parameters: {'depth': 4, 'iterations': 656, 'l2_leaf_reg': 7, 'learning_rate': 0.03087657338465292}. Best is trial 43 with value: 0.8553530976066188.\n"
     ]
    },
    {
     "name": "stdout",
     "output_type": "stream",
     "text": [
      "Accuracy = 0.8553530976066188, \n",
      " Best parameters = {'depth': 4, 'iterations': 676, 'l2_leaf_reg': 7, 'learning_rate': 0.03190625666400382}\n"
     ]
    },
    {
     "data": {
      "application/vnd.plotly.v1+json": {
       "config": {
        "plotlyServerURL": "https://plot.ly"
       },
       "data": [
        {
         "mode": "markers",
         "name": "Objective Value",
         "type": "scatter",
         "x": [
          0,
          1,
          2,
          3,
          4,
          5,
          6,
          7,
          8,
          9,
          10,
          11,
          12,
          13,
          14,
          15,
          16,
          17,
          18,
          19,
          20,
          21,
          22,
          23,
          24,
          25,
          26,
          27,
          28,
          29,
          30,
          31,
          32,
          33,
          34,
          35,
          36,
          37,
          38,
          39,
          40,
          41,
          42,
          43,
          44,
          45,
          46,
          47,
          48,
          49
         ],
         "y": [
          0.8356741849699596,
          0.8427164384910864,
          0.8483403920023639,
          0.8399093863882596,
          0.844055944055944,
          0.8118093174431203,
          0.8398995370826355,
          0.8258347286516301,
          0.8469417906037624,
          0.8328769821727569,
          0.830089628681178,
          0.8455234905939133,
          0.852555894809416,
          0.8511572934108145,
          0.8511474441051906,
          0.8525460455037919,
          0.8455234905939131,
          0.8483502413079878,
          0.8441248891953117,
          0.8426967398798386,
          0.8399093863882596,
          0.8483502413079878,
          0.852555894809416,
          0.8525460455037919,
          0.8525657441150398,
          0.8427262877967102,
          0.8497488427065892,
          0.8455234905939133,
          0.8469417906037624,
          0.8328868314783808,
          0.8469516399093864,
          0.8455333398995372,
          0.84833054269674,
          0.8483305426967398,
          0.8497685413178372,
          0.8483403920023639,
          0.8469417906037624,
          0.8511572934108145,
          0.8455234905939133,
          0.8398896877770117,
          0.8469417906037624,
          0.841317837092485,
          0.8511572934108145,
          0.8553530976066188,
          0.8525755934206639,
          0.8497389934009651,
          0.837092484979809,
          0.8497291440953413,
          0.8497389934009651,
          0.8455234905939133
         ]
        },
        {
         "mode": "lines",
         "name": "Best Value",
         "type": "scatter",
         "x": [
          0,
          1,
          2,
          3,
          4,
          5,
          6,
          7,
          8,
          9,
          10,
          11,
          12,
          13,
          14,
          15,
          16,
          17,
          18,
          19,
          20,
          21,
          22,
          23,
          24,
          25,
          26,
          27,
          28,
          29,
          30,
          31,
          32,
          33,
          34,
          35,
          36,
          37,
          38,
          39,
          40,
          41,
          42,
          43,
          44,
          45,
          46,
          47,
          48,
          49
         ],
         "y": [
          0.8356741849699596,
          0.8427164384910864,
          0.8483403920023639,
          0.8483403920023639,
          0.8483403920023639,
          0.8483403920023639,
          0.8483403920023639,
          0.8483403920023639,
          0.8483403920023639,
          0.8483403920023639,
          0.8483403920023639,
          0.8483403920023639,
          0.852555894809416,
          0.852555894809416,
          0.852555894809416,
          0.852555894809416,
          0.852555894809416,
          0.852555894809416,
          0.852555894809416,
          0.852555894809416,
          0.852555894809416,
          0.852555894809416,
          0.852555894809416,
          0.852555894809416,
          0.8525657441150398,
          0.8525657441150398,
          0.8525657441150398,
          0.8525657441150398,
          0.8525657441150398,
          0.8525657441150398,
          0.8525657441150398,
          0.8525657441150398,
          0.8525657441150398,
          0.8525657441150398,
          0.8525657441150398,
          0.8525657441150398,
          0.8525657441150398,
          0.8525657441150398,
          0.8525657441150398,
          0.8525657441150398,
          0.8525657441150398,
          0.8525657441150398,
          0.8525657441150398,
          0.8553530976066188,
          0.8553530976066188,
          0.8553530976066188,
          0.8553530976066188,
          0.8553530976066188,
          0.8553530976066188,
          0.8553530976066188
         ]
        },
        {
         "marker": {
          "color": "#cccccc"
         },
         "mode": "markers",
         "name": "Infeasible Trial",
         "showlegend": false,
         "type": "scatter",
         "x": [],
         "y": []
        }
       ],
       "layout": {
        "template": {
         "data": {
          "bar": [
           {
            "error_x": {
             "color": "#2a3f5f"
            },
            "error_y": {
             "color": "#2a3f5f"
            },
            "marker": {
             "line": {
              "color": "#E5ECF6",
              "width": 0.5
             },
             "pattern": {
              "fillmode": "overlay",
              "size": 10,
              "solidity": 0.2
             }
            },
            "type": "bar"
           }
          ],
          "barpolar": [
           {
            "marker": {
             "line": {
              "color": "#E5ECF6",
              "width": 0.5
             },
             "pattern": {
              "fillmode": "overlay",
              "size": 10,
              "solidity": 0.2
             }
            },
            "type": "barpolar"
           }
          ],
          "carpet": [
           {
            "aaxis": {
             "endlinecolor": "#2a3f5f",
             "gridcolor": "white",
             "linecolor": "white",
             "minorgridcolor": "white",
             "startlinecolor": "#2a3f5f"
            },
            "baxis": {
             "endlinecolor": "#2a3f5f",
             "gridcolor": "white",
             "linecolor": "white",
             "minorgridcolor": "white",
             "startlinecolor": "#2a3f5f"
            },
            "type": "carpet"
           }
          ],
          "choropleth": [
           {
            "colorbar": {
             "outlinewidth": 0,
             "ticks": ""
            },
            "type": "choropleth"
           }
          ],
          "contour": [
           {
            "colorbar": {
             "outlinewidth": 0,
             "ticks": ""
            },
            "colorscale": [
             [
              0,
              "#0d0887"
             ],
             [
              0.1111111111111111,
              "#46039f"
             ],
             [
              0.2222222222222222,
              "#7201a8"
             ],
             [
              0.3333333333333333,
              "#9c179e"
             ],
             [
              0.4444444444444444,
              "#bd3786"
             ],
             [
              0.5555555555555556,
              "#d8576b"
             ],
             [
              0.6666666666666666,
              "#ed7953"
             ],
             [
              0.7777777777777778,
              "#fb9f3a"
             ],
             [
              0.8888888888888888,
              "#fdca26"
             ],
             [
              1,
              "#f0f921"
             ]
            ],
            "type": "contour"
           }
          ],
          "contourcarpet": [
           {
            "colorbar": {
             "outlinewidth": 0,
             "ticks": ""
            },
            "type": "contourcarpet"
           }
          ],
          "heatmap": [
           {
            "colorbar": {
             "outlinewidth": 0,
             "ticks": ""
            },
            "colorscale": [
             [
              0,
              "#0d0887"
             ],
             [
              0.1111111111111111,
              "#46039f"
             ],
             [
              0.2222222222222222,
              "#7201a8"
             ],
             [
              0.3333333333333333,
              "#9c179e"
             ],
             [
              0.4444444444444444,
              "#bd3786"
             ],
             [
              0.5555555555555556,
              "#d8576b"
             ],
             [
              0.6666666666666666,
              "#ed7953"
             ],
             [
              0.7777777777777778,
              "#fb9f3a"
             ],
             [
              0.8888888888888888,
              "#fdca26"
             ],
             [
              1,
              "#f0f921"
             ]
            ],
            "type": "heatmap"
           }
          ],
          "histogram": [
           {
            "marker": {
             "pattern": {
              "fillmode": "overlay",
              "size": 10,
              "solidity": 0.2
             }
            },
            "type": "histogram"
           }
          ],
          "histogram2d": [
           {
            "colorbar": {
             "outlinewidth": 0,
             "ticks": ""
            },
            "colorscale": [
             [
              0,
              "#0d0887"
             ],
             [
              0.1111111111111111,
              "#46039f"
             ],
             [
              0.2222222222222222,
              "#7201a8"
             ],
             [
              0.3333333333333333,
              "#9c179e"
             ],
             [
              0.4444444444444444,
              "#bd3786"
             ],
             [
              0.5555555555555556,
              "#d8576b"
             ],
             [
              0.6666666666666666,
              "#ed7953"
             ],
             [
              0.7777777777777778,
              "#fb9f3a"
             ],
             [
              0.8888888888888888,
              "#fdca26"
             ],
             [
              1,
              "#f0f921"
             ]
            ],
            "type": "histogram2d"
           }
          ],
          "histogram2dcontour": [
           {
            "colorbar": {
             "outlinewidth": 0,
             "ticks": ""
            },
            "colorscale": [
             [
              0,
              "#0d0887"
             ],
             [
              0.1111111111111111,
              "#46039f"
             ],
             [
              0.2222222222222222,
              "#7201a8"
             ],
             [
              0.3333333333333333,
              "#9c179e"
             ],
             [
              0.4444444444444444,
              "#bd3786"
             ],
             [
              0.5555555555555556,
              "#d8576b"
             ],
             [
              0.6666666666666666,
              "#ed7953"
             ],
             [
              0.7777777777777778,
              "#fb9f3a"
             ],
             [
              0.8888888888888888,
              "#fdca26"
             ],
             [
              1,
              "#f0f921"
             ]
            ],
            "type": "histogram2dcontour"
           }
          ],
          "mesh3d": [
           {
            "colorbar": {
             "outlinewidth": 0,
             "ticks": ""
            },
            "type": "mesh3d"
           }
          ],
          "parcoords": [
           {
            "line": {
             "colorbar": {
              "outlinewidth": 0,
              "ticks": ""
             }
            },
            "type": "parcoords"
           }
          ],
          "pie": [
           {
            "automargin": true,
            "type": "pie"
           }
          ],
          "scatter": [
           {
            "fillpattern": {
             "fillmode": "overlay",
             "size": 10,
             "solidity": 0.2
            },
            "type": "scatter"
           }
          ],
          "scatter3d": [
           {
            "line": {
             "colorbar": {
              "outlinewidth": 0,
              "ticks": ""
             }
            },
            "marker": {
             "colorbar": {
              "outlinewidth": 0,
              "ticks": ""
             }
            },
            "type": "scatter3d"
           }
          ],
          "scattercarpet": [
           {
            "marker": {
             "colorbar": {
              "outlinewidth": 0,
              "ticks": ""
             }
            },
            "type": "scattercarpet"
           }
          ],
          "scattergeo": [
           {
            "marker": {
             "colorbar": {
              "outlinewidth": 0,
              "ticks": ""
             }
            },
            "type": "scattergeo"
           }
          ],
          "scattergl": [
           {
            "marker": {
             "colorbar": {
              "outlinewidth": 0,
              "ticks": ""
             }
            },
            "type": "scattergl"
           }
          ],
          "scattermap": [
           {
            "marker": {
             "colorbar": {
              "outlinewidth": 0,
              "ticks": ""
             }
            },
            "type": "scattermap"
           }
          ],
          "scattermapbox": [
           {
            "marker": {
             "colorbar": {
              "outlinewidth": 0,
              "ticks": ""
             }
            },
            "type": "scattermapbox"
           }
          ],
          "scatterpolar": [
           {
            "marker": {
             "colorbar": {
              "outlinewidth": 0,
              "ticks": ""
             }
            },
            "type": "scatterpolar"
           }
          ],
          "scatterpolargl": [
           {
            "marker": {
             "colorbar": {
              "outlinewidth": 0,
              "ticks": ""
             }
            },
            "type": "scatterpolargl"
           }
          ],
          "scatterternary": [
           {
            "marker": {
             "colorbar": {
              "outlinewidth": 0,
              "ticks": ""
             }
            },
            "type": "scatterternary"
           }
          ],
          "surface": [
           {
            "colorbar": {
             "outlinewidth": 0,
             "ticks": ""
            },
            "colorscale": [
             [
              0,
              "#0d0887"
             ],
             [
              0.1111111111111111,
              "#46039f"
             ],
             [
              0.2222222222222222,
              "#7201a8"
             ],
             [
              0.3333333333333333,
              "#9c179e"
             ],
             [
              0.4444444444444444,
              "#bd3786"
             ],
             [
              0.5555555555555556,
              "#d8576b"
             ],
             [
              0.6666666666666666,
              "#ed7953"
             ],
             [
              0.7777777777777778,
              "#fb9f3a"
             ],
             [
              0.8888888888888888,
              "#fdca26"
             ],
             [
              1,
              "#f0f921"
             ]
            ],
            "type": "surface"
           }
          ],
          "table": [
           {
            "cells": {
             "fill": {
              "color": "#EBF0F8"
             },
             "line": {
              "color": "white"
             }
            },
            "header": {
             "fill": {
              "color": "#C8D4E3"
             },
             "line": {
              "color": "white"
             }
            },
            "type": "table"
           }
          ]
         },
         "layout": {
          "annotationdefaults": {
           "arrowcolor": "#2a3f5f",
           "arrowhead": 0,
           "arrowwidth": 1
          },
          "autotypenumbers": "strict",
          "coloraxis": {
           "colorbar": {
            "outlinewidth": 0,
            "ticks": ""
           }
          },
          "colorscale": {
           "diverging": [
            [
             0,
             "#8e0152"
            ],
            [
             0.1,
             "#c51b7d"
            ],
            [
             0.2,
             "#de77ae"
            ],
            [
             0.3,
             "#f1b6da"
            ],
            [
             0.4,
             "#fde0ef"
            ],
            [
             0.5,
             "#f7f7f7"
            ],
            [
             0.6,
             "#e6f5d0"
            ],
            [
             0.7,
             "#b8e186"
            ],
            [
             0.8,
             "#7fbc41"
            ],
            [
             0.9,
             "#4d9221"
            ],
            [
             1,
             "#276419"
            ]
           ],
           "sequential": [
            [
             0,
             "#0d0887"
            ],
            [
             0.1111111111111111,
             "#46039f"
            ],
            [
             0.2222222222222222,
             "#7201a8"
            ],
            [
             0.3333333333333333,
             "#9c179e"
            ],
            [
             0.4444444444444444,
             "#bd3786"
            ],
            [
             0.5555555555555556,
             "#d8576b"
            ],
            [
             0.6666666666666666,
             "#ed7953"
            ],
            [
             0.7777777777777778,
             "#fb9f3a"
            ],
            [
             0.8888888888888888,
             "#fdca26"
            ],
            [
             1,
             "#f0f921"
            ]
           ],
           "sequentialminus": [
            [
             0,
             "#0d0887"
            ],
            [
             0.1111111111111111,
             "#46039f"
            ],
            [
             0.2222222222222222,
             "#7201a8"
            ],
            [
             0.3333333333333333,
             "#9c179e"
            ],
            [
             0.4444444444444444,
             "#bd3786"
            ],
            [
             0.5555555555555556,
             "#d8576b"
            ],
            [
             0.6666666666666666,
             "#ed7953"
            ],
            [
             0.7777777777777778,
             "#fb9f3a"
            ],
            [
             0.8888888888888888,
             "#fdca26"
            ],
            [
             1,
             "#f0f921"
            ]
           ]
          },
          "colorway": [
           "#636efa",
           "#EF553B",
           "#00cc96",
           "#ab63fa",
           "#FFA15A",
           "#19d3f3",
           "#FF6692",
           "#B6E880",
           "#FF97FF",
           "#FECB52"
          ],
          "font": {
           "color": "#2a3f5f"
          },
          "geo": {
           "bgcolor": "white",
           "lakecolor": "white",
           "landcolor": "#E5ECF6",
           "showlakes": true,
           "showland": true,
           "subunitcolor": "white"
          },
          "hoverlabel": {
           "align": "left"
          },
          "hovermode": "closest",
          "mapbox": {
           "style": "light"
          },
          "paper_bgcolor": "white",
          "plot_bgcolor": "#E5ECF6",
          "polar": {
           "angularaxis": {
            "gridcolor": "white",
            "linecolor": "white",
            "ticks": ""
           },
           "bgcolor": "#E5ECF6",
           "radialaxis": {
            "gridcolor": "white",
            "linecolor": "white",
            "ticks": ""
           }
          },
          "scene": {
           "xaxis": {
            "backgroundcolor": "#E5ECF6",
            "gridcolor": "white",
            "gridwidth": 2,
            "linecolor": "white",
            "showbackground": true,
            "ticks": "",
            "zerolinecolor": "white"
           },
           "yaxis": {
            "backgroundcolor": "#E5ECF6",
            "gridcolor": "white",
            "gridwidth": 2,
            "linecolor": "white",
            "showbackground": true,
            "ticks": "",
            "zerolinecolor": "white"
           },
           "zaxis": {
            "backgroundcolor": "#E5ECF6",
            "gridcolor": "white",
            "gridwidth": 2,
            "linecolor": "white",
            "showbackground": true,
            "ticks": "",
            "zerolinecolor": "white"
           }
          },
          "shapedefaults": {
           "line": {
            "color": "#2a3f5f"
           }
          },
          "ternary": {
           "aaxis": {
            "gridcolor": "white",
            "linecolor": "white",
            "ticks": ""
           },
           "baxis": {
            "gridcolor": "white",
            "linecolor": "white",
            "ticks": ""
           },
           "bgcolor": "#E5ECF6",
           "caxis": {
            "gridcolor": "white",
            "linecolor": "white",
            "ticks": ""
           }
          },
          "title": {
           "x": 0.05
          },
          "xaxis": {
           "automargin": true,
           "gridcolor": "white",
           "linecolor": "white",
           "ticks": "",
           "title": {
            "standoff": 15
           },
           "zerolinecolor": "white",
           "zerolinewidth": 2
          },
          "yaxis": {
           "automargin": true,
           "gridcolor": "white",
           "linecolor": "white",
           "ticks": "",
           "title": {
            "standoff": 15
           },
           "zerolinecolor": "white",
           "zerolinewidth": 2
          }
         }
        },
        "title": {
         "text": "Optimization History Plot"
        },
        "xaxis": {
         "title": {
          "text": "Trial"
         }
        },
        "yaxis": {
         "title": {
          "text": "Objective Value"
         }
        }
       }
      }
     },
     "metadata": {},
     "output_type": "display_data"
    }
   ],
   "source": [
    "# Optuna tuning for CatBoost\n",
    "def objectives(trial):\n",
    "    cat_params = {\n",
    "        'depth':trial.suggest_int('depth',4,10), # 4, 5\n",
    "        'iterations':trial.suggest_int('iterations',200,1000), # 200, 300\n",
    "        'l2_leaf_reg':trial.suggest_int('l2_leaf_reg',6,7), # 6,7\n",
    "        'learning_rate':trial.suggest_float('learning_rate',.03,.08, log=True), #.08,.09\n",
    "    }\n",
    "\n",
    "    # instantiate model \n",
    "    cat_opt = cat.CatBoostClassifier(**cat_params, verbose=False, eval_metric='Accuracy', random_state=12) \n",
    "\n",
    "    cv = StratifiedKFold(n_splits=5, shuffle=True, random_state=12)\n",
    "\n",
    "    # score \n",
    "    score = cross_val_score(cat_opt,\n",
    "                            X_train,\n",
    "                            y_train,\n",
    "                            cv=cv,\n",
    "                            scoring='accuracy',\n",
    "                            error_score='raise'\n",
    "                            ).mean()\n",
    "    \n",
    "    return score\n",
    "\n",
    "# create study\n",
    "study = opt.create_study(direction='maximize')\n",
    "\n",
    "# optimize study\n",
    "study.optimize(objectives, n_trials=50)\n",
    "\n",
    "# return metrics \n",
    "cat_opt_score = study.best_value\n",
    "cat_opt_params = study.best_params\n",
    "\n",
    "print(f'Accuracy = {cat_opt_score}, \\n Best parameters = {cat_opt_params}')\n",
    "\n",
    "opt.visualization.plot_optimization_history(study).show()\n"
   ]
  },
  {
   "cell_type": "code",
   "execution_count": null,
   "id": "127d510b",
   "metadata": {},
   "outputs": [
    {
     "data": {
      "text/plain": [
       "{'depth': 4,\n",
       " 'iterations': 676,\n",
       " 'l2_leaf_reg': 7,\n",
       " 'learning_rate': 0.03190625666400382}"
      ]
     },
     "execution_count": 582,
     "metadata": {},
     "output_type": "execute_result"
    }
   ],
   "source": [
    "cat_opt_params"
   ]
  },
  {
   "cell_type": "code",
   "execution_count": 583,
   "id": "fa155d7c",
   "metadata": {},
   "outputs": [
    {
     "data": {
      "text/plain": [
       "{'depth': 4,\n",
       " 'iterations': 676,\n",
       " 'l2_leaf_reg': 7,\n",
       " 'learning_rate': 0.03190625666400382,\n",
       " 'accuracy': 0.855}"
      ]
     },
     "execution_count": 583,
     "metadata": {},
     "output_type": "execute_result"
    }
   ],
   "source": [
    "cat_par = cat_opt_params\n",
    "cat_par['accuracy'] = float(np.round(0.8553530976066188,3))\n",
    "cat_par "
   ]
  },
  {
   "cell_type": "code",
   "execution_count": 584,
   "id": "13e1241c",
   "metadata": {},
   "outputs": [],
   "source": [
    "cat_opt_results.loc[2]= cat_par"
   ]
  },
  {
   "cell_type": "code",
   "execution_count": 585,
   "id": "b576527e",
   "metadata": {},
   "outputs": [
    {
     "data": {
      "text/html": [
       "<div>\n",
       "<style scoped>\n",
       "    .dataframe tbody tr th:only-of-type {\n",
       "        vertical-align: middle;\n",
       "    }\n",
       "\n",
       "    .dataframe tbody tr th {\n",
       "        vertical-align: top;\n",
       "    }\n",
       "\n",
       "    .dataframe thead th {\n",
       "        text-align: right;\n",
       "    }\n",
       "</style>\n",
       "<table border=\"1\" class=\"dataframe\">\n",
       "  <thead>\n",
       "    <tr style=\"text-align: right;\">\n",
       "      <th></th>\n",
       "      <th>depth</th>\n",
       "      <th>iterations</th>\n",
       "      <th>l2_leaf_reg</th>\n",
       "      <th>learning_rate</th>\n",
       "      <th>accuracy</th>\n",
       "    </tr>\n",
       "  </thead>\n",
       "  <tbody>\n",
       "    <tr>\n",
       "      <th>0</th>\n",
       "      <td>4</td>\n",
       "      <td>365</td>\n",
       "      <td>7</td>\n",
       "      <td>0.088549</td>\n",
       "      <td>0.854</td>\n",
       "    </tr>\n",
       "    <tr>\n",
       "      <th>1</th>\n",
       "      <td>4</td>\n",
       "      <td>251</td>\n",
       "      <td>6</td>\n",
       "      <td>0.098660</td>\n",
       "      <td>0.851</td>\n",
       "    </tr>\n",
       "    <tr>\n",
       "      <th>2</th>\n",
       "      <td>4</td>\n",
       "      <td>676</td>\n",
       "      <td>7</td>\n",
       "      <td>0.031906</td>\n",
       "      <td>0.855</td>\n",
       "    </tr>\n",
       "  </tbody>\n",
       "</table>\n",
       "</div>"
      ],
      "text/plain": [
       "   depth  iterations  l2_leaf_reg  learning_rate  accuracy\n",
       "0      4         365            7       0.088549     0.854\n",
       "1      4         251            6       0.098660     0.851\n",
       "2      4         676            7       0.031906     0.855"
      ]
     },
     "execution_count": 585,
     "metadata": {},
     "output_type": "execute_result"
    }
   ],
   "source": [
    "# cat_opt_results = pd.DataFrame([cat])\n",
    "cat_opt_results "
   ]
  },
  {
   "cell_type": "markdown",
   "id": "7be743ee",
   "metadata": {},
   "source": [
    "So, after about 6-7 trainings with parameter tuning via Optuna, I have recorded the last 4 and observed the score has converged at ~85% accuracy. Now, I will proceed to do a final run using `votingClassifier`"
   ]
  },
  {
   "cell_type": "markdown",
   "id": "94f8defd",
   "metadata": {},
   "source": [
    "#### Final model"
   ]
  },
  {
   "cell_type": "code",
   "execution_count": 587,
   "id": "3ef35320",
   "metadata": {},
   "outputs": [
    {
     "data": {
      "text/plain": [
       "{'depth': 4,\n",
       " 'iterations': 676,\n",
       " 'l2_leaf_reg': 7,\n",
       " 'learning_rate': 0.03190625666400382}"
      ]
     },
     "execution_count": 587,
     "metadata": {},
     "output_type": "execute_result"
    }
   ],
   "source": [
    "# create new dictionary with best params for catboost \n",
    "cat_opt_params_main = {'depth': 4,\n",
    " 'iterations': 676,\n",
    " 'l2_leaf_reg': 7,\n",
    " 'learning_rate': 0.03190625666400382} \n",
    "\n",
    "cat_opt_params_main"
   ]
  },
  {
   "cell_type": "code",
   "execution_count": 589,
   "id": "c8faa7b5",
   "metadata": {},
   "outputs": [],
   "source": [
    "from sklearn.ensemble import VotingClassifier \n",
    "\n",
    "# instantiate models with best parameters\n",
    "clf_best = RandomForestClassifier(**clf_opt_params, random_state=12)\n",
    "cat_best = cat.CatBoostClassifier(**cat_opt_params_main, random_state=12, verbose=False)\n",
    "\n",
    "# create ensembles \n",
    "ensemble = VotingClassifier(estimators=[('rf', clf_best), ('cat',cat_best)],\n",
    "                            voting='soft',\n",
    "                            verbose=False\n",
    "    )\n",
    "\n",
    "# list of models to evaluate \n",
    "models = [('clf_best', clf_best), \n",
    "          ('cat_best', cat_best), \n",
    "          ('ensemble', ensemble)]\n",
    "\n",
    "\n",
    "def final_scores(models):\n",
    "    \n",
    "    for name,model in models:\n",
    "        model.fit(X_train,y_train)\n",
    "        yy_preds = model.predict(X_valid)\n",
    "        score = accuracy_score(y_valid, yy_preds)\n",
    "        print(f'{name:15} accuracy = {score:.3f}')"
   ]
  },
  {
   "cell_type": "code",
   "execution_count": 590,
   "id": "fba82b37",
   "metadata": {},
   "outputs": [
    {
     "name": "stdout",
     "output_type": "stream",
     "text": [
      "clf_best        accuracy = 0.821\n",
      "cat_best        accuracy = 0.821\n",
      "ensemble        accuracy = 0.832\n"
     ]
    }
   ],
   "source": [
    "final_scores(models)"
   ]
  },
  {
   "cell_type": "markdown",
   "id": "b8fea971",
   "metadata": {},
   "source": [
    "#### Create final models for submission"
   ]
  },
  {
   "cell_type": "code",
   "execution_count": 591,
   "id": "b11d1dbf",
   "metadata": {},
   "outputs": [],
   "source": [
    "# final training data\n",
    "X_train_final = pd.concat([X_train, X_valid], axis=0) \n",
    "y_train_final = pd.concat([y_train, y_valid], axis=0) \n"
   ]
  },
  {
   "cell_type": "markdown",
   "id": "5532aa2f",
   "metadata": {},
   "source": [
    "#### Import test data"
   ]
  },
  {
   "cell_type": "code",
   "execution_count": 592,
   "id": "2eb52d53",
   "metadata": {},
   "outputs": [
    {
     "data": {
      "text/html": [
       "<div>\n",
       "<style scoped>\n",
       "    .dataframe tbody tr th:only-of-type {\n",
       "        vertical-align: middle;\n",
       "    }\n",
       "\n",
       "    .dataframe tbody tr th {\n",
       "        vertical-align: top;\n",
       "    }\n",
       "\n",
       "    .dataframe thead th {\n",
       "        text-align: right;\n",
       "    }\n",
       "</style>\n",
       "<table border=\"1\" class=\"dataframe\">\n",
       "  <thead>\n",
       "    <tr style=\"text-align: right;\">\n",
       "      <th></th>\n",
       "      <th>PassengerId</th>\n",
       "      <th>Pclass</th>\n",
       "      <th>Name</th>\n",
       "      <th>Sex</th>\n",
       "      <th>Age</th>\n",
       "      <th>SibSp</th>\n",
       "      <th>Parch</th>\n",
       "      <th>Ticket</th>\n",
       "      <th>Fare</th>\n",
       "      <th>Cabin</th>\n",
       "      <th>Embarked</th>\n",
       "    </tr>\n",
       "  </thead>\n",
       "  <tbody>\n",
       "    <tr>\n",
       "      <th>0</th>\n",
       "      <td>892</td>\n",
       "      <td>3</td>\n",
       "      <td>Kelly, Mr. James</td>\n",
       "      <td>male</td>\n",
       "      <td>34.5</td>\n",
       "      <td>0</td>\n",
       "      <td>0</td>\n",
       "      <td>330911</td>\n",
       "      <td>7.8292</td>\n",
       "      <td>NaN</td>\n",
       "      <td>Q</td>\n",
       "    </tr>\n",
       "    <tr>\n",
       "      <th>1</th>\n",
       "      <td>893</td>\n",
       "      <td>3</td>\n",
       "      <td>Wilkes, Mrs. James (Ellen Needs)</td>\n",
       "      <td>female</td>\n",
       "      <td>47.0</td>\n",
       "      <td>1</td>\n",
       "      <td>0</td>\n",
       "      <td>363272</td>\n",
       "      <td>7.0000</td>\n",
       "      <td>NaN</td>\n",
       "      <td>S</td>\n",
       "    </tr>\n",
       "    <tr>\n",
       "      <th>2</th>\n",
       "      <td>894</td>\n",
       "      <td>2</td>\n",
       "      <td>Myles, Mr. Thomas Francis</td>\n",
       "      <td>male</td>\n",
       "      <td>62.0</td>\n",
       "      <td>0</td>\n",
       "      <td>0</td>\n",
       "      <td>240276</td>\n",
       "      <td>9.6875</td>\n",
       "      <td>NaN</td>\n",
       "      <td>Q</td>\n",
       "    </tr>\n",
       "    <tr>\n",
       "      <th>3</th>\n",
       "      <td>895</td>\n",
       "      <td>3</td>\n",
       "      <td>Wirz, Mr. Albert</td>\n",
       "      <td>male</td>\n",
       "      <td>27.0</td>\n",
       "      <td>0</td>\n",
       "      <td>0</td>\n",
       "      <td>315154</td>\n",
       "      <td>8.6625</td>\n",
       "      <td>NaN</td>\n",
       "      <td>S</td>\n",
       "    </tr>\n",
       "    <tr>\n",
       "      <th>4</th>\n",
       "      <td>896</td>\n",
       "      <td>3</td>\n",
       "      <td>Hirvonen, Mrs. Alexander (Helga E Lindqvist)</td>\n",
       "      <td>female</td>\n",
       "      <td>22.0</td>\n",
       "      <td>1</td>\n",
       "      <td>1</td>\n",
       "      <td>3101298</td>\n",
       "      <td>12.2875</td>\n",
       "      <td>NaN</td>\n",
       "      <td>S</td>\n",
       "    </tr>\n",
       "  </tbody>\n",
       "</table>\n",
       "</div>"
      ],
      "text/plain": [
       "   PassengerId  Pclass                                          Name     Sex  \\\n",
       "0          892       3                              Kelly, Mr. James    male   \n",
       "1          893       3              Wilkes, Mrs. James (Ellen Needs)  female   \n",
       "2          894       2                     Myles, Mr. Thomas Francis    male   \n",
       "3          895       3                              Wirz, Mr. Albert    male   \n",
       "4          896       3  Hirvonen, Mrs. Alexander (Helga E Lindqvist)  female   \n",
       "\n",
       "    Age  SibSp  Parch   Ticket     Fare Cabin Embarked  \n",
       "0  34.5      0      0   330911   7.8292   NaN        Q  \n",
       "1  47.0      1      0   363272   7.0000   NaN        S  \n",
       "2  62.0      0      0   240276   9.6875   NaN        Q  \n",
       "3  27.0      0      0   315154   8.6625   NaN        S  \n",
       "4  22.0      1      1  3101298  12.2875   NaN        S  "
      ]
     },
     "execution_count": 592,
     "metadata": {},
     "output_type": "execute_result"
    }
   ],
   "source": [
    "# import test (features only) data and check cleanliness and compatibility\n",
    "X_test_origin = pd.read_csv('data/test.csv')\n",
    "X_test_origin.head()"
   ]
  },
  {
   "cell_type": "code",
   "execution_count": 593,
   "id": "2d65aaec",
   "metadata": {},
   "outputs": [],
   "source": [
    "# drop `PassengerID`\n",
    "X_test_df = X_test_origin.drop('PassengerId', axis=1)"
   ]
  },
  {
   "cell_type": "code",
   "execution_count": 594,
   "id": "39e861bf",
   "metadata": {},
   "outputs": [
    {
     "name": "stdout",
     "output_type": "stream",
     "text": [
      "<class 'pandas.core.frame.DataFrame'>\n",
      "RangeIndex: 418 entries, 0 to 417\n",
      "Data columns (total 10 columns):\n",
      " #   Column    Non-Null Count  Dtype  \n",
      "---  ------    --------------  -----  \n",
      " 0   Pclass    418 non-null    int64  \n",
      " 1   Name      418 non-null    object \n",
      " 2   Sex       418 non-null    object \n",
      " 3   Age       332 non-null    float64\n",
      " 4   SibSp     418 non-null    int64  \n",
      " 5   Parch     418 non-null    int64  \n",
      " 6   Ticket    418 non-null    object \n",
      " 7   Fare      417 non-null    float64\n",
      " 8   Cabin     91 non-null     object \n",
      " 9   Embarked  418 non-null    object \n",
      "dtypes: float64(2), int64(3), object(5)\n",
      "memory usage: 32.8+ KB\n"
     ]
    }
   ],
   "source": [
    "X_test_df.info()"
   ]
  },
  {
   "cell_type": "code",
   "execution_count": 595,
   "id": "4be5a220",
   "metadata": {},
   "outputs": [
    {
     "data": {
      "text/plain": [
       "((418, 10), (891, 22))"
      ]
     },
     "execution_count": 595,
     "metadata": {},
     "output_type": "execute_result"
    }
   ],
   "source": [
    "X_test_df.shape, X_train_final.shape "
   ]
  },
  {
   "cell_type": "code",
   "execution_count": 596,
   "id": "7ecc7c5a",
   "metadata": {},
   "outputs": [
    {
     "name": "stdout",
     "output_type": "stream",
     "text": [
      "Age\n",
      "Fare\n",
      "Cabin\n"
     ]
    }
   ],
   "source": [
    "# list names of columns with missing values\n",
    "for name, content in X_test_df.items():\n",
    "    if pd.isnull(content).sum():\n",
    "        print(name)"
   ]
  },
  {
   "cell_type": "code",
   "execution_count": 597,
   "id": "a44345d6",
   "metadata": {},
   "outputs": [
    {
     "name": "stdout",
     "output_type": "stream",
     "text": [
      "Name\n",
      "Sex\n",
      "Ticket\n",
      "Cabin\n",
      "Embarked\n"
     ]
    }
   ],
   "source": [
    "# list columns with non-numerical entries/samples\n",
    "for name, content in X_test_df.items():\n",
    "    if not pd.api.types.is_numeric_dtype(content):\n",
    "        print(name)"
   ]
  },
  {
   "cell_type": "markdown",
   "id": "e35232fd",
   "metadata": {},
   "source": [
    "The X_test data needs some preprocessing before making predictions"
   ]
  },
  {
   "cell_type": "markdown",
   "id": "310108ed",
   "metadata": {},
   "source": [
    "#### fix missing values "
   ]
  },
  {
   "cell_type": "code",
   "execution_count": 598,
   "id": "28047cf1",
   "metadata": {},
   "outputs": [],
   "source": [
    "# fix all missing values\n",
    "for label,content in X_test_df.items():\n",
    "    if (label=='Age'):\n",
    "         if pd.isna(content).sum():\n",
    "                X_test_df[label + '_is_missing'] = pd.isna(content)\n",
    "                X_test_df[label] = content.fillna(content.median())\n",
    "    elif (label=='Cabin'):\n",
    "         if pd.isna(content).sum():\n",
    "              X_test_df[label + '_is_missing'] = pd.isna(content)\n",
    "              X_test_df[label] = content.fillna('Missing')\n",
    "    elif (label=='Fare'):\n",
    "         if pd.isna(content).sum():\n",
    "              X_test_df[label] = content.fillna(content.median()) \n"
   ]
  },
  {
   "cell_type": "code",
   "execution_count": 599,
   "id": "1a291273",
   "metadata": {},
   "outputs": [],
   "source": [
    "# create a `Embarked_is_missing` column for test data.\n",
    "X_test_df['Embarked_is_missing'] = False "
   ]
  },
  {
   "cell_type": "code",
   "execution_count": 600,
   "id": "50613fbb",
   "metadata": {},
   "outputs": [
    {
     "data": {
      "text/html": [
       "<div>\n",
       "<style scoped>\n",
       "    .dataframe tbody tr th:only-of-type {\n",
       "        vertical-align: middle;\n",
       "    }\n",
       "\n",
       "    .dataframe tbody tr th {\n",
       "        vertical-align: top;\n",
       "    }\n",
       "\n",
       "    .dataframe thead th {\n",
       "        text-align: right;\n",
       "    }\n",
       "</style>\n",
       "<table border=\"1\" class=\"dataframe\">\n",
       "  <thead>\n",
       "    <tr style=\"text-align: right;\">\n",
       "      <th></th>\n",
       "      <th>802</th>\n",
       "      <th>541</th>\n",
       "      <th>356</th>\n",
       "      <th>250</th>\n",
       "      <th>522</th>\n",
       "    </tr>\n",
       "  </thead>\n",
       "  <tbody>\n",
       "    <tr>\n",
       "      <th>Pclass</th>\n",
       "      <td>1</td>\n",
       "      <td>3</td>\n",
       "      <td>1</td>\n",
       "      <td>3</td>\n",
       "      <td>3</td>\n",
       "    </tr>\n",
       "    <tr>\n",
       "      <th>Age</th>\n",
       "      <td>11</td>\n",
       "      <td>9</td>\n",
       "      <td>22</td>\n",
       "      <td>28</td>\n",
       "      <td>28</td>\n",
       "    </tr>\n",
       "    <tr>\n",
       "      <th>SibSp</th>\n",
       "      <td>1</td>\n",
       "      <td>4</td>\n",
       "      <td>0</td>\n",
       "      <td>0</td>\n",
       "      <td>0</td>\n",
       "    </tr>\n",
       "    <tr>\n",
       "      <th>Parch</th>\n",
       "      <td>2</td>\n",
       "      <td>2</td>\n",
       "      <td>1</td>\n",
       "      <td>0</td>\n",
       "      <td>0</td>\n",
       "    </tr>\n",
       "    <tr>\n",
       "      <th>Ticket</th>\n",
       "      <td>33</td>\n",
       "      <td>333</td>\n",
       "      <td>28</td>\n",
       "      <td>422</td>\n",
       "      <td>173</td>\n",
       "    </tr>\n",
       "    <tr>\n",
       "      <th>Fare</th>\n",
       "      <td>120.0</td>\n",
       "      <td>31.275</td>\n",
       "      <td>55.0</td>\n",
       "      <td>7.25</td>\n",
       "      <td>7.225</td>\n",
       "    </tr>\n",
       "    <tr>\n",
       "      <th>Age_is_missing</th>\n",
       "      <td>False</td>\n",
       "      <td>False</td>\n",
       "      <td>False</td>\n",
       "      <td>True</td>\n",
       "      <td>True</td>\n",
       "    </tr>\n",
       "    <tr>\n",
       "      <th>Cabin_is_missing</th>\n",
       "      <td>False</td>\n",
       "      <td>True</td>\n",
       "      <td>False</td>\n",
       "      <td>True</td>\n",
       "      <td>True</td>\n",
       "    </tr>\n",
       "    <tr>\n",
       "      <th>Embarked_is_missing</th>\n",
       "      <td>False</td>\n",
       "      <td>False</td>\n",
       "      <td>False</td>\n",
       "      <td>False</td>\n",
       "      <td>False</td>\n",
       "    </tr>\n",
       "    <tr>\n",
       "      <th>Titles__Dr</th>\n",
       "      <td>False</td>\n",
       "      <td>False</td>\n",
       "      <td>False</td>\n",
       "      <td>False</td>\n",
       "      <td>False</td>\n",
       "    </tr>\n",
       "    <tr>\n",
       "      <th>Titles__Master</th>\n",
       "      <td>True</td>\n",
       "      <td>False</td>\n",
       "      <td>False</td>\n",
       "      <td>False</td>\n",
       "      <td>False</td>\n",
       "    </tr>\n",
       "    <tr>\n",
       "      <th>Titles__Miss</th>\n",
       "      <td>False</td>\n",
       "      <td>True</td>\n",
       "      <td>True</td>\n",
       "      <td>False</td>\n",
       "      <td>False</td>\n",
       "    </tr>\n",
       "    <tr>\n",
       "      <th>Titles__Mr</th>\n",
       "      <td>False</td>\n",
       "      <td>False</td>\n",
       "      <td>False</td>\n",
       "      <td>True</td>\n",
       "      <td>True</td>\n",
       "    </tr>\n",
       "    <tr>\n",
       "      <th>Titles__Other</th>\n",
       "      <td>False</td>\n",
       "      <td>False</td>\n",
       "      <td>False</td>\n",
       "      <td>False</td>\n",
       "      <td>False</td>\n",
       "    </tr>\n",
       "    <tr>\n",
       "      <th>Titles__Rev</th>\n",
       "      <td>False</td>\n",
       "      <td>False</td>\n",
       "      <td>False</td>\n",
       "      <td>False</td>\n",
       "      <td>False</td>\n",
       "    </tr>\n",
       "    <tr>\n",
       "      <th>Sex__female</th>\n",
       "      <td>False</td>\n",
       "      <td>True</td>\n",
       "      <td>True</td>\n",
       "      <td>False</td>\n",
       "      <td>False</td>\n",
       "    </tr>\n",
       "    <tr>\n",
       "      <th>Sex__male</th>\n",
       "      <td>True</td>\n",
       "      <td>False</td>\n",
       "      <td>False</td>\n",
       "      <td>True</td>\n",
       "      <td>True</td>\n",
       "    </tr>\n",
       "    <tr>\n",
       "      <th>Embarked__C</th>\n",
       "      <td>False</td>\n",
       "      <td>False</td>\n",
       "      <td>False</td>\n",
       "      <td>False</td>\n",
       "      <td>True</td>\n",
       "    </tr>\n",
       "    <tr>\n",
       "      <th>Embarked__M</th>\n",
       "      <td>False</td>\n",
       "      <td>False</td>\n",
       "      <td>False</td>\n",
       "      <td>False</td>\n",
       "      <td>False</td>\n",
       "    </tr>\n",
       "    <tr>\n",
       "      <th>Embarked__Q</th>\n",
       "      <td>False</td>\n",
       "      <td>False</td>\n",
       "      <td>False</td>\n",
       "      <td>False</td>\n",
       "      <td>False</td>\n",
       "    </tr>\n",
       "    <tr>\n",
       "      <th>Embarked__S</th>\n",
       "      <td>True</td>\n",
       "      <td>True</td>\n",
       "      <td>True</td>\n",
       "      <td>True</td>\n",
       "      <td>False</td>\n",
       "    </tr>\n",
       "    <tr>\n",
       "      <th>Deck</th>\n",
       "      <td>2</td>\n",
       "      <td>0</td>\n",
       "      <td>5</td>\n",
       "      <td>0</td>\n",
       "      <td>0</td>\n",
       "    </tr>\n",
       "  </tbody>\n",
       "</table>\n",
       "</div>"
      ],
      "text/plain": [
       "                       802     541    356    250    522\n",
       "Pclass                   1       3      1      3      3\n",
       "Age                     11       9     22     28     28\n",
       "SibSp                    1       4      0      0      0\n",
       "Parch                    2       2      1      0      0\n",
       "Ticket                  33     333     28    422    173\n",
       "Fare                 120.0  31.275   55.0   7.25  7.225\n",
       "Age_is_missing       False   False  False   True   True\n",
       "Cabin_is_missing     False    True  False   True   True\n",
       "Embarked_is_missing  False   False  False  False  False\n",
       "Titles__Dr           False   False  False  False  False\n",
       "Titles__Master        True   False  False  False  False\n",
       "Titles__Miss         False    True   True  False  False\n",
       "Titles__Mr           False   False  False   True   True\n",
       "Titles__Other        False   False  False  False  False\n",
       "Titles__Rev          False   False  False  False  False\n",
       "Sex__female          False    True   True  False  False\n",
       "Sex__male             True   False  False   True   True\n",
       "Embarked__C          False   False  False  False   True\n",
       "Embarked__M          False   False  False  False  False\n",
       "Embarked__Q          False   False  False  False  False\n",
       "Embarked__S           True    True   True   True  False\n",
       "Deck                     2       0      5      0      0"
      ]
     },
     "execution_count": 600,
     "metadata": {},
     "output_type": "execute_result"
    }
   ],
   "source": [
    "# check \n",
    "X_train_final.head().T "
   ]
  },
  {
   "cell_type": "code",
   "execution_count": 601,
   "id": "3098e8e7",
   "metadata": {},
   "outputs": [],
   "source": [
    "# rename columns to remove the leading '_' \n",
    "X_train_final = X_train_final.rename(columns={'_Titles_Dr': 'Titles_Dr',\n",
    "                                       '_Titles_Master': 'Titles_Master',\n",
    "                                       '_Titles_Miss': 'Titles_Miss',\n",
    "                                       '_Titles_Mr': 'Titles_Mr',\n",
    "                                       '_Titles_Other': 'Titles_Other',\n",
    "                                       '_Titles_Rev': 'Titles_Rev'})"
   ]
  },
  {
   "cell_type": "code",
   "execution_count": 602,
   "id": "b50ff4be",
   "metadata": {},
   "outputs": [
    {
     "data": {
      "text/html": [
       "<div>\n",
       "<style scoped>\n",
       "    .dataframe tbody tr th:only-of-type {\n",
       "        vertical-align: middle;\n",
       "    }\n",
       "\n",
       "    .dataframe tbody tr th {\n",
       "        vertical-align: top;\n",
       "    }\n",
       "\n",
       "    .dataframe thead th {\n",
       "        text-align: right;\n",
       "    }\n",
       "</style>\n",
       "<table border=\"1\" class=\"dataframe\">\n",
       "  <thead>\n",
       "    <tr style=\"text-align: right;\">\n",
       "      <th></th>\n",
       "      <th>0</th>\n",
       "      <th>1</th>\n",
       "      <th>2</th>\n",
       "      <th>3</th>\n",
       "      <th>4</th>\n",
       "    </tr>\n",
       "  </thead>\n",
       "  <tbody>\n",
       "    <tr>\n",
       "      <th>Pclass</th>\n",
       "      <td>3</td>\n",
       "      <td>3</td>\n",
       "      <td>2</td>\n",
       "      <td>3</td>\n",
       "      <td>3</td>\n",
       "    </tr>\n",
       "    <tr>\n",
       "      <th>Name</th>\n",
       "      <td>Kelly, Mr. James</td>\n",
       "      <td>Wilkes, Mrs. James (Ellen Needs)</td>\n",
       "      <td>Myles, Mr. Thomas Francis</td>\n",
       "      <td>Wirz, Mr. Albert</td>\n",
       "      <td>Hirvonen, Mrs. Alexander (Helga E Lindqvist)</td>\n",
       "    </tr>\n",
       "    <tr>\n",
       "      <th>Sex</th>\n",
       "      <td>male</td>\n",
       "      <td>female</td>\n",
       "      <td>male</td>\n",
       "      <td>male</td>\n",
       "      <td>female</td>\n",
       "    </tr>\n",
       "    <tr>\n",
       "      <th>Age</th>\n",
       "      <td>34.5</td>\n",
       "      <td>47.0</td>\n",
       "      <td>62.0</td>\n",
       "      <td>27.0</td>\n",
       "      <td>22.0</td>\n",
       "    </tr>\n",
       "    <tr>\n",
       "      <th>SibSp</th>\n",
       "      <td>0</td>\n",
       "      <td>1</td>\n",
       "      <td>0</td>\n",
       "      <td>0</td>\n",
       "      <td>1</td>\n",
       "    </tr>\n",
       "    <tr>\n",
       "      <th>Parch</th>\n",
       "      <td>0</td>\n",
       "      <td>0</td>\n",
       "      <td>0</td>\n",
       "      <td>0</td>\n",
       "      <td>1</td>\n",
       "    </tr>\n",
       "    <tr>\n",
       "      <th>Ticket</th>\n",
       "      <td>330911</td>\n",
       "      <td>363272</td>\n",
       "      <td>240276</td>\n",
       "      <td>315154</td>\n",
       "      <td>3101298</td>\n",
       "    </tr>\n",
       "    <tr>\n",
       "      <th>Fare</th>\n",
       "      <td>7.8292</td>\n",
       "      <td>7.0</td>\n",
       "      <td>9.6875</td>\n",
       "      <td>8.6625</td>\n",
       "      <td>12.2875</td>\n",
       "    </tr>\n",
       "    <tr>\n",
       "      <th>Cabin</th>\n",
       "      <td>Missing</td>\n",
       "      <td>Missing</td>\n",
       "      <td>Missing</td>\n",
       "      <td>Missing</td>\n",
       "      <td>Missing</td>\n",
       "    </tr>\n",
       "    <tr>\n",
       "      <th>Embarked</th>\n",
       "      <td>Q</td>\n",
       "      <td>S</td>\n",
       "      <td>Q</td>\n",
       "      <td>S</td>\n",
       "      <td>S</td>\n",
       "    </tr>\n",
       "    <tr>\n",
       "      <th>Age_is_missing</th>\n",
       "      <td>False</td>\n",
       "      <td>False</td>\n",
       "      <td>False</td>\n",
       "      <td>False</td>\n",
       "      <td>False</td>\n",
       "    </tr>\n",
       "    <tr>\n",
       "      <th>Cabin_is_missing</th>\n",
       "      <td>True</td>\n",
       "      <td>True</td>\n",
       "      <td>True</td>\n",
       "      <td>True</td>\n",
       "      <td>True</td>\n",
       "    </tr>\n",
       "    <tr>\n",
       "      <th>Embarked_is_missing</th>\n",
       "      <td>False</td>\n",
       "      <td>False</td>\n",
       "      <td>False</td>\n",
       "      <td>False</td>\n",
       "      <td>False</td>\n",
       "    </tr>\n",
       "  </tbody>\n",
       "</table>\n",
       "</div>"
      ],
      "text/plain": [
       "                                    0                                 1  \\\n",
       "Pclass                              3                                 3   \n",
       "Name                 Kelly, Mr. James  Wilkes, Mrs. James (Ellen Needs)   \n",
       "Sex                              male                            female   \n",
       "Age                              34.5                              47.0   \n",
       "SibSp                               0                                 1   \n",
       "Parch                               0                                 0   \n",
       "Ticket                         330911                            363272   \n",
       "Fare                           7.8292                               7.0   \n",
       "Cabin                         Missing                           Missing   \n",
       "Embarked                            Q                                 S   \n",
       "Age_is_missing                  False                             False   \n",
       "Cabin_is_missing                 True                              True   \n",
       "Embarked_is_missing             False                             False   \n",
       "\n",
       "                                             2                 3  \\\n",
       "Pclass                                       2                 3   \n",
       "Name                 Myles, Mr. Thomas Francis  Wirz, Mr. Albert   \n",
       "Sex                                       male              male   \n",
       "Age                                       62.0              27.0   \n",
       "SibSp                                        0                 0   \n",
       "Parch                                        0                 0   \n",
       "Ticket                                  240276            315154   \n",
       "Fare                                    9.6875            8.6625   \n",
       "Cabin                                  Missing           Missing   \n",
       "Embarked                                     Q                 S   \n",
       "Age_is_missing                           False             False   \n",
       "Cabin_is_missing                          True              True   \n",
       "Embarked_is_missing                      False             False   \n",
       "\n",
       "                                                                4  \n",
       "Pclass                                                          3  \n",
       "Name                 Hirvonen, Mrs. Alexander (Helga E Lindqvist)  \n",
       "Sex                                                        female  \n",
       "Age                                                          22.0  \n",
       "SibSp                                                           1  \n",
       "Parch                                                           1  \n",
       "Ticket                                                    3101298  \n",
       "Fare                                                      12.2875  \n",
       "Cabin                                                     Missing  \n",
       "Embarked                                                        S  \n",
       "Age_is_missing                                              False  \n",
       "Cabin_is_missing                                             True  \n",
       "Embarked_is_missing                                         False  "
      ]
     },
     "execution_count": 602,
     "metadata": {},
     "output_type": "execute_result"
    }
   ],
   "source": [
    "# check\n",
    "X_test_df.head().T "
   ]
  },
  {
   "cell_type": "code",
   "execution_count": 603,
   "id": "81b18321",
   "metadata": {},
   "outputs": [
    {
     "name": "stdout",
     "output_type": "stream",
     "text": [
      "<class 'pandas.core.frame.DataFrame'>\n",
      "RangeIndex: 418 entries, 0 to 417\n",
      "Data columns (total 13 columns):\n",
      " #   Column               Non-Null Count  Dtype  \n",
      "---  ------               --------------  -----  \n",
      " 0   Pclass               418 non-null    int64  \n",
      " 1   Name                 418 non-null    object \n",
      " 2   Sex                  418 non-null    object \n",
      " 3   Age                  418 non-null    float64\n",
      " 4   SibSp                418 non-null    int64  \n",
      " 5   Parch                418 non-null    int64  \n",
      " 6   Ticket               418 non-null    object \n",
      " 7   Fare                 418 non-null    float64\n",
      " 8   Cabin                418 non-null    object \n",
      " 9   Embarked             418 non-null    object \n",
      " 10  Age_is_missing       418 non-null    bool   \n",
      " 11  Cabin_is_missing     418 non-null    bool   \n",
      " 12  Embarked_is_missing  418 non-null    bool   \n",
      "dtypes: bool(3), float64(2), int64(3), object(5)\n",
      "memory usage: 34.0+ KB\n"
     ]
    }
   ],
   "source": [
    "# confirm there are no missing values \n",
    "X_test_df.info() "
   ]
  },
  {
   "cell_type": "markdown",
   "id": "7df6dc8a",
   "metadata": {},
   "source": [
    "#### fix non-numerical values "
   ]
  },
  {
   "cell_type": "code",
   "execution_count": 604,
   "id": "4f540ac2",
   "metadata": {},
   "outputs": [],
   "source": [
    "# fix name \n",
    "# Extract regular titles form Name feature\n",
    "titles = ['Mr', 'Mrs', 'Master', 'Miss', 'Dr', 'Rev']\n",
    "\n",
    "X_test_df['Titles'] = X_test_df.Name.str.extract(rf'({\"|\".join(titles)})', expand=False).fillna('Other')"
   ]
  },
  {
   "cell_type": "code",
   "execution_count": 605,
   "id": "278bc666",
   "metadata": {},
   "outputs": [],
   "source": [
    "# drop Name column \n",
    "X_test_df = X_test_df.drop('Name', axis=1)"
   ]
  },
  {
   "cell_type": "code",
   "execution_count": 606,
   "id": "d3e43047",
   "metadata": {},
   "outputs": [],
   "source": [
    "# convert Titles feature to numerical \n",
    "X_test_df = pd.concat([X_test_df, pd.get_dummies(X_test_df.Titles, prefix='Titles_')], axis=1)"
   ]
  },
  {
   "cell_type": "code",
   "execution_count": 607,
   "id": "d7eefcdc",
   "metadata": {},
   "outputs": [],
   "source": [
    "# drop the `Titles` column\n",
    "X_test_df = X_test_df.drop('Titles', axis=1)"
   ]
  },
  {
   "cell_type": "code",
   "execution_count": 608,
   "id": "8377314f",
   "metadata": {},
   "outputs": [],
   "source": [
    "# fix `Sex` and `Embarked` column\n",
    "X_test_df = pd.concat([X_test_df, pd.get_dummies(X_test_df[['Sex', 'Embarked']], prefix=['Sex_', 'Embarked_'])], axis=1)"
   ]
  },
  {
   "cell_type": "code",
   "execution_count": 609,
   "id": "020b0b51",
   "metadata": {},
   "outputs": [],
   "source": [
    "# drop `Sex` and `Embarked` columns\n",
    "X_test_df = X_test_df.drop(columns=['Sex', 'Embarked'], axis=1)"
   ]
  },
  {
   "cell_type": "code",
   "execution_count": 610,
   "id": "d46ba1d7",
   "metadata": {},
   "outputs": [],
   "source": [
    "# fix `Cabin` \n",
    "# Extract first letter from column values\n",
    "X_test_df['Deck'] = X_test_df.Cabin.str.extract(r'([A-Za-z])', expand=False)"
   ]
  },
  {
   "cell_type": "code",
   "execution_count": 611,
   "id": "d891cdd4",
   "metadata": {},
   "outputs": [],
   "source": [
    "# drop Cabin column\n",
    "X_test_df = X_test_df.drop('Cabin', axis=1)"
   ]
  },
  {
   "cell_type": "code",
   "execution_count": 612,
   "id": "fc267d4d",
   "metadata": {},
   "outputs": [],
   "source": [
    "# replace M with -1\n",
    "X_test_df['Deck'] = X_test_df['Deck'].replace('M', -1)\n",
    "\n",
    "# convert to numerical without ordering\n",
    "X_test_df.Deck = X_test_df.Deck.astype('category').cat.codes"
   ]
  },
  {
   "cell_type": "code",
   "execution_count": 613,
   "id": "27871a06",
   "metadata": {},
   "outputs": [],
   "source": [
    "# convert `Age` to integer\n",
    "X_test_df.Age = X_test_df.Age.astype('int64')"
   ]
  },
  {
   "cell_type": "code",
   "execution_count": 614,
   "id": "6fe3bf86",
   "metadata": {},
   "outputs": [],
   "source": [
    "# fix `Ticket` category \n",
    "# convert to categorical data and order\n",
    "X_test_df.Ticket = X_test_df['Ticket'].astype('category').cat.as_ordered()\n",
    "\n",
    "# convert to numerical\n",
    "X_test_df.Ticket = X_test_df['Ticket'].cat.codes"
   ]
  },
  {
   "cell_type": "code",
   "execution_count": 615,
   "id": "eec9355f",
   "metadata": {},
   "outputs": [
    {
     "data": {
      "text/plain": [
       "((418, 21), (891, 22))"
      ]
     },
     "execution_count": 615,
     "metadata": {},
     "output_type": "execute_result"
    }
   ],
   "source": [
    "X_test_df.shape, X_train_final.shape "
   ]
  },
  {
   "cell_type": "code",
   "execution_count": 616,
   "id": "d1bf61a4",
   "metadata": {},
   "outputs": [],
   "source": [
    "# create the `Embarked_M` column  \n",
    "X_test_df['Embarked_M'] = False  "
   ]
  },
  {
   "cell_type": "code",
   "execution_count": 617,
   "id": "06d055a4",
   "metadata": {},
   "outputs": [],
   "source": [
    "# drop `PassengerID`\n"
   ]
  },
  {
   "cell_type": "code",
   "execution_count": 618,
   "id": "0c3f471d",
   "metadata": {},
   "outputs": [
    {
     "data": {
      "text/html": [
       "<div>\n",
       "<style scoped>\n",
       "    .dataframe tbody tr th:only-of-type {\n",
       "        vertical-align: middle;\n",
       "    }\n",
       "\n",
       "    .dataframe tbody tr th {\n",
       "        vertical-align: top;\n",
       "    }\n",
       "\n",
       "    .dataframe thead th {\n",
       "        text-align: right;\n",
       "    }\n",
       "</style>\n",
       "<table border=\"1\" class=\"dataframe\">\n",
       "  <thead>\n",
       "    <tr style=\"text-align: right;\">\n",
       "      <th></th>\n",
       "      <th>802</th>\n",
       "      <th>541</th>\n",
       "      <th>356</th>\n",
       "      <th>250</th>\n",
       "      <th>522</th>\n",
       "    </tr>\n",
       "  </thead>\n",
       "  <tbody>\n",
       "    <tr>\n",
       "      <th>Pclass</th>\n",
       "      <td>1</td>\n",
       "      <td>3</td>\n",
       "      <td>1</td>\n",
       "      <td>3</td>\n",
       "      <td>3</td>\n",
       "    </tr>\n",
       "    <tr>\n",
       "      <th>Age</th>\n",
       "      <td>11</td>\n",
       "      <td>9</td>\n",
       "      <td>22</td>\n",
       "      <td>28</td>\n",
       "      <td>28</td>\n",
       "    </tr>\n",
       "    <tr>\n",
       "      <th>SibSp</th>\n",
       "      <td>1</td>\n",
       "      <td>4</td>\n",
       "      <td>0</td>\n",
       "      <td>0</td>\n",
       "      <td>0</td>\n",
       "    </tr>\n",
       "    <tr>\n",
       "      <th>Parch</th>\n",
       "      <td>2</td>\n",
       "      <td>2</td>\n",
       "      <td>1</td>\n",
       "      <td>0</td>\n",
       "      <td>0</td>\n",
       "    </tr>\n",
       "    <tr>\n",
       "      <th>Ticket</th>\n",
       "      <td>33</td>\n",
       "      <td>333</td>\n",
       "      <td>28</td>\n",
       "      <td>422</td>\n",
       "      <td>173</td>\n",
       "    </tr>\n",
       "    <tr>\n",
       "      <th>Fare</th>\n",
       "      <td>120.0</td>\n",
       "      <td>31.275</td>\n",
       "      <td>55.0</td>\n",
       "      <td>7.25</td>\n",
       "      <td>7.225</td>\n",
       "    </tr>\n",
       "    <tr>\n",
       "      <th>Age_is_missing</th>\n",
       "      <td>False</td>\n",
       "      <td>False</td>\n",
       "      <td>False</td>\n",
       "      <td>True</td>\n",
       "      <td>True</td>\n",
       "    </tr>\n",
       "    <tr>\n",
       "      <th>Cabin_is_missing</th>\n",
       "      <td>False</td>\n",
       "      <td>True</td>\n",
       "      <td>False</td>\n",
       "      <td>True</td>\n",
       "      <td>True</td>\n",
       "    </tr>\n",
       "    <tr>\n",
       "      <th>Embarked_is_missing</th>\n",
       "      <td>False</td>\n",
       "      <td>False</td>\n",
       "      <td>False</td>\n",
       "      <td>False</td>\n",
       "      <td>False</td>\n",
       "    </tr>\n",
       "    <tr>\n",
       "      <th>Titles__Dr</th>\n",
       "      <td>False</td>\n",
       "      <td>False</td>\n",
       "      <td>False</td>\n",
       "      <td>False</td>\n",
       "      <td>False</td>\n",
       "    </tr>\n",
       "    <tr>\n",
       "      <th>Titles__Master</th>\n",
       "      <td>True</td>\n",
       "      <td>False</td>\n",
       "      <td>False</td>\n",
       "      <td>False</td>\n",
       "      <td>False</td>\n",
       "    </tr>\n",
       "    <tr>\n",
       "      <th>Titles__Miss</th>\n",
       "      <td>False</td>\n",
       "      <td>True</td>\n",
       "      <td>True</td>\n",
       "      <td>False</td>\n",
       "      <td>False</td>\n",
       "    </tr>\n",
       "    <tr>\n",
       "      <th>Titles__Mr</th>\n",
       "      <td>False</td>\n",
       "      <td>False</td>\n",
       "      <td>False</td>\n",
       "      <td>True</td>\n",
       "      <td>True</td>\n",
       "    </tr>\n",
       "    <tr>\n",
       "      <th>Titles__Other</th>\n",
       "      <td>False</td>\n",
       "      <td>False</td>\n",
       "      <td>False</td>\n",
       "      <td>False</td>\n",
       "      <td>False</td>\n",
       "    </tr>\n",
       "    <tr>\n",
       "      <th>Titles__Rev</th>\n",
       "      <td>False</td>\n",
       "      <td>False</td>\n",
       "      <td>False</td>\n",
       "      <td>False</td>\n",
       "      <td>False</td>\n",
       "    </tr>\n",
       "    <tr>\n",
       "      <th>Sex__female</th>\n",
       "      <td>False</td>\n",
       "      <td>True</td>\n",
       "      <td>True</td>\n",
       "      <td>False</td>\n",
       "      <td>False</td>\n",
       "    </tr>\n",
       "    <tr>\n",
       "      <th>Sex__male</th>\n",
       "      <td>True</td>\n",
       "      <td>False</td>\n",
       "      <td>False</td>\n",
       "      <td>True</td>\n",
       "      <td>True</td>\n",
       "    </tr>\n",
       "    <tr>\n",
       "      <th>Embarked__C</th>\n",
       "      <td>False</td>\n",
       "      <td>False</td>\n",
       "      <td>False</td>\n",
       "      <td>False</td>\n",
       "      <td>True</td>\n",
       "    </tr>\n",
       "    <tr>\n",
       "      <th>Embarked__M</th>\n",
       "      <td>False</td>\n",
       "      <td>False</td>\n",
       "      <td>False</td>\n",
       "      <td>False</td>\n",
       "      <td>False</td>\n",
       "    </tr>\n",
       "    <tr>\n",
       "      <th>Embarked__Q</th>\n",
       "      <td>False</td>\n",
       "      <td>False</td>\n",
       "      <td>False</td>\n",
       "      <td>False</td>\n",
       "      <td>False</td>\n",
       "    </tr>\n",
       "    <tr>\n",
       "      <th>Embarked__S</th>\n",
       "      <td>True</td>\n",
       "      <td>True</td>\n",
       "      <td>True</td>\n",
       "      <td>True</td>\n",
       "      <td>False</td>\n",
       "    </tr>\n",
       "    <tr>\n",
       "      <th>Deck</th>\n",
       "      <td>2</td>\n",
       "      <td>0</td>\n",
       "      <td>5</td>\n",
       "      <td>0</td>\n",
       "      <td>0</td>\n",
       "    </tr>\n",
       "  </tbody>\n",
       "</table>\n",
       "</div>"
      ],
      "text/plain": [
       "                       802     541    356    250    522\n",
       "Pclass                   1       3      1      3      3\n",
       "Age                     11       9     22     28     28\n",
       "SibSp                    1       4      0      0      0\n",
       "Parch                    2       2      1      0      0\n",
       "Ticket                  33     333     28    422    173\n",
       "Fare                 120.0  31.275   55.0   7.25  7.225\n",
       "Age_is_missing       False   False  False   True   True\n",
       "Cabin_is_missing     False    True  False   True   True\n",
       "Embarked_is_missing  False   False  False  False  False\n",
       "Titles__Dr           False   False  False  False  False\n",
       "Titles__Master        True   False  False  False  False\n",
       "Titles__Miss         False    True   True  False  False\n",
       "Titles__Mr           False   False  False   True   True\n",
       "Titles__Other        False   False  False  False  False\n",
       "Titles__Rev          False   False  False  False  False\n",
       "Sex__female          False    True   True  False  False\n",
       "Sex__male             True   False  False   True   True\n",
       "Embarked__C          False   False  False  False   True\n",
       "Embarked__M          False   False  False  False  False\n",
       "Embarked__Q          False   False  False  False  False\n",
       "Embarked__S           True    True   True   True  False\n",
       "Deck                     2       0      5      0      0"
      ]
     },
     "execution_count": 618,
     "metadata": {},
     "output_type": "execute_result"
    }
   ],
   "source": [
    "X_train_final.head().T "
   ]
  },
  {
   "cell_type": "code",
   "execution_count": 619,
   "id": "a457afd8",
   "metadata": {},
   "outputs": [
    {
     "data": {
      "text/html": [
       "<div>\n",
       "<style scoped>\n",
       "    .dataframe tbody tr th:only-of-type {\n",
       "        vertical-align: middle;\n",
       "    }\n",
       "\n",
       "    .dataframe tbody tr th {\n",
       "        vertical-align: top;\n",
       "    }\n",
       "\n",
       "    .dataframe thead th {\n",
       "        text-align: right;\n",
       "    }\n",
       "</style>\n",
       "<table border=\"1\" class=\"dataframe\">\n",
       "  <thead>\n",
       "    <tr style=\"text-align: right;\">\n",
       "      <th></th>\n",
       "      <th>0</th>\n",
       "      <th>1</th>\n",
       "      <th>2</th>\n",
       "      <th>3</th>\n",
       "      <th>4</th>\n",
       "    </tr>\n",
       "  </thead>\n",
       "  <tbody>\n",
       "    <tr>\n",
       "      <th>Pclass</th>\n",
       "      <td>3</td>\n",
       "      <td>3</td>\n",
       "      <td>2</td>\n",
       "      <td>3</td>\n",
       "      <td>3</td>\n",
       "    </tr>\n",
       "    <tr>\n",
       "      <th>Age</th>\n",
       "      <td>34</td>\n",
       "      <td>47</td>\n",
       "      <td>62</td>\n",
       "      <td>27</td>\n",
       "      <td>22</td>\n",
       "    </tr>\n",
       "    <tr>\n",
       "      <th>SibSp</th>\n",
       "      <td>0</td>\n",
       "      <td>1</td>\n",
       "      <td>0</td>\n",
       "      <td>0</td>\n",
       "      <td>1</td>\n",
       "    </tr>\n",
       "    <tr>\n",
       "      <th>Parch</th>\n",
       "      <td>0</td>\n",
       "      <td>0</td>\n",
       "      <td>0</td>\n",
       "      <td>0</td>\n",
       "      <td>1</td>\n",
       "    </tr>\n",
       "    <tr>\n",
       "      <th>Ticket</th>\n",
       "      <td>152</td>\n",
       "      <td>221</td>\n",
       "      <td>73</td>\n",
       "      <td>147</td>\n",
       "      <td>138</td>\n",
       "    </tr>\n",
       "    <tr>\n",
       "      <th>Fare</th>\n",
       "      <td>7.8292</td>\n",
       "      <td>7.0</td>\n",
       "      <td>9.6875</td>\n",
       "      <td>8.6625</td>\n",
       "      <td>12.2875</td>\n",
       "    </tr>\n",
       "    <tr>\n",
       "      <th>Age_is_missing</th>\n",
       "      <td>False</td>\n",
       "      <td>False</td>\n",
       "      <td>False</td>\n",
       "      <td>False</td>\n",
       "      <td>False</td>\n",
       "    </tr>\n",
       "    <tr>\n",
       "      <th>Cabin_is_missing</th>\n",
       "      <td>True</td>\n",
       "      <td>True</td>\n",
       "      <td>True</td>\n",
       "      <td>True</td>\n",
       "      <td>True</td>\n",
       "    </tr>\n",
       "    <tr>\n",
       "      <th>Embarked_is_missing</th>\n",
       "      <td>False</td>\n",
       "      <td>False</td>\n",
       "      <td>False</td>\n",
       "      <td>False</td>\n",
       "      <td>False</td>\n",
       "    </tr>\n",
       "    <tr>\n",
       "      <th>Titles__Dr</th>\n",
       "      <td>False</td>\n",
       "      <td>False</td>\n",
       "      <td>False</td>\n",
       "      <td>False</td>\n",
       "      <td>False</td>\n",
       "    </tr>\n",
       "    <tr>\n",
       "      <th>Titles__Master</th>\n",
       "      <td>False</td>\n",
       "      <td>False</td>\n",
       "      <td>False</td>\n",
       "      <td>False</td>\n",
       "      <td>False</td>\n",
       "    </tr>\n",
       "    <tr>\n",
       "      <th>Titles__Miss</th>\n",
       "      <td>False</td>\n",
       "      <td>False</td>\n",
       "      <td>False</td>\n",
       "      <td>False</td>\n",
       "      <td>False</td>\n",
       "    </tr>\n",
       "    <tr>\n",
       "      <th>Titles__Mr</th>\n",
       "      <td>True</td>\n",
       "      <td>True</td>\n",
       "      <td>True</td>\n",
       "      <td>True</td>\n",
       "      <td>True</td>\n",
       "    </tr>\n",
       "    <tr>\n",
       "      <th>Titles__Other</th>\n",
       "      <td>False</td>\n",
       "      <td>False</td>\n",
       "      <td>False</td>\n",
       "      <td>False</td>\n",
       "      <td>False</td>\n",
       "    </tr>\n",
       "    <tr>\n",
       "      <th>Titles__Rev</th>\n",
       "      <td>False</td>\n",
       "      <td>False</td>\n",
       "      <td>False</td>\n",
       "      <td>False</td>\n",
       "      <td>False</td>\n",
       "    </tr>\n",
       "    <tr>\n",
       "      <th>Sex__female</th>\n",
       "      <td>False</td>\n",
       "      <td>True</td>\n",
       "      <td>False</td>\n",
       "      <td>False</td>\n",
       "      <td>True</td>\n",
       "    </tr>\n",
       "    <tr>\n",
       "      <th>Sex__male</th>\n",
       "      <td>True</td>\n",
       "      <td>False</td>\n",
       "      <td>True</td>\n",
       "      <td>True</td>\n",
       "      <td>False</td>\n",
       "    </tr>\n",
       "    <tr>\n",
       "      <th>Embarked__C</th>\n",
       "      <td>False</td>\n",
       "      <td>False</td>\n",
       "      <td>False</td>\n",
       "      <td>False</td>\n",
       "      <td>False</td>\n",
       "    </tr>\n",
       "    <tr>\n",
       "      <th>Embarked__Q</th>\n",
       "      <td>True</td>\n",
       "      <td>False</td>\n",
       "      <td>True</td>\n",
       "      <td>False</td>\n",
       "      <td>False</td>\n",
       "    </tr>\n",
       "    <tr>\n",
       "      <th>Embarked__S</th>\n",
       "      <td>False</td>\n",
       "      <td>True</td>\n",
       "      <td>False</td>\n",
       "      <td>True</td>\n",
       "      <td>True</td>\n",
       "    </tr>\n",
       "    <tr>\n",
       "      <th>Deck</th>\n",
       "      <td>0</td>\n",
       "      <td>0</td>\n",
       "      <td>0</td>\n",
       "      <td>0</td>\n",
       "      <td>0</td>\n",
       "    </tr>\n",
       "    <tr>\n",
       "      <th>Embarked_M</th>\n",
       "      <td>False</td>\n",
       "      <td>False</td>\n",
       "      <td>False</td>\n",
       "      <td>False</td>\n",
       "      <td>False</td>\n",
       "    </tr>\n",
       "  </tbody>\n",
       "</table>\n",
       "</div>"
      ],
      "text/plain": [
       "                          0      1       2       3        4\n",
       "Pclass                    3      3       2       3        3\n",
       "Age                      34     47      62      27       22\n",
       "SibSp                     0      1       0       0        1\n",
       "Parch                     0      0       0       0        1\n",
       "Ticket                  152    221      73     147      138\n",
       "Fare                 7.8292    7.0  9.6875  8.6625  12.2875\n",
       "Age_is_missing        False  False   False   False    False\n",
       "Cabin_is_missing       True   True    True    True     True\n",
       "Embarked_is_missing   False  False   False   False    False\n",
       "Titles__Dr            False  False   False   False    False\n",
       "Titles__Master        False  False   False   False    False\n",
       "Titles__Miss          False  False   False   False    False\n",
       "Titles__Mr             True   True    True    True     True\n",
       "Titles__Other         False  False   False   False    False\n",
       "Titles__Rev           False  False   False   False    False\n",
       "Sex__female           False   True   False   False     True\n",
       "Sex__male              True  False    True    True    False\n",
       "Embarked__C           False  False   False   False    False\n",
       "Embarked__Q            True  False    True   False    False\n",
       "Embarked__S           False   True   False    True     True\n",
       "Deck                      0      0       0       0        0\n",
       "Embarked_M            False  False   False   False    False"
      ]
     },
     "execution_count": 619,
     "metadata": {},
     "output_type": "execute_result"
    }
   ],
   "source": [
    "X_test_df.head().T "
   ]
  },
  {
   "cell_type": "code",
   "execution_count": 620,
   "id": "39cb80b4",
   "metadata": {},
   "outputs": [],
   "source": [
    "X_test_final = X_test_df"
   ]
  },
  {
   "cell_type": "code",
   "execution_count": 621,
   "id": "8dd73b77",
   "metadata": {},
   "outputs": [],
   "source": [
    "# final test data\n",
    "X_train_final, X_test_final = X_train_final.align(X_test_final, \n",
    "                                                  join='outer',\n",
    "                                                  axis=1,\n",
    "                                                  fill_value=0)"
   ]
  },
  {
   "cell_type": "code",
   "execution_count": 622,
   "id": "72abf865",
   "metadata": {},
   "outputs": [
    {
     "data": {
      "text/plain": [
       "((891, 23), (418, 23))"
      ]
     },
     "execution_count": 622,
     "metadata": {},
     "output_type": "execute_result"
    }
   ],
   "source": [
    "X_train_final.shape, X_test_final.shape "
   ]
  },
  {
   "cell_type": "code",
   "execution_count": 623,
   "id": "b4af25b6",
   "metadata": {},
   "outputs": [],
   "source": [
    "# final training\n",
    "ensemble.fit(X_train_final, y_train_final)\n",
    "y_preds_final = ensemble.predict(X_test_final)"
   ]
  },
  {
   "cell_type": "code",
   "execution_count": 624,
   "id": "2ed67b18",
   "metadata": {},
   "outputs": [],
   "source": [
    "# create submission\n",
    "submission = pd.DataFrame({\n",
    "    'PassengerId': X_test_origin['PassengerId'],\n",
    "    'Survived': y_preds_final.astype(int)\n",
    "})\n",
    "\n",
    "# save submission\n",
    "submission.to_csv('Submission.csv', index=False)"
   ]
  },
  {
   "cell_type": "code",
   "execution_count": 625,
   "id": "b03dead2",
   "metadata": {},
   "outputs": [
    {
     "data": {
      "text/html": [
       "<div>\n",
       "<style scoped>\n",
       "    .dataframe tbody tr th:only-of-type {\n",
       "        vertical-align: middle;\n",
       "    }\n",
       "\n",
       "    .dataframe tbody tr th {\n",
       "        vertical-align: top;\n",
       "    }\n",
       "\n",
       "    .dataframe thead th {\n",
       "        text-align: right;\n",
       "    }\n",
       "</style>\n",
       "<table border=\"1\" class=\"dataframe\">\n",
       "  <thead>\n",
       "    <tr style=\"text-align: right;\">\n",
       "      <th></th>\n",
       "      <th>PassengerId</th>\n",
       "      <th>Survived</th>\n",
       "    </tr>\n",
       "  </thead>\n",
       "  <tbody>\n",
       "    <tr>\n",
       "      <th>0</th>\n",
       "      <td>892</td>\n",
       "      <td>0</td>\n",
       "    </tr>\n",
       "    <tr>\n",
       "      <th>1</th>\n",
       "      <td>893</td>\n",
       "      <td>0</td>\n",
       "    </tr>\n",
       "    <tr>\n",
       "      <th>2</th>\n",
       "      <td>894</td>\n",
       "      <td>0</td>\n",
       "    </tr>\n",
       "    <tr>\n",
       "      <th>3</th>\n",
       "      <td>895</td>\n",
       "      <td>0</td>\n",
       "    </tr>\n",
       "    <tr>\n",
       "      <th>4</th>\n",
       "      <td>896</td>\n",
       "      <td>1</td>\n",
       "    </tr>\n",
       "  </tbody>\n",
       "</table>\n",
       "</div>"
      ],
      "text/plain": [
       "   PassengerId  Survived\n",
       "0          892         0\n",
       "1          893         0\n",
       "2          894         0\n",
       "3          895         0\n",
       "4          896         1"
      ]
     },
     "execution_count": 625,
     "metadata": {},
     "output_type": "execute_result"
    }
   ],
   "source": [
    "submission.head() "
   ]
  },
  {
   "cell_type": "markdown",
   "id": "050f043b",
   "metadata": {},
   "source": [
    "### to do next time\n",
    "- Create feature importance\n",
    "- write ReadMe (add picture)\n",
    "- Final notes (coonclusion)"
   ]
  }
 ],
 "metadata": {
  "kernelspec": {
   "display_name": "ML",
   "language": "python",
   "name": "python3"
  },
  "language_info": {
   "codemirror_mode": {
    "name": "ipython",
    "version": 3
   },
   "file_extension": ".py",
   "mimetype": "text/x-python",
   "name": "python",
   "nbconvert_exporter": "python",
   "pygments_lexer": "ipython3",
   "version": "3.12.8"
  }
 },
 "nbformat": 4,
 "nbformat_minor": 5
}
